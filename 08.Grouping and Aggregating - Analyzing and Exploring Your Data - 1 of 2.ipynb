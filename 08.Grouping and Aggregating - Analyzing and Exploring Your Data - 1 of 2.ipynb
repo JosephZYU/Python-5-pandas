{
 "metadata": {
  "language_info": {
   "codemirror_mode": {
    "name": "ipython",
    "version": 3
   },
   "file_extension": ".py",
   "mimetype": "text/x-python",
   "name": "python",
   "nbconvert_exporter": "python",
   "pygments_lexer": "ipython3",
   "version": "3.9.0-final"
  },
  "orig_nbformat": 2,
  "kernelspec": {
   "name": "python3",
   "display_name": "Python 3",
   "language": "python"
  }
 },
 "nbformat": 4,
 "nbformat_minor": 2,
 "cells": [
  {
   "cell_type": "code",
   "execution_count": 2,
   "metadata": {},
   "outputs": [],
   "source": [
    "import pandas as pd\n",
    "\n",
    "pd.set_option('display.max_columns', 100)\n",
    "pd.set_option('display.max_rows', 100)\n",
    "\n",
    "survey_source = '/Users/josephyu/Documents/GitHub/data/survey_results_public.csv'\n",
    "schema_source = '/Users/josephyu/Documents/GitHub/data/survey_results_schema.csv'\n",
    "\n",
    "df = pd.read_csv(survey_source)  # index_col = 'Respondent'\n",
    "schema_df = pd.read_csv(schema_source, index_col = 'Column')"
   ]
  },
  {
   "cell_type": "code",
   "execution_count": 9,
   "metadata": {},
   "outputs": [
    {
     "output_type": "execute_result",
     "data": {
      "text/plain": [
       "57287.0"
      ]
     },
     "metadata": {},
     "execution_count": 9
    }
   ],
   "source": [
    "df['ConvertedComp'].median()"
   ]
  },
  {
   "cell_type": "code",
   "execution_count": 10,
   "metadata": {},
   "outputs": [
    {
     "output_type": "execute_result",
     "data": {
      "text/plain": [
       "Respondent       44442.0\n",
       "CompTotal        62000.0\n",
       "ConvertedComp    57287.0\n",
       "WorkWeekHrs         40.0\n",
       "CodeRevHrs           4.0\n",
       "Age                 29.0\n",
       "dtype: float64"
      ]
     },
     "metadata": {},
     "execution_count": 10
    }
   ],
   "source": [
    "df.median()"
   ]
  },
  {
   "cell_type": "code",
   "execution_count": 25,
   "metadata": {},
   "outputs": [
    {
     "output_type": "execute_result",
     "data": {
      "text/plain": [
       "Respondent       44538.0\n",
       "CompTotal        62000.0\n",
       "ConvertedComp    57287.0\n",
       "WorkWeekHrs         40.0\n",
       "CodeRevHrs           4.0\n",
       "Age                 30.0\n",
       "dtype: float64"
      ]
     },
     "metadata": {},
     "execution_count": 25
    }
   ],
   "source": [
    "row_filter = (df['Age'] > 4) & (df['ConvertedComp'] > 1_000)\n",
    "\n",
    "df[row_filter].median()"
   ]
  },
  {
   "cell_type": "code",
   "execution_count": 31,
   "metadata": {},
   "outputs": [
    {
     "output_type": "execute_result",
     "data": {
      "text/plain": [
       "         Respondent     CompTotal  ConvertedComp   WorkWeekHrs    CodeRevHrs  \\\n",
       "count  52973.000000  5.297300e+04   5.297300e+04  52562.000000  39251.000000   \n",
       "mean   44478.377947  5.663280e+11   1.278899e+05     41.885957      4.805498   \n",
       "std    25678.008251  7.525323e+13   2.842436e+05     28.951745      4.758644   \n",
       "min        3.000000  2.000000e+01   1.005000e+03      1.000000      0.000000   \n",
       "25%    22161.000000  2.000000e+04   2.686800e+04     40.000000      2.000000   \n",
       "50%    44538.000000  6.200000e+04   5.728700e+04     40.000000      4.000000   \n",
       "75%    66726.000000  1.200000e+05   1.000000e+05     43.000000      5.000000   \n",
       "max    88883.000000  1.000000e+16   2.000000e+06   3875.000000     99.000000   \n",
       "\n",
       "                Age  \n",
       "count  52973.000000  \n",
       "mean      31.448024  \n",
       "std        8.085765  \n",
       "min       13.000000  \n",
       "25%       26.000000  \n",
       "50%       30.000000  \n",
       "75%       35.000000  \n",
       "max       99.000000  "
      ],
      "text/html": "<div>\n<style scoped>\n    .dataframe tbody tr th:only-of-type {\n        vertical-align: middle;\n    }\n\n    .dataframe tbody tr th {\n        vertical-align: top;\n    }\n\n    .dataframe thead th {\n        text-align: right;\n    }\n</style>\n<table border=\"1\" class=\"dataframe\">\n  <thead>\n    <tr style=\"text-align: right;\">\n      <th></th>\n      <th>Respondent</th>\n      <th>CompTotal</th>\n      <th>ConvertedComp</th>\n      <th>WorkWeekHrs</th>\n      <th>CodeRevHrs</th>\n      <th>Age</th>\n    </tr>\n  </thead>\n  <tbody>\n    <tr>\n      <th>count</th>\n      <td>52973.000000</td>\n      <td>5.297300e+04</td>\n      <td>5.297300e+04</td>\n      <td>52562.000000</td>\n      <td>39251.000000</td>\n      <td>52973.000000</td>\n    </tr>\n    <tr>\n      <th>mean</th>\n      <td>44478.377947</td>\n      <td>5.663280e+11</td>\n      <td>1.278899e+05</td>\n      <td>41.885957</td>\n      <td>4.805498</td>\n      <td>31.448024</td>\n    </tr>\n    <tr>\n      <th>std</th>\n      <td>25678.008251</td>\n      <td>7.525323e+13</td>\n      <td>2.842436e+05</td>\n      <td>28.951745</td>\n      <td>4.758644</td>\n      <td>8.085765</td>\n    </tr>\n    <tr>\n      <th>min</th>\n      <td>3.000000</td>\n      <td>2.000000e+01</td>\n      <td>1.005000e+03</td>\n      <td>1.000000</td>\n      <td>0.000000</td>\n      <td>13.000000</td>\n    </tr>\n    <tr>\n      <th>25%</th>\n      <td>22161.000000</td>\n      <td>2.000000e+04</td>\n      <td>2.686800e+04</td>\n      <td>40.000000</td>\n      <td>2.000000</td>\n      <td>26.000000</td>\n    </tr>\n    <tr>\n      <th>50%</th>\n      <td>44538.000000</td>\n      <td>6.200000e+04</td>\n      <td>5.728700e+04</td>\n      <td>40.000000</td>\n      <td>4.000000</td>\n      <td>30.000000</td>\n    </tr>\n    <tr>\n      <th>75%</th>\n      <td>66726.000000</td>\n      <td>1.200000e+05</td>\n      <td>1.000000e+05</td>\n      <td>43.000000</td>\n      <td>5.000000</td>\n      <td>35.000000</td>\n    </tr>\n    <tr>\n      <th>max</th>\n      <td>88883.000000</td>\n      <td>1.000000e+16</td>\n      <td>2.000000e+06</td>\n      <td>3875.000000</td>\n      <td>99.000000</td>\n      <td>99.000000</td>\n    </tr>\n  </tbody>\n</table>\n</div>"
     },
     "metadata": {},
     "execution_count": 31
    }
   ],
   "source": [
    "# Use describe() to get the overall picture on ALL numberica columns\n",
    "# 🧠 df.describe()\n",
    "\n",
    "df[row_filter].describe()"
   ]
  },
  {
   "cell_type": "code",
   "execution_count": 34,
   "metadata": {},
   "outputs": [
    {
     "output_type": "execute_result",
     "data": {
      "text/plain": [
       "        Respondent     CompTotal  ConvertedComp  WorkWeekHrs  CodeRevHrs  \\\n",
       "mean  44478.377947  5.663280e+11   1.278899e+05    41.885957    4.805498   \n",
       "min       3.000000  2.000000e+01   1.005000e+03     1.000000    0.000000   \n",
       "50%   44538.000000  6.200000e+04   5.728700e+04    40.000000    4.000000   \n",
       "max   88883.000000  1.000000e+16   2.000000e+06  3875.000000   99.000000   \n",
       "\n",
       "            Age  \n",
       "mean  31.448024  \n",
       "min   13.000000  \n",
       "50%   30.000000  \n",
       "max   99.000000  "
      ],
      "text/html": "<div>\n<style scoped>\n    .dataframe tbody tr th:only-of-type {\n        vertical-align: middle;\n    }\n\n    .dataframe tbody tr th {\n        vertical-align: top;\n    }\n\n    .dataframe thead th {\n        text-align: right;\n    }\n</style>\n<table border=\"1\" class=\"dataframe\">\n  <thead>\n    <tr style=\"text-align: right;\">\n      <th></th>\n      <th>Respondent</th>\n      <th>CompTotal</th>\n      <th>ConvertedComp</th>\n      <th>WorkWeekHrs</th>\n      <th>CodeRevHrs</th>\n      <th>Age</th>\n    </tr>\n  </thead>\n  <tbody>\n    <tr>\n      <th>mean</th>\n      <td>44478.377947</td>\n      <td>5.663280e+11</td>\n      <td>1.278899e+05</td>\n      <td>41.885957</td>\n      <td>4.805498</td>\n      <td>31.448024</td>\n    </tr>\n    <tr>\n      <th>min</th>\n      <td>3.000000</td>\n      <td>2.000000e+01</td>\n      <td>1.005000e+03</td>\n      <td>1.000000</td>\n      <td>0.000000</td>\n      <td>13.000000</td>\n    </tr>\n    <tr>\n      <th>50%</th>\n      <td>44538.000000</td>\n      <td>6.200000e+04</td>\n      <td>5.728700e+04</td>\n      <td>40.000000</td>\n      <td>4.000000</td>\n      <td>30.000000</td>\n    </tr>\n    <tr>\n      <th>max</th>\n      <td>88883.000000</td>\n      <td>1.000000e+16</td>\n      <td>2.000000e+06</td>\n      <td>3875.000000</td>\n      <td>99.000000</td>\n      <td>99.000000</td>\n    </tr>\n  </tbody>\n</table>\n</div>"
     },
     "metadata": {},
     "execution_count": 34
    }
   ],
   "source": [
    "# Filter with .iloc -> meaningful reference \n",
    "\n",
    "df[row_filter].describe().iloc[[1, 3, 5, 7], :]"
   ]
  },
  {
   "cell_type": "code",
   "execution_count": 35,
   "metadata": {},
   "outputs": [
    {
     "output_type": "execute_result",
     "data": {
      "text/plain": [
       "        Respondent     CompTotal  ConvertedComp  WorkWeekHrs  CodeRevHrs  \\\n",
       "mean  44478.377947  5.663280e+11  127889.919015    41.885957    4.805498   \n",
       "50%   44538.000000  6.200000e+04   57287.000000    40.000000    4.000000   \n",
       "\n",
       "            Age  \n",
       "mean  31.448024  \n",
       "50%   30.000000  "
      ],
      "text/html": "<div>\n<style scoped>\n    .dataframe tbody tr th:only-of-type {\n        vertical-align: middle;\n    }\n\n    .dataframe tbody tr th {\n        vertical-align: top;\n    }\n\n    .dataframe thead th {\n        text-align: right;\n    }\n</style>\n<table border=\"1\" class=\"dataframe\">\n  <thead>\n    <tr style=\"text-align: right;\">\n      <th></th>\n      <th>Respondent</th>\n      <th>CompTotal</th>\n      <th>ConvertedComp</th>\n      <th>WorkWeekHrs</th>\n      <th>CodeRevHrs</th>\n      <th>Age</th>\n    </tr>\n  </thead>\n  <tbody>\n    <tr>\n      <th>mean</th>\n      <td>44478.377947</td>\n      <td>5.663280e+11</td>\n      <td>127889.919015</td>\n      <td>41.885957</td>\n      <td>4.805498</td>\n      <td>31.448024</td>\n    </tr>\n    <tr>\n      <th>50%</th>\n      <td>44538.000000</td>\n      <td>6.200000e+04</td>\n      <td>57287.000000</td>\n      <td>40.000000</td>\n      <td>4.000000</td>\n      <td>30.000000</td>\n    </tr>\n  </tbody>\n</table>\n</div>"
     },
     "metadata": {},
     "execution_count": 35
    }
   ],
   "source": [
    "df[row_filter].describe().iloc[[1, 5], :]"
   ]
  },
  {
   "cell_type": "code",
   "execution_count": 37,
   "metadata": {},
   "outputs": [
    {
     "output_type": "execute_result",
     "data": {
      "text/plain": [
       "52973"
      ]
     },
     "metadata": {},
     "execution_count": 37
    }
   ],
   "source": [
    "df[row_filter]['ConvertedComp'].count()"
   ]
  },
  {
   "cell_type": "code",
   "execution_count": 39,
   "metadata": {},
   "outputs": [
    {
     "output_type": "execute_result",
     "data": {
      "text/plain": [
       "Yes    71257\n",
       "No     17626\n",
       "Name: Hobbyist, dtype: int64"
      ]
     },
     "metadata": {},
     "execution_count": 39
    }
   ],
   "source": [
    "df['Hobbyist'].value_counts()"
   ]
  },
  {
   "cell_type": "code",
   "execution_count": 53,
   "metadata": {},
   "outputs": [
    {
     "output_type": "execute_result",
     "data": {
      "text/plain": [
       "Reddit                      14374\n",
       "YouTube                     13830\n",
       "WhatsApp                    13347\n",
       "Facebook                    13178\n",
       "Twitter                     11398\n",
       "Instagram                    6261\n",
       "I don't use social media     5554\n",
       "LinkedIn                     4501\n",
       "WeChat 微信                     667\n",
       "Snapchat                      628\n",
       "VK ВКонта́кте                 603\n",
       "Weibo 新浪微博                     56\n",
       "Youku Tudou 优酷                 21\n",
       "Hello                          19\n",
       "Name: SocialMedia, dtype: int64"
      ]
     },
     "metadata": {},
     "execution_count": 53
    }
   ],
   "source": [
    "df['SocialMedia'].value_counts()"
   ]
  },
  {
   "cell_type": "code",
   "execution_count": 52,
   "metadata": {},
   "outputs": [
    {
     "output_type": "execute_result",
     "data": {
      "text/plain": [
       "QuestionText    What social media site do you use the most?\n",
       "Name: SocialMedia, dtype: object"
      ]
     },
     "metadata": {},
     "execution_count": 52
    }
   ],
   "source": [
    "schema_df.loc['SocialMedia']"
   ]
  },
  {
   "cell_type": "code",
   "execution_count": 58,
   "metadata": {},
   "outputs": [
    {
     "output_type": "execute_result",
     "data": {
      "text/plain": [
       "Reddit                      0.170233\n",
       "YouTube                     0.163791\n",
       "WhatsApp                    0.158071\n",
       "Facebook                    0.156069\n",
       "Twitter                     0.134988\n",
       "Instagram                   0.074150\n",
       "I don't use social media    0.065777\n",
       "LinkedIn                    0.053306\n",
       "WeChat 微信                   0.007899\n",
       "Snapchat                    0.007437\n",
       "VK ВКонта́кте               0.007141\n",
       "Weibo 新浪微博                  0.000663\n",
       "Youku Tudou 优酷              0.000249\n",
       "Hello                       0.000225\n",
       "Name: SocialMedia, dtype: float64"
      ]
     },
     "metadata": {},
     "execution_count": 58
    }
   ],
   "source": [
    "df['SocialMedia'].value_counts(normalize=True)"
   ]
  },
  {
   "cell_type": "code",
   "execution_count": 68,
   "metadata": {},
   "outputs": [
    {
     "output_type": "execute_result",
     "data": {
      "text/plain": [
       "WhatsApp    2990\n",
       "YouTube     1820\n",
       "LinkedIn     955\n",
       "Name: SocialMedia, dtype: int64"
      ]
     },
     "metadata": {},
     "execution_count": 68
    }
   ],
   "source": [
    "# What's the most popular social media site for each country?\n",
    "\n",
    "df.groupby(['Country']).get_group('India')['SocialMedia'].value_counts().nlargest(3)"
   ]
  },
  {
   "cell_type": "code",
   "execution_count": 73,
   "metadata": {},
   "outputs": [
    {
     "output_type": "stream",
     "name": "stdout",
     "text": [
      "Reddit      5700\nTwitter     3468\nFacebook    2844\nName: SocialMedia, dtype: int64\n\nWeChat 微信     403\nYouTube        53\nWeibo 新浪微博     42\nName: SocialMedia, dtype: int64\n\nWhatsApp    2990\nYouTube     1820\nLinkedIn     955\nName: SocialMedia, dtype: int64\n\n"
     ]
    }
   ],
   "source": [
    "li_countries = ['United States', 'China', 'India']\n",
    "\n",
    "for i in li_countries:\n",
    "    print(df.groupby(['Country']).get_group(i)['SocialMedia'].value_counts().nlargest(3))\n",
    "    print()\n"
   ]
  },
  {
   "cell_type": "code",
   "execution_count": 104,
   "metadata": {},
   "outputs": [],
   "source": [
    "def extract_info(groupby_col, target_col, target_country):\n",
    "    return df.groupby(groupby_col)[target_col].value_counts(normalize=True).loc[target_country]"
   ]
  },
  {
   "cell_type": "code",
   "execution_count": 105,
   "metadata": {},
   "outputs": [
    {
     "output_type": "execute_result",
     "data": {
      "text/plain": [
       "SocialMedia\n",
       "WhatsApp                    0.342379\n",
       "YouTube                     0.208405\n",
       "LinkedIn                    0.109355\n",
       "Facebook                    0.096301\n",
       "Instagram                   0.094126\n",
       "Twitter                     0.062063\n",
       "Reddit                      0.054162\n",
       "I don't use social media    0.028627\n",
       "Snapchat                    0.002634\n",
       "Hello                       0.000573\n",
       "WeChat 微信                   0.000573\n",
       "VK ВКонта́кте               0.000458\n",
       "Youku Tudou 优酷              0.000229\n",
       "Weibo 新浪微博                  0.000115\n",
       "Name: SocialMedia, dtype: float64"
      ]
     },
     "metadata": {},
     "execution_count": 105
    }
   ],
   "source": [
    "extract_info('Country', 'SocialMedia', 'India')"
   ]
  },
  {
   "cell_type": "code",
   "execution_count": 107,
   "metadata": {},
   "outputs": [
    {
     "output_type": "execute_result",
     "data": {
      "text/plain": [
       "Country\n",
       "United States                       0.279884\n",
       "India                               0.142178\n",
       "United Kingdom                      0.065084\n",
       "Canada                              0.040579\n",
       "Germany                             0.039735\n",
       "                                      ...   \n",
       "Papua New Guinea                    0.000026\n",
       "Saint Vincent and the Grenadines    0.000026\n",
       "San Marino                          0.000026\n",
       "Sao Tome and Principe               0.000026\n",
       "Sierra Leone                        0.000026\n",
       "Name: Country, Length: 166, dtype: float64"
      ]
     },
     "metadata": {},
     "execution_count": 107
    }
   ],
   "source": [
    "extract_info('EdLevel', 'Country', 'Bachelor’s degree (BA, BS, B.Eng., etc.)')"
   ]
  },
  {
   "cell_type": "code",
   "execution_count": 108,
   "metadata": {},
   "outputs": [
    {
     "output_type": "execute_result",
     "data": {
      "text/plain": [
       "EdLevel\n",
       "Bachelor’s degree (BA, BS, B.Eng., etc.)                                              0.531570\n",
       "Master’s degree (MA, MS, M.Eng., MBA, etc.)                                           0.173987\n",
       "Some college/university study without earning a degree                                0.134870\n",
       "Secondary school (e.g. American high school, German Realschule or Gymnasium, etc.)    0.054016\n",
       "Associate degree                                                                      0.047416\n",
       "Other doctoral degree (Ph.D, Ed.D., etc.)                                             0.032662\n",
       "Primary/elementary school                                                             0.015045\n",
       "Professional degree (JD, MD, etc.)                                                    0.005775\n",
       "I never completed any formal education                                                0.004659\n",
       "Name: EdLevel, dtype: float64"
      ]
     },
     "metadata": {},
     "execution_count": 108
    }
   ],
   "source": [
    "extract_info('Country', 'EdLevel', 'United States')"
   ]
  },
  {
   "cell_type": "code",
   "execution_count": 114,
   "metadata": {},
   "outputs": [
    {
     "output_type": "execute_result",
     "data": {
      "text/plain": [
       "SocialMedia\n",
       "WeChat 微信                   0.670549\n",
       "YouTube                     0.088186\n",
       "Weibo 新浪微博                  0.069884\n",
       "I don't use social media    0.044925\n",
       "Twitter                     0.044925\n",
       "Reddit                      0.019967\n",
       "LinkedIn                    0.018303\n",
       "Facebook                    0.013311\n",
       "Instagram                   0.011647\n",
       "Youku Tudou 优酷              0.011647\n",
       "WhatsApp                    0.004992\n",
       "VK ВКонта́кте               0.001664\n",
       "Name: SocialMedia, dtype: float64"
      ]
     },
     "metadata": {},
     "execution_count": 114
    }
   ],
   "source": [
    "extract_info('Country', 'SocialMedia', 'China')"
   ]
  },
  {
   "cell_type": "code",
   "execution_count": 137,
   "metadata": {},
   "outputs": [
    {
     "output_type": "execute_result",
     "data": {
      "text/plain": [
       "Country\n",
       "Liechtenstein                       811188.0\n",
       "San Marino                          301788.0\n",
       "Timor-Leste                         229500.0\n",
       "Andorra                             160931.0\n",
       "Democratic Republic of the Congo    110484.0\n",
       "United States                       110000.0\n",
       "Switzerland                          95440.0\n",
       "Israel                               90720.0\n",
       "Ireland                              83640.0\n",
       "Denmark                              82860.0\n",
       "Name: ConvertedComp, dtype: float64"
      ]
     },
     "metadata": {},
     "execution_count": 137
    }
   ],
   "source": [
    "df.groupby('Country')['ConvertedComp'].median().sort_values(ascending=False).head(10)"
   ]
  },
  {
   "cell_type": "code",
   "execution_count": 139,
   "metadata": {},
   "outputs": [
    {
     "output_type": "execute_result",
     "data": {
      "text/plain": [
       "82860.0"
      ]
     },
     "metadata": {},
     "execution_count": 139
    }
   ],
   "source": [
    "df.groupby('Country')['ConvertedComp'].median().loc['Denmark']"
   ]
  },
  {
   "cell_type": "code",
   "execution_count": 144,
   "metadata": {},
   "outputs": [
    {
     "output_type": "execute_result",
     "data": {
      "text/plain": [
       "                                        median           mean\n",
       "Country                                                      \n",
       "Afghanistan                             6222.0  101953.333333\n",
       "Albania                                10818.0   21833.700000\n",
       "Algeria                                 7878.0   34924.047619\n",
       "Andorra                               160931.0  160931.000000\n",
       "Angola                                  7764.0    7764.000000\n",
       "...                                        ...            ...\n",
       "Venezuela, Bolivarian Republic of...    6384.0   14581.627907\n",
       "Viet Nam                               11892.0   17233.436782\n",
       "Yemen                                  11940.0   16909.166667\n",
       "Zambia                                  5040.0   10075.375000\n",
       "Zimbabwe                               19200.0   34046.666667\n",
       "\n",
       "[179 rows x 2 columns]"
      ],
      "text/html": "<div>\n<style scoped>\n    .dataframe tbody tr th:only-of-type {\n        vertical-align: middle;\n    }\n\n    .dataframe tbody tr th {\n        vertical-align: top;\n    }\n\n    .dataframe thead th {\n        text-align: right;\n    }\n</style>\n<table border=\"1\" class=\"dataframe\">\n  <thead>\n    <tr style=\"text-align: right;\">\n      <th></th>\n      <th>median</th>\n      <th>mean</th>\n    </tr>\n    <tr>\n      <th>Country</th>\n      <th></th>\n      <th></th>\n    </tr>\n  </thead>\n  <tbody>\n    <tr>\n      <th>Afghanistan</th>\n      <td>6222.0</td>\n      <td>101953.333333</td>\n    </tr>\n    <tr>\n      <th>Albania</th>\n      <td>10818.0</td>\n      <td>21833.700000</td>\n    </tr>\n    <tr>\n      <th>Algeria</th>\n      <td>7878.0</td>\n      <td>34924.047619</td>\n    </tr>\n    <tr>\n      <th>Andorra</th>\n      <td>160931.0</td>\n      <td>160931.000000</td>\n    </tr>\n    <tr>\n      <th>Angola</th>\n      <td>7764.0</td>\n      <td>7764.000000</td>\n    </tr>\n    <tr>\n      <th>...</th>\n      <td>...</td>\n      <td>...</td>\n    </tr>\n    <tr>\n      <th>Venezuela, Bolivarian Republic of...</th>\n      <td>6384.0</td>\n      <td>14581.627907</td>\n    </tr>\n    <tr>\n      <th>Viet Nam</th>\n      <td>11892.0</td>\n      <td>17233.436782</td>\n    </tr>\n    <tr>\n      <th>Yemen</th>\n      <td>11940.0</td>\n      <td>16909.166667</td>\n    </tr>\n    <tr>\n      <th>Zambia</th>\n      <td>5040.0</td>\n      <td>10075.375000</td>\n    </tr>\n    <tr>\n      <th>Zimbabwe</th>\n      <td>19200.0</td>\n      <td>34046.666667</td>\n    </tr>\n  </tbody>\n</table>\n<p>179 rows × 2 columns</p>\n</div>"
     },
     "metadata": {},
     "execution_count": 144
    }
   ],
   "source": [
    "df.groupby('Country')['ConvertedComp'].agg(['median', 'mean'])"
   ]
  },
  {
   "cell_type": "code",
   "execution_count": 146,
   "metadata": {},
   "outputs": [
    {
     "output_type": "execute_result",
     "data": {
      "text/plain": [
       "median     63016.000000\n",
       "mean      109256.884066\n",
       "Name: Germany, dtype: float64"
      ]
     },
     "metadata": {},
     "execution_count": 146
    }
   ],
   "source": [
    "# Groupby + aggregate multiple functions at once!\n",
    "# 🧠 df.groupuby()[].agg([func_1, func_2]).loc[] -> df.groupby()[].agg([])\n",
    "\n",
    "df.groupby('Country')['ConvertedComp'].agg(['median', 'mean']).loc['Germany']"
   ]
  },
  {
   "cell_type": "code",
   "execution_count": 9,
   "metadata": {},
   "outputs": [
    {
     "output_type": "execute_result",
     "data": {
      "text/plain": [
       "False    0.534483\n",
       "True     0.465517\n",
       "Name: LanguageWorkedWith, dtype: float64"
      ]
     },
     "metadata": {},
     "execution_count": 9
    }
   ],
   "source": [
    "# 🎯 Cannot mask with non-boolean array containing NA / NaN values\n",
    "# RIGHT-  we need to deal with NA / NaN values first! - clean up ALL NaN values!\n",
    "# 必须先清洗数据，取出所有包含NaN的值，然后再做boolean filter，最后统计\n",
    "# 仅有87569个非空，而实际行数为88883个样本！\n",
    "\n",
    "# How many people in each country know how to use Python\n",
    "\n",
    "# row_filter = df['LanguageWorkedWith'].str.contains('Python')\n",
    "\n",
    "row_filter = df['Country'] == 'China'\n",
    "\n",
    "df.loc[row_filter, 'LanguageWorkedWith'].str.contains('Python').value_counts(normalize=True)"
   ]
  },
  {
   "cell_type": "code",
   "execution_count": 19,
   "metadata": {},
   "outputs": [
    {
     "output_type": "stream",
     "name": "stdout",
     "text": [
      "China\nFalse    0.534483\nTrue     0.465517\nName: LanguageWorkedWith, dtype: float64\n\nIndia\nFalse    0.648915\nTrue     0.351085\nName: LanguageWorkedWith, dtype: float64\n\nUnited States\nFalse    0.514517\nTrue     0.485483\nName: LanguageWorkedWith, dtype: float64\n\n"
     ]
    }
   ],
   "source": [
    "li_countries = ['China', 'India', 'United States']\n",
    "\n",
    "for country in li_countries:\n",
    "    row_filter = df['Country'] == country\n",
    "    print(country)\n",
    "    print(df.loc[row_filter, 'LanguageWorkedWith'].str.contains('Python').value_counts(normalize=True))\n",
    "    print()"
   ]
  },
  {
   "cell_type": "code",
   "execution_count": 29,
   "metadata": {},
   "outputs": [
    {
     "output_type": "execute_result",
     "data": {
      "text/plain": [
       "Country\n",
       "Afghanistan                              8\n",
       "Albania                                 23\n",
       "Algeria                                 40\n",
       "Andorra                                  0\n",
       "Angola                                   2\n",
       "                                        ..\n",
       "Venezuela, Bolivarian Republic of...    28\n",
       "Viet Nam                                78\n",
       "Yemen                                    3\n",
       "Zambia                                   4\n",
       "Zimbabwe                                14\n",
       "Name: LanguageWorkedWith, Length: 179, dtype: int64"
      ]
     },
     "metadata": {},
     "execution_count": 29
    }
   ],
   "source": [
    "# Apply + Lambda \n",
    "# 🧠 apply(lambda x: x.str.contains('Python').sum()) -> apply(lambda x: x.func().func())\n",
    "\n",
    "df.groupby('Country')['LanguageWorkedWith'].apply(lambda x: x.str.contains('Python').sum())"
   ]
  },
  {
   "cell_type": "code",
   "execution_count": 41,
   "metadata": {},
   "outputs": [
    {
     "output_type": "execute_result",
     "data": {
      "text/plain": [
       "Country           \n",
       "Afghanistan  False    0.794872\n",
       "             True     0.205128\n",
       "Albania      False    0.722892\n",
       "             True     0.277108\n",
       "Algeria      False    0.682540\n",
       "                        ...   \n",
       "Yemen        True     0.176471\n",
       "Zambia       False    0.666667\n",
       "             True     0.333333\n",
       "Zimbabwe     False    0.641026\n",
       "             True     0.358974\n",
       "Name: LanguageWorkedWith, Length: 335, dtype: float64"
      ]
     },
     "metadata": {},
     "execution_count": 41
    }
   ],
   "source": [
    "# ✅ Return the percenrage of people in each country knows how to work with Python\n",
    "df.groupby('Country')['LanguageWorkedWith'].apply(lambda x: x.str.contains('Python').value_counts(normalize=True))"
   ]
  },
  {
   "cell_type": "code",
   "execution_count": 46,
   "metadata": {},
   "outputs": [
    {
     "output_type": "execute_result",
     "data": {
      "text/plain": [
       "Country             \n",
       "China          False    0.534483\n",
       "               True     0.465517\n",
       "India          False    0.648915\n",
       "               True     0.351085\n",
       "United States  False    0.514517\n",
       "               True     0.485483\n",
       "Name: LanguageWorkedWith, dtype: float64"
      ]
     },
     "metadata": {},
     "execution_count": 46
    }
   ],
   "source": [
    "df.groupby('Country')['LanguageWorkedWith'].apply(lambda x: x.str.contains('Python').value_counts(normalize=True)).loc[['China', 'India', 'United States']]"
   ]
  },
  {
   "cell_type": "code",
   "execution_count": null,
   "metadata": {},
   "outputs": [],
   "source": []
  }
 ]
}
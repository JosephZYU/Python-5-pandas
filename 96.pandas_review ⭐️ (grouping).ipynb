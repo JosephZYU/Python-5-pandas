{
 "metadata": {
  "language_info": {
   "codemirror_mode": {
    "name": "ipython",
    "version": 3
   },
   "file_extension": ".py",
   "mimetype": "text/x-python",
   "name": "python",
   "nbconvert_exporter": "python",
   "pygments_lexer": "ipython3",
   "version": "3.9.0-final"
  },
  "orig_nbformat": 2,
  "kernelspec": {
   "name": "python3",
   "display_name": "Python 3",
   "language": "python"
  }
 },
 "nbformat": 4,
 "nbformat_minor": 2,
 "cells": [
  {
   "cell_type": "code",
   "execution_count": 19,
   "metadata": {},
   "outputs": [],
   "source": [
    "import pandas as pd\n",
    "import numpy as np\n",
    "\n",
    "people = {\n",
    "    \"first\":['Corey', 'Jane', 'John'],\n",
    "    \"last\":['Schafer', 'Doe', 'Smith'],\n",
    "    \"email\":['CoreySchafer@gmail.com','JaneDoe@hotmail.com','JohnSmith@outlook.com'],\n",
    "}\n",
    "\n",
    "\n",
    "pd.set_option('display.max_columns', 100)\n",
    "pd.set_option('display.max_rows', 100)\n",
    "pd.set_option('display.max_colwidth', None)  \n",
    "\n",
    "\n",
    "# pd.set_option('display.float_format', lambda x: '%.4f' % x)\n",
    "\n",
    "\n",
    "survey_source = '/Users/josephyu/Documents/GitHub/data/survey_results_public.csv'\n",
    "schema_source = '/Users/josephyu/Documents/GitHub/data/survey_results_schema.csv'\n",
    "\n",
    "\n",
    "df = pd.read_csv(survey_source, index_col = 'Respondent')\n",
    "schema_df = pd.read_csv(schema_source, index_col = 'Column')\n",
    "pp_df = pd.DataFrame(people)"
   ]
  },
  {
   "cell_type": "code",
   "execution_count": 108,
   "metadata": {},
   "outputs": [
    {
     "output_type": "execute_result",
     "data": {
      "text/plain": [
       "(88883, 84)"
      ]
     },
     "metadata": {},
     "execution_count": 108
    }
   ],
   "source": [
    "df.shape"
   ]
  },
  {
   "cell_type": "code",
   "execution_count": 23,
   "metadata": {},
   "outputs": [
    {
     "output_type": "execute_result",
     "data": {
      "text/plain": [
       "(88883, 84)"
      ]
     },
     "metadata": {},
     "execution_count": 23
    }
   ],
   "source": [
    "df.shape"
   ]
  },
  {
   "cell_type": "code",
   "execution_count": 51,
   "metadata": {},
   "outputs": [
    {
     "output_type": "execute_result",
     "data": {
      "text/plain": [
       "Hobbyist          0\n",
       "OpenSourcer       0\n",
       "Country         132\n",
       "MainBranch      552\n",
       "SOVisitFreq     620\n",
       "SOComm          752\n",
       "SOVisitTo       797\n",
       "SOJobs          817\n",
       "YearsCode       945\n",
       "OpSys          1032\n",
       "dtype: int64"
      ]
     },
     "metadata": {},
     "execution_count": 51
    }
   ],
   "source": [
    "df.isna().sum().sort_values()[:10]"
   ]
  },
  {
   "cell_type": "code",
   "execution_count": 52,
   "metadata": {},
   "outputs": [
    {
     "output_type": "execute_result",
     "data": {
      "text/plain": [
       "Hobbyist      0.0000\n",
       "OpenSourcer   0.0000\n",
       "Country       0.0015\n",
       "MainBranch    0.0062\n",
       "SOVisitFreq   0.0070\n",
       "SOComm        0.0085\n",
       "SOVisitTo     0.0090\n",
       "SOJobs        0.0092\n",
       "YearsCode     0.0106\n",
       "OpSys         0.0116\n",
       "dtype: float64"
      ]
     },
     "metadata": {},
     "execution_count": 52
    }
   ],
   "source": [
    "df.isna().mean().sort_values(ascending=True)[:10]"
   ]
  },
  {
   "cell_type": "code",
   "execution_count": 65,
   "metadata": {},
   "outputs": [],
   "source": [
    "carrol = df['Country'].value_counts().head(100)[:'China']"
   ]
  },
  {
   "cell_type": "code",
   "execution_count": 67,
   "metadata": {},
   "outputs": [
    {
     "output_type": "execute_result",
     "data": {
      "text/plain": [
       "Index(['MainBranch', 'Hobbyist', 'OpenSourcer', 'OpenSource', 'Employment',\n",
       "       'Country', 'Student', 'EdLevel', 'UndergradMajor', 'EduOther',\n",
       "       'OrgSize', 'DevType', 'YearsCode', 'Age1stCode', 'YearsCodePro',\n",
       "       'CareerSat', 'JobSat', 'MgrIdiot', 'MgrMoney', 'MgrWant', 'JobSeek',\n",
       "       'LastHireDate', 'LastInt', 'FizzBuzz', 'JobFactors', 'ResumeUpdate',\n",
       "       'CurrencySymbol', 'CurrencyDesc', 'CompTotal', 'CompFreq',\n",
       "       'ConvertedComp', 'WorkWeekHrs', 'WorkPlan', 'WorkChallenge',\n",
       "       'WorkRemote', 'WorkLoc', 'ImpSyn', 'CodeRev', 'CodeRevHrs', 'UnitTests',\n",
       "       'PurchaseHow', 'PurchaseWhat', 'LanguageWorkedWith',\n",
       "       'LanguageDesireNextYear', 'DatabaseWorkedWith',\n",
       "       'DatabaseDesireNextYear', 'PlatformWorkedWith',\n",
       "       'PlatformDesireNextYear', 'WebFrameWorkedWith',\n",
       "       'WebFrameDesireNextYear', 'MiscTechWorkedWith',\n",
       "       'MiscTechDesireNextYear', 'DevEnviron', 'OpSys', 'Containers',\n",
       "       'BlockchainOrg', 'BlockchainIs', 'BetterLife', 'ITperson', 'OffOn',\n",
       "       'SocialMedia', 'Extraversion', 'ScreenName', 'SOVisit1st',\n",
       "       'SOVisitFreq', 'SOVisitTo', 'SOFindAnswer', 'SOTimeSaved',\n",
       "       'SOHowMuchTime', 'SOAccount', 'SOPartFreq', 'SOJobs', 'EntTeams',\n",
       "       'SOComm', 'WelcomeChange', 'SONewContent', 'Age', 'Gender', 'Trans',\n",
       "       'Sexuality', 'Ethnicity', 'Dependents', 'SurveyLength', 'SurveyEase'],\n",
       "      dtype='object')"
      ]
     },
     "metadata": {},
     "execution_count": 67
    }
   ],
   "source": [
    "df.columns"
   ]
  },
  {
   "cell_type": "code",
   "execution_count": 76,
   "metadata": {},
   "outputs": [
    {
     "output_type": "stream",
     "name": "stdout",
     "text": [
      "['HTML/CSS', 'Java', 'JavaScript', 'Python']\n['C++', 'HTML/CSS', 'Python']\n['HTML/CSS']\n['C', 'C++', 'C#', 'Python', 'SQL']\n['C++', 'HTML/CSS', 'Java', 'JavaScript', 'Python', 'SQL', 'VBA']\n['Java', 'R', 'SQL']\n['HTML/CSS', 'JavaScript']\n['Bash/Shell/PowerShell', 'C', 'C++', 'HTML/CSS', 'Java', 'JavaScript', 'Python', 'SQL']\n['Bash/Shell/PowerShell', 'C#', 'HTML/CSS', 'JavaScript', 'Python', 'Ruby', 'Rust', 'SQL', 'TypeScript', 'WebAssembly', 'Other(s):']\n['C#', 'Go', 'JavaScript', 'Python', 'R', 'SQL']\n"
     ]
    }
   ],
   "source": [
    "for item in df['LanguageWorkedWith'].head(10):\n",
    "    print(item.split(';'))"
   ]
  },
  {
   "cell_type": "code",
   "execution_count": 126,
   "metadata": {},
   "outputs": [
    {
     "output_type": "execute_result",
     "data": {
      "text/plain": [
       "Country\n",
       "Liechtenstein                      811188.0000\n",
       "San Marino                         577452.0000\n",
       "Qatar                              539780.0000\n",
       "Timor-Leste                        229500.0000\n",
       "United States                      116000.0000\n",
       "Democratic Republic of the Congo   110484.0000\n",
       "Israel                              98964.0000\n",
       "Switzerland                         90920.5000\n",
       "Denmark                             81024.0000\n",
       "Norway                              80280.5000\n",
       "Ireland                             80202.0000\n",
       "Australia                           79783.0000\n",
       "Iceland                             70152.0000\n",
       "Luxembourg                          68745.0000\n",
       "Canada                              68705.0000\n",
       "United Kingdom                      68041.0000\n",
       "Kuwait                              65700.0000\n",
       "Germany                             63016.0000\n",
       "Seychelles                          61308.0000\n",
       "New Zealand                         60693.5000\n",
       "Singapore                           58795.5000\n",
       "Netherlands                         57744.0000\n",
       "Sweden                              57000.0000\n",
       "Finland                             56142.0000\n",
       "United Arab Emirates                55540.0000\n",
       "Name: ConvertedComp, dtype: float64"
      ]
     },
     "metadata": {},
     "execution_count": 126
    }
   ],
   "source": [
    "filt = df['LanguageWorkedWith'].str.contains(\"Python\", na=False) # Boolean -> True / False \n",
    "\n",
    "df[filt].groupby('Country').median()['ConvertedComp'].sort_values(ascending=False).head(25)"
   ]
  },
  {
   "cell_type": "code",
   "execution_count": null,
   "metadata": {},
   "outputs": [],
   "source": []
  },
  {
   "cell_type": "code",
   "execution_count": null,
   "metadata": {},
   "outputs": [],
   "source": []
  },
  {
   "cell_type": "code",
   "execution_count": null,
   "metadata": {},
   "outputs": [],
   "source": []
  },
  {
   "cell_type": "code",
   "execution_count": 86,
   "metadata": {},
   "outputs": [
    {
     "output_type": "execute_result",
     "data": {
      "text/plain": [
       "Respondent\n",
       "1          NaN\n",
       "2          NaN\n",
       "3    8820.0000\n",
       "4   61000.0000\n",
       "5          NaN\n",
       "Name: ConvertedComp, dtype: float64"
      ]
     },
     "metadata": {},
     "execution_count": 86
    }
   ],
   "source": [
    "df['ConvertedComp'].head()"
   ]
  },
  {
   "cell_type": "code",
   "execution_count": 95,
   "metadata": {},
   "outputs": [
    {
     "output_type": "execute_result",
     "data": {
      "text/plain": [
       "Country\n",
       "Liechtenstein                      811188.0000\n",
       "San Marino                         301788.0000\n",
       "Timor-Leste                        229500.0000\n",
       "Andorra                            160931.0000\n",
       "Democratic Republic of the Congo   110484.0000\n",
       "United States                      110000.0000\n",
       "Switzerland                         95440.0000\n",
       "Israel                              90720.0000\n",
       "Ireland                             83640.0000\n",
       "Denmark                             82860.0000\n",
       "Australia                           79783.0000\n",
       "Norway                              79512.0000\n",
       "Qatar                               79326.0000\n",
       "Luxembourg                          74364.0000\n",
       "Iceland                             70152.0000\n",
       "Canada                              68705.0000\n",
       "United Kingdom                      68041.0000\n",
       "New Zealand                         63452.0000\n",
       "Germany                             63016.0000\n",
       "Swaziland                           62371.0000\n",
       "Seychelles                          61308.0000\n",
       "Libyan Arab Jamahiriya              58158.0000\n",
       "Singapore                           57758.5000\n",
       "Netherlands                         57287.0000\n",
       "Sweden                              56004.0000\n",
       "Name: ConvertedComp, dtype: float64"
      ]
     },
     "metadata": {},
     "execution_count": 95
    }
   ],
   "source": [
    "# key word 'Python' # group by country\n",
    "\n",
    "\n",
    "df.groupby('Country')['ConvertedComp'].median().sort_values(ascending=False).head(25)"
   ]
  },
  {
   "cell_type": "code",
   "execution_count": null,
   "metadata": {},
   "outputs": [],
   "source": [
    "df['']"
   ]
  },
  {
   "cell_type": "code",
   "execution_count": null,
   "metadata": {},
   "outputs": [],
   "source": []
  },
  {
   "cell_type": "code",
   "execution_count": null,
   "metadata": {},
   "outputs": [],
   "source": []
  },
  {
   "cell_type": "code",
   "execution_count": null,
   "metadata": {},
   "outputs": [],
   "source": []
  },
  {
   "cell_type": "code",
   "execution_count": 43,
   "metadata": {},
   "outputs": [
    {
     "output_type": "execute_result",
     "data": {
      "text/plain": [
       "MgrWant              0.3111\n",
       "MgrIdiot             0.3119\n",
       "MgrMoney             0.3119\n",
       "PurchaseHow          0.3125\n",
       "BlockchainIs         0.3231\n",
       "MiscTechWorkedWith   0.3296\n",
       "CompTotal            0.3706\n",
       "ConvertedComp        0.3719\n",
       "CodeRevHrs           0.4398\n",
       "BlockchainOrg        0.4580\n",
       "dtype: float64"
      ]
     },
     "metadata": {},
     "execution_count": 43
    }
   ],
   "source": [
    "df.isna().mean().sort_values()[-10:]"
   ]
  },
  {
   "cell_type": "code",
   "execution_count": null,
   "metadata": {},
   "outputs": [],
   "source": []
  },
  {
   "cell_type": "code",
   "execution_count": null,
   "metadata": {},
   "outputs": [],
   "source": []
  },
  {
   "cell_type": "code",
   "execution_count": null,
   "metadata": {},
   "outputs": [],
   "source": []
  },
  {
   "cell_type": "code",
   "execution_count": null,
   "metadata": {},
   "outputs": [],
   "source": []
  },
  {
   "cell_type": "code",
   "execution_count": null,
   "metadata": {},
   "outputs": [],
   "source": []
  },
  {
   "cell_type": "code",
   "execution_count": null,
   "metadata": {},
   "outputs": [],
   "source": []
  },
  {
   "cell_type": "code",
   "execution_count": null,
   "metadata": {},
   "outputs": [],
   "source": []
  },
  {
   "cell_type": "code",
   "execution_count": null,
   "metadata": {},
   "outputs": [],
   "source": []
  },
  {
   "cell_type": "code",
   "execution_count": null,
   "metadata": {},
   "outputs": [],
   "source": []
  },
  {
   "cell_type": "code",
   "execution_count": null,
   "metadata": {},
   "outputs": [],
   "source": []
  },
  {
   "cell_type": "code",
   "execution_count": null,
   "metadata": {},
   "outputs": [],
   "source": []
  },
  {
   "cell_type": "code",
   "execution_count": null,
   "metadata": {},
   "outputs": [],
   "source": []
  },
  {
   "cell_type": "code",
   "execution_count": 274,
   "metadata": {},
   "outputs": [
    {
     "output_type": "execute_result",
     "data": {
      "text/plain": [
       "                                MainBranch Hobbyist OpenSourcer  \\\n",
       "Respondent                                                        \n",
       "45133       I am a developer by profession       No       Never   \n",
       "\n",
       "                                                                 OpenSource  \\\n",
       "Respondent                                                                    \n",
       "45133       The quality of OSS and closed source software is about the same   \n",
       "\n",
       "                    Employment        Country Student  \\\n",
       "Respondent                                              \n",
       "45133       Employed full-time  United States      No   \n",
       "\n",
       "                                                EdLevel  \\\n",
       "Respondent                                                \n",
       "45133       Master’s degree (MA, MS, M.Eng., MBA, etc.)   \n",
       "\n",
       "                                                                UndergradMajor  \\\n",
       "Respondent                                                                       \n",
       "45133       Another engineering discipline (ex. civil, electrical, mechanical)   \n",
       "\n",
       "                                                                                                                                                         EduOther  \\\n",
       "Respondent                                                                                                                                                          \n",
       "45133       Taken an online course in programming or software development (e.g. a MOOC);Taken a part-time in-person course in programming or software development   \n",
       "\n",
       "                         OrgSize                DevType YearsCode Age1stCode  \\\n",
       "Respondent                                                                     \n",
       "45133       500 to 999 employees  Developer, full-stack        14         17   \n",
       "\n",
       "           YearsCodePro              CareerSat              JobSat  \\\n",
       "Respondent                                                           \n",
       "45133                 8  Slightly dissatisfied  Slightly satisfied   \n",
       "\n",
       "                  MgrIdiot MgrMoney MgrWant  \\\n",
       "Respondent                                    \n",
       "45133       Very confident       No      No   \n",
       "\n",
       "                                                 JobSeek  \\\n",
       "Respondent                                                 \n",
       "45133       I am not interested in new job opportunities   \n",
       "\n",
       "                     LastHireDate  \\\n",
       "Respondent                          \n",
       "45133       More than 4 years ago   \n",
       "\n",
       "                                                       LastInt FizzBuzz  \\\n",
       "Respondent                                                                \n",
       "45133       Interview with people in senior / management roles       No   \n",
       "\n",
       "                                                                                                 JobFactors  \\\n",
       "Respondent                                                                                                    \n",
       "45133       Remote work options;Opportunities for professional development;Flex time or a flexible schedule   \n",
       "\n",
       "                                                ResumeUpdate CurrencySymbol  \\\n",
       "Respondent                                                                    \n",
       "45133       My job status changed (promotion, new job, etc.)            USD   \n",
       "\n",
       "                    CurrencyDesc  CompTotal CompFreq  ConvertedComp  \\\n",
       "Respondent                                                            \n",
       "45133       United States dollar        NaN      NaN            NaN   \n",
       "\n",
       "            WorkWeekHrs  \\\n",
       "Respondent                \n",
       "45133           40.0000   \n",
       "\n",
       "                                                                                               WorkPlan  \\\n",
       "Respondent                                                                                                \n",
       "45133       There is a schedule and/or spec (made by me or by a colleague), and my work somewhat aligns   \n",
       "\n",
       "                                                                                                                   WorkChallenge  \\\n",
       "Respondent                                                                                                                         \n",
       "45133       Non-work commitments (parenting, school work, hobbies, etc.);Not enough people for the workload;Time spent commuting   \n",
       "\n",
       "                                                         WorkRemote WorkLoc  \\\n",
       "Respondent                                                                    \n",
       "45133       Less than half the time, but at least one day each week  Office   \n",
       "\n",
       "                            ImpSyn                                  CodeRev  \\\n",
       "Respondent                                                                    \n",
       "45133       A little above average  Yes, because I see value in code review   \n",
       "\n",
       "            CodeRevHrs                  UnitTests  \\\n",
       "Respondent                                          \n",
       "45133           4.0000  No, but I think we should   \n",
       "\n",
       "                                                                                                          PurchaseHow  \\\n",
       "Respondent                                                                                                              \n",
       "45133       The CTO, CIO, or other management purchase new technology typically without the involvement of developers   \n",
       "\n",
       "                             PurchaseWhat            LanguageWorkedWith  \\\n",
       "Respondent                                                                \n",
       "45133       I have little or no influence  HTML/CSS;Java;JavaScript;SQL   \n",
       "\n",
       "                 LanguageDesireNextYear    DatabaseWorkedWith  \\\n",
       "Respondent                                                      \n",
       "45133       C#;HTML/CSS;Java;JavaScript  Microsoft SQL Server   \n",
       "\n",
       "                              DatabaseDesireNextYear PlatformWorkedWith  \\\n",
       "Respondent                                                                \n",
       "45133       MongoDB;Microsoft SQL Server;MySQL;Redis                NaN   \n",
       "\n",
       "           PlatformDesireNextYear       WebFrameWorkedWith  \\\n",
       "Respondent                                                   \n",
       "45133        Android;Raspberry Pi  jQuery;Spring;Other(s):   \n",
       "\n",
       "                                  WebFrameDesireNextYear MiscTechWorkedWith  \\\n",
       "Respondent                                                                    \n",
       "45133       Angular/Angular.js;React.js;Vue.js;Other(s):                NaN   \n",
       "\n",
       "           MiscTechDesireNextYear                             DevEnviron  \\\n",
       "Respondent                                                                 \n",
       "45133                         NaN  NetBeans;Notepad++;Visual Studio Code   \n",
       "\n",
       "              OpSys               Containers BlockchainOrg BlockchainIs  \\\n",
       "Respondent                                                                \n",
       "45133       Windows  I do not use containers    Not at all          NaN   \n",
       "\n",
       "           BetterLife ITperson OffOn SocialMedia Extraversion ScreenName  \\\n",
       "Respondent                                                                 \n",
       "45133             Yes      Yes   Yes    Facebook       Online   Username   \n",
       "\n",
       "           SOVisit1st             SOVisitFreq  \\\n",
       "Respondent                                      \n",
       "45133            2008  Multiple times per day   \n",
       "\n",
       "                                     SOVisitTo                 SOFindAnswer  \\\n",
       "Respondent                                                                    \n",
       "45133       Find answers to specific questions  More than 10 times per week   \n",
       "\n",
       "                                   SOTimeSaved  SOHowMuchTime SOAccount  \\\n",
       "Respondent                                                                \n",
       "45133       Stack Overflow was slightly faster  11-30 minutes       Yes   \n",
       "\n",
       "                                 SOPartFreq  \\\n",
       "Respondent                                    \n",
       "45133       A few times per month or weekly   \n",
       "\n",
       "                                                                                      SOJobs  \\\n",
       "Respondent                                                                                     \n",
       "45133       No, I knew that Stack Overflow had a job board but have never used or visited it   \n",
       "\n",
       "                                       EntTeams         SOComm  \\\n",
       "Respondent                                                       \n",
       "45133       No, and I don't know what those are  Yes, somewhat   \n",
       "\n",
       "                                      WelcomeChange SONewContent     Age  \\\n",
       "Respondent                                                                 \n",
       "45133       Just as welcome now as I felt last year          NaN 30.0000   \n",
       "\n",
       "           Gender Trans                Sexuality   Ethnicity Dependents  \\\n",
       "Respondent                                                                \n",
       "45133         Man    No  Straight / Heterosexual  East Asian        Yes   \n",
       "\n",
       "                     SurveyLength SurveyEase  \n",
       "Respondent                                    \n",
       "45133       Appropriate in length       Easy  "
      ],
      "text/html": "<div>\n<style scoped>\n    .dataframe tbody tr th:only-of-type {\n        vertical-align: middle;\n    }\n\n    .dataframe tbody tr th {\n        vertical-align: top;\n    }\n\n    .dataframe thead th {\n        text-align: right;\n    }\n</style>\n<table border=\"1\" class=\"dataframe\">\n  <thead>\n    <tr style=\"text-align: right;\">\n      <th></th>\n      <th>MainBranch</th>\n      <th>Hobbyist</th>\n      <th>OpenSourcer</th>\n      <th>OpenSource</th>\n      <th>Employment</th>\n      <th>Country</th>\n      <th>Student</th>\n      <th>EdLevel</th>\n      <th>UndergradMajor</th>\n      <th>EduOther</th>\n      <th>OrgSize</th>\n      <th>DevType</th>\n      <th>YearsCode</th>\n      <th>Age1stCode</th>\n      <th>YearsCodePro</th>\n      <th>CareerSat</th>\n      <th>JobSat</th>\n      <th>MgrIdiot</th>\n      <th>MgrMoney</th>\n      <th>MgrWant</th>\n      <th>JobSeek</th>\n      <th>LastHireDate</th>\n      <th>LastInt</th>\n      <th>FizzBuzz</th>\n      <th>JobFactors</th>\n      <th>ResumeUpdate</th>\n      <th>CurrencySymbol</th>\n      <th>CurrencyDesc</th>\n      <th>CompTotal</th>\n      <th>CompFreq</th>\n      <th>ConvertedComp</th>\n      <th>WorkWeekHrs</th>\n      <th>WorkPlan</th>\n      <th>WorkChallenge</th>\n      <th>WorkRemote</th>\n      <th>WorkLoc</th>\n      <th>ImpSyn</th>\n      <th>CodeRev</th>\n      <th>CodeRevHrs</th>\n      <th>UnitTests</th>\n      <th>PurchaseHow</th>\n      <th>PurchaseWhat</th>\n      <th>LanguageWorkedWith</th>\n      <th>LanguageDesireNextYear</th>\n      <th>DatabaseWorkedWith</th>\n      <th>DatabaseDesireNextYear</th>\n      <th>PlatformWorkedWith</th>\n      <th>PlatformDesireNextYear</th>\n      <th>WebFrameWorkedWith</th>\n      <th>WebFrameDesireNextYear</th>\n      <th>MiscTechWorkedWith</th>\n      <th>MiscTechDesireNextYear</th>\n      <th>DevEnviron</th>\n      <th>OpSys</th>\n      <th>Containers</th>\n      <th>BlockchainOrg</th>\n      <th>BlockchainIs</th>\n      <th>BetterLife</th>\n      <th>ITperson</th>\n      <th>OffOn</th>\n      <th>SocialMedia</th>\n      <th>Extraversion</th>\n      <th>ScreenName</th>\n      <th>SOVisit1st</th>\n      <th>SOVisitFreq</th>\n      <th>SOVisitTo</th>\n      <th>SOFindAnswer</th>\n      <th>SOTimeSaved</th>\n      <th>SOHowMuchTime</th>\n      <th>SOAccount</th>\n      <th>SOPartFreq</th>\n      <th>SOJobs</th>\n      <th>EntTeams</th>\n      <th>SOComm</th>\n      <th>WelcomeChange</th>\n      <th>SONewContent</th>\n      <th>Age</th>\n      <th>Gender</th>\n      <th>Trans</th>\n      <th>Sexuality</th>\n      <th>Ethnicity</th>\n      <th>Dependents</th>\n      <th>SurveyLength</th>\n      <th>SurveyEase</th>\n    </tr>\n    <tr>\n      <th>Respondent</th>\n      <th></th>\n      <th></th>\n      <th></th>\n      <th></th>\n      <th></th>\n      <th></th>\n      <th></th>\n      <th></th>\n      <th></th>\n      <th></th>\n      <th></th>\n      <th></th>\n      <th></th>\n      <th></th>\n      <th></th>\n      <th></th>\n      <th></th>\n      <th></th>\n      <th></th>\n      <th></th>\n      <th></th>\n      <th></th>\n      <th></th>\n      <th></th>\n      <th></th>\n      <th></th>\n      <th></th>\n      <th></th>\n      <th></th>\n      <th></th>\n      <th></th>\n      <th></th>\n      <th></th>\n      <th></th>\n      <th></th>\n      <th></th>\n      <th></th>\n      <th></th>\n      <th></th>\n      <th></th>\n      <th></th>\n      <th></th>\n      <th></th>\n      <th></th>\n      <th></th>\n      <th></th>\n      <th></th>\n      <th></th>\n      <th></th>\n      <th></th>\n      <th></th>\n      <th></th>\n      <th></th>\n      <th></th>\n      <th></th>\n      <th></th>\n      <th></th>\n      <th></th>\n      <th></th>\n      <th></th>\n      <th></th>\n      <th></th>\n      <th></th>\n      <th></th>\n      <th></th>\n      <th></th>\n      <th></th>\n      <th></th>\n      <th></th>\n      <th></th>\n      <th></th>\n      <th></th>\n      <th></th>\n      <th></th>\n      <th></th>\n      <th></th>\n      <th></th>\n      <th></th>\n      <th></th>\n      <th></th>\n      <th></th>\n      <th></th>\n      <th></th>\n      <th></th>\n    </tr>\n  </thead>\n  <tbody>\n    <tr>\n      <th>45133</th>\n      <td>I am a developer by profession</td>\n      <td>No</td>\n      <td>Never</td>\n      <td>The quality of OSS and closed source software is about the same</td>\n      <td>Employed full-time</td>\n      <td>United States</td>\n      <td>No</td>\n      <td>Master’s degree (MA, MS, M.Eng., MBA, etc.)</td>\n      <td>Another engineering discipline (ex. civil, electrical, mechanical)</td>\n      <td>Taken an online course in programming or software development (e.g. a MOOC);Taken a part-time in-person course in programming or software development</td>\n      <td>500 to 999 employees</td>\n      <td>Developer, full-stack</td>\n      <td>14</td>\n      <td>17</td>\n      <td>8</td>\n      <td>Slightly dissatisfied</td>\n      <td>Slightly satisfied</td>\n      <td>Very confident</td>\n      <td>No</td>\n      <td>No</td>\n      <td>I am not interested in new job opportunities</td>\n      <td>More than 4 years ago</td>\n      <td>Interview with people in senior / management roles</td>\n      <td>No</td>\n      <td>Remote work options;Opportunities for professional development;Flex time or a flexible schedule</td>\n      <td>My job status changed (promotion, new job, etc.)</td>\n      <td>USD</td>\n      <td>United States dollar</td>\n      <td>NaN</td>\n      <td>NaN</td>\n      <td>NaN</td>\n      <td>40.0000</td>\n      <td>There is a schedule and/or spec (made by me or by a colleague), and my work somewhat aligns</td>\n      <td>Non-work commitments (parenting, school work, hobbies, etc.);Not enough people for the workload;Time spent commuting</td>\n      <td>Less than half the time, but at least one day each week</td>\n      <td>Office</td>\n      <td>A little above average</td>\n      <td>Yes, because I see value in code review</td>\n      <td>4.0000</td>\n      <td>No, but I think we should</td>\n      <td>The CTO, CIO, or other management purchase new technology typically without the involvement of developers</td>\n      <td>I have little or no influence</td>\n      <td>HTML/CSS;Java;JavaScript;SQL</td>\n      <td>C#;HTML/CSS;Java;JavaScript</td>\n      <td>Microsoft SQL Server</td>\n      <td>MongoDB;Microsoft SQL Server;MySQL;Redis</td>\n      <td>NaN</td>\n      <td>Android;Raspberry Pi</td>\n      <td>jQuery;Spring;Other(s):</td>\n      <td>Angular/Angular.js;React.js;Vue.js;Other(s):</td>\n      <td>NaN</td>\n      <td>NaN</td>\n      <td>NetBeans;Notepad++;Visual Studio Code</td>\n      <td>Windows</td>\n      <td>I do not use containers</td>\n      <td>Not at all</td>\n      <td>NaN</td>\n      <td>Yes</td>\n      <td>Yes</td>\n      <td>Yes</td>\n      <td>Facebook</td>\n      <td>Online</td>\n      <td>Username</td>\n      <td>2008</td>\n      <td>Multiple times per day</td>\n      <td>Find answers to specific questions</td>\n      <td>More than 10 times per week</td>\n      <td>Stack Overflow was slightly faster</td>\n      <td>11-30 minutes</td>\n      <td>Yes</td>\n      <td>A few times per month or weekly</td>\n      <td>No, I knew that Stack Overflow had a job board but have never used or visited it</td>\n      <td>No, and I don't know what those are</td>\n      <td>Yes, somewhat</td>\n      <td>Just as welcome now as I felt last year</td>\n      <td>NaN</td>\n      <td>30.0000</td>\n      <td>Man</td>\n      <td>No</td>\n      <td>Straight / Heterosexual</td>\n      <td>East Asian</td>\n      <td>Yes</td>\n      <td>Appropriate in length</td>\n      <td>Easy</td>\n    </tr>\n  </tbody>\n</table>\n</div>"
     },
     "metadata": {},
     "execution_count": 274
    }
   ],
   "source": [
    "df.sample()"
   ]
  },
  {
   "cell_type": "code",
   "execution_count": 275,
   "metadata": {},
   "outputs": [
    {
     "output_type": "execute_result",
     "data": {
      "text/plain": [
       "57287.0"
      ]
     },
     "metadata": {},
     "execution_count": 275
    }
   ],
   "source": [
    "# ConvertedComp\n",
    "\n",
    "df['ConvertedComp'].median()"
   ]
  },
  {
   "cell_type": "code",
   "execution_count": 276,
   "metadata": {},
   "outputs": [
    {
     "output_type": "execute_result",
     "data": {
      "text/plain": [
       "CompTotal       62000.0000\n",
       "ConvertedComp   57287.0000\n",
       "WorkWeekHrs        40.0000\n",
       "CodeRevHrs          4.0000\n",
       "Age                29.0000\n",
       "dtype: float64"
      ]
     },
     "metadata": {},
     "execution_count": 276
    }
   ],
   "source": [
    "df.select_dtypes(include=np.number).median()"
   ]
  },
  {
   "cell_type": "code",
   "execution_count": 277,
   "metadata": {},
   "outputs": [
    {
     "output_type": "execute_result",
     "data": {
      "text/plain": [
       "CompTotal       62000.0000\n",
       "ConvertedComp   57287.0000\n",
       "WorkWeekHrs        40.0000\n",
       "CodeRevHrs          4.0000\n",
       "Age                29.0000\n",
       "dtype: float64"
      ]
     },
     "metadata": {},
     "execution_count": 277
    }
   ],
   "source": [
    "df.median()"
   ]
  },
  {
   "cell_type": "code",
   "execution_count": 278,
   "metadata": {},
   "outputs": [
    {
     "output_type": "execute_result",
     "data": {
      "text/plain": [
       "CompTotal       62000.0000\n",
       "ConvertedComp   57287.0000\n",
       "WorkWeekHrs        40.0000\n",
       "CodeRevHrs          4.0000\n",
       "Age                29.0000\n",
       "Name: 50%, dtype: float64"
      ]
     },
     "metadata": {},
     "execution_count": 278
    }
   ],
   "source": [
    "df.describe().loc['50%']"
   ]
  },
  {
   "cell_type": "code",
   "execution_count": 279,
   "metadata": {},
   "outputs": [
    {
     "output_type": "execute_result",
     "data": {
      "text/plain": [
       "['CompTotal', 'ConvertedComp', 'WorkWeekHrs', 'CodeRevHrs', 'Age']"
      ]
     },
     "metadata": {},
     "execution_count": 279
    }
   ],
   "source": [
    "df.select_dtypes(include=np.number).columns.tolist()"
   ]
  },
  {
   "cell_type": "code",
   "execution_count": 280,
   "metadata": {},
   "outputs": [
    {
     "output_type": "stream",
     "name": "stdout",
     "text": [
      "62000.0\n57287.0\n40.0\n4.0\n29.0\n"
     ]
    }
   ],
   "source": [
    "for i in df.select_dtypes(include=np.number).columns.tolist():\n",
    "    print(df[i].median())"
   ]
  },
  {
   "cell_type": "code",
   "execution_count": 281,
   "metadata": {},
   "outputs": [
    {
     "output_type": "execute_result",
     "data": {
      "text/plain": [
       "array([71257, 17626])"
      ]
     },
     "metadata": {},
     "execution_count": 281
    }
   ],
   "source": [
    "df['Hobbyist'].value_counts().values"
   ]
  },
  {
   "cell_type": "code",
   "execution_count": 282,
   "metadata": {},
   "outputs": [
    {
     "output_type": "execute_result",
     "data": {
      "text/plain": [
       "88883"
      ]
     },
     "metadata": {},
     "execution_count": 282
    }
   ],
   "source": [
    "71257 + 17626"
   ]
  },
  {
   "cell_type": "code",
   "execution_count": 283,
   "metadata": {},
   "outputs": [
    {
     "output_type": "execute_result",
     "data": {
      "text/plain": [
       "(88883, 84)"
      ]
     },
     "metadata": {},
     "execution_count": 283
    }
   ],
   "source": [
    "df.shape"
   ]
  },
  {
   "cell_type": "code",
   "execution_count": 284,
   "metadata": {},
   "outputs": [
    {
     "output_type": "execute_result",
     "data": {
      "text/plain": [
       "WebFrameWorkedWith       26.8454\n",
       "MiscTechDesireNextYear   27.4203\n",
       "WorkWeekHrs              27.4293\n",
       "CompFreq                 28.8188\n",
       "WebFrameDesireNextYear   29.1833\n",
       "UnitTests                29.4938\n",
       "PurchaseWhat             30.2128\n",
       "MgrWant                  31.1094\n",
       "MgrIdiot                 31.1916\n",
       "MgrMoney                 31.1938\n",
       "PurchaseHow              31.2489\n",
       "BlockchainIs             32.3099\n",
       "MiscTechWorkedWith       32.9613\n",
       "CompTotal                37.0577\n",
       "ConvertedComp            37.1950\n",
       "CodeRevHrs               43.9825\n",
       "BlockchainOrg            45.7995\n",
       "dtype: float64"
      ]
     },
     "metadata": {},
     "execution_count": 284
    }
   ],
   "source": [
    "(df.isna().mean().sort_values() * 100)['WebFrameWorkedWith':]"
   ]
  },
  {
   "cell_type": "code",
   "execution_count": 285,
   "metadata": {},
   "outputs": [
    {
     "output_type": "execute_result",
     "data": {
      "text/plain": [
       "Reddit                      14374\n",
       "YouTube                     13830\n",
       "WhatsApp                    13347\n",
       "Facebook                    13178\n",
       "Twitter                     11398\n",
       "Instagram                    6261\n",
       "I don't use social media     5554\n",
       "LinkedIn                     4501\n",
       "WeChat 微信                     667\n",
       "Snapchat                      628\n",
       "VK ВКонта́кте                 603\n",
       "Weibo 新浪微博                     56\n",
       "Youku Tudou 优酷                 21\n",
       "Hello                          19\n",
       "Name: SocialMedia, dtype: int64"
      ]
     },
     "metadata": {},
     "execution_count": 285
    }
   ],
   "source": [
    "# What social media platform they use the most # SocialMedia\n",
    "\n",
    "df['SocialMedia'].value_counts()#.values.tolist()"
   ]
  },
  {
   "cell_type": "code",
   "execution_count": 286,
   "metadata": {},
   "outputs": [
    {
     "output_type": "execute_result",
     "data": {
      "text/plain": [
       "SocialMedia\n",
       "WeChat 微信                  0.6705\n",
       "YouTube                    0.0882\n",
       "Weibo 新浪微博                 0.0699\n",
       "I don't use social media   0.0449\n",
       "Twitter                    0.0449\n",
       "Reddit                     0.0200\n",
       "LinkedIn                   0.0183\n",
       "Facebook                   0.0133\n",
       "Instagram                  0.0116\n",
       "Youku Tudou 优酷             0.0116\n",
       "WhatsApp                   0.0050\n",
       "VK ВКонта́кте              0.0017\n",
       "Name: SocialMedia, dtype: float64"
      ]
     },
     "metadata": {},
     "execution_count": 286
    }
   ],
   "source": [
    "df.groupby('Country')['SocialMedia'].value_counts(normalize=True).loc['China']"
   ]
  },
  {
   "cell_type": "code",
   "execution_count": 287,
   "metadata": {},
   "outputs": [
    {
     "output_type": "execute_result",
     "data": {
      "text/plain": [
       "SocialMedia\n",
       "Reddit                     0.2843\n",
       "Twitter                    0.1730\n",
       "Facebook                   0.1419\n",
       "YouTube                    0.1229\n",
       "I don't use social media   0.0923\n",
       "Instagram                  0.0824\n",
       "LinkedIn                   0.0509\n",
       "WhatsApp                   0.0304\n",
       "Snapchat                   0.0163\n",
       "WeChat 微信                  0.0046\n",
       "VK ВКонта́кте              0.0004\n",
       "Weibo 新浪微博                 0.0004\n",
       "Hello                      0.0001\n",
       "Youku Tudou 优酷             0.0000\n",
       "Name: SocialMedia, dtype: float64"
      ]
     },
     "metadata": {},
     "execution_count": 287
    }
   ],
   "source": [
    "df.groupby('Country')['SocialMedia'].value_counts(normalize=True).loc['United States']"
   ]
  },
  {
   "cell_type": "code",
   "execution_count": 288,
   "metadata": {},
   "outputs": [
    {
     "output_type": "execute_result",
     "data": {
      "text/plain": [
       "0.0046393295420532775"
      ]
     },
     "metadata": {},
     "execution_count": 288
    }
   ],
   "source": [
    "df.groupby('Country')['SocialMedia'].value_counts(normalize=True).loc['United States', 'WeChat 微信']"
   ]
  },
  {
   "cell_type": "code",
   "execution_count": 289,
   "metadata": {},
   "outputs": [
    {
     "output_type": "execute_result",
     "data": {
      "text/plain": [
       "0.670549084858569"
      ]
     },
     "metadata": {},
     "execution_count": 289
    }
   ],
   "source": [
    "df.groupby('Country')['SocialMedia'].value_counts(normalize=True).loc['China', 'WeChat 微信']"
   ]
  },
  {
   "cell_type": "code",
   "execution_count": 290,
   "metadata": {},
   "outputs": [
    {
     "output_type": "execute_result",
     "data": {
      "text/plain": [
       "['China',\n",
       " 'United States',\n",
       " 'Canada',\n",
       " 'Australia',\n",
       " 'Singapore',\n",
       " 'Hong Kong (S.A.R.)',\n",
       " 'France',\n",
       " 'United Kingdom',\n",
       " 'New Zealand',\n",
       " 'Germany',\n",
       " 'Japan',\n",
       " 'India',\n",
       " 'Malaysia',\n",
       " 'Denmark',\n",
       " 'Ireland',\n",
       " 'Sweden',\n",
       " 'Austria',\n",
       " 'Switzerland']"
      ]
     },
     "metadata": {},
     "execution_count": 290
    }
   ],
   "source": [
    "# 🧠 df[].str.contains( , na=False)\n",
    "\n",
    "filt = df['SocialMedia'].str.contains('WeChat 微信', na=False)\n",
    "\n",
    "df[filt]['Country'].value_counts().nlargest(18).index.tolist()\n",
    "# df[filt]['Country'].value_counts()#.index.tolist()"
   ]
  },
  {
   "cell_type": "code",
   "execution_count": 291,
   "metadata": {},
   "outputs": [],
   "source": [
    "tgt_country = df[filt]['Country'].value_counts().nlargest(18).index.tolist()"
   ]
  },
  {
   "cell_type": "code",
   "execution_count": 292,
   "metadata": {},
   "outputs": [
    {
     "output_type": "stream",
     "name": "stdout",
     "text": [
      "China 0.670549084858569\n",
      "United States 0.0046393295420532775\n",
      "Canada 0.01345977363107984\n",
      "Australia 0.013385387618516454\n",
      "Singapore 0.044673539518900345\n",
      "Hong Kong (S.A.R.) 0.06779661016949153\n",
      "France 0.00526085050416484\n",
      "United Kingdom 0.001983411467724486\n",
      "New Zealand 0.01996007984031936\n",
      "Germany 0.001471129091577786\n",
      "Japan 0.01652892561983471\n",
      "India 0.0005725409366769724\n",
      "Malaysia 0.010238907849829351\n",
      "Denmark 0.005084745762711864\n",
      "Ireland 0.004132231404958678\n",
      "Sweden 0.0016220600162206002\n",
      "Austria 0.0012853470437017994\n",
      "Switzerland 0.0010741138560687433\n"
     ]
    }
   ],
   "source": [
    "for country in tgt_country:\n",
    "    print(country, df.groupby('Country')['SocialMedia'].value_counts(normalize=True).loc[country, 'WeChat 微信'])"
   ]
  },
  {
   "cell_type": "code",
   "execution_count": 293,
   "metadata": {},
   "outputs": [
    {
     "output_type": "execute_result",
     "data": {
      "text/plain": [
       "Index(['count', 'mean', 'std', 'min', '25%', '50%', '75%', 'max'], dtype='object')"
      ]
     },
     "metadata": {},
     "execution_count": 293
    }
   ],
   "source": [
    "df.describe().index"
   ]
  },
  {
   "cell_type": "code",
   "execution_count": 294,
   "metadata": {},
   "outputs": [
    {
     "output_type": "execute_result",
     "data": {
      "text/plain": [
       "                                      count        mean         std  \\\n",
       "Country                                                               \n",
       "Afghanistan                              12 101953.3333 285995.2418   \n",
       "Albania                                  50  21833.7000  31450.7667   \n",
       "Algeria                                  42  34924.0476 152933.6280   \n",
       "Andorra                                   2 160931.0000  15458.7685   \n",
       "Angola                                    1   7764.0000         NaN   \n",
       "...                                     ...         ...         ...   \n",
       "Venezuela, Bolivarian Republic of...     43  14581.6279  24218.7598   \n",
       "Viet Nam                                 87  17233.4368  19921.5760   \n",
       "Yemen                                     6  16909.1667  21847.4291   \n",
       "Zambia                                    8  10075.3750  13200.3664   \n",
       "Zimbabwe                                 15  34046.6667  44166.9700   \n",
       "\n",
       "                                             min      median          max  \n",
       "Country                                                                    \n",
       "Afghanistan                               0.0000   6222.0000 1000000.0000  \n",
       "Albania                                1320.0000  10818.0000  187668.0000  \n",
       "Algeria                                   0.0000   7878.0000 1000000.0000  \n",
       "Andorra                              150000.0000 160931.0000  171862.0000  \n",
       "Angola                                 7764.0000   7764.0000    7764.0000  \n",
       "...                                          ...         ...          ...  \n",
       "Venezuela, Bolivarian Republic of...      0.0000   6384.0000  137484.0000  \n",
       "Viet Nam                                200.0000  11892.0000  140000.0000  \n",
       "Yemen                                   799.0000  11940.0000   60000.0000  \n",
       "Zambia                                  400.0000   5040.0000   40524.0000  \n",
       "Zimbabwe                                900.0000  19200.0000  180000.0000  \n",
       "\n",
       "[179 rows x 6 columns]"
      ],
      "text/html": "<div>\n<style scoped>\n    .dataframe tbody tr th:only-of-type {\n        vertical-align: middle;\n    }\n\n    .dataframe tbody tr th {\n        vertical-align: top;\n    }\n\n    .dataframe thead th {\n        text-align: right;\n    }\n</style>\n<table border=\"1\" class=\"dataframe\">\n  <thead>\n    <tr style=\"text-align: right;\">\n      <th></th>\n      <th>count</th>\n      <th>mean</th>\n      <th>std</th>\n      <th>min</th>\n      <th>median</th>\n      <th>max</th>\n    </tr>\n    <tr>\n      <th>Country</th>\n      <th></th>\n      <th></th>\n      <th></th>\n      <th></th>\n      <th></th>\n      <th></th>\n    </tr>\n  </thead>\n  <tbody>\n    <tr>\n      <th>Afghanistan</th>\n      <td>12</td>\n      <td>101953.3333</td>\n      <td>285995.2418</td>\n      <td>0.0000</td>\n      <td>6222.0000</td>\n      <td>1000000.0000</td>\n    </tr>\n    <tr>\n      <th>Albania</th>\n      <td>50</td>\n      <td>21833.7000</td>\n      <td>31450.7667</td>\n      <td>1320.0000</td>\n      <td>10818.0000</td>\n      <td>187668.0000</td>\n    </tr>\n    <tr>\n      <th>Algeria</th>\n      <td>42</td>\n      <td>34924.0476</td>\n      <td>152933.6280</td>\n      <td>0.0000</td>\n      <td>7878.0000</td>\n      <td>1000000.0000</td>\n    </tr>\n    <tr>\n      <th>Andorra</th>\n      <td>2</td>\n      <td>160931.0000</td>\n      <td>15458.7685</td>\n      <td>150000.0000</td>\n      <td>160931.0000</td>\n      <td>171862.0000</td>\n    </tr>\n    <tr>\n      <th>Angola</th>\n      <td>1</td>\n      <td>7764.0000</td>\n      <td>NaN</td>\n      <td>7764.0000</td>\n      <td>7764.0000</td>\n      <td>7764.0000</td>\n    </tr>\n    <tr>\n      <th>...</th>\n      <td>...</td>\n      <td>...</td>\n      <td>...</td>\n      <td>...</td>\n      <td>...</td>\n      <td>...</td>\n    </tr>\n    <tr>\n      <th>Venezuela, Bolivarian Republic of...</th>\n      <td>43</td>\n      <td>14581.6279</td>\n      <td>24218.7598</td>\n      <td>0.0000</td>\n      <td>6384.0000</td>\n      <td>137484.0000</td>\n    </tr>\n    <tr>\n      <th>Viet Nam</th>\n      <td>87</td>\n      <td>17233.4368</td>\n      <td>19921.5760</td>\n      <td>200.0000</td>\n      <td>11892.0000</td>\n      <td>140000.0000</td>\n    </tr>\n    <tr>\n      <th>Yemen</th>\n      <td>6</td>\n      <td>16909.1667</td>\n      <td>21847.4291</td>\n      <td>799.0000</td>\n      <td>11940.0000</td>\n      <td>60000.0000</td>\n    </tr>\n    <tr>\n      <th>Zambia</th>\n      <td>8</td>\n      <td>10075.3750</td>\n      <td>13200.3664</td>\n      <td>400.0000</td>\n      <td>5040.0000</td>\n      <td>40524.0000</td>\n    </tr>\n    <tr>\n      <th>Zimbabwe</th>\n      <td>15</td>\n      <td>34046.6667</td>\n      <td>44166.9700</td>\n      <td>900.0000</td>\n      <td>19200.0000</td>\n      <td>180000.0000</td>\n    </tr>\n  </tbody>\n</table>\n<p>179 rows × 6 columns</p>\n</div>"
     },
     "metadata": {},
     "execution_count": 294
    }
   ],
   "source": [
    "df.groupby('Country')['ConvertedComp'].agg(['count', 'mean', 'std', 'min', 'median', 'max'])#.loc['China']"
   ]
  },
  {
   "cell_type": "code",
   "execution_count": 295,
   "metadata": {},
   "outputs": [
    {
     "output_type": "execute_result",
     "data": {
      "text/plain": [
       "3"
      ]
     },
     "metadata": {},
     "execution_count": 295
    }
   ],
   "source": [
    "df['Country'].value_counts().loc['Liechtenstein']"
   ]
  },
  {
   "cell_type": "code",
   "execution_count": 296,
   "metadata": {},
   "outputs": [],
   "source": [
    "# How many people in each country knows how to use Python?\n",
    "# -> groupby country + keyword Python # LanguageWorkedWith\n",
    "\n",
    "filt = df['LanguageWorkedWith'].str.contains('Python', na=False)\n",
    "\n",
    "df['Knows_Python'] = filt.values.tolist()"
   ]
  },
  {
   "cell_type": "code",
   "execution_count": 297,
   "metadata": {},
   "outputs": [
    {
     "output_type": "execute_result",
     "data": {
      "text/plain": [
       "                     SurveyLength                  SurveyEase  Knows_Python\n",
       "Respondent                                                                 \n",
       "1           Appropriate in length  Neither easy nor difficult          True\n",
       "2           Appropriate in length  Neither easy nor difficult          True\n",
       "3           Appropriate in length  Neither easy nor difficult         False\n",
       "4           Appropriate in length                        Easy          True\n",
       "5           Appropriate in length                        Easy          True\n",
       "...                           ...                         ...           ...\n",
       "88377       Appropriate in length                        Easy         False\n",
       "88601                         NaN                         NaN         False\n",
       "88802                         NaN                         NaN         False\n",
       "88816                         NaN                         NaN         False\n",
       "88863       Appropriate in length                        Easy         False\n",
       "\n",
       "[88883 rows x 3 columns]"
      ],
      "text/html": "<div>\n<style scoped>\n    .dataframe tbody tr th:only-of-type {\n        vertical-align: middle;\n    }\n\n    .dataframe tbody tr th {\n        vertical-align: top;\n    }\n\n    .dataframe thead th {\n        text-align: right;\n    }\n</style>\n<table border=\"1\" class=\"dataframe\">\n  <thead>\n    <tr style=\"text-align: right;\">\n      <th></th>\n      <th>SurveyLength</th>\n      <th>SurveyEase</th>\n      <th>Knows_Python</th>\n    </tr>\n    <tr>\n      <th>Respondent</th>\n      <th></th>\n      <th></th>\n      <th></th>\n    </tr>\n  </thead>\n  <tbody>\n    <tr>\n      <th>1</th>\n      <td>Appropriate in length</td>\n      <td>Neither easy nor difficult</td>\n      <td>True</td>\n    </tr>\n    <tr>\n      <th>2</th>\n      <td>Appropriate in length</td>\n      <td>Neither easy nor difficult</td>\n      <td>True</td>\n    </tr>\n    <tr>\n      <th>3</th>\n      <td>Appropriate in length</td>\n      <td>Neither easy nor difficult</td>\n      <td>False</td>\n    </tr>\n    <tr>\n      <th>4</th>\n      <td>Appropriate in length</td>\n      <td>Easy</td>\n      <td>True</td>\n    </tr>\n    <tr>\n      <th>5</th>\n      <td>Appropriate in length</td>\n      <td>Easy</td>\n      <td>True</td>\n    </tr>\n    <tr>\n      <th>...</th>\n      <td>...</td>\n      <td>...</td>\n      <td>...</td>\n    </tr>\n    <tr>\n      <th>88377</th>\n      <td>Appropriate in length</td>\n      <td>Easy</td>\n      <td>False</td>\n    </tr>\n    <tr>\n      <th>88601</th>\n      <td>NaN</td>\n      <td>NaN</td>\n      <td>False</td>\n    </tr>\n    <tr>\n      <th>88802</th>\n      <td>NaN</td>\n      <td>NaN</td>\n      <td>False</td>\n    </tr>\n    <tr>\n      <th>88816</th>\n      <td>NaN</td>\n      <td>NaN</td>\n      <td>False</td>\n    </tr>\n    <tr>\n      <th>88863</th>\n      <td>Appropriate in length</td>\n      <td>Easy</td>\n      <td>False</td>\n    </tr>\n  </tbody>\n</table>\n<p>88883 rows × 3 columns</p>\n</div>"
     },
     "metadata": {},
     "execution_count": 297
    }
   ],
   "source": [
    "df.iloc[:, -3:]"
   ]
  },
  {
   "cell_type": "code",
   "execution_count": 298,
   "metadata": {},
   "outputs": [
    {
     "output_type": "execute_result",
     "data": {
      "text/plain": [
       "['United States',\n",
       " 'India',\n",
       " 'Germany',\n",
       " 'United Kingdom',\n",
       " 'Canada',\n",
       " 'France',\n",
       " 'Brazil',\n",
       " 'Poland',\n",
       " 'Australia',\n",
       " 'Netherlands',\n",
       " 'Russian Federation',\n",
       " 'Spain',\n",
       " 'Italy',\n",
       " 'Sweden',\n",
       " 'Switzerland',\n",
       " 'Israel',\n",
       " 'Turkey',\n",
       " 'Pakistan',\n",
       " 'Ukraine',\n",
       " 'Austria',\n",
       " 'Czech Republic',\n",
       " 'Romania',\n",
       " 'Iran',\n",
       " 'Belgium',\n",
       " 'China']"
      ]
     },
     "metadata": {},
     "execution_count": 298
    }
   ],
   "source": [
    "df['Country'].value_counts().head(25).index.tolist()"
   ]
  },
  {
   "cell_type": "code",
   "execution_count": 299,
   "metadata": {},
   "outputs": [
    {
     "output_type": "stream",
     "name": "stdout",
     "text": [
      "United States 0.48131175712444507\n",
      "India 0.3426774086745392\n",
      "Germany 0.41783157176951924\n",
      "United Kingdom 0.41554819592121317\n",
      "Canada 0.4589101620029455\n",
      "France 0.44081974069427016\n",
      "Brazil 0.39373716632443534\n",
      "Poland 0.39073881373569197\n",
      "Australia 0.41513399894902786\n",
      "Netherlands 0.41414686825054\n",
      "Russian Federation 0.4179456906729634\n",
      "Spain 0.39962593516209477\n",
      "Italy 0.3965736040609137\n",
      "Sweden 0.3893249607535322\n",
      "Switzerland 0.4703476482617587\n",
      "Israel 0.4800420168067227\n",
      "Turkey 0.3909378292939937\n",
      "Pakistan 0.27193932827735645\n",
      "Ukraine 0.2834101382488479\n",
      "Austria 0.4028605482717521\n",
      "Czech Republic 0.3730366492146597\n",
      "Romania 0.33289473684210524\n",
      "Iran 0.36314363143631434\n",
      "Belgium 0.40715268225584594\n",
      "China 0.44728915662650603\n",
      "Bulgaria 0.2746585735963581\n",
      "Mexico 0.38161993769470404\n",
      "South Africa 0.32216905901116427\n",
      "Denmark 0.3987034035656402\n",
      "Bangladesh 0.3371900826446281\n",
      "Norway 0.40418118466898956\n",
      "Greece 0.4064748201438849\n",
      "Argentina 0.3453887884267631\n",
      "Finland 0.48717948717948717\n",
      "Portugal 0.3466666666666667\n",
      "New Zealand 0.45038167938931295\n",
      "Nigeria 0.29118773946360155\n",
      "Hungary 0.3723196881091618\n",
      "Indonesia 0.29191321499013806\n",
      "Ireland 0.4171656686626746\n",
      "Serbia 0.291044776119403\n",
      "Japan 0.46547314578005117\n",
      "Philippines 0.30708661417322836\n",
      "Sri Lanka 0.3682795698924731\n",
      "Egypt 0.34365325077399383\n",
      "Colombia 0.3450479233226837\n",
      "Singapore 0.45874587458745875\n",
      "Malaysia 0.3177257525083612\n",
      "Slovenia 0.39932885906040266\n",
      "Slovakia 0.38846153846153847\n"
     ]
    }
   ],
   "source": [
    "li_na = df['Country'].value_counts().head(50).index.tolist()\n",
    "\n",
    "for na in li_na:\n",
    "    print(na, df.groupby('Country')['Knows_Python'].value_counts(normalize=True).loc[na, True])"
   ]
  },
  {
   "cell_type": "code",
   "execution_count": 300,
   "metadata": {},
   "outputs": [],
   "source": [
    "li_country = df['Country'].value_counts().head(50).index.tolist()\n",
    "\n",
    "li_pct = []\n",
    "\n",
    "for country in li_country:\n",
    "    # print(country, df.groupby('Country')['Knows_Python'].value_counts(normalize=True).loc[country, True])\n",
    "    li_pct.append(df.groupby('Country')['Knows_Python'].value_counts(normalize=True).loc[country, True])\n"
   ]
  },
  {
   "cell_type": "code",
   "execution_count": 301,
   "metadata": {},
   "outputs": [],
   "source": [
    "pct_df = pd.DataFrame({\n",
    "    'Region': li_country,\n",
    "    'Pct_Python': li_pct,\n",
    "})"
   ]
  },
  {
   "cell_type": "code",
   "execution_count": 302,
   "metadata": {},
   "outputs": [],
   "source": [
    "def python_stats(num_of_country):\n",
    "    # prepare two lists for \n",
    "    li_country = df['Country'].value_counts().head(num_of_country).index.tolist()\n",
    "    li_pct = []\n",
    "\n",
    "    for country in li_country:\n",
    "        li_pct.append(df.groupby('Country')['Knows_Python'].value_counts(normalize=True).loc[country, True])\n",
    "\n",
    "    pct_df = pd.DataFrame({\n",
    "    'Region': li_country,\n",
    "    'Pct_Python': li_pct,\n",
    "    })\n",
    "\n",
    "    return pct_df"
   ]
  },
  {
   "cell_type": "code",
   "execution_count": 303,
   "metadata": {},
   "outputs": [
    {
     "output_type": "execute_result",
     "data": {
      "text/plain": [
       "                    Pct_Python\n",
       "Region                        \n",
       "United States           0.4813\n",
       "India                   0.3427\n",
       "Germany                 0.4178\n",
       "United Kingdom          0.4155\n",
       "Canada                  0.4589\n",
       "France                  0.4408\n",
       "Brazil                  0.3937\n",
       "Poland                  0.3907\n",
       "Australia               0.4151\n",
       "Netherlands             0.4141\n",
       "Russian Federation      0.4179\n",
       "Spain                   0.3996\n",
       "Italy                   0.3966\n",
       "Sweden                  0.3893\n",
       "Switzerland             0.4703\n",
       "Israel                  0.4800\n",
       "Turkey                  0.3909\n",
       "Pakistan                0.2719\n",
       "Ukraine                 0.2834\n",
       "Austria                 0.4029\n",
       "Czech Republic          0.3730\n",
       "Romania                 0.3329\n",
       "Iran                    0.3631\n",
       "Belgium                 0.4072\n",
       "China                   0.4473\n",
       "Bulgaria                0.2747\n",
       "Mexico                  0.3816\n",
       "South Africa            0.3222\n",
       "Denmark                 0.3987\n",
       "Bangladesh              0.3372\n",
       "Norway                  0.4042\n",
       "Greece                  0.4065\n",
       "Argentina               0.3454\n",
       "Finland                 0.4872\n",
       "Portugal                0.3467\n",
       "New Zealand             0.4504\n",
       "Nigeria                 0.2912\n",
       "Hungary                 0.3723\n",
       "Indonesia               0.2919\n",
       "Ireland                 0.4172\n",
       "Serbia                  0.2910\n",
       "Japan                   0.4655\n",
       "Philippines             0.3071\n",
       "Sri Lanka               0.3683\n",
       "Egypt                   0.3437\n",
       "Colombia                0.3450\n",
       "Singapore               0.4587\n",
       "Malaysia                0.3177\n",
       "Slovenia                0.3993\n",
       "Slovakia                0.3885"
      ],
      "text/html": "<div>\n<style scoped>\n    .dataframe tbody tr th:only-of-type {\n        vertical-align: middle;\n    }\n\n    .dataframe tbody tr th {\n        vertical-align: top;\n    }\n\n    .dataframe thead th {\n        text-align: right;\n    }\n</style>\n<table border=\"1\" class=\"dataframe\">\n  <thead>\n    <tr style=\"text-align: right;\">\n      <th></th>\n      <th>Pct_Python</th>\n    </tr>\n    <tr>\n      <th>Region</th>\n      <th></th>\n    </tr>\n  </thead>\n  <tbody>\n    <tr>\n      <th>United States</th>\n      <td>0.4813</td>\n    </tr>\n    <tr>\n      <th>India</th>\n      <td>0.3427</td>\n    </tr>\n    <tr>\n      <th>Germany</th>\n      <td>0.4178</td>\n    </tr>\n    <tr>\n      <th>United Kingdom</th>\n      <td>0.4155</td>\n    </tr>\n    <tr>\n      <th>Canada</th>\n      <td>0.4589</td>\n    </tr>\n    <tr>\n      <th>France</th>\n      <td>0.4408</td>\n    </tr>\n    <tr>\n      <th>Brazil</th>\n      <td>0.3937</td>\n    </tr>\n    <tr>\n      <th>Poland</th>\n      <td>0.3907</td>\n    </tr>\n    <tr>\n      <th>Australia</th>\n      <td>0.4151</td>\n    </tr>\n    <tr>\n      <th>Netherlands</th>\n      <td>0.4141</td>\n    </tr>\n    <tr>\n      <th>Russian Federation</th>\n      <td>0.4179</td>\n    </tr>\n    <tr>\n      <th>Spain</th>\n      <td>0.3996</td>\n    </tr>\n    <tr>\n      <th>Italy</th>\n      <td>0.3966</td>\n    </tr>\n    <tr>\n      <th>Sweden</th>\n      <td>0.3893</td>\n    </tr>\n    <tr>\n      <th>Switzerland</th>\n      <td>0.4703</td>\n    </tr>\n    <tr>\n      <th>Israel</th>\n      <td>0.4800</td>\n    </tr>\n    <tr>\n      <th>Turkey</th>\n      <td>0.3909</td>\n    </tr>\n    <tr>\n      <th>Pakistan</th>\n      <td>0.2719</td>\n    </tr>\n    <tr>\n      <th>Ukraine</th>\n      <td>0.2834</td>\n    </tr>\n    <tr>\n      <th>Austria</th>\n      <td>0.4029</td>\n    </tr>\n    <tr>\n      <th>Czech Republic</th>\n      <td>0.3730</td>\n    </tr>\n    <tr>\n      <th>Romania</th>\n      <td>0.3329</td>\n    </tr>\n    <tr>\n      <th>Iran</th>\n      <td>0.3631</td>\n    </tr>\n    <tr>\n      <th>Belgium</th>\n      <td>0.4072</td>\n    </tr>\n    <tr>\n      <th>China</th>\n      <td>0.4473</td>\n    </tr>\n    <tr>\n      <th>Bulgaria</th>\n      <td>0.2747</td>\n    </tr>\n    <tr>\n      <th>Mexico</th>\n      <td>0.3816</td>\n    </tr>\n    <tr>\n      <th>South Africa</th>\n      <td>0.3222</td>\n    </tr>\n    <tr>\n      <th>Denmark</th>\n      <td>0.3987</td>\n    </tr>\n    <tr>\n      <th>Bangladesh</th>\n      <td>0.3372</td>\n    </tr>\n    <tr>\n      <th>Norway</th>\n      <td>0.4042</td>\n    </tr>\n    <tr>\n      <th>Greece</th>\n      <td>0.4065</td>\n    </tr>\n    <tr>\n      <th>Argentina</th>\n      <td>0.3454</td>\n    </tr>\n    <tr>\n      <th>Finland</th>\n      <td>0.4872</td>\n    </tr>\n    <tr>\n      <th>Portugal</th>\n      <td>0.3467</td>\n    </tr>\n    <tr>\n      <th>New Zealand</th>\n      <td>0.4504</td>\n    </tr>\n    <tr>\n      <th>Nigeria</th>\n      <td>0.2912</td>\n    </tr>\n    <tr>\n      <th>Hungary</th>\n      <td>0.3723</td>\n    </tr>\n    <tr>\n      <th>Indonesia</th>\n      <td>0.2919</td>\n    </tr>\n    <tr>\n      <th>Ireland</th>\n      <td>0.4172</td>\n    </tr>\n    <tr>\n      <th>Serbia</th>\n      <td>0.2910</td>\n    </tr>\n    <tr>\n      <th>Japan</th>\n      <td>0.4655</td>\n    </tr>\n    <tr>\n      <th>Philippines</th>\n      <td>0.3071</td>\n    </tr>\n    <tr>\n      <th>Sri Lanka</th>\n      <td>0.3683</td>\n    </tr>\n    <tr>\n      <th>Egypt</th>\n      <td>0.3437</td>\n    </tr>\n    <tr>\n      <th>Colombia</th>\n      <td>0.3450</td>\n    </tr>\n    <tr>\n      <th>Singapore</th>\n      <td>0.4587</td>\n    </tr>\n    <tr>\n      <th>Malaysia</th>\n      <td>0.3177</td>\n    </tr>\n    <tr>\n      <th>Slovenia</th>\n      <td>0.3993</td>\n    </tr>\n    <tr>\n      <th>Slovakia</th>\n      <td>0.3885</td>\n    </tr>\n  </tbody>\n</table>\n</div>"
     },
     "metadata": {},
     "execution_count": 303
    }
   ],
   "source": [
    "new_df = python_stats(50).set_index('Region')\n",
    "\n",
    "new_df"
   ]
  },
  {
   "cell_type": "code",
   "execution_count": 309,
   "metadata": {},
   "outputs": [
    {
     "output_type": "execute_result",
     "data": {
      "text/plain": [
       "Index(['count', 'mean', 'std', 'min', '25%', '50%', '75%', 'max'], dtype='object')"
      ]
     },
     "metadata": {},
     "execution_count": 309
    }
   ],
   "source": [
    "df.describe().index"
   ]
  },
  {
   "cell_type": "code",
   "execution_count": 318,
   "metadata": {},
   "outputs": [],
   "source": [
    "filt = df['Country'].isin(li_country)\n",
    "\n",
    "stat_df = df[filt].groupby('Country')['ConvertedComp'].agg(['mean', 'std', 'min', 'median', 'max'])"
   ]
  },
  {
   "cell_type": "code",
   "execution_count": 319,
   "metadata": {},
   "outputs": [
    {
     "output_type": "execute_result",
     "data": {
      "text/plain": [
       "                          mean         std       min      median          max\n",
       "Country                                                                      \n",
       "Argentina           29467.2653  46412.5768   12.0000  17760.0000  497412.0000\n",
       "Australia          171541.1163 264157.6881    0.0000  79783.0000 1000000.0000\n",
       "Austria             83955.6396 149323.0239    0.0000  51559.0000 1000000.0000\n",
       "Bangladesh          21249.6520  84265.5256    0.0000   8764.0000 1200000.0000\n",
       "Belgium             73185.5647 112377.4572 2521.0000  48120.0000 1000000.0000\n",
       "Brazil              32623.5700  81082.4420    0.0000  18036.0000 1000000.0000\n",
       "Bulgaria            42642.4194  85792.1340  936.0000  28080.0000 1000000.0000\n",
       "Canada             134018.5649 229255.5679    0.0000  68705.0000 2000000.0000\n",
       "China               57430.4211 127209.0610   10.0000  28464.0000  889560.0000\n",
       "Colombia            24502.8762  34218.7708    0.0000  15528.0000  291264.0000\n",
       "Czech Republic      42486.6418  48860.8599    0.0000  35637.0000  641472.0000\n",
       "Denmark            113769.5548 157030.5945 7412.0000  82860.0000 1000000.0000\n",
       "Egypt               13923.0265  22411.8035    0.0000   8844.0000  170016.0000\n",
       "Finland             72175.5681 106391.6488 6015.0000  55569.0000  962424.0000\n",
       "France              81214.7797 135682.6481    0.0000  46752.0000 1000000.0000\n",
       "Germany            109256.8841 187384.5957    0.0000  63016.0000 2000000.0000\n",
       "Greece              46033.7630 104307.8771    0.0000  22457.0000 1000000.0000\n",
       "Hungary             33823.5532  50130.7599    0.0000  26412.0000  866088.0000\n",
       "India               28057.6649  85630.0036    0.0000  10080.0000 2000000.0000\n",
       "Indonesia           30986.4104 135543.2354    0.0000   7740.0000 1000000.0000\n",
       "Iran                16981.2452  51585.2610    0.0000  10620.0000 1000000.0000\n",
       "Ireland            250342.2391 327004.1527    0.0000  83640.0000 1000000.0000\n",
       "Israel              94944.3765  81949.0112    0.0000  90720.0000 1000000.0000\n",
       "Italy               89535.8439 156187.4273    0.0000  35518.0000 1000000.0000\n",
       "Japan               88246.2885 145645.2569    4.0000  51326.5000 1000000.0000\n",
       "Malaysia            22988.0000  39565.3992    0.0000  16890.0000  456972.0000\n",
       "Mexico              30372.4622 100183.2006    0.0000  16968.0000 2000000.0000\n",
       "Netherlands        100845.0726 172042.3484    0.0000  57287.0000 2000000.0000\n",
       "New Zealand        151681.8039 256560.9154    0.0000  63452.0000 1000000.0000\n",
       "Nigeria             16828.8693  74709.7669    0.0000   5988.0000 1000000.0000\n",
       "Norway             182298.9402 270245.2678    0.0000  79512.0000 1000000.0000\n",
       "Pakistan            12115.1991  47247.7943  100.0000   7368.0000  963048.0000\n",
       "Philippines         16302.5855  21292.4700  350.0000   9750.0000  149112.0000\n",
       "Poland              38860.4413  39190.5706    0.0000  32064.0000  570756.0000\n",
       "Portugal            50631.6067 105347.4715   30.0000  26124.0000 1000000.0000\n",
       "Romania             45733.0361  83073.1494    0.0000  31224.0000  925320.0000\n",
       "Russian Federation  31124.3834  81567.4806    0.0000  23832.0000 1800000.0000\n",
       "Serbia              34142.2773  50960.2749  104.0000  24672.0000  660000.0000\n",
       "Singapore          120621.5064 236636.3260 3996.0000  57758.5000 2000000.0000\n",
       "Slovakia            43292.9067  68983.0958 1850.0000  32658.0000  618708.0000\n",
       "Slovenia            55717.8039 100878.9151   46.0000  34368.0000  907428.0000\n",
       "South Africa        63550.6029 122848.7835    0.0000  38354.0000 1000000.0000\n",
       "Spain               88724.3573 150175.5375    0.0000  40101.0000 1000000.0000\n",
       "Sri Lanka           13568.0121  31039.2083   66.0000   7476.0000  360000.0000\n",
       "Sweden              76865.6362 106229.8631   60.0000  56004.0000 1000000.0000\n",
       "Switzerland        172675.6027 260551.5161    0.0000  95440.0000 2000000.0000\n",
       "Turkey              25133.2227  56946.0365    0.0000  17280.0000 1000000.0000\n",
       "Ukraine             32698.1365  50158.7789    0.0000  26940.0000  792000.0000\n",
       "United Kingdom     166182.4995 243496.7907    0.0000  68041.0000 2000000.0000\n",
       "United States      249546.2546 452103.4965    0.0000 110000.0000 2000000.0000"
      ],
      "text/html": "<div>\n<style scoped>\n    .dataframe tbody tr th:only-of-type {\n        vertical-align: middle;\n    }\n\n    .dataframe tbody tr th {\n        vertical-align: top;\n    }\n\n    .dataframe thead th {\n        text-align: right;\n    }\n</style>\n<table border=\"1\" class=\"dataframe\">\n  <thead>\n    <tr style=\"text-align: right;\">\n      <th></th>\n      <th>mean</th>\n      <th>std</th>\n      <th>min</th>\n      <th>median</th>\n      <th>max</th>\n    </tr>\n    <tr>\n      <th>Country</th>\n      <th></th>\n      <th></th>\n      <th></th>\n      <th></th>\n      <th></th>\n    </tr>\n  </thead>\n  <tbody>\n    <tr>\n      <th>Argentina</th>\n      <td>29467.2653</td>\n      <td>46412.5768</td>\n      <td>12.0000</td>\n      <td>17760.0000</td>\n      <td>497412.0000</td>\n    </tr>\n    <tr>\n      <th>Australia</th>\n      <td>171541.1163</td>\n      <td>264157.6881</td>\n      <td>0.0000</td>\n      <td>79783.0000</td>\n      <td>1000000.0000</td>\n    </tr>\n    <tr>\n      <th>Austria</th>\n      <td>83955.6396</td>\n      <td>149323.0239</td>\n      <td>0.0000</td>\n      <td>51559.0000</td>\n      <td>1000000.0000</td>\n    </tr>\n    <tr>\n      <th>Bangladesh</th>\n      <td>21249.6520</td>\n      <td>84265.5256</td>\n      <td>0.0000</td>\n      <td>8764.0000</td>\n      <td>1200000.0000</td>\n    </tr>\n    <tr>\n      <th>Belgium</th>\n      <td>73185.5647</td>\n      <td>112377.4572</td>\n      <td>2521.0000</td>\n      <td>48120.0000</td>\n      <td>1000000.0000</td>\n    </tr>\n    <tr>\n      <th>Brazil</th>\n      <td>32623.5700</td>\n      <td>81082.4420</td>\n      <td>0.0000</td>\n      <td>18036.0000</td>\n      <td>1000000.0000</td>\n    </tr>\n    <tr>\n      <th>Bulgaria</th>\n      <td>42642.4194</td>\n      <td>85792.1340</td>\n      <td>936.0000</td>\n      <td>28080.0000</td>\n      <td>1000000.0000</td>\n    </tr>\n    <tr>\n      <th>Canada</th>\n      <td>134018.5649</td>\n      <td>229255.5679</td>\n      <td>0.0000</td>\n      <td>68705.0000</td>\n      <td>2000000.0000</td>\n    </tr>\n    <tr>\n      <th>China</th>\n      <td>57430.4211</td>\n      <td>127209.0610</td>\n      <td>10.0000</td>\n      <td>28464.0000</td>\n      <td>889560.0000</td>\n    </tr>\n    <tr>\n      <th>Colombia</th>\n      <td>24502.8762</td>\n      <td>34218.7708</td>\n      <td>0.0000</td>\n      <td>15528.0000</td>\n      <td>291264.0000</td>\n    </tr>\n    <tr>\n      <th>Czech Republic</th>\n      <td>42486.6418</td>\n      <td>48860.8599</td>\n      <td>0.0000</td>\n      <td>35637.0000</td>\n      <td>641472.0000</td>\n    </tr>\n    <tr>\n      <th>Denmark</th>\n      <td>113769.5548</td>\n      <td>157030.5945</td>\n      <td>7412.0000</td>\n      <td>82860.0000</td>\n      <td>1000000.0000</td>\n    </tr>\n    <tr>\n      <th>Egypt</th>\n      <td>13923.0265</td>\n      <td>22411.8035</td>\n      <td>0.0000</td>\n      <td>8844.0000</td>\n      <td>170016.0000</td>\n    </tr>\n    <tr>\n      <th>Finland</th>\n      <td>72175.5681</td>\n      <td>106391.6488</td>\n      <td>6015.0000</td>\n      <td>55569.0000</td>\n      <td>962424.0000</td>\n    </tr>\n    <tr>\n      <th>France</th>\n      <td>81214.7797</td>\n      <td>135682.6481</td>\n      <td>0.0000</td>\n      <td>46752.0000</td>\n      <td>1000000.0000</td>\n    </tr>\n    <tr>\n      <th>Germany</th>\n      <td>109256.8841</td>\n      <td>187384.5957</td>\n      <td>0.0000</td>\n      <td>63016.0000</td>\n      <td>2000000.0000</td>\n    </tr>\n    <tr>\n      <th>Greece</th>\n      <td>46033.7630</td>\n      <td>104307.8771</td>\n      <td>0.0000</td>\n      <td>22457.0000</td>\n      <td>1000000.0000</td>\n    </tr>\n    <tr>\n      <th>Hungary</th>\n      <td>33823.5532</td>\n      <td>50130.7599</td>\n      <td>0.0000</td>\n      <td>26412.0000</td>\n      <td>866088.0000</td>\n    </tr>\n    <tr>\n      <th>India</th>\n      <td>28057.6649</td>\n      <td>85630.0036</td>\n      <td>0.0000</td>\n      <td>10080.0000</td>\n      <td>2000000.0000</td>\n    </tr>\n    <tr>\n      <th>Indonesia</th>\n      <td>30986.4104</td>\n      <td>135543.2354</td>\n      <td>0.0000</td>\n      <td>7740.0000</td>\n      <td>1000000.0000</td>\n    </tr>\n    <tr>\n      <th>Iran</th>\n      <td>16981.2452</td>\n      <td>51585.2610</td>\n      <td>0.0000</td>\n      <td>10620.0000</td>\n      <td>1000000.0000</td>\n    </tr>\n    <tr>\n      <th>Ireland</th>\n      <td>250342.2391</td>\n      <td>327004.1527</td>\n      <td>0.0000</td>\n      <td>83640.0000</td>\n      <td>1000000.0000</td>\n    </tr>\n    <tr>\n      <th>Israel</th>\n      <td>94944.3765</td>\n      <td>81949.0112</td>\n      <td>0.0000</td>\n      <td>90720.0000</td>\n      <td>1000000.0000</td>\n    </tr>\n    <tr>\n      <th>Italy</th>\n      <td>89535.8439</td>\n      <td>156187.4273</td>\n      <td>0.0000</td>\n      <td>35518.0000</td>\n      <td>1000000.0000</td>\n    </tr>\n    <tr>\n      <th>Japan</th>\n      <td>88246.2885</td>\n      <td>145645.2569</td>\n      <td>4.0000</td>\n      <td>51326.5000</td>\n      <td>1000000.0000</td>\n    </tr>\n    <tr>\n      <th>Malaysia</th>\n      <td>22988.0000</td>\n      <td>39565.3992</td>\n      <td>0.0000</td>\n      <td>16890.0000</td>\n      <td>456972.0000</td>\n    </tr>\n    <tr>\n      <th>Mexico</th>\n      <td>30372.4622</td>\n      <td>100183.2006</td>\n      <td>0.0000</td>\n      <td>16968.0000</td>\n      <td>2000000.0000</td>\n    </tr>\n    <tr>\n      <th>Netherlands</th>\n      <td>100845.0726</td>\n      <td>172042.3484</td>\n      <td>0.0000</td>\n      <td>57287.0000</td>\n      <td>2000000.0000</td>\n    </tr>\n    <tr>\n      <th>New Zealand</th>\n      <td>151681.8039</td>\n      <td>256560.9154</td>\n      <td>0.0000</td>\n      <td>63452.0000</td>\n      <td>1000000.0000</td>\n    </tr>\n    <tr>\n      <th>Nigeria</th>\n      <td>16828.8693</td>\n      <td>74709.7669</td>\n      <td>0.0000</td>\n      <td>5988.0000</td>\n      <td>1000000.0000</td>\n    </tr>\n    <tr>\n      <th>Norway</th>\n      <td>182298.9402</td>\n      <td>270245.2678</td>\n      <td>0.0000</td>\n      <td>79512.0000</td>\n      <td>1000000.0000</td>\n    </tr>\n    <tr>\n      <th>Pakistan</th>\n      <td>12115.1991</td>\n      <td>47247.7943</td>\n      <td>100.0000</td>\n      <td>7368.0000</td>\n      <td>963048.0000</td>\n    </tr>\n    <tr>\n      <th>Philippines</th>\n      <td>16302.5855</td>\n      <td>21292.4700</td>\n      <td>350.0000</td>\n      <td>9750.0000</td>\n      <td>149112.0000</td>\n    </tr>\n    <tr>\n      <th>Poland</th>\n      <td>38860.4413</td>\n      <td>39190.5706</td>\n      <td>0.0000</td>\n      <td>32064.0000</td>\n      <td>570756.0000</td>\n    </tr>\n    <tr>\n      <th>Portugal</th>\n      <td>50631.6067</td>\n      <td>105347.4715</td>\n      <td>30.0000</td>\n      <td>26124.0000</td>\n      <td>1000000.0000</td>\n    </tr>\n    <tr>\n      <th>Romania</th>\n      <td>45733.0361</td>\n      <td>83073.1494</td>\n      <td>0.0000</td>\n      <td>31224.0000</td>\n      <td>925320.0000</td>\n    </tr>\n    <tr>\n      <th>Russian Federation</th>\n      <td>31124.3834</td>\n      <td>81567.4806</td>\n      <td>0.0000</td>\n      <td>23832.0000</td>\n      <td>1800000.0000</td>\n    </tr>\n    <tr>\n      <th>Serbia</th>\n      <td>34142.2773</td>\n      <td>50960.2749</td>\n      <td>104.0000</td>\n      <td>24672.0000</td>\n      <td>660000.0000</td>\n    </tr>\n    <tr>\n      <th>Singapore</th>\n      <td>120621.5064</td>\n      <td>236636.3260</td>\n      <td>3996.0000</td>\n      <td>57758.5000</td>\n      <td>2000000.0000</td>\n    </tr>\n    <tr>\n      <th>Slovakia</th>\n      <td>43292.9067</td>\n      <td>68983.0958</td>\n      <td>1850.0000</td>\n      <td>32658.0000</td>\n      <td>618708.0000</td>\n    </tr>\n    <tr>\n      <th>Slovenia</th>\n      <td>55717.8039</td>\n      <td>100878.9151</td>\n      <td>46.0000</td>\n      <td>34368.0000</td>\n      <td>907428.0000</td>\n    </tr>\n    <tr>\n      <th>South Africa</th>\n      <td>63550.6029</td>\n      <td>122848.7835</td>\n      <td>0.0000</td>\n      <td>38354.0000</td>\n      <td>1000000.0000</td>\n    </tr>\n    <tr>\n      <th>Spain</th>\n      <td>88724.3573</td>\n      <td>150175.5375</td>\n      <td>0.0000</td>\n      <td>40101.0000</td>\n      <td>1000000.0000</td>\n    </tr>\n    <tr>\n      <th>Sri Lanka</th>\n      <td>13568.0121</td>\n      <td>31039.2083</td>\n      <td>66.0000</td>\n      <td>7476.0000</td>\n      <td>360000.0000</td>\n    </tr>\n    <tr>\n      <th>Sweden</th>\n      <td>76865.6362</td>\n      <td>106229.8631</td>\n      <td>60.0000</td>\n      <td>56004.0000</td>\n      <td>1000000.0000</td>\n    </tr>\n    <tr>\n      <th>Switzerland</th>\n      <td>172675.6027</td>\n      <td>260551.5161</td>\n      <td>0.0000</td>\n      <td>95440.0000</td>\n      <td>2000000.0000</td>\n    </tr>\n    <tr>\n      <th>Turkey</th>\n      <td>25133.2227</td>\n      <td>56946.0365</td>\n      <td>0.0000</td>\n      <td>17280.0000</td>\n      <td>1000000.0000</td>\n    </tr>\n    <tr>\n      <th>Ukraine</th>\n      <td>32698.1365</td>\n      <td>50158.7789</td>\n      <td>0.0000</td>\n      <td>26940.0000</td>\n      <td>792000.0000</td>\n    </tr>\n    <tr>\n      <th>United Kingdom</th>\n      <td>166182.4995</td>\n      <td>243496.7907</td>\n      <td>0.0000</td>\n      <td>68041.0000</td>\n      <td>2000000.0000</td>\n    </tr>\n    <tr>\n      <th>United States</th>\n      <td>249546.2546</td>\n      <td>452103.4965</td>\n      <td>0.0000</td>\n      <td>110000.0000</td>\n      <td>2000000.0000</td>\n    </tr>\n  </tbody>\n</table>\n</div>"
     },
     "metadata": {},
     "execution_count": 319
    }
   ],
   "source": [
    "# \n",
    "\n",
    "# https://stackoverflow.com/a/40468090/15063197\n",
    "\n",
    "stat_df"
   ]
  },
  {
   "cell_type": "code",
   "execution_count": 322,
   "metadata": {},
   "outputs": [
    {
     "output_type": "execute_result",
     "data": {
      "text/plain": [
       "                    Pct_Python        mean         std       min      median  \\\n",
       "United States           0.4813 249546.2546 452103.4965    0.0000 110000.0000   \n",
       "India                   0.3427  28057.6649  85630.0036    0.0000  10080.0000   \n",
       "Germany                 0.4178 109256.8841 187384.5957    0.0000  63016.0000   \n",
       "United Kingdom          0.4155 166182.4995 243496.7907    0.0000  68041.0000   \n",
       "Canada                  0.4589 134018.5649 229255.5679    0.0000  68705.0000   \n",
       "France                  0.4408  81214.7797 135682.6481    0.0000  46752.0000   \n",
       "Brazil                  0.3937  32623.5700  81082.4420    0.0000  18036.0000   \n",
       "Poland                  0.3907  38860.4413  39190.5706    0.0000  32064.0000   \n",
       "Australia               0.4151 171541.1163 264157.6881    0.0000  79783.0000   \n",
       "Netherlands             0.4141 100845.0726 172042.3484    0.0000  57287.0000   \n",
       "Russian Federation      0.4179  31124.3834  81567.4806    0.0000  23832.0000   \n",
       "Spain                   0.3996  88724.3573 150175.5375    0.0000  40101.0000   \n",
       "Italy                   0.3966  89535.8439 156187.4273    0.0000  35518.0000   \n",
       "Sweden                  0.3893  76865.6362 106229.8631   60.0000  56004.0000   \n",
       "Switzerland             0.4703 172675.6027 260551.5161    0.0000  95440.0000   \n",
       "Israel                  0.4800  94944.3765  81949.0112    0.0000  90720.0000   \n",
       "Turkey                  0.3909  25133.2227  56946.0365    0.0000  17280.0000   \n",
       "Pakistan                0.2719  12115.1991  47247.7943  100.0000   7368.0000   \n",
       "Ukraine                 0.2834  32698.1365  50158.7789    0.0000  26940.0000   \n",
       "Austria                 0.4029  83955.6396 149323.0239    0.0000  51559.0000   \n",
       "Czech Republic          0.3730  42486.6418  48860.8599    0.0000  35637.0000   \n",
       "Romania                 0.3329  45733.0361  83073.1494    0.0000  31224.0000   \n",
       "Iran                    0.3631  16981.2452  51585.2610    0.0000  10620.0000   \n",
       "Belgium                 0.4072  73185.5647 112377.4572 2521.0000  48120.0000   \n",
       "China                   0.4473  57430.4211 127209.0610   10.0000  28464.0000   \n",
       "Bulgaria                0.2747  42642.4194  85792.1340  936.0000  28080.0000   \n",
       "Mexico                  0.3816  30372.4622 100183.2006    0.0000  16968.0000   \n",
       "South Africa            0.3222  63550.6029 122848.7835    0.0000  38354.0000   \n",
       "Denmark                 0.3987 113769.5548 157030.5945 7412.0000  82860.0000   \n",
       "Bangladesh              0.3372  21249.6520  84265.5256    0.0000   8764.0000   \n",
       "Norway                  0.4042 182298.9402 270245.2678    0.0000  79512.0000   \n",
       "Greece                  0.4065  46033.7630 104307.8771    0.0000  22457.0000   \n",
       "Argentina               0.3454  29467.2653  46412.5768   12.0000  17760.0000   \n",
       "Finland                 0.4872  72175.5681 106391.6488 6015.0000  55569.0000   \n",
       "Portugal                0.3467  50631.6067 105347.4715   30.0000  26124.0000   \n",
       "New Zealand             0.4504 151681.8039 256560.9154    0.0000  63452.0000   \n",
       "Nigeria                 0.2912  16828.8693  74709.7669    0.0000   5988.0000   \n",
       "Hungary                 0.3723  33823.5532  50130.7599    0.0000  26412.0000   \n",
       "Indonesia               0.2919  30986.4104 135543.2354    0.0000   7740.0000   \n",
       "Ireland                 0.4172 250342.2391 327004.1527    0.0000  83640.0000   \n",
       "Serbia                  0.2910  34142.2773  50960.2749  104.0000  24672.0000   \n",
       "Japan                   0.4655  88246.2885 145645.2569    4.0000  51326.5000   \n",
       "Philippines             0.3071  16302.5855  21292.4700  350.0000   9750.0000   \n",
       "Sri Lanka               0.3683  13568.0121  31039.2083   66.0000   7476.0000   \n",
       "Egypt                   0.3437  13923.0265  22411.8035    0.0000   8844.0000   \n",
       "Colombia                0.3450  24502.8762  34218.7708    0.0000  15528.0000   \n",
       "Singapore               0.4587 120621.5064 236636.3260 3996.0000  57758.5000   \n",
       "Malaysia                0.3177  22988.0000  39565.3992    0.0000  16890.0000   \n",
       "Slovenia                0.3993  55717.8039 100878.9151   46.0000  34368.0000   \n",
       "Slovakia                0.3885  43292.9067  68983.0958 1850.0000  32658.0000   \n",
       "\n",
       "                            max  \n",
       "United States      2000000.0000  \n",
       "India              2000000.0000  \n",
       "Germany            2000000.0000  \n",
       "United Kingdom     2000000.0000  \n",
       "Canada             2000000.0000  \n",
       "France             1000000.0000  \n",
       "Brazil             1000000.0000  \n",
       "Poland              570756.0000  \n",
       "Australia          1000000.0000  \n",
       "Netherlands        2000000.0000  \n",
       "Russian Federation 1800000.0000  \n",
       "Spain              1000000.0000  \n",
       "Italy              1000000.0000  \n",
       "Sweden             1000000.0000  \n",
       "Switzerland        2000000.0000  \n",
       "Israel             1000000.0000  \n",
       "Turkey             1000000.0000  \n",
       "Pakistan            963048.0000  \n",
       "Ukraine             792000.0000  \n",
       "Austria            1000000.0000  \n",
       "Czech Republic      641472.0000  \n",
       "Romania             925320.0000  \n",
       "Iran               1000000.0000  \n",
       "Belgium            1000000.0000  \n",
       "China               889560.0000  \n",
       "Bulgaria           1000000.0000  \n",
       "Mexico             2000000.0000  \n",
       "South Africa       1000000.0000  \n",
       "Denmark            1000000.0000  \n",
       "Bangladesh         1200000.0000  \n",
       "Norway             1000000.0000  \n",
       "Greece             1000000.0000  \n",
       "Argentina           497412.0000  \n",
       "Finland             962424.0000  \n",
       "Portugal           1000000.0000  \n",
       "New Zealand        1000000.0000  \n",
       "Nigeria            1000000.0000  \n",
       "Hungary             866088.0000  \n",
       "Indonesia          1000000.0000  \n",
       "Ireland            1000000.0000  \n",
       "Serbia              660000.0000  \n",
       "Japan              1000000.0000  \n",
       "Philippines         149112.0000  \n",
       "Sri Lanka           360000.0000  \n",
       "Egypt               170016.0000  \n",
       "Colombia            291264.0000  \n",
       "Singapore          2000000.0000  \n",
       "Malaysia            456972.0000  \n",
       "Slovenia            907428.0000  \n",
       "Slovakia            618708.0000  "
      ],
      "text/html": "<div>\n<style scoped>\n    .dataframe tbody tr th:only-of-type {\n        vertical-align: middle;\n    }\n\n    .dataframe tbody tr th {\n        vertical-align: top;\n    }\n\n    .dataframe thead th {\n        text-align: right;\n    }\n</style>\n<table border=\"1\" class=\"dataframe\">\n  <thead>\n    <tr style=\"text-align: right;\">\n      <th></th>\n      <th>Pct_Python</th>\n      <th>mean</th>\n      <th>std</th>\n      <th>min</th>\n      <th>median</th>\n      <th>max</th>\n    </tr>\n  </thead>\n  <tbody>\n    <tr>\n      <th>United States</th>\n      <td>0.4813</td>\n      <td>249546.2546</td>\n      <td>452103.4965</td>\n      <td>0.0000</td>\n      <td>110000.0000</td>\n      <td>2000000.0000</td>\n    </tr>\n    <tr>\n      <th>India</th>\n      <td>0.3427</td>\n      <td>28057.6649</td>\n      <td>85630.0036</td>\n      <td>0.0000</td>\n      <td>10080.0000</td>\n      <td>2000000.0000</td>\n    </tr>\n    <tr>\n      <th>Germany</th>\n      <td>0.4178</td>\n      <td>109256.8841</td>\n      <td>187384.5957</td>\n      <td>0.0000</td>\n      <td>63016.0000</td>\n      <td>2000000.0000</td>\n    </tr>\n    <tr>\n      <th>United Kingdom</th>\n      <td>0.4155</td>\n      <td>166182.4995</td>\n      <td>243496.7907</td>\n      <td>0.0000</td>\n      <td>68041.0000</td>\n      <td>2000000.0000</td>\n    </tr>\n    <tr>\n      <th>Canada</th>\n      <td>0.4589</td>\n      <td>134018.5649</td>\n      <td>229255.5679</td>\n      <td>0.0000</td>\n      <td>68705.0000</td>\n      <td>2000000.0000</td>\n    </tr>\n    <tr>\n      <th>France</th>\n      <td>0.4408</td>\n      <td>81214.7797</td>\n      <td>135682.6481</td>\n      <td>0.0000</td>\n      <td>46752.0000</td>\n      <td>1000000.0000</td>\n    </tr>\n    <tr>\n      <th>Brazil</th>\n      <td>0.3937</td>\n      <td>32623.5700</td>\n      <td>81082.4420</td>\n      <td>0.0000</td>\n      <td>18036.0000</td>\n      <td>1000000.0000</td>\n    </tr>\n    <tr>\n      <th>Poland</th>\n      <td>0.3907</td>\n      <td>38860.4413</td>\n      <td>39190.5706</td>\n      <td>0.0000</td>\n      <td>32064.0000</td>\n      <td>570756.0000</td>\n    </tr>\n    <tr>\n      <th>Australia</th>\n      <td>0.4151</td>\n      <td>171541.1163</td>\n      <td>264157.6881</td>\n      <td>0.0000</td>\n      <td>79783.0000</td>\n      <td>1000000.0000</td>\n    </tr>\n    <tr>\n      <th>Netherlands</th>\n      <td>0.4141</td>\n      <td>100845.0726</td>\n      <td>172042.3484</td>\n      <td>0.0000</td>\n      <td>57287.0000</td>\n      <td>2000000.0000</td>\n    </tr>\n    <tr>\n      <th>Russian Federation</th>\n      <td>0.4179</td>\n      <td>31124.3834</td>\n      <td>81567.4806</td>\n      <td>0.0000</td>\n      <td>23832.0000</td>\n      <td>1800000.0000</td>\n    </tr>\n    <tr>\n      <th>Spain</th>\n      <td>0.3996</td>\n      <td>88724.3573</td>\n      <td>150175.5375</td>\n      <td>0.0000</td>\n      <td>40101.0000</td>\n      <td>1000000.0000</td>\n    </tr>\n    <tr>\n      <th>Italy</th>\n      <td>0.3966</td>\n      <td>89535.8439</td>\n      <td>156187.4273</td>\n      <td>0.0000</td>\n      <td>35518.0000</td>\n      <td>1000000.0000</td>\n    </tr>\n    <tr>\n      <th>Sweden</th>\n      <td>0.3893</td>\n      <td>76865.6362</td>\n      <td>106229.8631</td>\n      <td>60.0000</td>\n      <td>56004.0000</td>\n      <td>1000000.0000</td>\n    </tr>\n    <tr>\n      <th>Switzerland</th>\n      <td>0.4703</td>\n      <td>172675.6027</td>\n      <td>260551.5161</td>\n      <td>0.0000</td>\n      <td>95440.0000</td>\n      <td>2000000.0000</td>\n    </tr>\n    <tr>\n      <th>Israel</th>\n      <td>0.4800</td>\n      <td>94944.3765</td>\n      <td>81949.0112</td>\n      <td>0.0000</td>\n      <td>90720.0000</td>\n      <td>1000000.0000</td>\n    </tr>\n    <tr>\n      <th>Turkey</th>\n      <td>0.3909</td>\n      <td>25133.2227</td>\n      <td>56946.0365</td>\n      <td>0.0000</td>\n      <td>17280.0000</td>\n      <td>1000000.0000</td>\n    </tr>\n    <tr>\n      <th>Pakistan</th>\n      <td>0.2719</td>\n      <td>12115.1991</td>\n      <td>47247.7943</td>\n      <td>100.0000</td>\n      <td>7368.0000</td>\n      <td>963048.0000</td>\n    </tr>\n    <tr>\n      <th>Ukraine</th>\n      <td>0.2834</td>\n      <td>32698.1365</td>\n      <td>50158.7789</td>\n      <td>0.0000</td>\n      <td>26940.0000</td>\n      <td>792000.0000</td>\n    </tr>\n    <tr>\n      <th>Austria</th>\n      <td>0.4029</td>\n      <td>83955.6396</td>\n      <td>149323.0239</td>\n      <td>0.0000</td>\n      <td>51559.0000</td>\n      <td>1000000.0000</td>\n    </tr>\n    <tr>\n      <th>Czech Republic</th>\n      <td>0.3730</td>\n      <td>42486.6418</td>\n      <td>48860.8599</td>\n      <td>0.0000</td>\n      <td>35637.0000</td>\n      <td>641472.0000</td>\n    </tr>\n    <tr>\n      <th>Romania</th>\n      <td>0.3329</td>\n      <td>45733.0361</td>\n      <td>83073.1494</td>\n      <td>0.0000</td>\n      <td>31224.0000</td>\n      <td>925320.0000</td>\n    </tr>\n    <tr>\n      <th>Iran</th>\n      <td>0.3631</td>\n      <td>16981.2452</td>\n      <td>51585.2610</td>\n      <td>0.0000</td>\n      <td>10620.0000</td>\n      <td>1000000.0000</td>\n    </tr>\n    <tr>\n      <th>Belgium</th>\n      <td>0.4072</td>\n      <td>73185.5647</td>\n      <td>112377.4572</td>\n      <td>2521.0000</td>\n      <td>48120.0000</td>\n      <td>1000000.0000</td>\n    </tr>\n    <tr>\n      <th>China</th>\n      <td>0.4473</td>\n      <td>57430.4211</td>\n      <td>127209.0610</td>\n      <td>10.0000</td>\n      <td>28464.0000</td>\n      <td>889560.0000</td>\n    </tr>\n    <tr>\n      <th>Bulgaria</th>\n      <td>0.2747</td>\n      <td>42642.4194</td>\n      <td>85792.1340</td>\n      <td>936.0000</td>\n      <td>28080.0000</td>\n      <td>1000000.0000</td>\n    </tr>\n    <tr>\n      <th>Mexico</th>\n      <td>0.3816</td>\n      <td>30372.4622</td>\n      <td>100183.2006</td>\n      <td>0.0000</td>\n      <td>16968.0000</td>\n      <td>2000000.0000</td>\n    </tr>\n    <tr>\n      <th>South Africa</th>\n      <td>0.3222</td>\n      <td>63550.6029</td>\n      <td>122848.7835</td>\n      <td>0.0000</td>\n      <td>38354.0000</td>\n      <td>1000000.0000</td>\n    </tr>\n    <tr>\n      <th>Denmark</th>\n      <td>0.3987</td>\n      <td>113769.5548</td>\n      <td>157030.5945</td>\n      <td>7412.0000</td>\n      <td>82860.0000</td>\n      <td>1000000.0000</td>\n    </tr>\n    <tr>\n      <th>Bangladesh</th>\n      <td>0.3372</td>\n      <td>21249.6520</td>\n      <td>84265.5256</td>\n      <td>0.0000</td>\n      <td>8764.0000</td>\n      <td>1200000.0000</td>\n    </tr>\n    <tr>\n      <th>Norway</th>\n      <td>0.4042</td>\n      <td>182298.9402</td>\n      <td>270245.2678</td>\n      <td>0.0000</td>\n      <td>79512.0000</td>\n      <td>1000000.0000</td>\n    </tr>\n    <tr>\n      <th>Greece</th>\n      <td>0.4065</td>\n      <td>46033.7630</td>\n      <td>104307.8771</td>\n      <td>0.0000</td>\n      <td>22457.0000</td>\n      <td>1000000.0000</td>\n    </tr>\n    <tr>\n      <th>Argentina</th>\n      <td>0.3454</td>\n      <td>29467.2653</td>\n      <td>46412.5768</td>\n      <td>12.0000</td>\n      <td>17760.0000</td>\n      <td>497412.0000</td>\n    </tr>\n    <tr>\n      <th>Finland</th>\n      <td>0.4872</td>\n      <td>72175.5681</td>\n      <td>106391.6488</td>\n      <td>6015.0000</td>\n      <td>55569.0000</td>\n      <td>962424.0000</td>\n    </tr>\n    <tr>\n      <th>Portugal</th>\n      <td>0.3467</td>\n      <td>50631.6067</td>\n      <td>105347.4715</td>\n      <td>30.0000</td>\n      <td>26124.0000</td>\n      <td>1000000.0000</td>\n    </tr>\n    <tr>\n      <th>New Zealand</th>\n      <td>0.4504</td>\n      <td>151681.8039</td>\n      <td>256560.9154</td>\n      <td>0.0000</td>\n      <td>63452.0000</td>\n      <td>1000000.0000</td>\n    </tr>\n    <tr>\n      <th>Nigeria</th>\n      <td>0.2912</td>\n      <td>16828.8693</td>\n      <td>74709.7669</td>\n      <td>0.0000</td>\n      <td>5988.0000</td>\n      <td>1000000.0000</td>\n    </tr>\n    <tr>\n      <th>Hungary</th>\n      <td>0.3723</td>\n      <td>33823.5532</td>\n      <td>50130.7599</td>\n      <td>0.0000</td>\n      <td>26412.0000</td>\n      <td>866088.0000</td>\n    </tr>\n    <tr>\n      <th>Indonesia</th>\n      <td>0.2919</td>\n      <td>30986.4104</td>\n      <td>135543.2354</td>\n      <td>0.0000</td>\n      <td>7740.0000</td>\n      <td>1000000.0000</td>\n    </tr>\n    <tr>\n      <th>Ireland</th>\n      <td>0.4172</td>\n      <td>250342.2391</td>\n      <td>327004.1527</td>\n      <td>0.0000</td>\n      <td>83640.0000</td>\n      <td>1000000.0000</td>\n    </tr>\n    <tr>\n      <th>Serbia</th>\n      <td>0.2910</td>\n      <td>34142.2773</td>\n      <td>50960.2749</td>\n      <td>104.0000</td>\n      <td>24672.0000</td>\n      <td>660000.0000</td>\n    </tr>\n    <tr>\n      <th>Japan</th>\n      <td>0.4655</td>\n      <td>88246.2885</td>\n      <td>145645.2569</td>\n      <td>4.0000</td>\n      <td>51326.5000</td>\n      <td>1000000.0000</td>\n    </tr>\n    <tr>\n      <th>Philippines</th>\n      <td>0.3071</td>\n      <td>16302.5855</td>\n      <td>21292.4700</td>\n      <td>350.0000</td>\n      <td>9750.0000</td>\n      <td>149112.0000</td>\n    </tr>\n    <tr>\n      <th>Sri Lanka</th>\n      <td>0.3683</td>\n      <td>13568.0121</td>\n      <td>31039.2083</td>\n      <td>66.0000</td>\n      <td>7476.0000</td>\n      <td>360000.0000</td>\n    </tr>\n    <tr>\n      <th>Egypt</th>\n      <td>0.3437</td>\n      <td>13923.0265</td>\n      <td>22411.8035</td>\n      <td>0.0000</td>\n      <td>8844.0000</td>\n      <td>170016.0000</td>\n    </tr>\n    <tr>\n      <th>Colombia</th>\n      <td>0.3450</td>\n      <td>24502.8762</td>\n      <td>34218.7708</td>\n      <td>0.0000</td>\n      <td>15528.0000</td>\n      <td>291264.0000</td>\n    </tr>\n    <tr>\n      <th>Singapore</th>\n      <td>0.4587</td>\n      <td>120621.5064</td>\n      <td>236636.3260</td>\n      <td>3996.0000</td>\n      <td>57758.5000</td>\n      <td>2000000.0000</td>\n    </tr>\n    <tr>\n      <th>Malaysia</th>\n      <td>0.3177</td>\n      <td>22988.0000</td>\n      <td>39565.3992</td>\n      <td>0.0000</td>\n      <td>16890.0000</td>\n      <td>456972.0000</td>\n    </tr>\n    <tr>\n      <th>Slovenia</th>\n      <td>0.3993</td>\n      <td>55717.8039</td>\n      <td>100878.9151</td>\n      <td>46.0000</td>\n      <td>34368.0000</td>\n      <td>907428.0000</td>\n    </tr>\n    <tr>\n      <th>Slovakia</th>\n      <td>0.3885</td>\n      <td>43292.9067</td>\n      <td>68983.0958</td>\n      <td>1850.0000</td>\n      <td>32658.0000</td>\n      <td>618708.0000</td>\n    </tr>\n  </tbody>\n</table>\n</div>"
     },
     "metadata": {},
     "execution_count": 322
    }
   ],
   "source": [
    "# 🧠 pd.concat([df1, df2], axis=1) ⭐\n",
    "\n",
    "pd.concat([new_df, stat_df], axis=1)"
   ]
  },
  {
   "cell_type": "code",
   "execution_count": null,
   "metadata": {},
   "outputs": [],
   "source": []
  }
 ]
}
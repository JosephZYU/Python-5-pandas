{
 "metadata": {
  "language_info": {
   "codemirror_mode": {
    "name": "ipython",
    "version": 3
   },
   "file_extension": ".py",
   "mimetype": "text/x-python",
   "name": "python",
   "nbconvert_exporter": "python",
   "pygments_lexer": "ipython3",
   "version": "3.9.0-final"
  },
  "orig_nbformat": 2,
  "kernelspec": {
   "name": "python3",
   "display_name": "Python 3",
   "language": "python"
  }
 },
 "nbformat": 4,
 "nbformat_minor": 2,
 "cells": [
  {
   "cell_type": "code",
   "execution_count": 1,
   "metadata": {},
   "outputs": [],
   "source": [
    "import pandas as pd\n",
    "import numpy as np\n",
    "\n",
    "people = {\n",
    "    \"first\":['Corey', 'Jane', 'John'],\n",
    "    \"last\":['Schafer', 'Doe', 'Smith'],\n",
    "    \"email\":['CoreySchafer@gmail.com','JaneDoe@hotmail.com','JohnSmith@outlook.com'],\n",
    "}\n",
    "\n",
    "\n",
    "pd.set_option('display.max_columns', 100)\n",
    "pd.set_option('display.max_rows', 100)\n",
    "pd.set_option('display.max_colwidth', None)  \n",
    "\n",
    "\n",
    "pd.set_option('display.float_format', lambda x: '%.4f' % x)\n",
    "\n",
    "\n",
    "survey_source = '/Users/josephyu/Documents/GitHub/data/survey_results_public.csv'\n",
    "schema_source = '/Users/josephyu/Documents/GitHub/data/survey_results_schema.csv'\n",
    "\n",
    "\n",
    "df = pd.read_csv(survey_source, index_col = 'Respondent')\n",
    "schema_df = pd.read_csv(schema_source, index_col = 'Column')\n",
    "pp_df = pd.DataFrame(people)"
   ]
  },
  {
   "cell_type": "code",
   "execution_count": 2,
   "metadata": {},
   "outputs": [
    {
     "output_type": "execute_result",
     "data": {
      "text/plain": [
       "                                MainBranch Hobbyist  \\\n",
       "Respondent                                            \n",
       "36819       I am a developer by profession      Yes   \n",
       "\n",
       "                           OpenSourcer  \\\n",
       "Respondent                               \n",
       "36819       Once a month or more often   \n",
       "\n",
       "                                                                 OpenSource  \\\n",
       "Respondent                                                                    \n",
       "36819       The quality of OSS and closed source software is about the same   \n",
       "\n",
       "                    Employment        Country Student  \\\n",
       "Respondent                                              \n",
       "36819       Employed full-time  United States      No   \n",
       "\n",
       "                                             EdLevel  \\\n",
       "Respondent                                             \n",
       "36819       Bachelor’s degree (BA, BS, B.Eng., etc.)   \n",
       "\n",
       "                                                             UndergradMajor  \\\n",
       "Respondent                                                                    \n",
       "36819       Computer science, computer engineering, or software engineering   \n",
       "\n",
       "                                                                                                                                                                                                                                                                                           EduOther  \\\n",
       "Respondent                                                                                                                                                                                                                                                                                            \n",
       "36819       Received on-the-job training in software development;Taught yourself a new language, framework, or tool without taking a formal course;Participated in online coding competitions (e.g. HackerRank, CodeChef, TopCoder);Participated in a hackathon;Contributed to open source software   \n",
       "\n",
       "                             OrgSize DevType YearsCode Age1stCode  \\\n",
       "Respondent                                                          \n",
       "36819       10,000 or more employees     NaN        12         15   \n",
       "\n",
       "           YearsCodePro       CareerSat          JobSat        MgrIdiot  \\\n",
       "Respondent                                                                \n",
       "36819                 8  Very satisfied  Very satisfied  Very confident   \n",
       "\n",
       "            MgrMoney   MgrWant  \\\n",
       "Respondent                       \n",
       "36819       Not sure  Not sure   \n",
       "\n",
       "                                                                 JobSeek  \\\n",
       "Respondent                                                                 \n",
       "36819       I’m not actively looking, but I am open to new opportunities   \n",
       "\n",
       "             LastHireDate  \\\n",
       "Respondent                  \n",
       "36819       1-2 years ago   \n",
       "\n",
       "                                                                                                                                      LastInt  \\\n",
       "Respondent                                                                                                                                      \n",
       "36819       Write code by hand (e.g., on a whiteboard);Interview with people in peer roles;Interview with people in senior / management roles   \n",
       "\n",
       "           FizzBuzz  \\\n",
       "Respondent            \n",
       "36819            No   \n",
       "\n",
       "                                                                                                           JobFactors  \\\n",
       "Respondent                                                                                                              \n",
       "36819       Remote work options;How widely used or impactful my work output would be;Flex time or a flexible schedule   \n",
       "\n",
       "           ResumeUpdate CurrencySymbol          CurrencyDesc   CompTotal  \\\n",
       "Respondent                                                                 \n",
       "36819               NaN            USD  United States dollar 248400.0000   \n",
       "\n",
       "           CompFreq  ConvertedComp  WorkWeekHrs  \\\n",
       "Respondent                                        \n",
       "36819        Yearly    248400.0000      38.0000   \n",
       "\n",
       "                                                                              WorkPlan  \\\n",
       "Respondent                                                                               \n",
       "36819       There's no schedule or spec; I work on what seems most important or urgent   \n",
       "\n",
       "                                                                              WorkChallenge  \\\n",
       "Respondent                                                                                    \n",
       "36819       Being tasked with non-development work;Lack of support from management;Meetings   \n",
       "\n",
       "                                                   WorkRemote WorkLoc  \\\n",
       "Respondent                                                              \n",
       "36819       All or almost all the time (I'm full-time remote)    Home   \n",
       "\n",
       "                       ImpSyn                                  CodeRev  \\\n",
       "Respondent                                                               \n",
       "36819       Far above average  Yes, because I see value in code review   \n",
       "\n",
       "            CodeRevHrs                      UnitTests  \\\n",
       "Respondent                                              \n",
       "36819           1.0000  Yes, it's part of our process   \n",
       "\n",
       "                                                                                 PurchaseHow  \\\n",
       "Respondent                                                                                     \n",
       "36819       Developers and management have nearly equal input into purchasing new technology   \n",
       "\n",
       "                     PurchaseWhat               LanguageWorkedWith  \\\n",
       "Respondent                                                           \n",
       "36819       I have some influence  C#;HTML/CSS;Java;JavaScript;SQL   \n",
       "\n",
       "           LanguageDesireNextYear  \\\n",
       "Respondent                          \n",
       "36819                 Assembly;C#   \n",
       "\n",
       "                                               DatabaseWorkedWith  \\\n",
       "Respondent                                                          \n",
       "36819       Cassandra;Microsoft SQL Server;MySQL;SQLite;Other(s):   \n",
       "\n",
       "           DatabaseDesireNextYear  \\\n",
       "Respondent                          \n",
       "36819                   Other(s):   \n",
       "\n",
       "                                                      PlatformWorkedWith  \\\n",
       "Respondent                                                                 \n",
       "36819       Arduino;Microsoft Azure;Raspberry Pi;Slack;Windows;WordPress   \n",
       "\n",
       "                          PlatformDesireNextYear WebFrameWorkedWith  \\\n",
       "Respondent                                                            \n",
       "36819       Microsoft Azure;Raspberry Pi;Windows     ASP.NET;jQuery   \n",
       "\n",
       "           WebFrameDesireNextYear  \\\n",
       "Respondent                          \n",
       "36819                     ASP.NET   \n",
       "\n",
       "                                                MiscTechWorkedWith  \\\n",
       "Respondent                                                           \n",
       "36819       .NET;.NET Core;Node.js;Pandas;TensorFlow;Torch/PyTorch   \n",
       "\n",
       "           MiscTechDesireNextYear                        DevEnviron    OpSys  \\\n",
       "Respondent                                                                     \n",
       "36819       .NET;.NET Core;Pandas  Visual Studio;Visual Studio Code  Windows   \n",
       "\n",
       "                                                                       Containers  \\\n",
       "Respondent                                                                          \n",
       "36819       Development;Testing;Production;Outside of work, for personal projects   \n",
       "\n",
       "                                      BlockchainOrg  \\\n",
       "Respondent                                            \n",
       "36819       Non-currency applications of blockchain   \n",
       "\n",
       "                                 BlockchainIs BetterLife ITperson OffOn  \\\n",
       "Respondent                                                                \n",
       "36819       An irresponsible use of resources        Yes      Yes   Yes   \n",
       "\n",
       "           SocialMedia              Extraversion ScreenName SOVisit1st  \\\n",
       "Respondent                                                               \n",
       "36819          Twitter  In real life (in person)   Username       2008   \n",
       "\n",
       "                                    SOVisitFreq  \\\n",
       "Respondent                                        \n",
       "36819       Less than once per month or monthly   \n",
       "\n",
       "                                     SOVisitTo             SOFindAnswer  \\\n",
       "Respondent                                                                \n",
       "36819       Find answers to specific questions  Less than once per week   \n",
       "\n",
       "                               SOTimeSaved SOHowMuchTime SOAccount  \\\n",
       "Respondent                                                           \n",
       "36819       Stack Overflow was much faster   60+ minutes       Yes   \n",
       "\n",
       "                                     SOPartFreq SOJobs  \\\n",
       "Respondent                                               \n",
       "36819       Less than once per month or monthly    Yes   \n",
       "\n",
       "                                                                       EntTeams  \\\n",
       "Respondent                                                                        \n",
       "36819       No, I've heard of them, but I am not part of a private Q&A instance   \n",
       "\n",
       "                    SOComm                            WelcomeChange  \\\n",
       "Respondent                                                            \n",
       "36819       No, not really  Just as welcome now as I felt last year   \n",
       "\n",
       "                                                                                         SONewContent  \\\n",
       "Respondent                                                                                              \n",
       "36819       Industry news about technologies you're interested in;Tech meetups or events in your area   \n",
       "\n",
       "               Age Gender Trans                Sexuality  \\\n",
       "Respondent                                                 \n",
       "36819      40.0000    Man    No  Straight / Heterosexual   \n",
       "\n",
       "                               Ethnicity Dependents           SurveyLength  \\\n",
       "Respondent                                                                   \n",
       "36819       White or of European descent        Yes  Appropriate in length   \n",
       "\n",
       "           SurveyEase  \n",
       "Respondent             \n",
       "36819            Easy  "
      ],
      "text/html": "<div>\n<style scoped>\n    .dataframe tbody tr th:only-of-type {\n        vertical-align: middle;\n    }\n\n    .dataframe tbody tr th {\n        vertical-align: top;\n    }\n\n    .dataframe thead th {\n        text-align: right;\n    }\n</style>\n<table border=\"1\" class=\"dataframe\">\n  <thead>\n    <tr style=\"text-align: right;\">\n      <th></th>\n      <th>MainBranch</th>\n      <th>Hobbyist</th>\n      <th>OpenSourcer</th>\n      <th>OpenSource</th>\n      <th>Employment</th>\n      <th>Country</th>\n      <th>Student</th>\n      <th>EdLevel</th>\n      <th>UndergradMajor</th>\n      <th>EduOther</th>\n      <th>OrgSize</th>\n      <th>DevType</th>\n      <th>YearsCode</th>\n      <th>Age1stCode</th>\n      <th>YearsCodePro</th>\n      <th>CareerSat</th>\n      <th>JobSat</th>\n      <th>MgrIdiot</th>\n      <th>MgrMoney</th>\n      <th>MgrWant</th>\n      <th>JobSeek</th>\n      <th>LastHireDate</th>\n      <th>LastInt</th>\n      <th>FizzBuzz</th>\n      <th>JobFactors</th>\n      <th>ResumeUpdate</th>\n      <th>CurrencySymbol</th>\n      <th>CurrencyDesc</th>\n      <th>CompTotal</th>\n      <th>CompFreq</th>\n      <th>ConvertedComp</th>\n      <th>WorkWeekHrs</th>\n      <th>WorkPlan</th>\n      <th>WorkChallenge</th>\n      <th>WorkRemote</th>\n      <th>WorkLoc</th>\n      <th>ImpSyn</th>\n      <th>CodeRev</th>\n      <th>CodeRevHrs</th>\n      <th>UnitTests</th>\n      <th>PurchaseHow</th>\n      <th>PurchaseWhat</th>\n      <th>LanguageWorkedWith</th>\n      <th>LanguageDesireNextYear</th>\n      <th>DatabaseWorkedWith</th>\n      <th>DatabaseDesireNextYear</th>\n      <th>PlatformWorkedWith</th>\n      <th>PlatformDesireNextYear</th>\n      <th>WebFrameWorkedWith</th>\n      <th>WebFrameDesireNextYear</th>\n      <th>MiscTechWorkedWith</th>\n      <th>MiscTechDesireNextYear</th>\n      <th>DevEnviron</th>\n      <th>OpSys</th>\n      <th>Containers</th>\n      <th>BlockchainOrg</th>\n      <th>BlockchainIs</th>\n      <th>BetterLife</th>\n      <th>ITperson</th>\n      <th>OffOn</th>\n      <th>SocialMedia</th>\n      <th>Extraversion</th>\n      <th>ScreenName</th>\n      <th>SOVisit1st</th>\n      <th>SOVisitFreq</th>\n      <th>SOVisitTo</th>\n      <th>SOFindAnswer</th>\n      <th>SOTimeSaved</th>\n      <th>SOHowMuchTime</th>\n      <th>SOAccount</th>\n      <th>SOPartFreq</th>\n      <th>SOJobs</th>\n      <th>EntTeams</th>\n      <th>SOComm</th>\n      <th>WelcomeChange</th>\n      <th>SONewContent</th>\n      <th>Age</th>\n      <th>Gender</th>\n      <th>Trans</th>\n      <th>Sexuality</th>\n      <th>Ethnicity</th>\n      <th>Dependents</th>\n      <th>SurveyLength</th>\n      <th>SurveyEase</th>\n    </tr>\n    <tr>\n      <th>Respondent</th>\n      <th></th>\n      <th></th>\n      <th></th>\n      <th></th>\n      <th></th>\n      <th></th>\n      <th></th>\n      <th></th>\n      <th></th>\n      <th></th>\n      <th></th>\n      <th></th>\n      <th></th>\n      <th></th>\n      <th></th>\n      <th></th>\n      <th></th>\n      <th></th>\n      <th></th>\n      <th></th>\n      <th></th>\n      <th></th>\n      <th></th>\n      <th></th>\n      <th></th>\n      <th></th>\n      <th></th>\n      <th></th>\n      <th></th>\n      <th></th>\n      <th></th>\n      <th></th>\n      <th></th>\n      <th></th>\n      <th></th>\n      <th></th>\n      <th></th>\n      <th></th>\n      <th></th>\n      <th></th>\n      <th></th>\n      <th></th>\n      <th></th>\n      <th></th>\n      <th></th>\n      <th></th>\n      <th></th>\n      <th></th>\n      <th></th>\n      <th></th>\n      <th></th>\n      <th></th>\n      <th></th>\n      <th></th>\n      <th></th>\n      <th></th>\n      <th></th>\n      <th></th>\n      <th></th>\n      <th></th>\n      <th></th>\n      <th></th>\n      <th></th>\n      <th></th>\n      <th></th>\n      <th></th>\n      <th></th>\n      <th></th>\n      <th></th>\n      <th></th>\n      <th></th>\n      <th></th>\n      <th></th>\n      <th></th>\n      <th></th>\n      <th></th>\n      <th></th>\n      <th></th>\n      <th></th>\n      <th></th>\n      <th></th>\n      <th></th>\n      <th></th>\n      <th></th>\n    </tr>\n  </thead>\n  <tbody>\n    <tr>\n      <th>36819</th>\n      <td>I am a developer by profession</td>\n      <td>Yes</td>\n      <td>Once a month or more often</td>\n      <td>The quality of OSS and closed source software is about the same</td>\n      <td>Employed full-time</td>\n      <td>United States</td>\n      <td>No</td>\n      <td>Bachelor’s degree (BA, BS, B.Eng., etc.)</td>\n      <td>Computer science, computer engineering, or software engineering</td>\n      <td>Received on-the-job training in software development;Taught yourself a new language, framework, or tool without taking a formal course;Participated in online coding competitions (e.g. HackerRank, CodeChef, TopCoder);Participated in a hackathon;Contributed to open source software</td>\n      <td>10,000 or more employees</td>\n      <td>NaN</td>\n      <td>12</td>\n      <td>15</td>\n      <td>8</td>\n      <td>Very satisfied</td>\n      <td>Very satisfied</td>\n      <td>Very confident</td>\n      <td>Not sure</td>\n      <td>Not sure</td>\n      <td>I’m not actively looking, but I am open to new opportunities</td>\n      <td>1-2 years ago</td>\n      <td>Write code by hand (e.g., on a whiteboard);Interview with people in peer roles;Interview with people in senior / management roles</td>\n      <td>No</td>\n      <td>Remote work options;How widely used or impactful my work output would be;Flex time or a flexible schedule</td>\n      <td>NaN</td>\n      <td>USD</td>\n      <td>United States dollar</td>\n      <td>248400.0000</td>\n      <td>Yearly</td>\n      <td>248400.0000</td>\n      <td>38.0000</td>\n      <td>There's no schedule or spec; I work on what seems most important or urgent</td>\n      <td>Being tasked with non-development work;Lack of support from management;Meetings</td>\n      <td>All or almost all the time (I'm full-time remote)</td>\n      <td>Home</td>\n      <td>Far above average</td>\n      <td>Yes, because I see value in code review</td>\n      <td>1.0000</td>\n      <td>Yes, it's part of our process</td>\n      <td>Developers and management have nearly equal input into purchasing new technology</td>\n      <td>I have some influence</td>\n      <td>C#;HTML/CSS;Java;JavaScript;SQL</td>\n      <td>Assembly;C#</td>\n      <td>Cassandra;Microsoft SQL Server;MySQL;SQLite;Other(s):</td>\n      <td>Other(s):</td>\n      <td>Arduino;Microsoft Azure;Raspberry Pi;Slack;Windows;WordPress</td>\n      <td>Microsoft Azure;Raspberry Pi;Windows</td>\n      <td>ASP.NET;jQuery</td>\n      <td>ASP.NET</td>\n      <td>.NET;.NET Core;Node.js;Pandas;TensorFlow;Torch/PyTorch</td>\n      <td>.NET;.NET Core;Pandas</td>\n      <td>Visual Studio;Visual Studio Code</td>\n      <td>Windows</td>\n      <td>Development;Testing;Production;Outside of work, for personal projects</td>\n      <td>Non-currency applications of blockchain</td>\n      <td>An irresponsible use of resources</td>\n      <td>Yes</td>\n      <td>Yes</td>\n      <td>Yes</td>\n      <td>Twitter</td>\n      <td>In real life (in person)</td>\n      <td>Username</td>\n      <td>2008</td>\n      <td>Less than once per month or monthly</td>\n      <td>Find answers to specific questions</td>\n      <td>Less than once per week</td>\n      <td>Stack Overflow was much faster</td>\n      <td>60+ minutes</td>\n      <td>Yes</td>\n      <td>Less than once per month or monthly</td>\n      <td>Yes</td>\n      <td>No, I've heard of them, but I am not part of a private Q&amp;A instance</td>\n      <td>No, not really</td>\n      <td>Just as welcome now as I felt last year</td>\n      <td>Industry news about technologies you're interested in;Tech meetups or events in your area</td>\n      <td>40.0000</td>\n      <td>Man</td>\n      <td>No</td>\n      <td>Straight / Heterosexual</td>\n      <td>White or of European descent</td>\n      <td>Yes</td>\n      <td>Appropriate in length</td>\n      <td>Easy</td>\n    </tr>\n  </tbody>\n</table>\n</div>"
     },
     "metadata": {},
     "execution_count": 2
    }
   ],
   "source": [
    "df.sample()"
   ]
  },
  {
   "cell_type": "code",
   "execution_count": 14,
   "metadata": {},
   "outputs": [
    {
     "output_type": "execute_result",
     "data": {
      "text/plain": [
       "57287.0"
      ]
     },
     "metadata": {},
     "execution_count": 14
    }
   ],
   "source": [
    "# ConvertedComp\n",
    "\n",
    "df['ConvertedComp'].median()"
   ]
  },
  {
   "cell_type": "code",
   "execution_count": 17,
   "metadata": {},
   "outputs": [
    {
     "output_type": "execute_result",
     "data": {
      "text/plain": [
       "CompTotal       62000.0000\n",
       "ConvertedComp   57287.0000\n",
       "WorkWeekHrs        40.0000\n",
       "CodeRevHrs          4.0000\n",
       "Age                29.0000\n",
       "dtype: float64"
      ]
     },
     "metadata": {},
     "execution_count": 17
    }
   ],
   "source": [
    "df.select_dtypes(include=np.number).median()"
   ]
  },
  {
   "cell_type": "code",
   "execution_count": 18,
   "metadata": {},
   "outputs": [
    {
     "output_type": "execute_result",
     "data": {
      "text/plain": [
       "CompTotal       62000.0000\n",
       "ConvertedComp   57287.0000\n",
       "WorkWeekHrs        40.0000\n",
       "CodeRevHrs          4.0000\n",
       "Age                29.0000\n",
       "dtype: float64"
      ]
     },
     "metadata": {},
     "execution_count": 18
    }
   ],
   "source": [
    "df.median()"
   ]
  },
  {
   "cell_type": "code",
   "execution_count": 21,
   "metadata": {},
   "outputs": [
    {
     "output_type": "execute_result",
     "data": {
      "text/plain": [
       "CompTotal       62000.0000\n",
       "ConvertedComp   57287.0000\n",
       "WorkWeekHrs        40.0000\n",
       "CodeRevHrs          4.0000\n",
       "Age                29.0000\n",
       "Name: 50%, dtype: float64"
      ]
     },
     "metadata": {},
     "execution_count": 21
    }
   ],
   "source": [
    "df.describe().loc['50%']"
   ]
  },
  {
   "cell_type": "code",
   "execution_count": 25,
   "metadata": {},
   "outputs": [
    {
     "output_type": "execute_result",
     "data": {
      "text/plain": [
       "['CompTotal', 'ConvertedComp', 'WorkWeekHrs', 'CodeRevHrs', 'Age']"
      ]
     },
     "metadata": {},
     "execution_count": 25
    }
   ],
   "source": [
    "df.select_dtypes(include=np.number).columns.tolist()"
   ]
  },
  {
   "cell_type": "code",
   "execution_count": 26,
   "metadata": {},
   "outputs": [
    {
     "output_type": "stream",
     "name": "stdout",
     "text": [
      "62000.0\n57287.0\n40.0\n4.0\n29.0\n"
     ]
    }
   ],
   "source": [
    "for i in df.select_dtypes(include=np.number).columns.tolist():\n",
    "    print(df[i].median())"
   ]
  },
  {
   "cell_type": "code",
   "execution_count": 29,
   "metadata": {},
   "outputs": [
    {
     "output_type": "execute_result",
     "data": {
      "text/plain": [
       "array([71257, 17626])"
      ]
     },
     "metadata": {},
     "execution_count": 29
    }
   ],
   "source": [
    "df['Hobbyist'].value_counts().values"
   ]
  },
  {
   "cell_type": "code",
   "execution_count": 30,
   "metadata": {},
   "outputs": [
    {
     "output_type": "execute_result",
     "data": {
      "text/plain": [
       "88883"
      ]
     },
     "metadata": {},
     "execution_count": 30
    }
   ],
   "source": [
    "71257 + 17626"
   ]
  },
  {
   "cell_type": "code",
   "execution_count": 31,
   "metadata": {},
   "outputs": [
    {
     "output_type": "execute_result",
     "data": {
      "text/plain": [
       "(88883, 84)"
      ]
     },
     "metadata": {},
     "execution_count": 31
    }
   ],
   "source": [
    "df.shape"
   ]
  },
  {
   "cell_type": "code",
   "execution_count": 40,
   "metadata": {},
   "outputs": [
    {
     "output_type": "execute_result",
     "data": {
      "text/plain": [
       "WebFrameWorkedWith       26.8454\n",
       "MiscTechDesireNextYear   27.4203\n",
       "WorkWeekHrs              27.4293\n",
       "CompFreq                 28.8188\n",
       "WebFrameDesireNextYear   29.1833\n",
       "UnitTests                29.4938\n",
       "PurchaseWhat             30.2128\n",
       "MgrWant                  31.1094\n",
       "MgrIdiot                 31.1916\n",
       "MgrMoney                 31.1938\n",
       "PurchaseHow              31.2489\n",
       "BlockchainIs             32.3099\n",
       "MiscTechWorkedWith       32.9613\n",
       "CompTotal                37.0577\n",
       "ConvertedComp            37.1950\n",
       "CodeRevHrs               43.9825\n",
       "BlockchainOrg            45.7995\n",
       "dtype: float64"
      ]
     },
     "metadata": {},
     "execution_count": 40
    }
   ],
   "source": [
    "(df.isna().mean().sort_values() * 100)['WebFrameWorkedWith':]"
   ]
  },
  {
   "cell_type": "code",
   "execution_count": 59,
   "metadata": {},
   "outputs": [
    {
     "output_type": "execute_result",
     "data": {
      "text/plain": [
       "Reddit                      14374\n",
       "YouTube                     13830\n",
       "WhatsApp                    13347\n",
       "Facebook                    13178\n",
       "Twitter                     11398\n",
       "Instagram                    6261\n",
       "I don't use social media     5554\n",
       "LinkedIn                     4501\n",
       "WeChat 微信                     667\n",
       "Snapchat                      628\n",
       "VK ВКонта́кте                 603\n",
       "Weibo 新浪微博                     56\n",
       "Youku Tudou 优酷                 21\n",
       "Hello                          19\n",
       "Name: SocialMedia, dtype: int64"
      ]
     },
     "metadata": {},
     "execution_count": 59
    }
   ],
   "source": [
    "# What social media platform they use the most # SocialMedia\n",
    "\n",
    "df['SocialMedia'].value_counts()#.values.tolist()"
   ]
  },
  {
   "cell_type": "code",
   "execution_count": 81,
   "metadata": {},
   "outputs": [
    {
     "output_type": "execute_result",
     "data": {
      "text/plain": [
       "SocialMedia\n",
       "WeChat 微信                  0.6705\n",
       "YouTube                    0.0882\n",
       "Weibo 新浪微博                 0.0699\n",
       "I don't use social media   0.0449\n",
       "Twitter                    0.0449\n",
       "Reddit                     0.0200\n",
       "LinkedIn                   0.0183\n",
       "Facebook                   0.0133\n",
       "Instagram                  0.0116\n",
       "Youku Tudou 优酷             0.0116\n",
       "WhatsApp                   0.0050\n",
       "VK ВКонта́кте              0.0017\n",
       "Name: SocialMedia, dtype: float64"
      ]
     },
     "metadata": {},
     "execution_count": 81
    }
   ],
   "source": [
    "df.groupby('Country')['SocialMedia'].value_counts(normalize=True).loc['China']"
   ]
  },
  {
   "cell_type": "code",
   "execution_count": 79,
   "metadata": {},
   "outputs": [
    {
     "output_type": "execute_result",
     "data": {
      "text/plain": [
       "SocialMedia\n",
       "Reddit                     0.2843\n",
       "Twitter                    0.1730\n",
       "Facebook                   0.1419\n",
       "YouTube                    0.1229\n",
       "I don't use social media   0.0923\n",
       "Instagram                  0.0824\n",
       "LinkedIn                   0.0509\n",
       "WhatsApp                   0.0304\n",
       "Snapchat                   0.0163\n",
       "WeChat 微信                  0.0046\n",
       "VK ВКонта́кте              0.0004\n",
       "Weibo 新浪微博                 0.0004\n",
       "Hello                      0.0001\n",
       "Youku Tudou 优酷             0.0000\n",
       "Name: SocialMedia, dtype: float64"
      ]
     },
     "metadata": {},
     "execution_count": 79
    }
   ],
   "source": [
    "df.groupby('Country')['SocialMedia'].value_counts(normalize=True).loc['United States']"
   ]
  },
  {
   "cell_type": "code",
   "execution_count": 80,
   "metadata": {},
   "outputs": [
    {
     "output_type": "execute_result",
     "data": {
      "text/plain": [
       "0.0046393295420532775"
      ]
     },
     "metadata": {},
     "execution_count": 80
    }
   ],
   "source": [
    "df.groupby('Country')['SocialMedia'].value_counts(normalize=True).loc['United States', 'WeChat 微信']"
   ]
  },
  {
   "cell_type": "code",
   "execution_count": 82,
   "metadata": {},
   "outputs": [
    {
     "output_type": "execute_result",
     "data": {
      "text/plain": [
       "0.670549084858569"
      ]
     },
     "metadata": {},
     "execution_count": 82
    }
   ],
   "source": [
    "df.groupby('Country')['SocialMedia'].value_counts(normalize=True).loc['China', 'WeChat 微信']"
   ]
  },
  {
   "cell_type": "code",
   "execution_count": 122,
   "metadata": {},
   "outputs": [
    {
     "output_type": "execute_result",
     "data": {
      "text/plain": [
       "['China',\n",
       " 'United States',\n",
       " 'Canada',\n",
       " 'Australia',\n",
       " 'Singapore',\n",
       " 'Hong Kong (S.A.R.)',\n",
       " 'France',\n",
       " 'United Kingdom',\n",
       " 'New Zealand',\n",
       " 'Germany',\n",
       " 'Japan',\n",
       " 'India',\n",
       " 'Malaysia',\n",
       " 'Denmark',\n",
       " 'Ireland',\n",
       " 'Sweden',\n",
       " 'Austria',\n",
       " 'Switzerland']"
      ]
     },
     "metadata": {},
     "execution_count": 122
    }
   ],
   "source": [
    "# 🧠 df[].str.contains( , na=False)\n",
    "\n",
    "filt = df['SocialMedia'].str.contains('WeChat 微信', na=False)\n",
    "\n",
    "df[filt]['Country'].value_counts().nlargest(18).index.tolist()\n",
    "# df[filt]['Country'].value_counts()#.index.tolist()"
   ]
  },
  {
   "cell_type": "code",
   "execution_count": 117,
   "metadata": {},
   "outputs": [],
   "source": [
    "tgt_country = df[filt]['Country'].value_counts().nlargest(18).index.tolist()"
   ]
  },
  {
   "cell_type": "code",
   "execution_count": 118,
   "metadata": {},
   "outputs": [
    {
     "output_type": "stream",
     "name": "stdout",
     "text": [
      "China 0.670549084858569\n",
      "United States 0.0046393295420532775\n",
      "Canada 0.01345977363107984\n",
      "Australia 0.013385387618516454\n",
      "Singapore 0.044673539518900345\n",
      "Hong Kong (S.A.R.) 0.06779661016949153\n",
      "France 0.00526085050416484\n",
      "United Kingdom 0.001983411467724486\n",
      "New Zealand 0.01996007984031936\n",
      "Germany 0.001471129091577786\n",
      "Japan 0.01652892561983471\n",
      "India 0.0005725409366769724\n",
      "Malaysia 0.010238907849829351\n",
      "Denmark 0.005084745762711864\n",
      "Ireland 0.004132231404958678\n",
      "Sweden 0.0016220600162206002\n",
      "Austria 0.0012853470437017994\n",
      "Switzerland 0.0010741138560687433\n"
     ]
    }
   ],
   "source": [
    "for country in tgt_country:\n",
    "    print(country, df.groupby('Country')['SocialMedia'].value_counts(normalize=True).loc[country, 'WeChat 微信'])"
   ]
  },
  {
   "cell_type": "code",
   "execution_count": 144,
   "metadata": {},
   "outputs": [
    {
     "output_type": "execute_result",
     "data": {
      "text/plain": [
       "Index(['count', 'mean', 'std', 'min', '25%', '50%', '75%', 'max'], dtype='object')"
      ]
     },
     "metadata": {},
     "execution_count": 144
    }
   ],
   "source": [
    "df.describe().index"
   ]
  },
  {
   "cell_type": "code",
   "execution_count": 148,
   "metadata": {},
   "outputs": [
    {
     "output_type": "execute_result",
     "data": {
      "text/plain": [
       "                                      count        mean         std  \\\n",
       "Country                                                               \n",
       "Afghanistan                              12 101953.3333 285995.2418   \n",
       "Albania                                  50  21833.7000  31450.7667   \n",
       "Algeria                                  42  34924.0476 152933.6280   \n",
       "Andorra                                   2 160931.0000  15458.7685   \n",
       "Angola                                    1   7764.0000         NaN   \n",
       "...                                     ...         ...         ...   \n",
       "Venezuela, Bolivarian Republic of...     43  14581.6279  24218.7598   \n",
       "Viet Nam                                 87  17233.4368  19921.5760   \n",
       "Yemen                                     6  16909.1667  21847.4291   \n",
       "Zambia                                    8  10075.3750  13200.3664   \n",
       "Zimbabwe                                 15  34046.6667  44166.9700   \n",
       "\n",
       "                                             min      median          max  \n",
       "Country                                                                    \n",
       "Afghanistan                               0.0000   6222.0000 1000000.0000  \n",
       "Albania                                1320.0000  10818.0000  187668.0000  \n",
       "Algeria                                   0.0000   7878.0000 1000000.0000  \n",
       "Andorra                              150000.0000 160931.0000  171862.0000  \n",
       "Angola                                 7764.0000   7764.0000    7764.0000  \n",
       "...                                          ...         ...          ...  \n",
       "Venezuela, Bolivarian Republic of...      0.0000   6384.0000  137484.0000  \n",
       "Viet Nam                                200.0000  11892.0000  140000.0000  \n",
       "Yemen                                   799.0000  11940.0000   60000.0000  \n",
       "Zambia                                  400.0000   5040.0000   40524.0000  \n",
       "Zimbabwe                                900.0000  19200.0000  180000.0000  \n",
       "\n",
       "[179 rows x 6 columns]"
      ],
      "text/html": "<div>\n<style scoped>\n    .dataframe tbody tr th:only-of-type {\n        vertical-align: middle;\n    }\n\n    .dataframe tbody tr th {\n        vertical-align: top;\n    }\n\n    .dataframe thead th {\n        text-align: right;\n    }\n</style>\n<table border=\"1\" class=\"dataframe\">\n  <thead>\n    <tr style=\"text-align: right;\">\n      <th></th>\n      <th>count</th>\n      <th>mean</th>\n      <th>std</th>\n      <th>min</th>\n      <th>median</th>\n      <th>max</th>\n    </tr>\n    <tr>\n      <th>Country</th>\n      <th></th>\n      <th></th>\n      <th></th>\n      <th></th>\n      <th></th>\n      <th></th>\n    </tr>\n  </thead>\n  <tbody>\n    <tr>\n      <th>Afghanistan</th>\n      <td>12</td>\n      <td>101953.3333</td>\n      <td>285995.2418</td>\n      <td>0.0000</td>\n      <td>6222.0000</td>\n      <td>1000000.0000</td>\n    </tr>\n    <tr>\n      <th>Albania</th>\n      <td>50</td>\n      <td>21833.7000</td>\n      <td>31450.7667</td>\n      <td>1320.0000</td>\n      <td>10818.0000</td>\n      <td>187668.0000</td>\n    </tr>\n    <tr>\n      <th>Algeria</th>\n      <td>42</td>\n      <td>34924.0476</td>\n      <td>152933.6280</td>\n      <td>0.0000</td>\n      <td>7878.0000</td>\n      <td>1000000.0000</td>\n    </tr>\n    <tr>\n      <th>Andorra</th>\n      <td>2</td>\n      <td>160931.0000</td>\n      <td>15458.7685</td>\n      <td>150000.0000</td>\n      <td>160931.0000</td>\n      <td>171862.0000</td>\n    </tr>\n    <tr>\n      <th>Angola</th>\n      <td>1</td>\n      <td>7764.0000</td>\n      <td>NaN</td>\n      <td>7764.0000</td>\n      <td>7764.0000</td>\n      <td>7764.0000</td>\n    </tr>\n    <tr>\n      <th>...</th>\n      <td>...</td>\n      <td>...</td>\n      <td>...</td>\n      <td>...</td>\n      <td>...</td>\n      <td>...</td>\n    </tr>\n    <tr>\n      <th>Venezuela, Bolivarian Republic of...</th>\n      <td>43</td>\n      <td>14581.6279</td>\n      <td>24218.7598</td>\n      <td>0.0000</td>\n      <td>6384.0000</td>\n      <td>137484.0000</td>\n    </tr>\n    <tr>\n      <th>Viet Nam</th>\n      <td>87</td>\n      <td>17233.4368</td>\n      <td>19921.5760</td>\n      <td>200.0000</td>\n      <td>11892.0000</td>\n      <td>140000.0000</td>\n    </tr>\n    <tr>\n      <th>Yemen</th>\n      <td>6</td>\n      <td>16909.1667</td>\n      <td>21847.4291</td>\n      <td>799.0000</td>\n      <td>11940.0000</td>\n      <td>60000.0000</td>\n    </tr>\n    <tr>\n      <th>Zambia</th>\n      <td>8</td>\n      <td>10075.3750</td>\n      <td>13200.3664</td>\n      <td>400.0000</td>\n      <td>5040.0000</td>\n      <td>40524.0000</td>\n    </tr>\n    <tr>\n      <th>Zimbabwe</th>\n      <td>15</td>\n      <td>34046.6667</td>\n      <td>44166.9700</td>\n      <td>900.0000</td>\n      <td>19200.0000</td>\n      <td>180000.0000</td>\n    </tr>\n  </tbody>\n</table>\n<p>179 rows × 6 columns</p>\n</div>"
     },
     "metadata": {},
     "execution_count": 148
    }
   ],
   "source": [
    "df.groupby('Country')['ConvertedComp'].agg(['count', 'mean', 'std', 'min', 'median', 'max'])#.loc['China']"
   ]
  },
  {
   "cell_type": "code",
   "execution_count": 135,
   "metadata": {},
   "outputs": [
    {
     "output_type": "execute_result",
     "data": {
      "text/plain": [
       "3"
      ]
     },
     "metadata": {},
     "execution_count": 135
    }
   ],
   "source": [
    "df['Country'].value_counts().loc['Liechtenstein']"
   ]
  },
  {
   "cell_type": "code",
   "execution_count": null,
   "metadata": {},
   "outputs": [],
   "source": []
  },
  {
   "cell_type": "code",
   "execution_count": null,
   "metadata": {},
   "outputs": [],
   "source": []
  }
 ]
}
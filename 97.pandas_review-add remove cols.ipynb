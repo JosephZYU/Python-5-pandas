{
 "metadata": {
  "language_info": {
   "codemirror_mode": {
    "name": "ipython",
    "version": 3
   },
   "file_extension": ".py",
   "mimetype": "text/x-python",
   "name": "python",
   "nbconvert_exporter": "python",
   "pygments_lexer": "ipython3",
   "version": "3.9.0-final"
  },
  "orig_nbformat": 2,
  "kernelspec": {
   "name": "python3",
   "display_name": "Python 3",
   "language": "python"
  }
 },
 "nbformat": 4,
 "nbformat_minor": 2,
 "cells": [
  {
   "cell_type": "code",
   "execution_count": 10,
   "metadata": {},
   "outputs": [],
   "source": [
    "import pandas as pd\n",
    "import numpy as np\n",
    "\n",
    "people = {\n",
    "    \"first\":['Corey', 'Jane', 'John'],\n",
    "    \"last\":['Schafer', 'Doe', 'Smith'],\n",
    "    \"email\":['CoreySchafer@gmail.com','JaneDoe@hotmail.com','JohnSmith@outlook.com'],\n",
    "}\n",
    "\n",
    "\n",
    "pd.set_option('display.max_columns', 100)\n",
    "pd.set_option('display.max_rows', 100)\n",
    "pd.set_option('display.max_colwidth', None)  \n",
    "\n",
    "\n",
    "pd.set_option('display.float_format', lambda x: '%.4f' % x)\n",
    "\n",
    "\n",
    "survey_source = '/Users/josephyu/Documents/GitHub/data/survey_results_public.csv'\n",
    "schema_source = '/Users/josephyu/Documents/GitHub/data/survey_results_schema.csv'\n",
    "\n",
    "\n",
    "df = pd.read_csv(survey_source, index_col = 'Respondent')\n",
    "schema_df = pd.read_csv(schema_source, index_col = 'Column')\n",
    "pp_df = pd.DataFrame(people)\n",
    "\n",
    "# ['Hobbyist', 'OpenSourcer', 'Region'] -> PERFECT Data Quality by column"
   ]
  },
  {
   "cell_type": "code",
   "execution_count": 11,
   "metadata": {},
   "outputs": [],
   "source": [
    "df = pp_df"
   ]
  },
  {
   "cell_type": "code",
   "execution_count": 12,
   "metadata": {},
   "outputs": [
    {
     "output_type": "execute_result",
     "data": {
      "text/plain": [
       "   first     last                   email\n",
       "0  Corey  Schafer  CoreySchafer@gmail.com\n",
       "1   Jane      Doe     JaneDoe@hotmail.com\n",
       "2   John    Smith   JohnSmith@outlook.com"
      ],
      "text/html": "<div>\n<style scoped>\n    .dataframe tbody tr th:only-of-type {\n        vertical-align: middle;\n    }\n\n    .dataframe tbody tr th {\n        vertical-align: top;\n    }\n\n    .dataframe thead th {\n        text-align: right;\n    }\n</style>\n<table border=\"1\" class=\"dataframe\">\n  <thead>\n    <tr style=\"text-align: right;\">\n      <th></th>\n      <th>first</th>\n      <th>last</th>\n      <th>email</th>\n    </tr>\n  </thead>\n  <tbody>\n    <tr>\n      <th>0</th>\n      <td>Corey</td>\n      <td>Schafer</td>\n      <td>CoreySchafer@gmail.com</td>\n    </tr>\n    <tr>\n      <th>1</th>\n      <td>Jane</td>\n      <td>Doe</td>\n      <td>JaneDoe@hotmail.com</td>\n    </tr>\n    <tr>\n      <th>2</th>\n      <td>John</td>\n      <td>Smith</td>\n      <td>JohnSmith@outlook.com</td>\n    </tr>\n  </tbody>\n</table>\n</div>"
     },
     "metadata": {},
     "execution_count": 12
    }
   ],
   "source": [
    "df"
   ]
  },
  {
   "cell_type": "code",
   "execution_count": 4,
   "metadata": {},
   "outputs": [
    {
     "output_type": "execute_result",
     "data": {
      "text/plain": [
       "   first     last                   email       fullname\n",
       "0  Corey  Schafer  CoreySchafer@gmail.com  Corey Schafer\n",
       "1   Jane      Doe     JaneDoe@hotmail.com       Jane Doe\n",
       "2   John    Smith   JohnSmith@outlook.com     John Smith"
      ],
      "text/html": "<div>\n<style scoped>\n    .dataframe tbody tr th:only-of-type {\n        vertical-align: middle;\n    }\n\n    .dataframe tbody tr th {\n        vertical-align: top;\n    }\n\n    .dataframe thead th {\n        text-align: right;\n    }\n</style>\n<table border=\"1\" class=\"dataframe\">\n  <thead>\n    <tr style=\"text-align: right;\">\n      <th></th>\n      <th>first</th>\n      <th>last</th>\n      <th>email</th>\n      <th>fullname</th>\n    </tr>\n  </thead>\n  <tbody>\n    <tr>\n      <th>0</th>\n      <td>Corey</td>\n      <td>Schafer</td>\n      <td>CoreySchafer@gmail.com</td>\n      <td>Corey Schafer</td>\n    </tr>\n    <tr>\n      <th>1</th>\n      <td>Jane</td>\n      <td>Doe</td>\n      <td>JaneDoe@hotmail.com</td>\n      <td>Jane Doe</td>\n    </tr>\n    <tr>\n      <th>2</th>\n      <td>John</td>\n      <td>Smith</td>\n      <td>JohnSmith@outlook.com</td>\n      <td>John Smith</td>\n    </tr>\n  </tbody>\n</table>\n</div>"
     },
     "metadata": {},
     "execution_count": 4
    }
   ],
   "source": [
    "df['fullname'] = df['first'] + ' ' + df['last']\n",
    "\n",
    "df"
   ]
  },
  {
   "cell_type": "code",
   "execution_count": null,
   "metadata": {},
   "outputs": [],
   "source": []
  }
 ]
}
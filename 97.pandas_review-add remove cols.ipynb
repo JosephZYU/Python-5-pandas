{
 "metadata": {
  "language_info": {
   "codemirror_mode": {
    "name": "ipython",
    "version": 3
   },
   "file_extension": ".py",
   "mimetype": "text/x-python",
   "name": "python",
   "nbconvert_exporter": "python",
   "pygments_lexer": "ipython3",
   "version": "3.9.0-final"
  },
  "orig_nbformat": 2,
  "kernelspec": {
   "name": "python3",
   "display_name": "Python 3",
   "language": "python"
  }
 },
 "nbformat": 4,
 "nbformat_minor": 2,
 "cells": [
  {
   "cell_type": "code",
   "execution_count": 10,
   "metadata": {},
   "outputs": [],
   "source": [
    "import pandas as pd\n",
    "import numpy as np\n",
    "\n",
    "people = {\n",
    "    \"first\":['Corey', 'Jane', 'John'],\n",
    "    \"last\":['Schafer', 'Doe', 'Smith'],\n",
    "    \"email\":['CoreySchafer@gmail.com','JaneDoe@hotmail.com','JohnSmith@outlook.com'],\n",
    "}\n",
    "\n",
    "\n",
    "pd.set_option('display.max_columns', 100)\n",
    "pd.set_option('display.max_rows', 100)\n",
    "pd.set_option('display.max_colwidth', None)  \n",
    "\n",
    "\n",
    "pd.set_option('display.float_format', lambda x: '%.4f' % x)\n",
    "\n",
    "\n",
    "survey_source = '/Users/josephyu/Documents/GitHub/data/survey_results_public.csv'\n",
    "schema_source = '/Users/josephyu/Documents/GitHub/data/survey_results_schema.csv'\n",
    "\n",
    "\n",
    "df = pd.read_csv(survey_source, index_col = 'Respondent')\n",
    "schema_df = pd.read_csv(schema_source, index_col = 'Column')\n",
    "pp_df = pd.DataFrame(people)\n",
    "\n",
    "# ['Hobbyist', 'OpenSourcer', 'Region'] -> PERFECT Data Quality by column"
   ]
  },
  {
   "cell_type": "code",
   "execution_count": 11,
   "metadata": {},
   "outputs": [],
   "source": [
    "df = pp_df"
   ]
  },
  {
   "cell_type": "code",
   "execution_count": 14,
   "metadata": {},
   "outputs": [],
   "source": [
    "df = df.applymap(str.strip)"
   ]
  },
  {
   "cell_type": "code",
   "execution_count": 16,
   "metadata": {},
   "outputs": [],
   "source": [
    "df['name'] = df['first'] + ' ' + df['last']"
   ]
  },
  {
   "cell_type": "code",
   "execution_count": 17,
   "metadata": {},
   "outputs": [
    {
     "output_type": "execute_result",
     "data": {
      "text/plain": [
       "   first     last                   email           name\n",
       "0  Corey  Schafer  CoreySchafer@gmail.com  Corey Schafer\n",
       "1   Jane      Doe     JaneDoe@hotmail.com       Jane Doe\n",
       "2   John    Smith   JohnSmith@outlook.com     John Smith"
      ],
      "text/html": "<div>\n<style scoped>\n    .dataframe tbody tr th:only-of-type {\n        vertical-align: middle;\n    }\n\n    .dataframe tbody tr th {\n        vertical-align: top;\n    }\n\n    .dataframe thead th {\n        text-align: right;\n    }\n</style>\n<table border=\"1\" class=\"dataframe\">\n  <thead>\n    <tr style=\"text-align: right;\">\n      <th></th>\n      <th>first</th>\n      <th>last</th>\n      <th>email</th>\n      <th>name</th>\n    </tr>\n  </thead>\n  <tbody>\n    <tr>\n      <th>0</th>\n      <td>Corey</td>\n      <td>Schafer</td>\n      <td>CoreySchafer@gmail.com</td>\n      <td>Corey Schafer</td>\n    </tr>\n    <tr>\n      <th>1</th>\n      <td>Jane</td>\n      <td>Doe</td>\n      <td>JaneDoe@hotmail.com</td>\n      <td>Jane Doe</td>\n    </tr>\n    <tr>\n      <th>2</th>\n      <td>John</td>\n      <td>Smith</td>\n      <td>JohnSmith@outlook.com</td>\n      <td>John Smith</td>\n    </tr>\n  </tbody>\n</table>\n</div>"
     },
     "metadata": {},
     "execution_count": 17
    }
   ],
   "source": [
    "df"
   ]
  },
  {
   "cell_type": "code",
   "execution_count": 20,
   "metadata": {},
   "outputs": [],
   "source": [
    "df.drop(columns=['first', 'last'], inplace=True)"
   ]
  },
  {
   "cell_type": "code",
   "execution_count": 21,
   "metadata": {},
   "outputs": [
    {
     "output_type": "execute_result",
     "data": {
      "text/plain": [
       "                    email           name\n",
       "0  CoreySchafer@gmail.com  Corey Schafer\n",
       "1     JaneDoe@hotmail.com       Jane Doe\n",
       "2   JohnSmith@outlook.com     John Smith"
      ],
      "text/html": "<div>\n<style scoped>\n    .dataframe tbody tr th:only-of-type {\n        vertical-align: middle;\n    }\n\n    .dataframe tbody tr th {\n        vertical-align: top;\n    }\n\n    .dataframe thead th {\n        text-align: right;\n    }\n</style>\n<table border=\"1\" class=\"dataframe\">\n  <thead>\n    <tr style=\"text-align: right;\">\n      <th></th>\n      <th>email</th>\n      <th>name</th>\n    </tr>\n  </thead>\n  <tbody>\n    <tr>\n      <th>0</th>\n      <td>CoreySchafer@gmail.com</td>\n      <td>Corey Schafer</td>\n    </tr>\n    <tr>\n      <th>1</th>\n      <td>JaneDoe@hotmail.com</td>\n      <td>Jane Doe</td>\n    </tr>\n    <tr>\n      <th>2</th>\n      <td>JohnSmith@outlook.com</td>\n      <td>John Smith</td>\n    </tr>\n  </tbody>\n</table>\n</div>"
     },
     "metadata": {},
     "execution_count": 21
    }
   ],
   "source": [
    "df"
   ]
  },
  {
   "cell_type": "code",
   "execution_count": 24,
   "metadata": {},
   "outputs": [],
   "source": [
    "df.set_index('email', inplace=True)"
   ]
  },
  {
   "cell_type": "code",
   "execution_count": 25,
   "metadata": {},
   "outputs": [
    {
     "output_type": "execute_result",
     "data": {
      "text/plain": [
       "                                 name\n",
       "email                                \n",
       "CoreySchafer@gmail.com  Corey Schafer\n",
       "JaneDoe@hotmail.com          Jane Doe\n",
       "JohnSmith@outlook.com      John Smith"
      ],
      "text/html": "<div>\n<style scoped>\n    .dataframe tbody tr th:only-of-type {\n        vertical-align: middle;\n    }\n\n    .dataframe tbody tr th {\n        vertical-align: top;\n    }\n\n    .dataframe thead th {\n        text-align: right;\n    }\n</style>\n<table border=\"1\" class=\"dataframe\">\n  <thead>\n    <tr style=\"text-align: right;\">\n      <th></th>\n      <th>name</th>\n    </tr>\n    <tr>\n      <th>email</th>\n      <th></th>\n    </tr>\n  </thead>\n  <tbody>\n    <tr>\n      <th>CoreySchafer@gmail.com</th>\n      <td>Corey Schafer</td>\n    </tr>\n    <tr>\n      <th>JaneDoe@hotmail.com</th>\n      <td>Jane Doe</td>\n    </tr>\n    <tr>\n      <th>JohnSmith@outlook.com</th>\n      <td>John Smith</td>\n    </tr>\n  </tbody>\n</table>\n</div>"
     },
     "metadata": {},
     "execution_count": 25
    }
   ],
   "source": [
    "df.set_index('')"
   ]
  },
  {
   "cell_type": "code",
   "execution_count": 29,
   "metadata": {},
   "outputs": [],
   "source": [
    "df.index = df.index.str.lower()"
   ]
  },
  {
   "cell_type": "code",
   "execution_count": 30,
   "metadata": {},
   "outputs": [
    {
     "output_type": "execute_result",
     "data": {
      "text/plain": [
       "                                 name\n",
       "email                                \n",
       "coreyschafer@gmail.com  Corey Schafer\n",
       "janedoe@hotmail.com          Jane Doe\n",
       "johnsmith@outlook.com      John Smith"
      ],
      "text/html": "<div>\n<style scoped>\n    .dataframe tbody tr th:only-of-type {\n        vertical-align: middle;\n    }\n\n    .dataframe tbody tr th {\n        vertical-align: top;\n    }\n\n    .dataframe thead th {\n        text-align: right;\n    }\n</style>\n<table border=\"1\" class=\"dataframe\">\n  <thead>\n    <tr style=\"text-align: right;\">\n      <th></th>\n      <th>name</th>\n    </tr>\n    <tr>\n      <th>email</th>\n      <th></th>\n    </tr>\n  </thead>\n  <tbody>\n    <tr>\n      <th>coreyschafer@gmail.com</th>\n      <td>Corey Schafer</td>\n    </tr>\n    <tr>\n      <th>janedoe@hotmail.com</th>\n      <td>Jane Doe</td>\n    </tr>\n    <tr>\n      <th>johnsmith@outlook.com</th>\n      <td>John Smith</td>\n    </tr>\n  </tbody>\n</table>\n</div>"
     },
     "metadata": {},
     "execution_count": 30
    }
   ],
   "source": [
    "df"
   ]
  },
  {
   "cell_type": "code",
   "execution_count": 38,
   "metadata": {},
   "outputs": [
    {
     "output_type": "execute_result",
     "data": {
      "text/plain": [
       "                            0        1\n",
       "email                                 \n",
       "coreyschafer@gmail.com  Corey  Schafer\n",
       "janedoe@hotmail.com      Jane      Doe\n",
       "johnsmith@outlook.com    John    Smith"
      ],
      "text/html": "<div>\n<style scoped>\n    .dataframe tbody tr th:only-of-type {\n        vertical-align: middle;\n    }\n\n    .dataframe tbody tr th {\n        vertical-align: top;\n    }\n\n    .dataframe thead th {\n        text-align: right;\n    }\n</style>\n<table border=\"1\" class=\"dataframe\">\n  <thead>\n    <tr style=\"text-align: right;\">\n      <th></th>\n      <th>0</th>\n      <th>1</th>\n    </tr>\n    <tr>\n      <th>email</th>\n      <th></th>\n      <th></th>\n    </tr>\n  </thead>\n  <tbody>\n    <tr>\n      <th>coreyschafer@gmail.com</th>\n      <td>Corey</td>\n      <td>Schafer</td>\n    </tr>\n    <tr>\n      <th>janedoe@hotmail.com</th>\n      <td>Jane</td>\n      <td>Doe</td>\n    </tr>\n    <tr>\n      <th>johnsmith@outlook.com</th>\n      <td>John</td>\n      <td>Smith</td>\n    </tr>\n  </tbody>\n</table>\n</div>"
     },
     "metadata": {},
     "execution_count": 38
    }
   ],
   "source": [
    "# 🧠 str.split('', expand=True) -> str.split( , expand=True)\n",
    "\n",
    "df['name'].str.split(' ', expand=True)"
   ]
  },
  {
   "cell_type": "code",
   "execution_count": 39,
   "metadata": {},
   "outputs": [
    {
     "output_type": "execute_result",
     "data": {
      "text/plain": [
       "                                 name first_name last_name\n",
       "email                                                     \n",
       "coreyschafer@gmail.com  Corey Schafer      Corey   Schafer\n",
       "janedoe@hotmail.com          Jane Doe       Jane       Doe\n",
       "johnsmith@outlook.com      John Smith       John     Smith"
      ],
      "text/html": "<div>\n<style scoped>\n    .dataframe tbody tr th:only-of-type {\n        vertical-align: middle;\n    }\n\n    .dataframe tbody tr th {\n        vertical-align: top;\n    }\n\n    .dataframe thead th {\n        text-align: right;\n    }\n</style>\n<table border=\"1\" class=\"dataframe\">\n  <thead>\n    <tr style=\"text-align: right;\">\n      <th></th>\n      <th>name</th>\n      <th>first_name</th>\n      <th>last_name</th>\n    </tr>\n    <tr>\n      <th>email</th>\n      <th></th>\n      <th></th>\n      <th></th>\n    </tr>\n  </thead>\n  <tbody>\n    <tr>\n      <th>coreyschafer@gmail.com</th>\n      <td>Corey Schafer</td>\n      <td>Corey</td>\n      <td>Schafer</td>\n    </tr>\n    <tr>\n      <th>janedoe@hotmail.com</th>\n      <td>Jane Doe</td>\n      <td>Jane</td>\n      <td>Doe</td>\n    </tr>\n    <tr>\n      <th>johnsmith@outlook.com</th>\n      <td>John Smith</td>\n      <td>John</td>\n      <td>Smith</td>\n    </tr>\n  </tbody>\n</table>\n</div>"
     },
     "metadata": {},
     "execution_count": 39
    }
   ],
   "source": [
    "df[['first_name', 'last_name']] = df['name'].str.split(' ', expand=True)\n",
    "\n",
    "df"
   ]
  },
  {
   "cell_type": "code",
   "execution_count": 51,
   "metadata": {},
   "outputs": [],
   "source": [
    "df.loc['josephyu@gmail.com'] = {\n",
    "    'name': 'Joseph Yu',\n",
    "    'first_name': 'Joseph',\n",
    "    'last_name': 'Yu'\n",
    "    }"
   ]
  },
  {
   "cell_type": "code",
   "execution_count": 52,
   "metadata": {},
   "outputs": [
    {
     "output_type": "execute_result",
     "data": {
      "text/plain": [
       "                                 name first_name last_name\n",
       "email                                                     \n",
       "coreyschafer@gmail.com  Corey Schafer      Corey   Schafer\n",
       "janedoe@hotmail.com          Jane Doe       Jane       Doe\n",
       "johnsmith@outlook.com      John Smith       John     Smith\n",
       "josephyu@gmail.com          Joseph Yu     Joseph        Yu"
      ],
      "text/html": "<div>\n<style scoped>\n    .dataframe tbody tr th:only-of-type {\n        vertical-align: middle;\n    }\n\n    .dataframe tbody tr th {\n        vertical-align: top;\n    }\n\n    .dataframe thead th {\n        text-align: right;\n    }\n</style>\n<table border=\"1\" class=\"dataframe\">\n  <thead>\n    <tr style=\"text-align: right;\">\n      <th></th>\n      <th>name</th>\n      <th>first_name</th>\n      <th>last_name</th>\n    </tr>\n    <tr>\n      <th>email</th>\n      <th></th>\n      <th></th>\n      <th></th>\n    </tr>\n  </thead>\n  <tbody>\n    <tr>\n      <th>coreyschafer@gmail.com</th>\n      <td>Corey Schafer</td>\n      <td>Corey</td>\n      <td>Schafer</td>\n    </tr>\n    <tr>\n      <th>janedoe@hotmail.com</th>\n      <td>Jane Doe</td>\n      <td>Jane</td>\n      <td>Doe</td>\n    </tr>\n    <tr>\n      <th>johnsmith@outlook.com</th>\n      <td>John Smith</td>\n      <td>John</td>\n      <td>Smith</td>\n    </tr>\n    <tr>\n      <th>josephyu@gmail.com</th>\n      <td>Joseph Yu</td>\n      <td>Joseph</td>\n      <td>Yu</td>\n    </tr>\n  </tbody>\n</table>\n</div>"
     },
     "metadata": {},
     "execution_count": 52
    }
   ],
   "source": [
    "df"
   ]
  },
  {
   "cell_type": "code",
   "execution_count": 57,
   "metadata": {},
   "outputs": [
    {
     "output_type": "execute_result",
     "data": {
      "text/plain": [
       "            name first_name last_name\n",
       "0  Corey Schafer      Corey   Schafer\n",
       "1       Jane Doe       Jane       Doe\n",
       "2     John Smith       John     Smith\n",
       "3      Joseph Yu     Joseph        Yu\n",
       "4     Adam Smith        NaN       NaN"
      ],
      "text/html": "<div>\n<style scoped>\n    .dataframe tbody tr th:only-of-type {\n        vertical-align: middle;\n    }\n\n    .dataframe tbody tr th {\n        vertical-align: top;\n    }\n\n    .dataframe thead th {\n        text-align: right;\n    }\n</style>\n<table border=\"1\" class=\"dataframe\">\n  <thead>\n    <tr style=\"text-align: right;\">\n      <th></th>\n      <th>name</th>\n      <th>first_name</th>\n      <th>last_name</th>\n    </tr>\n  </thead>\n  <tbody>\n    <tr>\n      <th>0</th>\n      <td>Corey Schafer</td>\n      <td>Corey</td>\n      <td>Schafer</td>\n    </tr>\n    <tr>\n      <th>1</th>\n      <td>Jane Doe</td>\n      <td>Jane</td>\n      <td>Doe</td>\n    </tr>\n    <tr>\n      <th>2</th>\n      <td>John Smith</td>\n      <td>John</td>\n      <td>Smith</td>\n    </tr>\n    <tr>\n      <th>3</th>\n      <td>Joseph Yu</td>\n      <td>Joseph</td>\n      <td>Yu</td>\n    </tr>\n    <tr>\n      <th>4</th>\n      <td>Adam Smith</td>\n      <td>NaN</td>\n      <td>NaN</td>\n    </tr>\n  </tbody>\n</table>\n</div>"
     },
     "metadata": {},
     "execution_count": 57
    }
   ],
   "source": [
    "# 🧠 df.append({dict}, ignore_index=True) -> ignore_index=True\n",
    "\n",
    "df.append({\n",
    "    'name': 'Adam Smith',\n",
    "    # 'first_name': 'Joseph',\n",
    "    # 'last_name': 'Yu'\n",
    "    }, ignore_index=True)"
   ]
  },
  {
   "cell_type": "code",
   "execution_count": 55,
   "metadata": {},
   "outputs": [
    {
     "output_type": "execute_result",
     "data": {
      "text/plain": [
       "                                 name first_name last_name\n",
       "email                                                     \n",
       "coreyschafer@gmail.com  Corey Schafer      Corey   Schafer\n",
       "janedoe@hotmail.com          Jane Doe       Jane       Doe\n",
       "johnsmith@outlook.com      John Smith       John     Smith\n",
       "josephyu@gmail.com          Joseph Yu     Joseph        Yu"
      ],
      "text/html": "<div>\n<style scoped>\n    .dataframe tbody tr th:only-of-type {\n        vertical-align: middle;\n    }\n\n    .dataframe tbody tr th {\n        vertical-align: top;\n    }\n\n    .dataframe thead th {\n        text-align: right;\n    }\n</style>\n<table border=\"1\" class=\"dataframe\">\n  <thead>\n    <tr style=\"text-align: right;\">\n      <th></th>\n      <th>name</th>\n      <th>first_name</th>\n      <th>last_name</th>\n    </tr>\n    <tr>\n      <th>email</th>\n      <th></th>\n      <th></th>\n      <th></th>\n    </tr>\n  </thead>\n  <tbody>\n    <tr>\n      <th>coreyschafer@gmail.com</th>\n      <td>Corey Schafer</td>\n      <td>Corey</td>\n      <td>Schafer</td>\n    </tr>\n    <tr>\n      <th>janedoe@hotmail.com</th>\n      <td>Jane Doe</td>\n      <td>Jane</td>\n      <td>Doe</td>\n    </tr>\n    <tr>\n      <th>johnsmith@outlook.com</th>\n      <td>John Smith</td>\n      <td>John</td>\n      <td>Smith</td>\n    </tr>\n    <tr>\n      <th>josephyu@gmail.com</th>\n      <td>Joseph Yu</td>\n      <td>Joseph</td>\n      <td>Yu</td>\n    </tr>\n  </tbody>\n</table>\n</div>"
     },
     "metadata": {},
     "execution_count": 55
    }
   ],
   "source": [
    "df"
   ]
  },
  {
   "cell_type": "code",
   "execution_count": 58,
   "metadata": {},
   "outputs": [],
   "source": [
    "people = {\n",
    "    \"first\":['Tony', 'Steve'],\n",
    "    \"last\":['Stark', 'Rogers'],\n",
    "    \"email\":['IronMan@avenge.com','Cap@avenge.com'],\n",
    "}"
   ]
  },
  {
   "cell_type": "code",
   "execution_count": 59,
   "metadata": {},
   "outputs": [
    {
     "output_type": "execute_result",
     "data": {
      "text/plain": [
       "   first    last               email\n",
       "0   Tony   Stark  IronMan@avenge.com\n",
       "1  Steve  Rogers      Cap@avenge.com"
      ],
      "text/html": "<div>\n<style scoped>\n    .dataframe tbody tr th:only-of-type {\n        vertical-align: middle;\n    }\n\n    .dataframe tbody tr th {\n        vertical-align: top;\n    }\n\n    .dataframe thead th {\n        text-align: right;\n    }\n</style>\n<table border=\"1\" class=\"dataframe\">\n  <thead>\n    <tr style=\"text-align: right;\">\n      <th></th>\n      <th>first</th>\n      <th>last</th>\n      <th>email</th>\n    </tr>\n  </thead>\n  <tbody>\n    <tr>\n      <th>0</th>\n      <td>Tony</td>\n      <td>Stark</td>\n      <td>IronMan@avenge.com</td>\n    </tr>\n    <tr>\n      <th>1</th>\n      <td>Steve</td>\n      <td>Rogers</td>\n      <td>Cap@avenge.com</td>\n    </tr>\n  </tbody>\n</table>\n</div>"
     },
     "metadata": {},
     "execution_count": 59
    }
   ],
   "source": [
    "df2= pd.DataFrame(people)\n",
    "\n",
    "df2"
   ]
  },
  {
   "cell_type": "code",
   "execution_count": 69,
   "metadata": {},
   "outputs": [],
   "source": [
    "df2 = df2.append({\n",
    "    \"first\":'Joseph',\n",
    "    \"last\":'Yu',\n",
    "    \"email\":'SuperMan@avenge.com',\n",
    "}, ignore_index=True)"
   ]
  },
  {
   "cell_type": "code",
   "execution_count": 70,
   "metadata": {},
   "outputs": [
    {
     "output_type": "execute_result",
     "data": {
      "text/plain": [
       "    first    last                email\n",
       "0    Tony   Stark   IronMan@avenge.com\n",
       "1   Steve  Rogers       Cap@avenge.com\n",
       "2  Joseph      Yu  SuperMan@avenge.com"
      ],
      "text/html": "<div>\n<style scoped>\n    .dataframe tbody tr th:only-of-type {\n        vertical-align: middle;\n    }\n\n    .dataframe tbody tr th {\n        vertical-align: top;\n    }\n\n    .dataframe thead th {\n        text-align: right;\n    }\n</style>\n<table border=\"1\" class=\"dataframe\">\n  <thead>\n    <tr style=\"text-align: right;\">\n      <th></th>\n      <th>first</th>\n      <th>last</th>\n      <th>email</th>\n    </tr>\n  </thead>\n  <tbody>\n    <tr>\n      <th>0</th>\n      <td>Tony</td>\n      <td>Stark</td>\n      <td>IronMan@avenge.com</td>\n    </tr>\n    <tr>\n      <th>1</th>\n      <td>Steve</td>\n      <td>Rogers</td>\n      <td>Cap@avenge.com</td>\n    </tr>\n    <tr>\n      <th>2</th>\n      <td>Joseph</td>\n      <td>Yu</td>\n      <td>SuperMan@avenge.com</td>\n    </tr>\n  </tbody>\n</table>\n</div>"
     },
     "metadata": {},
     "execution_count": 70
    }
   ],
   "source": [
    "df2"
   ]
  },
  {
   "cell_type": "code",
   "execution_count": 82,
   "metadata": {},
   "outputs": [
    {
     "output_type": "execute_result",
     "data": {
      "text/plain": [
       "                 email\n",
       "0   IronMan@avenge.com\n",
       "1       Cap@avenge.com\n",
       "2  SuperMan@avenge.com"
      ],
      "text/html": "<div>\n<style scoped>\n    .dataframe tbody tr th:only-of-type {\n        vertical-align: middle;\n    }\n\n    .dataframe tbody tr th {\n        vertical-align: top;\n    }\n\n    .dataframe thead th {\n        text-align: right;\n    }\n</style>\n<table border=\"1\" class=\"dataframe\">\n  <thead>\n    <tr style=\"text-align: right;\">\n      <th></th>\n      <th>email</th>\n    </tr>\n  </thead>\n  <tbody>\n    <tr>\n      <th>0</th>\n      <td>IronMan@avenge.com</td>\n    </tr>\n    <tr>\n      <th>1</th>\n      <td>Cap@avenge.com</td>\n    </tr>\n    <tr>\n      <th>2</th>\n      <td>SuperMan@avenge.com</td>\n    </tr>\n  </tbody>\n</table>\n</div>"
     },
     "metadata": {},
     "execution_count": 82
    }
   ],
   "source": [
    "df2.drop(columns=['last', 'first'])"
   ]
  },
  {
   "cell_type": "code",
   "execution_count": 79,
   "metadata": {},
   "outputs": [
    {
     "output_type": "execute_result",
     "data": {
      "text/plain": [
       "                                 name first_name last_name\n",
       "email                                                     \n",
       "coreyschafer@gmail.com  Corey Schafer      Corey   Schafer\n",
       "janedoe@hotmail.com          Jane Doe       Jane       Doe\n",
       "johnsmith@outlook.com      John Smith       John     Smith\n",
       "josephyu@gmail.com          Joseph Yu     Joseph        Yu"
      ],
      "text/html": "<div>\n<style scoped>\n    .dataframe tbody tr th:only-of-type {\n        vertical-align: middle;\n    }\n\n    .dataframe tbody tr th {\n        vertical-align: top;\n    }\n\n    .dataframe thead th {\n        text-align: right;\n    }\n</style>\n<table border=\"1\" class=\"dataframe\">\n  <thead>\n    <tr style=\"text-align: right;\">\n      <th></th>\n      <th>name</th>\n      <th>first_name</th>\n      <th>last_name</th>\n    </tr>\n    <tr>\n      <th>email</th>\n      <th></th>\n      <th></th>\n      <th></th>\n    </tr>\n  </thead>\n  <tbody>\n    <tr>\n      <th>coreyschafer@gmail.com</th>\n      <td>Corey Schafer</td>\n      <td>Corey</td>\n      <td>Schafer</td>\n    </tr>\n    <tr>\n      <th>janedoe@hotmail.com</th>\n      <td>Jane Doe</td>\n      <td>Jane</td>\n      <td>Doe</td>\n    </tr>\n    <tr>\n      <th>johnsmith@outlook.com</th>\n      <td>John Smith</td>\n      <td>John</td>\n      <td>Smith</td>\n    </tr>\n    <tr>\n      <th>josephyu@gmail.com</th>\n      <td>Joseph Yu</td>\n      <td>Joseph</td>\n      <td>Yu</td>\n    </tr>\n  </tbody>\n</table>\n</div>"
     },
     "metadata": {},
     "execution_count": 79
    }
   ],
   "source": []
  },
  {
   "cell_type": "code",
   "execution_count": null,
   "metadata": {},
   "outputs": [],
   "source": []
  }
 ]
}
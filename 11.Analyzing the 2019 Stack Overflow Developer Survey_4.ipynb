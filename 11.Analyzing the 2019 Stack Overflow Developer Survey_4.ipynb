{
 "metadata": {
  "language_info": {
   "codemirror_mode": {
    "name": "ipython",
    "version": 3
   },
   "file_extension": ".py",
   "mimetype": "text/x-python",
   "name": "python",
   "nbconvert_exporter": "python",
   "pygments_lexer": "ipython3",
   "version": "3.9.0-final"
  },
  "orig_nbformat": 2,
  "kernelspec": {
   "name": "python3",
   "display_name": "Python 3",
   "language": "python"
  }
 },
 "nbformat": 4,
 "nbformat_minor": 2,
 "cells": [
  {
   "cell_type": "code",
   "execution_count": null,
   "metadata": {},
   "outputs": [],
   "source": [
    "\"\"\"\n",
    "the median salaries for these developer types \n",
    "what programming languages have the highest job satisfaction \n",
    "\n",
    "what the most preferred development environment is \n",
    "for the different development types and languages\n",
    "\"\"\""
   ]
  },
  {
   "cell_type": "code",
   "execution_count": 1,
   "metadata": {},
   "outputs": [],
   "source": [
    "# Ref - concat - concatination\n",
    "# https://youtu.be/txMdrV1Ut64?t=2131\n",
    "\n",
    "import pandas as pd\n",
    "\n",
    "pd.set_option('display.max_columns', 100)\n",
    "pd.set_option('display.max_rows', 100)\n",
    "\n",
    "survey_source = '/Users/josephyu/Documents/GitHub/data/survey_results_public.csv'\n",
    "schema_source = '/Users/josephyu/Documents/GitHub/data/survey_results_schema.csv'\n",
    "\n",
    "df = pd.read_csv(survey_source)  # index_col = 'Respondent'\n",
    "schema_df = pd.read_csv(schema_source, index_col = 'Column')"
   ]
  },
  {
   "cell_type": "code",
   "execution_count": 2,
   "metadata": {},
   "outputs": [
    {
     "output_type": "execute_result",
     "data": {
      "text/plain": [
       "(88883, 85)"
      ]
     },
     "metadata": {},
     "execution_count": 2
    }
   ],
   "source": [
    "df.shape"
   ]
  },
  {
   "cell_type": "code",
   "execution_count": 4,
   "metadata": {},
   "outputs": [
    {
     "output_type": "execute_result",
     "data": {
      "text/plain": [
       "Index(['Respondent', 'MainBranch', 'Hobbyist', 'OpenSourcer', 'OpenSource',\n",
       "       'Employment', 'Country', 'Student', 'EdLevel', 'UndergradMajor',\n",
       "       'EduOther', 'OrgSize', 'DevType', 'YearsCode', 'Age1stCode',\n",
       "       'YearsCodePro', 'CareerSat', 'JobSat', 'MgrIdiot', 'MgrMoney',\n",
       "       'MgrWant', 'JobSeek', 'LastHireDate', 'LastInt', 'FizzBuzz',\n",
       "       'JobFactors', 'ResumeUpdate', 'CurrencySymbol', 'CurrencyDesc',\n",
       "       'CompTotal', 'CompFreq', 'ConvertedComp', 'WorkWeekHrs', 'WorkPlan',\n",
       "       'WorkChallenge', 'WorkRemote', 'WorkLoc', 'ImpSyn', 'CodeRev',\n",
       "       'CodeRevHrs', 'UnitTests', 'PurchaseHow', 'PurchaseWhat',\n",
       "       'LanguageWorkedWith', 'LanguageDesireNextYear', 'DatabaseWorkedWith',\n",
       "       'DatabaseDesireNextYear', 'PlatformWorkedWith',\n",
       "       'PlatformDesireNextYear', 'WebFrameWorkedWith',\n",
       "       'WebFrameDesireNextYear', 'MiscTechWorkedWith',\n",
       "       'MiscTechDesireNextYear', 'DevEnviron', 'OpSys', 'Containers',\n",
       "       'BlockchainOrg', 'BlockchainIs', 'BetterLife', 'ITperson', 'OffOn',\n",
       "       'SocialMedia', 'Extraversion', 'ScreenName', 'SOVisit1st',\n",
       "       'SOVisitFreq', 'SOVisitTo', 'SOFindAnswer', 'SOTimeSaved',\n",
       "       'SOHowMuchTime', 'SOAccount', 'SOPartFreq', 'SOJobs', 'EntTeams',\n",
       "       'SOComm', 'WelcomeChange', 'SONewContent', 'Age', 'Gender', 'Trans',\n",
       "       'Sexuality', 'Ethnicity', 'Dependents', 'SurveyLength', 'SurveyEase'],\n",
       "      dtype='object')"
      ]
     },
     "metadata": {},
     "execution_count": 4
    }
   ],
   "source": [
    "df.columns"
   ]
  },
  {
   "cell_type": "code",
   "execution_count": 30,
   "metadata": {},
   "outputs": [
    {
     "output_type": "execute_result",
     "data": {
      "text/plain": [
       "3738452440.0"
      ]
     },
     "metadata": {},
     "execution_count": 30
    }
   ],
   "source": [
    "df.groupby('Country')['ConvertedComp'].apply(sum)['United States']"
   ]
  },
  {
   "cell_type": "code",
   "execution_count": 36,
   "metadata": {},
   "outputs": [
    {
     "output_type": "execute_result",
     "data": {
      "text/plain": [
       "QuestionText    How satisfied are you with your current job? (...\n",
       "Name: JobSat, dtype: object"
      ]
     },
     "metadata": {},
     "execution_count": 36
    }
   ],
   "source": [
    "# JobSat\n",
    "schema_df.loc['JobSat']  # How satisfied are you with your current job?"
   ]
  },
  {
   "cell_type": "code",
   "execution_count": 38,
   "metadata": {},
   "outputs": [
    {
     "output_type": "execute_result",
     "data": {
      "text/plain": [
       "Slightly satisfied                    24207\n",
       "Very satisfied                        22452\n",
       "Slightly dissatisfied                 10752\n",
       "Neither satisfied nor dissatisfied     8720\n",
       "Very dissatisfied                      4857\n",
       "Name: JobSat, dtype: int64"
      ]
     },
     "metadata": {},
     "execution_count": 38
    }
   ],
   "source": [
    "df['JobSat'].value_counts()"
   ]
  },
  {
   "cell_type": "code",
   "execution_count": 46,
   "metadata": {},
   "outputs": [
    {
     "output_type": "execute_result",
     "data": {
      "text/plain": [
       "JobSat\n",
       "Slightly satisfied                    0.288840\n",
       "Slightly dissatisfied                 0.284464\n",
       "Neither satisfied nor dissatisfied    0.258206\n",
       "Very dissatisfied                     0.085339\n",
       "Very satisfied                        0.083151\n",
       "Name: JobSat, dtype: float64"
      ]
     },
     "metadata": {},
     "execution_count": 46
    }
   ],
   "source": [
    "df.groupby('Country')['JobSat'].value_counts(normalize=True)['China']"
   ]
  },
  {
   "cell_type": "code",
   "execution_count": 74,
   "metadata": {
    "tags": []
   },
   "outputs": [
    {
     "output_type": "stream",
     "name": "stdout",
     "text": [
      "['Developer, desktop or enterprise applications', 'Developer, front-end', 'Designer', 'Developer, back-end', 'Developer, front-end', 'Developer, full-stack', 'Developer, full-stack', 'Academic researcher', 'Developer, desktop or enterprise applications', 'Developer, full-stack', 'Developer, mobile', 'Data or business analyst', 'Data scientist or machine learning specialist', 'Database administrator', 'Engineer, data']\n\n['Developer, desktop or enterprise applications', 'Data or business analyst', 'Academic researcher', 'Data scientist or machine learning specialist', 'Engineer, data', 'Developer, full-stack', 'Developer, back-end', 'Developer, mobile', 'Database administrator', 'Designer', 'Developer, front-end']\n"
     ]
    }
   ],
   "source": [
    "# df['TBD'].str.split(' - ', expand=True)\n",
    "\n",
    "li_con = []\n",
    "\n",
    "for i in df['DevType'][1:6].unique():\n",
    "    li_con.extend(i.split(';'))\n",
    "    # print(i.split(';'))\n",
    "\n",
    "print(li_con)\n",
    "print()\n",
    "print(list(set(li_con)))"
   ]
  },
  {
   "cell_type": "code",
   "execution_count": null,
   "metadata": {},
   "outputs": [],
   "source": [
    "\"\"\"\n",
    "\n",
    "1. Get the complete list of unqiue values from df['DevType']\n",
    "2. Count the MOST common DevType Top 10 (E.g. Developer, full-stack ; Database administrator)\n",
    "3. Apply \"df['DevType'].str.contains\" -> which DevType has the highest job satisfication?\n",
    "\n",
    "\"\"\""
   ]
  },
  {
   "cell_type": "code",
   "execution_count": 101,
   "metadata": {},
   "outputs": [],
   "source": [
    "row_filter = df['JobSat'].str.contains('Very satisfied')\n",
    "\n",
    "df['JobSat'].fillna('Neither satisfied nor dissatisfied', inplace=True)"
   ]
  },
  {
   "cell_type": "code",
   "execution_count": 102,
   "metadata": {},
   "outputs": [
    {
     "output_type": "execute_result",
     "data": {
      "text/plain": [
       "0        Neither satisfied nor dissatisfied\n",
       "1        Neither satisfied nor dissatisfied\n",
       "2                        Slightly satisfied\n",
       "3                        Slightly satisfied\n",
       "4                     Slightly dissatisfied\n",
       "                        ...                \n",
       "88878    Neither satisfied nor dissatisfied\n",
       "88879    Neither satisfied nor dissatisfied\n",
       "88880    Neither satisfied nor dissatisfied\n",
       "88881    Neither satisfied nor dissatisfied\n",
       "88882    Neither satisfied nor dissatisfied\n",
       "Name: JobSat, Length: 88883, dtype: object"
      ]
     },
     "metadata": {},
     "execution_count": 102
    }
   ],
   "source": [
    "df['JobSat']"
   ]
  },
  {
   "cell_type": "code",
   "execution_count": 144,
   "metadata": {},
   "outputs": [
    {
     "output_type": "execute_result",
     "data": {
      "text/plain": [
       "['United States',\n",
       " 'India',\n",
       " 'Germany',\n",
       " 'United Kingdom',\n",
       " 'Canada',\n",
       " 'France',\n",
       " 'Brazil',\n",
       " 'Poland',\n",
       " 'Australia',\n",
       " 'Netherlands',\n",
       " 'Russian Federation',\n",
       " 'Spain',\n",
       " 'Italy',\n",
       " 'Sweden',\n",
       " 'Switzerland',\n",
       " 'Israel',\n",
       " 'Turkey',\n",
       " 'Pakistan',\n",
       " 'Ukraine',\n",
       " 'Austria',\n",
       " 'Czech Republic',\n",
       " 'Romania',\n",
       " 'Iran',\n",
       " 'Belgium',\n",
       " 'China',\n",
       " 'Bulgaria',\n",
       " 'Mexico',\n",
       " 'South Africa',\n",
       " 'Denmark',\n",
       " 'Bangladesh',\n",
       " 'Norway',\n",
       " 'Greece',\n",
       " 'Argentina',\n",
       " 'Finland',\n",
       " 'Portugal',\n",
       " 'New Zealand',\n",
       " 'Nigeria',\n",
       " 'Hungary',\n",
       " 'Indonesia',\n",
       " 'Ireland',\n",
       " 'Serbia',\n",
       " 'Japan',\n",
       " 'Philippines',\n",
       " 'Sri Lanka',\n",
       " 'Egypt',\n",
       " 'Colombia',\n",
       " 'Singapore',\n",
       " 'Malaysia',\n",
       " 'Slovenia',\n",
       " 'Slovakia']"
      ]
     },
     "metadata": {},
     "execution_count": 144
    }
   ],
   "source": [
    "tgt_countries = df['Country'].value_counts().head(50).index.tolist()\n",
    "\n",
    "tgt_countries"
   ]
  },
  {
   "cell_type": "code",
   "execution_count": 152,
   "metadata": {},
   "outputs": [],
   "source": [
    "# row_filter = (df['JobSat'].str.contains('Very satisfied')) & (df['Country'].isin(tgt_countries))\n",
    "row_filter = df['Country'].isin(tgt_countries)\n",
    "col_filter = ['Country', 'JobSat', 'ConvertedComp']"
   ]
  },
  {
   "cell_type": "code",
   "execution_count": 153,
   "metadata": {},
   "outputs": [
    {
     "output_type": "execute_result",
     "data": {
      "text/plain": [
       "              Country                              JobSat  ConvertedComp\n",
       "0      United Kingdom  Neither satisfied nor dissatisfied            NaN\n",
       "3       United States                  Slightly satisfied        61000.0\n",
       "4             Ukraine               Slightly dissatisfied            NaN\n",
       "5              Canada                  Slightly satisfied       366420.0\n",
       "6             Ukraine  Neither satisfied nor dissatisfied            NaN\n",
       "...               ...                                 ...            ...\n",
       "88875        Pakistan  Neither satisfied nor dissatisfied            NaN\n",
       "88876           Spain  Neither satisfied nor dissatisfied            NaN\n",
       "88877   United States  Neither satisfied nor dissatisfied            NaN\n",
       "88878          Canada  Neither satisfied nor dissatisfied            NaN\n",
       "88882           Spain  Neither satisfied nor dissatisfied            NaN\n",
       "\n",
       "[82147 rows x 3 columns]"
      ],
      "text/html": "<div>\n<style scoped>\n    .dataframe tbody tr th:only-of-type {\n        vertical-align: middle;\n    }\n\n    .dataframe tbody tr th {\n        vertical-align: top;\n    }\n\n    .dataframe thead th {\n        text-align: right;\n    }\n</style>\n<table border=\"1\" class=\"dataframe\">\n  <thead>\n    <tr style=\"text-align: right;\">\n      <th></th>\n      <th>Country</th>\n      <th>JobSat</th>\n      <th>ConvertedComp</th>\n    </tr>\n  </thead>\n  <tbody>\n    <tr>\n      <th>0</th>\n      <td>United Kingdom</td>\n      <td>Neither satisfied nor dissatisfied</td>\n      <td>NaN</td>\n    </tr>\n    <tr>\n      <th>3</th>\n      <td>United States</td>\n      <td>Slightly satisfied</td>\n      <td>61000.0</td>\n    </tr>\n    <tr>\n      <th>4</th>\n      <td>Ukraine</td>\n      <td>Slightly dissatisfied</td>\n      <td>NaN</td>\n    </tr>\n    <tr>\n      <th>5</th>\n      <td>Canada</td>\n      <td>Slightly satisfied</td>\n      <td>366420.0</td>\n    </tr>\n    <tr>\n      <th>6</th>\n      <td>Ukraine</td>\n      <td>Neither satisfied nor dissatisfied</td>\n      <td>NaN</td>\n    </tr>\n    <tr>\n      <th>...</th>\n      <td>...</td>\n      <td>...</td>\n      <td>...</td>\n    </tr>\n    <tr>\n      <th>88875</th>\n      <td>Pakistan</td>\n      <td>Neither satisfied nor dissatisfied</td>\n      <td>NaN</td>\n    </tr>\n    <tr>\n      <th>88876</th>\n      <td>Spain</td>\n      <td>Neither satisfied nor dissatisfied</td>\n      <td>NaN</td>\n    </tr>\n    <tr>\n      <th>88877</th>\n      <td>United States</td>\n      <td>Neither satisfied nor dissatisfied</td>\n      <td>NaN</td>\n    </tr>\n    <tr>\n      <th>88878</th>\n      <td>Canada</td>\n      <td>Neither satisfied nor dissatisfied</td>\n      <td>NaN</td>\n    </tr>\n    <tr>\n      <th>88882</th>\n      <td>Spain</td>\n      <td>Neither satisfied nor dissatisfied</td>\n      <td>NaN</td>\n    </tr>\n  </tbody>\n</table>\n<p>82147 rows × 3 columns</p>\n</div>"
     },
     "metadata": {},
     "execution_count": 153
    }
   ],
   "source": [
    "\n",
    "df.loc[row_filter, col_filter]"
   ]
  },
  {
   "cell_type": "code",
   "execution_count": 158,
   "metadata": {},
   "outputs": [
    {
     "output_type": "execute_result",
     "data": {
      "text/plain": [
       "Neither satisfied nor dissatisfied    26615\n",
       "Slightly satisfied                    24207\n",
       "Very satisfied                        22452\n",
       "Slightly dissatisfied                 10752\n",
       "Very dissatisfied                      4857\n",
       "Name: JobSat, dtype: int64"
      ]
     },
     "metadata": {},
     "execution_count": 158
    }
   ],
   "source": [
    "df['JobSat'].value_counts()"
   ]
  },
  {
   "cell_type": "code",
   "execution_count": 161,
   "metadata": {},
   "outputs": [
    {
     "output_type": "execute_result",
     "data": {
      "text/plain": [
       "Country     JobSat                            \n",
       "Nigeria     Neither satisfied nor dissatisfied    0.570881\n",
       "China       Neither satisfied nor dissatisfied    0.489458\n",
       "Egypt       Neither satisfied nor dissatisfied    0.482972\n",
       "Indonesia   Neither satisfied nor dissatisfied    0.481262\n",
       "Bangladesh  Neither satisfied nor dissatisfied    0.476033\n",
       "                                                    ...   \n",
       "Sweden      Very dissatisfied                     0.039246\n",
       "Hungary     Very dissatisfied                     0.038986\n",
       "Singapore   Very dissatisfied                     0.033003\n",
       "Norway      Very dissatisfied                     0.027875\n",
       "Slovakia    Very dissatisfied                     0.026923\n",
       "Name: JobSat, Length: 250, dtype: float64"
      ]
     },
     "metadata": {},
     "execution_count": 161
    }
   ],
   "source": [
    "\n",
    "df.loc[row_filter, col_filter].groupby('Country')['JobSat'].value_counts(normalize=True).sort_values(ascending=False)"
   ]
  },
  {
   "cell_type": "code",
   "execution_count": null,
   "metadata": {},
   "outputs": [],
   "source": []
  }
 ]
}
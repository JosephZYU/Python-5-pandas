{
 "metadata": {
  "language_info": {
   "codemirror_mode": {
    "name": "ipython",
    "version": 3
   },
   "file_extension": ".py",
   "mimetype": "text/x-python",
   "name": "python",
   "nbconvert_exporter": "python",
   "pygments_lexer": "ipython3",
   "version": "3.9.0-final"
  },
  "orig_nbformat": 2,
  "kernelspec": {
   "name": "python3",
   "display_name": "Python 3",
   "language": "python"
  }
 },
 "nbformat": 4,
 "nbformat_minor": 2,
 "cells": [
  {
   "cell_type": "code",
   "execution_count": 1,
   "metadata": {},
   "outputs": [],
   "source": [
    "import pandas as pd\n",
    "\n",
    "pd.set_option('display.max_columns', 100)\n",
    "pd.set_option('display.max_rows', 100)\n",
    "\n",
    "survey_source = '/Users/josephyu/Documents/GitHub/data/survey_results_public.csv'\n",
    "schema_source = '/Users/josephyu/Documents/GitHub/data/survey_results_schema.csv'\n",
    "\n",
    "df = pd.read_csv(survey_source, index_col = 'Respondent')\n",
    "schema_df = pd.read_csv(schema_source, index_col = 'Column')"
   ]
  },
  {
   "cell_type": "code",
   "execution_count": 44,
   "metadata": {},
   "outputs": [
    {
     "output_type": "stream",
     "name": "stdout",
     "text": [
      "0\n0\n"
     ]
    }
   ],
   "source": [
    "# Method 1 of 2: list(df.columns.values)\n",
    "# Method 2 of 2: df.columns.values.tolist() 🧠 tolist() one-word!\n",
    "\n",
    "# Check whether there is any space in df columns\n",
    "# 200 - Check if there is ANY space from column names\n",
    "\n",
    "def check_space(dataframe):\n",
    "    count = 0\n",
    "    for i in dataframe.columns.values.tolist():\n",
    "        if ' ' in i:\n",
    "            count += 1\n",
    "\n",
    "    print(count)\n",
    "\n",
    "check_space(df)\n",
    "check_space(schema_df)"
   ]
  },
  {
   "cell_type": "code",
   "execution_count": 64,
   "metadata": {},
   "outputs": [],
   "source": [
    "# Trim an leading / trailing spaces in column names\n",
    "df.columns = [x.strip() for x in df.columns]"
   ]
  },
  {
   "cell_type": "code",
   "execution_count": 70,
   "metadata": {},
   "outputs": [
    {
     "output_type": "execute_result",
     "data": {
      "text/plain": [
       "Index(['MainBranch', 'Hobbyist', 'OpenSourcer', 'OpenSource', 'Employment',\n",
       "       'Country', 'Student', 'EdLevel', 'UndergradMajor', 'EduOther',\n",
       "       'OrgSize', 'DevType', 'YearsCode', 'Age1stCode', 'YearsCodePro',\n",
       "       'CareerSat', 'JobSat', 'MgrIdiot', 'MgrMoney', 'MgrWant', 'JobSeek',\n",
       "       'LastHireDate', 'LastInt', 'FizzBuzz', 'JobFactors', 'ResumeUpdate',\n",
       "       'CurrencySymbol', 'CurrencyDesc', 'CompTotal', 'CompFreq',\n",
       "       'ConvertedComp', 'WorkWeekHrs', 'WorkPlan', 'WorkChallenge',\n",
       "       'WorkRemote', 'WorkLoc', 'ImpSyn', 'CodeRev', 'CodeRevHrs', 'UnitTests',\n",
       "       'PurchaseHow', 'PurchaseWhat', 'LanguageWorkedWith',\n",
       "       'LanguageDesire-----------------------', 'DatabaseWorkedWith',\n",
       "       'DatabaseDesire-----------------------', 'PlatformWorkedWith',\n",
       "       'PlatformDesire-----------------------', 'WebFrameWorkedWith',\n",
       "       'WebFrameDesire-----------------------', 'MiscTechWorkedWith',\n",
       "       'MiscTechDesire-----------------------', 'DevEnviron', 'OpSys',\n",
       "       'Containers', 'BlockchainOrg', 'BlockchainIs', 'BetterLife', 'ITperson',\n",
       "       'OffOn', 'SocialMedia', 'Extraversion', 'ScreenName', 'SOVisit1st',\n",
       "       'SOVisitFreq', 'SOVisitTo', 'SOFindAnswer', 'SOTimeSaved',\n",
       "       'SOHowMuchTime', 'SOAccount', 'SOPartFreq', 'SOJobs', 'EntTeams',\n",
       "       'SOComm', 'WelcomeChange', 'SONewContent', 'Age', 'Gender', 'Trans',\n",
       "       'Sexuality', 'Ethnicity', 'Dependents', 'SurveyLength', 'SurveyEase'],\n",
       "      dtype='object')"
      ]
     },
     "metadata": {},
     "execution_count": 70
    }
   ],
   "source": [
    "# Scenario 1 of 2: Replace specific string for ALL columns\n",
    "# 🧠 .str.replace('a', 'b') -> str.replace()\n",
    "\n",
    "df.columns.str.replace('NextYear', '-----------------------')"
   ]
  },
  {
   "cell_type": "code",
   "execution_count": 72,
   "metadata": {},
   "outputs": [
    {
     "output_type": "execute_result",
     "data": {
      "text/plain": [
       "                                        MainBranch Hobbyist OpenSourcer  \\\n",
       "Respondent                                                                \n",
       "1           I am a student who is learning to code      Yes       Never   \n",
       "\n",
       "                                                   OpenSource  \\\n",
       "Respondent                                                      \n",
       "1           The quality of OSS and closed source software ...   \n",
       "\n",
       "                                        Employment         Country Student  \\\n",
       "Respondent                                                                   \n",
       "1           Not employed, and not looking for work  United Kingdom      No   \n",
       "\n",
       "                             Ed_Level UndergradMajor  \\\n",
       "Respondent                                             \n",
       "1           Primary/elementary school            NaN   \n",
       "\n",
       "                                                    Edu_Other OrgSize DevType  \\\n",
       "Respondent                                                                      \n",
       "1           Taught yourself a new language, framework, or ...     NaN     NaN   \n",
       "\n",
       "           YearsCode Age1stCode YearsCodePro CareerSat JobSat MgrIdiot  \\\n",
       "Respondent                                                               \n",
       "1                  4         10          NaN       NaN    NaN      NaN   \n",
       "\n",
       "           MgrMoney MgrWant JobSeek LastHireDate LastInt FizzBuzz JobFactors  \\\n",
       "Respondent                                                                     \n",
       "1               NaN     NaN     NaN          NaN     NaN      NaN        NaN   \n",
       "\n",
       "           ResumeUpdate CurrencySymbol CurrencyDesc  CompTotal CompFreq  \\\n",
       "Respondent                                                                \n",
       "1                   NaN            NaN          NaN        NaN      NaN   \n",
       "\n",
       "            ConvertedComp  WorkWeekHrs WorkPlan WorkChallenge WorkRemote  \\\n",
       "Respondent                                                                 \n",
       "1                     NaN          NaN      NaN           NaN        NaN   \n",
       "\n",
       "           WorkLoc ImpSyn CodeRev  CodeRevHrs UnitTests PurchaseHow  \\\n",
       "Respondent                                                            \n",
       "1              NaN    NaN     NaN         NaN       NaN         NaN   \n",
       "\n",
       "           PurchaseWhat               LanguageWorkedWith  \\\n",
       "Respondent                                                 \n",
       "1                   NaN  HTML/CSS;Java;JavaScript;Python   \n",
       "\n",
       "                                     LanguageDesireNextYear  \\\n",
       "Respondent                                                    \n",
       "1           C;C++;C#;Go;HTML/CSS;Java;JavaScript;Python;SQL   \n",
       "\n",
       "           DatabaseWorkedWith DatabaseDesireNextYear PlatformWorkedWith  \\\n",
       "Respondent                                                                \n",
       "1                      SQLite                  MySQL      MacOS;Windows   \n",
       "\n",
       "             PlatformDesireNextYear WebFrameWorkedWith WebFrameDesireNextYear  \\\n",
       "Respondent                                                                      \n",
       "1           Android;Arduino;Windows       Django;Flask           Flask;jQuery   \n",
       "\n",
       "           MiscTechWorkedWith MiscTechDesireNextYear  \\\n",
       "Respondent                                             \n",
       "1                     Node.js                Node.js   \n",
       "\n",
       "                            DevEnviron    OpSys               Containers  \\\n",
       "Respondent                                                                 \n",
       "1           IntelliJ;Notepad++;PyCharm  Windows  I do not use containers   \n",
       "\n",
       "           BlockchainOrg BlockchainIs BetterLife  \\\n",
       "Respondent                                         \n",
       "1                    NaN          NaN        Yes   \n",
       "\n",
       "                                            ITperson OffOn SocialMedia  \\\n",
       "Respondent                                                               \n",
       "1           Fortunately, someone else has that title   Yes     Twitter   \n",
       "\n",
       "           Extraversion ScreenName SOVisit1st  \\\n",
       "Respondent                                      \n",
       "1                Online   Username       2017   \n",
       "\n",
       "                                SOVisitFreq  \\\n",
       "Respondent                                    \n",
       "1           A few times per month or weekly   \n",
       "\n",
       "                                                    SOVisitTo  \\\n",
       "Respondent                                                      \n",
       "1           Find answers to specific questions;Learn how t...   \n",
       "\n",
       "                  SOFindAnswer                     SOTimeSaved  SOHowMuchTime  \\\n",
       "Respondent                                                                      \n",
       "1           3-5 times per week  Stack Overflow was much faster  31-60 minutes   \n",
       "\n",
       "           SOAccount SOPartFreq  \\\n",
       "Respondent                        \n",
       "1                 No        NaN   \n",
       "\n",
       "                                                       SOJobs  \\\n",
       "Respondent                                                      \n",
       "1           No, I didn't know that Stack Overflow had a jo...   \n",
       "\n",
       "                                       EntTeams   SOComm  \\\n",
       "Respondent                                                 \n",
       "1           No, and I don't know what those are  Neutral   \n",
       "\n",
       "                                      WelcomeChange  \\\n",
       "Respondent                                            \n",
       "1           Just as welcome now as I felt last year   \n",
       "\n",
       "                                                 SONewContent   Age Gender  \\\n",
       "Respondent                                                                   \n",
       "1           Tech articles written by other developers;Indu...  14.0    Man   \n",
       "\n",
       "           Trans                Sexuality Ethnicity Dependents  \\\n",
       "Respondent                                                       \n",
       "1             No  Straight / Heterosexual       NaN         No   \n",
       "\n",
       "                     SurveyLength                  SurveyEase  \n",
       "Respondent                                                     \n",
       "1           Appropriate in length  Neither easy nor difficult  "
      ],
      "text/html": "<div>\n<style scoped>\n    .dataframe tbody tr th:only-of-type {\n        vertical-align: middle;\n    }\n\n    .dataframe tbody tr th {\n        vertical-align: top;\n    }\n\n    .dataframe thead th {\n        text-align: right;\n    }\n</style>\n<table border=\"1\" class=\"dataframe\">\n  <thead>\n    <tr style=\"text-align: right;\">\n      <th></th>\n      <th>MainBranch</th>\n      <th>Hobbyist</th>\n      <th>OpenSourcer</th>\n      <th>OpenSource</th>\n      <th>Employment</th>\n      <th>Country</th>\n      <th>Student</th>\n      <th>Ed_Level</th>\n      <th>UndergradMajor</th>\n      <th>Edu_Other</th>\n      <th>OrgSize</th>\n      <th>DevType</th>\n      <th>YearsCode</th>\n      <th>Age1stCode</th>\n      <th>YearsCodePro</th>\n      <th>CareerSat</th>\n      <th>JobSat</th>\n      <th>MgrIdiot</th>\n      <th>MgrMoney</th>\n      <th>MgrWant</th>\n      <th>JobSeek</th>\n      <th>LastHireDate</th>\n      <th>LastInt</th>\n      <th>FizzBuzz</th>\n      <th>JobFactors</th>\n      <th>ResumeUpdate</th>\n      <th>CurrencySymbol</th>\n      <th>CurrencyDesc</th>\n      <th>CompTotal</th>\n      <th>CompFreq</th>\n      <th>ConvertedComp</th>\n      <th>WorkWeekHrs</th>\n      <th>WorkPlan</th>\n      <th>WorkChallenge</th>\n      <th>WorkRemote</th>\n      <th>WorkLoc</th>\n      <th>ImpSyn</th>\n      <th>CodeRev</th>\n      <th>CodeRevHrs</th>\n      <th>UnitTests</th>\n      <th>PurchaseHow</th>\n      <th>PurchaseWhat</th>\n      <th>LanguageWorkedWith</th>\n      <th>LanguageDesireNextYear</th>\n      <th>DatabaseWorkedWith</th>\n      <th>DatabaseDesireNextYear</th>\n      <th>PlatformWorkedWith</th>\n      <th>PlatformDesireNextYear</th>\n      <th>WebFrameWorkedWith</th>\n      <th>WebFrameDesireNextYear</th>\n      <th>MiscTechWorkedWith</th>\n      <th>MiscTechDesireNextYear</th>\n      <th>DevEnviron</th>\n      <th>OpSys</th>\n      <th>Containers</th>\n      <th>BlockchainOrg</th>\n      <th>BlockchainIs</th>\n      <th>BetterLife</th>\n      <th>ITperson</th>\n      <th>OffOn</th>\n      <th>SocialMedia</th>\n      <th>Extraversion</th>\n      <th>ScreenName</th>\n      <th>SOVisit1st</th>\n      <th>SOVisitFreq</th>\n      <th>SOVisitTo</th>\n      <th>SOFindAnswer</th>\n      <th>SOTimeSaved</th>\n      <th>SOHowMuchTime</th>\n      <th>SOAccount</th>\n      <th>SOPartFreq</th>\n      <th>SOJobs</th>\n      <th>EntTeams</th>\n      <th>SOComm</th>\n      <th>WelcomeChange</th>\n      <th>SONewContent</th>\n      <th>Age</th>\n      <th>Gender</th>\n      <th>Trans</th>\n      <th>Sexuality</th>\n      <th>Ethnicity</th>\n      <th>Dependents</th>\n      <th>SurveyLength</th>\n      <th>SurveyEase</th>\n    </tr>\n    <tr>\n      <th>Respondent</th>\n      <th></th>\n      <th></th>\n      <th></th>\n      <th></th>\n      <th></th>\n      <th></th>\n      <th></th>\n      <th></th>\n      <th></th>\n      <th></th>\n      <th></th>\n      <th></th>\n      <th></th>\n      <th></th>\n      <th></th>\n      <th></th>\n      <th></th>\n      <th></th>\n      <th></th>\n      <th></th>\n      <th></th>\n      <th></th>\n      <th></th>\n      <th></th>\n      <th></th>\n      <th></th>\n      <th></th>\n      <th></th>\n      <th></th>\n      <th></th>\n      <th></th>\n      <th></th>\n      <th></th>\n      <th></th>\n      <th></th>\n      <th></th>\n      <th></th>\n      <th></th>\n      <th></th>\n      <th></th>\n      <th></th>\n      <th></th>\n      <th></th>\n      <th></th>\n      <th></th>\n      <th></th>\n      <th></th>\n      <th></th>\n      <th></th>\n      <th></th>\n      <th></th>\n      <th></th>\n      <th></th>\n      <th></th>\n      <th></th>\n      <th></th>\n      <th></th>\n      <th></th>\n      <th></th>\n      <th></th>\n      <th></th>\n      <th></th>\n      <th></th>\n      <th></th>\n      <th></th>\n      <th></th>\n      <th></th>\n      <th></th>\n      <th></th>\n      <th></th>\n      <th></th>\n      <th></th>\n      <th></th>\n      <th></th>\n      <th></th>\n      <th></th>\n      <th></th>\n      <th></th>\n      <th></th>\n      <th></th>\n      <th></th>\n      <th></th>\n      <th></th>\n      <th></th>\n    </tr>\n  </thead>\n  <tbody>\n    <tr>\n      <th>1</th>\n      <td>I am a student who is learning to code</td>\n      <td>Yes</td>\n      <td>Never</td>\n      <td>The quality of OSS and closed source software ...</td>\n      <td>Not employed, and not looking for work</td>\n      <td>United Kingdom</td>\n      <td>No</td>\n      <td>Primary/elementary school</td>\n      <td>NaN</td>\n      <td>Taught yourself a new language, framework, or ...</td>\n      <td>NaN</td>\n      <td>NaN</td>\n      <td>4</td>\n      <td>10</td>\n      <td>NaN</td>\n      <td>NaN</td>\n      <td>NaN</td>\n      <td>NaN</td>\n      <td>NaN</td>\n      <td>NaN</td>\n      <td>NaN</td>\n      <td>NaN</td>\n      <td>NaN</td>\n      <td>NaN</td>\n      <td>NaN</td>\n      <td>NaN</td>\n      <td>NaN</td>\n      <td>NaN</td>\n      <td>NaN</td>\n      <td>NaN</td>\n      <td>NaN</td>\n      <td>NaN</td>\n      <td>NaN</td>\n      <td>NaN</td>\n      <td>NaN</td>\n      <td>NaN</td>\n      <td>NaN</td>\n      <td>NaN</td>\n      <td>NaN</td>\n      <td>NaN</td>\n      <td>NaN</td>\n      <td>NaN</td>\n      <td>HTML/CSS;Java;JavaScript;Python</td>\n      <td>C;C++;C#;Go;HTML/CSS;Java;JavaScript;Python;SQL</td>\n      <td>SQLite</td>\n      <td>MySQL</td>\n      <td>MacOS;Windows</td>\n      <td>Android;Arduino;Windows</td>\n      <td>Django;Flask</td>\n      <td>Flask;jQuery</td>\n      <td>Node.js</td>\n      <td>Node.js</td>\n      <td>IntelliJ;Notepad++;PyCharm</td>\n      <td>Windows</td>\n      <td>I do not use containers</td>\n      <td>NaN</td>\n      <td>NaN</td>\n      <td>Yes</td>\n      <td>Fortunately, someone else has that title</td>\n      <td>Yes</td>\n      <td>Twitter</td>\n      <td>Online</td>\n      <td>Username</td>\n      <td>2017</td>\n      <td>A few times per month or weekly</td>\n      <td>Find answers to specific questions;Learn how t...</td>\n      <td>3-5 times per week</td>\n      <td>Stack Overflow was much faster</td>\n      <td>31-60 minutes</td>\n      <td>No</td>\n      <td>NaN</td>\n      <td>No, I didn't know that Stack Overflow had a jo...</td>\n      <td>No, and I don't know what those are</td>\n      <td>Neutral</td>\n      <td>Just as welcome now as I felt last year</td>\n      <td>Tech articles written by other developers;Indu...</td>\n      <td>14.0</td>\n      <td>Man</td>\n      <td>No</td>\n      <td>Straight / Heterosexual</td>\n      <td>NaN</td>\n      <td>No</td>\n      <td>Appropriate in length</td>\n      <td>Neither easy nor difficult</td>\n    </tr>\n  </tbody>\n</table>\n</div>"
     },
     "metadata": {},
     "execution_count": 72
    }
   ],
   "source": [
    "# Scenario 2 of 2: Replace specific string for selected columns\n",
    "# 🧠 df.rename(columns={a:A, b:B}, inplace=True) -> df.rename(columns={}) # columns as dict!\n",
    "\n",
    "df.rename(columns={'EdLevel':'Ed_Level', 'EduOther': 'Edu_Other'}).head(1) # rename(___, inplace=True)"
   ]
  },
  {
   "cell_type": "code",
   "execution_count": 78,
   "metadata": {},
   "outputs": [
    {
     "output_type": "execute_result",
     "data": {
      "text/plain": [
       "Respondent\n",
       "1        YES\n",
       "2         NO\n",
       "3        YES\n",
       "4         NO\n",
       "5        YES\n",
       "        ... \n",
       "88377    YES\n",
       "88601     NO\n",
       "88802     NO\n",
       "88816     NO\n",
       "88863    YES\n",
       "Name: Hobbyist, Length: 88883, dtype: object"
      ]
     },
     "metadata": {},
     "execution_count": 78
    }
   ],
   "source": [
    "df['Hobbyist'].str.upper()"
   ]
  },
  {
   "cell_type": "code",
   "execution_count": 88,
   "metadata": {},
   "outputs": [
    {
     "output_type": "execute_result",
     "data": {
      "text/plain": [
       "Respondent\n",
       "1        3\n",
       "2        2\n",
       "3        3\n",
       "4        2\n",
       "5        3\n",
       "        ..\n",
       "88377    3\n",
       "88601    2\n",
       "88802    2\n",
       "88816    2\n",
       "88863    3\n",
       "Name: Hobbyist, Length: 88883, dtype: int64"
      ]
     },
     "metadata": {},
     "execution_count": 88
    }
   ],
   "source": [
    "df['Hobbyist'].apply(len)"
   ]
  },
  {
   "cell_type": "code",
   "execution_count": 89,
   "metadata": {},
   "outputs": [],
   "source": [
    "def update_email(email):\n",
    "    return email.upper()"
   ]
  },
  {
   "cell_type": "code",
   "execution_count": 90,
   "metadata": {},
   "outputs": [
    {
     "output_type": "execute_result",
     "data": {
      "text/plain": [
       "Respondent\n",
       "1        YES\n",
       "2         NO\n",
       "3        YES\n",
       "4         NO\n",
       "5        YES\n",
       "        ... \n",
       "88377    YES\n",
       "88601     NO\n",
       "88802     NO\n",
       "88816     NO\n",
       "88863    YES\n",
       "Name: Hobbyist, Length: 88883, dtype: object"
      ]
     },
     "metadata": {},
     "execution_count": 90
    }
   ],
   "source": [
    "# 1 of 2: apply function with def func\n",
    "# df[].apply(func) NOTE: apply(func) without func()!\n",
    "# 🧠 df[].apply(func) -> .apply()\n",
    "\n",
    "df['Hobbyist'].apply(update_email)"
   ]
  },
  {
   "cell_type": "code",
   "execution_count": 92,
   "metadata": {},
   "outputs": [
    {
     "output_type": "execute_result",
     "data": {
      "text/plain": [
       "Respondent\n",
       "1        YES\n",
       "2         NO\n",
       "3        YES\n",
       "4         NO\n",
       "5        YES\n",
       "        ... \n",
       "88377    YES\n",
       "88601     NO\n",
       "88802     NO\n",
       "88816     NO\n",
       "88863    YES\n",
       "Name: Hobbyist, Length: 88883, dtype: object"
      ]
     },
     "metadata": {},
     "execution_count": 92
    }
   ],
   "source": [
    "# 2 of 2: apply function with lambda\n",
    "# 🧠 df[].apply(lambda x: x.func())\n",
    "\n",
    "df['Hobbyist'].apply(lambda x: x.upper())"
   ]
  },
  {
   "cell_type": "code",
   "execution_count": 106,
   "metadata": {},
   "outputs": [
    {
     "output_type": "execute_result",
     "data": {
      "text/plain": [
       "Respondent\n",
       "1        Great\n",
       "2          NaN\n",
       "3        Great\n",
       "4          NaN\n",
       "5        Great\n",
       "         ...  \n",
       "88377    Great\n",
       "88601      NaN\n",
       "88802      NaN\n",
       "88816      NaN\n",
       "88863    Great\n",
       "Name: Hobbyist, Length: 88883, dtype: object"
      ]
     },
     "metadata": {},
     "execution_count": 106
    }
   ],
   "source": [
    "# NOT recommended in most cases! BE CAUTIOUS! 👎👎👎\n",
    "# Unless you're 100% sure about ALL unique values\n",
    "\n",
    "df['Hobbyist'].map({'Yes': 'Great'}) # 'No':'-'"
   ]
  },
  {
   "cell_type": "code",
   "execution_count": 107,
   "metadata": {},
   "outputs": [
    {
     "output_type": "execute_result",
     "data": {
      "text/plain": [
       "Respondent\n",
       "1        Great\n",
       "2           No\n",
       "3        Great\n",
       "4           No\n",
       "5        Great\n",
       "         ...  \n",
       "88377    Great\n",
       "88601       No\n",
       "88802       No\n",
       "88816       No\n",
       "88863    Great\n",
       "Name: Hobbyist, Length: 88883, dtype: object"
      ]
     },
     "metadata": {},
     "execution_count": 107
    }
   ],
   "source": [
    "# Recommended - will ONLY replace selected rows while leave others un-touched 👍👍👍\n",
    "\n",
    "df['Hobbyist'].replace({'Yes': 'Great'}) # 'No':'-'"
   ]
  },
  {
   "cell_type": "code",
   "execution_count": 113,
   "metadata": {},
   "outputs": [],
   "source": [
    "# 🧠 df.rename(columns={dict}) -> rename(col={})\n",
    "\n",
    "df.rename(columns={'ConvertedComp': 'SalaryUSD'}, inplace=True)"
   ]
  },
  {
   "cell_type": "code",
   "execution_count": 114,
   "metadata": {},
   "outputs": [
    {
     "output_type": "execute_result",
     "data": {
      "text/plain": [
       "Index(['MainBranch', 'Hobbyist', 'OpenSourcer', 'OpenSource', 'Employment',\n",
       "       'Country', 'Student', 'EdLevel', 'UndergradMajor', 'EduOther',\n",
       "       'OrgSize', 'DevType', 'YearsCode', 'Age1stCode', 'YearsCodePro',\n",
       "       'CareerSat', 'JobSat', 'MgrIdiot', 'MgrMoney', 'MgrWant', 'JobSeek',\n",
       "       'LastHireDate', 'LastInt', 'FizzBuzz', 'JobFactors', 'ResumeUpdate',\n",
       "       'CurrencySymbol', 'CurrencyDesc', 'CompTotal', 'CompFreq', 'SalaryUSD',\n",
       "       'WorkWeekHrs', 'WorkPlan', 'WorkChallenge', 'WorkRemote', 'WorkLoc',\n",
       "       'ImpSyn', 'CodeRev', 'CodeRevHrs', 'UnitTests', 'PurchaseHow',\n",
       "       'PurchaseWhat', 'LanguageWorkedWith', 'LanguageDesireNextYear',\n",
       "       'DatabaseWorkedWith', 'DatabaseDesireNextYear', 'PlatformWorkedWith',\n",
       "       'PlatformDesireNextYear', 'WebFrameWorkedWith',\n",
       "       'WebFrameDesireNextYear', 'MiscTechWorkedWith',\n",
       "       'MiscTechDesireNextYear', 'DevEnviron', 'OpSys', 'Containers',\n",
       "       'BlockchainOrg', 'BlockchainIs', 'BetterLife', 'ITperson', 'OffOn',\n",
       "       'SocialMedia', 'Extraversion', 'ScreenName', 'SOVisit1st',\n",
       "       'SOVisitFreq', 'SOVisitTo', 'SOFindAnswer', 'SOTimeSaved',\n",
       "       'SOHowMuchTime', 'SOAccount', 'SOPartFreq', 'SOJobs', 'EntTeams',\n",
       "       'SOComm', 'WelcomeChange', 'SONewContent', 'Age', 'Gender', 'Trans',\n",
       "       'Sexuality', 'Ethnicity', 'Dependents', 'SurveyLength', 'SurveyEase'],\n",
       "      dtype='object')"
      ]
     },
     "metadata": {},
     "execution_count": 114
    }
   ],
   "source": [
    "df.columns"
   ]
  },
  {
   "cell_type": "code",
   "execution_count": 120,
   "metadata": {},
   "outputs": [
    {
     "output_type": "execute_result",
     "data": {
      "text/plain": [
       "array(['Yes', 'No'], dtype=object)"
      ]
     },
     "metadata": {},
     "execution_count": 120
    }
   ],
   "source": [
    "df['Hobbyist'].unique()"
   ]
  },
  {
   "cell_type": "code",
   "execution_count": 118,
   "metadata": {},
   "outputs": [
    {
     "output_type": "execute_result",
     "data": {
      "text/plain": [
       "Respondent\n",
       "1        1\n",
       "2        0\n",
       "3        1\n",
       "4        0\n",
       "5        1\n",
       "        ..\n",
       "88377    1\n",
       "88601    0\n",
       "88802    0\n",
       "88816    0\n",
       "88863    1\n",
       "Name: Hobbyist, Length: 88883, dtype: int64"
      ]
     },
     "metadata": {},
     "execution_count": 118
    }
   ],
   "source": [
    "# 🧭 NOTE: replace / rename / map MUST come with {dict-format}!\n",
    "\n",
    "df['Hobbyist'].replace({'Yes': 1, 'No': 0})"
   ]
  },
  {
   "cell_type": "code",
   "execution_count": 119,
   "metadata": {},
   "outputs": [
    {
     "output_type": "execute_result",
     "data": {
      "text/plain": [
       "Respondent\n",
       "1         True\n",
       "2        False\n",
       "3         True\n",
       "4        False\n",
       "5         True\n",
       "         ...  \n",
       "88377     True\n",
       "88601    False\n",
       "88802    False\n",
       "88816    False\n",
       "88863     True\n",
       "Name: Hobbyist, Length: 88883, dtype: bool"
      ]
     },
     "metadata": {},
     "execution_count": 119
    }
   ],
   "source": [
    "df['Hobbyist'].replace({'Yes': True, 'No': False})"
   ]
  },
  {
   "cell_type": "code",
   "execution_count": null,
   "metadata": {},
   "outputs": [],
   "source": []
  }
 ]
}
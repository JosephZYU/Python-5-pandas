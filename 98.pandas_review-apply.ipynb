{
 "metadata": {
  "language_info": {
   "codemirror_mode": {
    "name": "ipython",
    "version": 3
   },
   "file_extension": ".py",
   "mimetype": "text/x-python",
   "name": "python",
   "nbconvert_exporter": "python",
   "pygments_lexer": "ipython3",
   "version": "3.9.0-final"
  },
  "orig_nbformat": 2,
  "kernelspec": {
   "name": "python3",
   "display_name": "Python 3",
   "language": "python"
  }
 },
 "nbformat": 4,
 "nbformat_minor": 2,
 "cells": [
  {
   "cell_type": "code",
   "execution_count": 190,
   "metadata": {},
   "outputs": [],
   "source": [
    "import pandas as pd\n",
    "import numpy as np\n",
    "\n",
    "people = {\n",
    "    \"first\":['Corey', 'Jane', 'John'],\n",
    "    \"last\":['Schafer', 'Doe', 'Smith'],\n",
    "    \"email\":['CoreySchafer@gmail.com','JaneDoe@hotmail.com','JohnSmith@outlook.com'],\n",
    "}\n",
    "\n",
    "\n",
    "pd.set_option('display.max_columns', 100)\n",
    "pd.set_option('display.max_rows', 100)\n",
    "pd.set_option('display.max_colwidth', None)  \n",
    "\n",
    "\n",
    "pd.set_option('display.float_format', lambda x: '%.4f' % x)\n",
    "\n",
    "\n",
    "survey_source = '/Users/josephyu/Documents/GitHub/data/survey_results_public.csv'\n",
    "schema_source = '/Users/josephyu/Documents/GitHub/data/survey_results_schema.csv'\n",
    "\n",
    "\n",
    "df = pd.read_csv(survey_source, index_col = 'Respondent')\n",
    "schema_df = pd.read_csv(schema_source, index_col = 'Column')\n",
    "pp_df = pd.DataFrame(people)\n",
    "\n",
    "# ['Hobbyist', 'OpenSourcer', 'Region'] -> PERFECT Data Quality by column"
   ]
  },
  {
   "cell_type": "code",
   "execution_count": 8,
   "metadata": {},
   "outputs": [
    {
     "output_type": "execute_result",
     "data": {
      "text/plain": [
       "   first     last                   email\n",
       "0  Corey  Schafer  CoreySchafer@gmail.com\n",
       "1   Jane      Doe     JaneDoe@hotmail.com\n",
       "2   John    Smith   JohnSmith@outlook.com"
      ],
      "text/html": "<div>\n<style scoped>\n    .dataframe tbody tr th:only-of-type {\n        vertical-align: middle;\n    }\n\n    .dataframe tbody tr th {\n        vertical-align: top;\n    }\n\n    .dataframe thead th {\n        text-align: right;\n    }\n</style>\n<table border=\"1\" class=\"dataframe\">\n  <thead>\n    <tr style=\"text-align: right;\">\n      <th></th>\n      <th>first</th>\n      <th>last</th>\n      <th>email</th>\n    </tr>\n  </thead>\n  <tbody>\n    <tr>\n      <th>0</th>\n      <td>Corey</td>\n      <td>Schafer</td>\n      <td>CoreySchafer@gmail.com</td>\n    </tr>\n    <tr>\n      <th>1</th>\n      <td>Jane</td>\n      <td>Doe</td>\n      <td>JaneDoe@hotmail.com</td>\n    </tr>\n    <tr>\n      <th>2</th>\n      <td>John</td>\n      <td>Smith</td>\n      <td>JohnSmith@outlook.com</td>\n    </tr>\n  </tbody>\n</table>\n</div>"
     },
     "metadata": {},
     "execution_count": 8
    }
   ],
   "source": [
    "df = pp_df\n",
    "\n",
    "df"
   ]
  },
  {
   "cell_type": "code",
   "execution_count": 10,
   "metadata": {},
   "outputs": [
    {
     "output_type": "stream",
     "name": "stdout",
     "text": [
      "22\n19\n21\n"
     ]
    }
   ],
   "source": [
    "# apply method\n",
    "for i in df['email']:\n",
    "    print(len(i))"
   ]
  },
  {
   "cell_type": "code",
   "execution_count": 35,
   "metadata": {},
   "outputs": [],
   "source": [
    "df['Age'] = range(-31, -34, -1)"
   ]
  },
  {
   "cell_type": "code",
   "execution_count": 36,
   "metadata": {},
   "outputs": [
    {
     "output_type": "execute_result",
     "data": {
      "text/plain": [
       "   first     last                   email  Age\n",
       "0  Corey  Schafer  CoreySchafer@gmail.com  -31\n",
       "1   Jane      Doe     JaneDoe@hotmail.com  -32\n",
       "2   John    Smith   JohnSmith@outlook.com  -33"
      ],
      "text/html": "<div>\n<style scoped>\n    .dataframe tbody tr th:only-of-type {\n        vertical-align: middle;\n    }\n\n    .dataframe tbody tr th {\n        vertical-align: top;\n    }\n\n    .dataframe thead th {\n        text-align: right;\n    }\n</style>\n<table border=\"1\" class=\"dataframe\">\n  <thead>\n    <tr style=\"text-align: right;\">\n      <th></th>\n      <th>first</th>\n      <th>last</th>\n      <th>email</th>\n      <th>Age</th>\n    </tr>\n  </thead>\n  <tbody>\n    <tr>\n      <th>0</th>\n      <td>Corey</td>\n      <td>Schafer</td>\n      <td>CoreySchafer@gmail.com</td>\n      <td>-31</td>\n    </tr>\n    <tr>\n      <th>1</th>\n      <td>Jane</td>\n      <td>Doe</td>\n      <td>JaneDoe@hotmail.com</td>\n      <td>-32</td>\n    </tr>\n    <tr>\n      <th>2</th>\n      <td>John</td>\n      <td>Smith</td>\n      <td>JohnSmith@outlook.com</td>\n      <td>-33</td>\n    </tr>\n  </tbody>\n</table>\n</div>"
     },
     "metadata": {},
     "execution_count": 36
    }
   ],
   "source": [
    "df"
   ]
  },
  {
   "cell_type": "code",
   "execution_count": 39,
   "metadata": {},
   "outputs": [
    {
     "output_type": "execute_result",
     "data": {
      "text/plain": [
       "0    31\n",
       "1    32\n",
       "2    33\n",
       "Name: Age, dtype: int64"
      ]
     },
     "metadata": {},
     "execution_count": 39
    }
   ],
   "source": [
    "df['Age'].apply(abs)"
   ]
  },
  {
   "cell_type": "code",
   "execution_count": 43,
   "metadata": {},
   "outputs": [],
   "source": [
    "li = [1, 9, 2, 8, 3, 7, 4, 6, 5]"
   ]
  },
  {
   "cell_type": "code",
   "execution_count": 45,
   "metadata": {},
   "outputs": [
    {
     "output_type": "execute_result",
     "data": {
      "text/plain": [
       "[1, 2, 3, 4, 5, 6, 7, 8, 9]"
      ]
     },
     "metadata": {},
     "execution_count": 45
    }
   ],
   "source": [
    "sorted(li)"
   ]
  },
  {
   "cell_type": "code",
   "execution_count": 49,
   "metadata": {},
   "outputs": [
    {
     "output_type": "execute_result",
     "data": {
      "text/plain": [
       "   first     last                   email  Age\n",
       "2   John    Smith   JohnSmith@outlook.com  -33\n",
       "1   Jane      Doe     JaneDoe@hotmail.com  -32\n",
       "0  Corey  Schafer  CoreySchafer@gmail.com  -31"
      ],
      "text/html": "<div>\n<style scoped>\n    .dataframe tbody tr th:only-of-type {\n        vertical-align: middle;\n    }\n\n    .dataframe tbody tr th {\n        vertical-align: top;\n    }\n\n    .dataframe thead th {\n        text-align: right;\n    }\n</style>\n<table border=\"1\" class=\"dataframe\">\n  <thead>\n    <tr style=\"text-align: right;\">\n      <th></th>\n      <th>first</th>\n      <th>last</th>\n      <th>email</th>\n      <th>Age</th>\n    </tr>\n  </thead>\n  <tbody>\n    <tr>\n      <th>2</th>\n      <td>John</td>\n      <td>Smith</td>\n      <td>JohnSmith@outlook.com</td>\n      <td>-33</td>\n    </tr>\n    <tr>\n      <th>1</th>\n      <td>Jane</td>\n      <td>Doe</td>\n      <td>JaneDoe@hotmail.com</td>\n      <td>-32</td>\n    </tr>\n    <tr>\n      <th>0</th>\n      <td>Corey</td>\n      <td>Schafer</td>\n      <td>CoreySchafer@gmail.com</td>\n      <td>-31</td>\n    </tr>\n  </tbody>\n</table>\n</div>"
     },
     "metadata": {},
     "execution_count": 49
    }
   ],
   "source": [
    "df.sort_values(by='Age')"
   ]
  },
  {
   "cell_type": "code",
   "execution_count": 61,
   "metadata": {},
   "outputs": [
    {
     "output_type": "execute_result",
     "data": {
      "text/plain": [
       "\"'CoreySchafer@gmail.com'\""
      ]
     },
     "metadata": {},
     "execution_count": 61
    }
   ],
   "source": [
    "df['email'].apply(ascii)[0]"
   ]
  },
  {
   "cell_type": "code",
   "execution_count": 63,
   "metadata": {},
   "outputs": [
    {
     "output_type": "execute_result",
     "data": {
      "text/plain": [
       "'CoreySchafer@gmail.com'"
      ]
     },
     "metadata": {},
     "execution_count": 63
    }
   ],
   "source": [
    "df['email'].tolist()[0]"
   ]
  },
  {
   "cell_type": "code",
   "execution_count": 70,
   "metadata": {},
   "outputs": [],
   "source": [
    "df.columns = df.columns.str.title()"
   ]
  },
  {
   "cell_type": "code",
   "execution_count": 73,
   "metadata": {},
   "outputs": [],
   "source": [
    "df.columns = ['First_Name', 'Last_Name', 'Email_Address', 'Age']"
   ]
  },
  {
   "cell_type": "code",
   "execution_count": 74,
   "metadata": {},
   "outputs": [
    {
     "output_type": "execute_result",
     "data": {
      "text/plain": [
       "  First_Name Last_Name           Email_Address  Age\n",
       "0      Corey   Schafer  CoreySchafer@gmail.com  -31\n",
       "1       Jane       Doe     JaneDoe@hotmail.com  -32\n",
       "2       John     Smith   JohnSmith@outlook.com  -33"
      ],
      "text/html": "<div>\n<style scoped>\n    .dataframe tbody tr th:only-of-type {\n        vertical-align: middle;\n    }\n\n    .dataframe tbody tr th {\n        vertical-align: top;\n    }\n\n    .dataframe thead th {\n        text-align: right;\n    }\n</style>\n<table border=\"1\" class=\"dataframe\">\n  <thead>\n    <tr style=\"text-align: right;\">\n      <th></th>\n      <th>First_Name</th>\n      <th>Last_Name</th>\n      <th>Email_Address</th>\n      <th>Age</th>\n    </tr>\n  </thead>\n  <tbody>\n    <tr>\n      <th>0</th>\n      <td>Corey</td>\n      <td>Schafer</td>\n      <td>CoreySchafer@gmail.com</td>\n      <td>-31</td>\n    </tr>\n    <tr>\n      <th>1</th>\n      <td>Jane</td>\n      <td>Doe</td>\n      <td>JaneDoe@hotmail.com</td>\n      <td>-32</td>\n    </tr>\n    <tr>\n      <th>2</th>\n      <td>John</td>\n      <td>Smith</td>\n      <td>JohnSmith@outlook.com</td>\n      <td>-33</td>\n    </tr>\n  </tbody>\n</table>\n</div>"
     },
     "metadata": {},
     "execution_count": 74
    }
   ],
   "source": [
    "df"
   ]
  },
  {
   "cell_type": "code",
   "execution_count": 77,
   "metadata": {},
   "outputs": [],
   "source": [
    "df['Age'] = df['Age'].apply(abs)"
   ]
  },
  {
   "cell_type": "code",
   "execution_count": 78,
   "metadata": {},
   "outputs": [
    {
     "output_type": "execute_result",
     "data": {
      "text/plain": [
       "  First_Name Last_Name           Email_Address  Age\n",
       "0      Corey   Schafer  CoreySchafer@gmail.com   31\n",
       "1       Jane       Doe     JaneDoe@hotmail.com   32\n",
       "2       John     Smith   JohnSmith@outlook.com   33"
      ],
      "text/html": "<div>\n<style scoped>\n    .dataframe tbody tr th:only-of-type {\n        vertical-align: middle;\n    }\n\n    .dataframe tbody tr th {\n        vertical-align: top;\n    }\n\n    .dataframe thead th {\n        text-align: right;\n    }\n</style>\n<table border=\"1\" class=\"dataframe\">\n  <thead>\n    <tr style=\"text-align: right;\">\n      <th></th>\n      <th>First_Name</th>\n      <th>Last_Name</th>\n      <th>Email_Address</th>\n      <th>Age</th>\n    </tr>\n  </thead>\n  <tbody>\n    <tr>\n      <th>0</th>\n      <td>Corey</td>\n      <td>Schafer</td>\n      <td>CoreySchafer@gmail.com</td>\n      <td>31</td>\n    </tr>\n    <tr>\n      <th>1</th>\n      <td>Jane</td>\n      <td>Doe</td>\n      <td>JaneDoe@hotmail.com</td>\n      <td>32</td>\n    </tr>\n    <tr>\n      <th>2</th>\n      <td>John</td>\n      <td>Smith</td>\n      <td>JohnSmith@outlook.com</td>\n      <td>33</td>\n    </tr>\n  </tbody>\n</table>\n</div>"
     },
     "metadata": {},
     "execution_count": 78
    }
   ],
   "source": [
    "df"
   ]
  },
  {
   "cell_type": "code",
   "execution_count": 79,
   "metadata": {},
   "outputs": [
    {
     "output_type": "execute_result",
     "data": {
      "text/plain": [
       "0     0b11111\n",
       "1    0b100000\n",
       "2    0b100001\n",
       "Name: Age, dtype: object"
      ]
     },
     "metadata": {},
     "execution_count": 79
    }
   ],
   "source": [
    "df['Age'].apply(bin)"
   ]
  },
  {
   "cell_type": "code",
   "execution_count": 86,
   "metadata": {},
   "outputs": [],
   "source": [
    "df.columns = df.columns.str.replace('Email_Address', 'Email')"
   ]
  },
  {
   "cell_type": "code",
   "execution_count": 87,
   "metadata": {},
   "outputs": [
    {
     "output_type": "execute_result",
     "data": {
      "text/plain": [
       "  First_Name Last_Name                   Email  Age\n",
       "0      Corey   Schafer  CoreySchafer@gmail.com   31\n",
       "1       Jane       Doe     JaneDoe@hotmail.com   32\n",
       "2       John     Smith   JohnSmith@outlook.com   33"
      ],
      "text/html": "<div>\n<style scoped>\n    .dataframe tbody tr th:only-of-type {\n        vertical-align: middle;\n    }\n\n    .dataframe tbody tr th {\n        vertical-align: top;\n    }\n\n    .dataframe thead th {\n        text-align: right;\n    }\n</style>\n<table border=\"1\" class=\"dataframe\">\n  <thead>\n    <tr style=\"text-align: right;\">\n      <th></th>\n      <th>First_Name</th>\n      <th>Last_Name</th>\n      <th>Email</th>\n      <th>Age</th>\n    </tr>\n  </thead>\n  <tbody>\n    <tr>\n      <th>0</th>\n      <td>Corey</td>\n      <td>Schafer</td>\n      <td>CoreySchafer@gmail.com</td>\n      <td>31</td>\n    </tr>\n    <tr>\n      <th>1</th>\n      <td>Jane</td>\n      <td>Doe</td>\n      <td>JaneDoe@hotmail.com</td>\n      <td>32</td>\n    </tr>\n    <tr>\n      <th>2</th>\n      <td>John</td>\n      <td>Smith</td>\n      <td>JohnSmith@outlook.com</td>\n      <td>33</td>\n    </tr>\n  </tbody>\n</table>\n</div>"
     },
     "metadata": {},
     "execution_count": 87
    }
   ],
   "source": [
    "df"
   ]
  },
  {
   "cell_type": "code",
   "execution_count": 93,
   "metadata": {},
   "outputs": [
    {
     "output_type": "execute_result",
     "data": {
      "text/plain": [
       "0    coreyschafer@gmail.com\n",
       "1       janedoe@hotmail.com\n",
       "2     johnsmith@outlook.com\n",
       "Name: Email, dtype: object"
      ]
     },
     "metadata": {},
     "execution_count": 93
    }
   ],
   "source": [
    "# Pass in the function w/o parenthesis\n",
    "\n",
    "df['Email'].apply(str.lower)"
   ]
  },
  {
   "cell_type": "code",
   "execution_count": 104,
   "metadata": {},
   "outputs": [
    {
     "output_type": "execute_result",
     "data": {
      "text/plain": [
       "0    coreyschafer@gmail.com\n",
       "1       janedoe@hotmail.com\n",
       "2     johnsmith@outlook.com\n",
       "Name: Email, dtype: object"
      ]
     },
     "metadata": {},
     "execution_count": 104
    }
   ],
   "source": [
    "df['Email'].str.lower()"
   ]
  },
  {
   "cell_type": "code",
   "execution_count": 99,
   "metadata": {},
   "outputs": [
    {
     "output_type": "execute_result",
     "data": {
      "text/plain": [
       "  First_Name Last_Name                   Email  Age\n",
       "0      Corey   Schafer  CoreySchafer@gmail.com   31\n",
       "1       Jane       Doe     JaneDoe@hotmail.com   32\n",
       "2       John     Smith   JohnSmith@outlook.com   33"
      ],
      "text/html": "<div>\n<style scoped>\n    .dataframe tbody tr th:only-of-type {\n        vertical-align: middle;\n    }\n\n    .dataframe tbody tr th {\n        vertical-align: top;\n    }\n\n    .dataframe thead th {\n        text-align: right;\n    }\n</style>\n<table border=\"1\" class=\"dataframe\">\n  <thead>\n    <tr style=\"text-align: right;\">\n      <th></th>\n      <th>First_Name</th>\n      <th>Last_Name</th>\n      <th>Email</th>\n      <th>Age</th>\n    </tr>\n  </thead>\n  <tbody>\n    <tr>\n      <th>0</th>\n      <td>Corey</td>\n      <td>Schafer</td>\n      <td>CoreySchafer@gmail.com</td>\n      <td>31</td>\n    </tr>\n    <tr>\n      <th>1</th>\n      <td>Jane</td>\n      <td>Doe</td>\n      <td>JaneDoe@hotmail.com</td>\n      <td>32</td>\n    </tr>\n    <tr>\n      <th>2</th>\n      <td>John</td>\n      <td>Smith</td>\n      <td>JohnSmith@outlook.com</td>\n      <td>33</td>\n    </tr>\n  </tbody>\n</table>\n</div>"
     },
     "metadata": {},
     "execution_count": 99
    }
   ],
   "source": [
    "df.iloc[:,:]"
   ]
  },
  {
   "cell_type": "code",
   "execution_count": 106,
   "metadata": {},
   "outputs": [
    {
     "output_type": "execute_result",
     "data": {
      "text/plain": [
       "0    COREYSCHAFER@GMAIL.COM\n",
       "1       JANEDOE@HOTMAIL.COM\n",
       "2     JOHNSMITH@OUTLOOK.COM\n",
       "Name: Email, dtype: object"
      ]
     },
     "metadata": {},
     "execution_count": 106
    }
   ],
   "source": [
    "df['Email'].apply(lambda x: x.upper())"
   ]
  },
  {
   "cell_type": "code",
   "execution_count": 107,
   "metadata": {},
   "outputs": [
    {
     "output_type": "execute_result",
     "data": {
      "text/plain": [
       "0    COREYSCHAFER@GMAIL.COM\n",
       "1       JANEDOE@HOTMAIL.COM\n",
       "2     JOHNSMITH@OUTLOOK.COM\n",
       "Name: Email, dtype: object"
      ]
     },
     "metadata": {},
     "execution_count": 107
    }
   ],
   "source": [
    "df['Email'].str.upper()"
   ]
  },
  {
   "cell_type": "code",
   "execution_count": 113,
   "metadata": {},
   "outputs": [
    {
     "output_type": "execute_result",
     "data": {
      "text/plain": [
       "  First_Name Last_Name                   Email\n",
       "0      Corey   Schafer  CoreySchafer@gmail.com\n",
       "1       Jane       Doe     JaneDoe@hotmail.com\n",
       "2       John     Smith   JohnSmith@outlook.com"
      ],
      "text/html": "<div>\n<style scoped>\n    .dataframe tbody tr th:only-of-type {\n        vertical-align: middle;\n    }\n\n    .dataframe tbody tr th {\n        vertical-align: top;\n    }\n\n    .dataframe thead th {\n        text-align: right;\n    }\n</style>\n<table border=\"1\" class=\"dataframe\">\n  <thead>\n    <tr style=\"text-align: right;\">\n      <th></th>\n      <th>First_Name</th>\n      <th>Last_Name</th>\n      <th>Email</th>\n    </tr>\n  </thead>\n  <tbody>\n    <tr>\n      <th>0</th>\n      <td>Corey</td>\n      <td>Schafer</td>\n      <td>CoreySchafer@gmail.com</td>\n    </tr>\n    <tr>\n      <th>1</th>\n      <td>Jane</td>\n      <td>Doe</td>\n      <td>JaneDoe@hotmail.com</td>\n    </tr>\n    <tr>\n      <th>2</th>\n      <td>John</td>\n      <td>Smith</td>\n      <td>JohnSmith@outlook.com</td>\n    </tr>\n  </tbody>\n</table>\n</div>"
     },
     "metadata": {},
     "execution_count": 113
    }
   ],
   "source": [
    "df.loc[:, 'First_Name':'Email']#.apply(str.upper)"
   ]
  },
  {
   "cell_type": "code",
   "execution_count": 115,
   "metadata": {},
   "outputs": [
    {
     "output_type": "execute_result",
     "data": {
      "text/plain": [
       "0    COREY\n",
       "1     JANE\n",
       "2     JOHN\n",
       "Name: First_Name, dtype: object"
      ]
     },
     "metadata": {},
     "execution_count": 115
    }
   ],
   "source": [
    "df['First_Name'].apply(str.upper)"
   ]
  },
  {
   "cell_type": "code",
   "execution_count": 117,
   "metadata": {},
   "outputs": [
    {
     "output_type": "execute_result",
     "data": {
      "text/plain": [
       "0    SCHAFER\n",
       "1        DOE\n",
       "2      SMITH\n",
       "Name: Last_Name, dtype: object"
      ]
     },
     "metadata": {},
     "execution_count": 117
    }
   ],
   "source": [
    "df['Last_Name'].apply(str.upper)"
   ]
  },
  {
   "cell_type": "code",
   "execution_count": 122,
   "metadata": {},
   "outputs": [
    {
     "output_type": "execute_result",
     "data": {
      "text/plain": [
       "   first     last                   email\n",
       "0  COREY  SCHAFER  COREYSCHAFER@GMAIL.COM\n",
       "1   JANE      DOE     JANEDOE@HOTMAIL.COM\n",
       "2   JOHN    SMITH   JOHNSMITH@OUTLOOK.COM"
      ],
      "text/html": "<div>\n<style scoped>\n    .dataframe tbody tr th:only-of-type {\n        vertical-align: middle;\n    }\n\n    .dataframe tbody tr th {\n        vertical-align: top;\n    }\n\n    .dataframe thead th {\n        text-align: right;\n    }\n</style>\n<table border=\"1\" class=\"dataframe\">\n  <thead>\n    <tr style=\"text-align: right;\">\n      <th></th>\n      <th>first</th>\n      <th>last</th>\n      <th>email</th>\n    </tr>\n  </thead>\n  <tbody>\n    <tr>\n      <th>0</th>\n      <td>COREY</td>\n      <td>SCHAFER</td>\n      <td>COREYSCHAFER@GMAIL.COM</td>\n    </tr>\n    <tr>\n      <th>1</th>\n      <td>JANE</td>\n      <td>DOE</td>\n      <td>JANEDOE@HOTMAIL.COM</td>\n    </tr>\n    <tr>\n      <th>2</th>\n      <td>JOHN</td>\n      <td>SMITH</td>\n      <td>JOHNSMITH@OUTLOOK.COM</td>\n    </tr>\n  </tbody>\n</table>\n</div>"
     },
     "metadata": {},
     "execution_count": 122
    }
   ],
   "source": [
    "pp_df.applymap(str.upper)"
   ]
  },
  {
   "cell_type": "code",
   "execution_count": 132,
   "metadata": {},
   "outputs": [
    {
     "output_type": "stream",
     "name": "stdout",
     "text": [
      "<class 'pandas.core.frame.DataFrame'>\nInt64Index: 88883 entries, 1 to 88863\nData columns (total 84 columns):\n #   Column                  Non-Null Count  Dtype  \n---  ------                  --------------  -----  \n 0   MainBranch              88331 non-null  object \n 1   Hobbyist                88883 non-null  object \n 2   OpenSourcer             88883 non-null  object \n 3   OpenSource              86842 non-null  object \n 4   Employment              87181 non-null  object \n 5   Country                 88751 non-null  object \n 6   Student                 87014 non-null  object \n 7   EdLevel                 86390 non-null  object \n 8   UndergradMajor          75614 non-null  object \n 9   EduOther                84260 non-null  object \n 10  OrgSize                 71791 non-null  object \n 11  DevType                 81335 non-null  object \n 12  YearsCode               87938 non-null  object \n 13  Age1stCode              87634 non-null  object \n 14  YearsCodePro            74331 non-null  object \n 15  CareerSat               72847 non-null  object \n 16  JobSat                  70988 non-null  object \n 17  MgrIdiot                61159 non-null  object \n 18  MgrMoney                61157 non-null  object \n 19  MgrWant                 61232 non-null  object \n 20  JobSeek                 80555 non-null  object \n 21  LastHireDate            79854 non-null  object \n 22  LastInt                 67155 non-null  object \n 23  FizzBuzz                71344 non-null  object \n 24  JobFactors              79371 non-null  object \n 25  ResumeUpdate            77877 non-null  object \n 26  CurrencySymbol          71392 non-null  object \n 27  CurrencyDesc            71392 non-null  object \n 28  CompTotal               55945 non-null  float64\n 29  CompFreq                63268 non-null  object \n 30  ConvertedComp           55823 non-null  float64\n 31  WorkWeekHrs             64503 non-null  float64\n 32  WorkPlan                68914 non-null  object \n 33  WorkChallenge           68141 non-null  object \n 34  WorkRemote              70284 non-null  object \n 35  WorkLoc                 70055 non-null  object \n 36  ImpSyn                  71779 non-null  object \n 37  CodeRev                 70390 non-null  object \n 38  CodeRevHrs              49790 non-null  float64\n 39  UnitTests               62668 non-null  object \n 40  PurchaseHow             61108 non-null  object \n 41  PurchaseWhat            62029 non-null  object \n 42  LanguageWorkedWith      87569 non-null  object \n 43  LanguageDesireNextYear  84088 non-null  object \n 44  DatabaseWorkedWith      76026 non-null  object \n 45  DatabaseDesireNextYear  69147 non-null  object \n 46  PlatformWorkedWith      80714 non-null  object \n 47  PlatformDesireNextYear  77443 non-null  object \n 48  WebFrameWorkedWith      65022 non-null  object \n 49  WebFrameDesireNextYear  62944 non-null  object \n 50  MiscTechWorkedWith      59586 non-null  object \n 51  MiscTechDesireNextYear  64511 non-null  object \n 52  DevEnviron              87317 non-null  object \n 53  OpSys                   87851 non-null  object \n 54  Containers              85366 non-null  object \n 55  BlockchainOrg           48175 non-null  object \n 56  BlockchainIs            60165 non-null  object \n 57  BetterLife              86269 non-null  object \n 58  ITperson                87141 non-null  object \n 59  OffOn                   86663 non-null  object \n 60  SocialMedia             84437 non-null  object \n 61  Extraversion            87305 non-null  object \n 62  ScreenName              80486 non-null  object \n 63  SOVisit1st              83877 non-null  object \n 64  SOVisitFreq             88263 non-null  object \n 65  SOVisitTo               88086 non-null  object \n 66  SOFindAnswer            87816 non-null  object \n 67  SOTimeSaved             86344 non-null  object \n 68  SOHowMuchTime           68378 non-null  object \n 69  SOAccount               87828 non-null  object \n 70  SOPartFreq              74692 non-null  object \n 71  SOJobs                  88066 non-null  object \n 72  EntTeams                87841 non-null  object \n 73  SOComm                  88131 non-null  object \n 74  WelcomeChange           85855 non-null  object \n 75  SONewContent            69560 non-null  object \n 76  Age                     79210 non-null  float64\n 77  Gender                  85406 non-null  object \n 78  Trans                   83607 non-null  object \n 79  Sexuality               76147 non-null  object \n 80  Ethnicity               76668 non-null  object \n 81  Dependents              83059 non-null  object \n 82  SurveyLength            86984 non-null  object \n 83  SurveyEase              87081 non-null  object \ndtypes: float64(5), object(79)\nmemory usage: 57.6+ MB\n"
     ]
    }
   ],
   "source": [
    "df.info()"
   ]
  },
  {
   "cell_type": "code",
   "execution_count": 139,
   "metadata": {},
   "outputs": [
    {
     "output_type": "execute_result",
     "data": {
      "text/plain": [
       "79"
      ]
     },
     "metadata": {},
     "execution_count": 139
    }
   ],
   "source": [
    "len(df.select_dtypes(include=object).columns)"
   ]
  },
  {
   "cell_type": "code",
   "execution_count": 140,
   "metadata": {},
   "outputs": [
    {
     "output_type": "execute_result",
     "data": {
      "text/plain": [
       "5"
      ]
     },
     "metadata": {},
     "execution_count": 140
    }
   ],
   "source": [
    "len(df.select_dtypes(include=np.number).columns)"
   ]
  },
  {
   "cell_type": "code",
   "execution_count": 141,
   "metadata": {},
   "outputs": [
    {
     "output_type": "execute_result",
     "data": {
      "text/plain": [
       "84"
      ]
     },
     "metadata": {},
     "execution_count": 141
    }
   ],
   "source": [
    "len(df.columns)"
   ]
  },
  {
   "cell_type": "code",
   "execution_count": 148,
   "metadata": {},
   "outputs": [
    {
     "output_type": "execute_result",
     "data": {
      "text/plain": [
       "         FLASK;JQUERY                 NODE.JS   \n",
       "2                                 DJANGO                           \n",
       "3                              OTHER(S):                           \n",
       "4                                                           .NET   \n",
       "5           FLASK;JQUERY;REACT.JS;SPRING         CORDOVA;NODE.JS   \n",
       "...                                  ...                     ...   \n",
       "88377                      JQUERY;VUE.JS                 NODE.JS   \n",
       "88601                                                              \n",
       "88802                                                              \n",
       "88816                                                              \n",
       "88863                             DJANGO  UNITY 3D;UNREAL ENGINE   \n",
       "\n",
       "                              MiscTechDesireNextYear  \\\n",
       "Respondent                                             \n",
       "1                                            NODE.JS   \n",
       "2                                                      \n",
       "3                                                      \n",
       "4                                               .NET   \n",
       "5           APACHE SPARK;HADOOP;NODE.JS;REACT NATIVE   \n",
       "...                                              ...   \n",
       "88377            REACT NATIVE;UNITY 3D;UNREAL ENGINE   \n",
       "88601                                                  \n",
       "88802                                                  \n",
       "88816                                                  \n",
       "88863                                                  \n",
       "\n",
       "                                                             DevEnviron  \\\n",
       "Respondent                                                                \n",
       "1                                            INTELLIJ;NOTEPAD++;PYCHARM   \n",
       "2                                                          ATOM;PYCHARM   \n",
       "3                                                VIM;VISUAL STUDIO CODE   \n",
       "4                          ECLIPSE;VIM;VISUAL STUDIO;VISUAL STUDIO CODE   \n",
       "5                                                INTELLIJ;NOTEPAD++;VIM   \n",
       "...                                                                 ...   \n",
       "88377                             ATOM;VISUAL STUDIO;VISUAL STUDIO CODE   \n",
       "88601                                                                     \n",
       "88802                                                                     \n",
       "88816                                                                     \n",
       "88863       ANDROID STUDIO;ATOM;ECLIPSE;NETBEANS;NOTEPAD++;SUBLIME TEXT   \n",
       "\n",
       "                  OpSys                              Containers BlockchainOrg  \\\n",
       "Respondent                                                                      \n",
       "1               WINDOWS                 I DO NOT USE CONTAINERS                 \n",
       "2               WINDOWS                 I DO NOT USE CONTAINERS                 \n",
       "3           LINUX-BASED                 I DO NOT USE CONTAINERS                 \n",
       "4               WINDOWS                 I DO NOT USE CONTAINERS    NOT AT ALL   \n",
       "5           LINUX-BASED  OUTSIDE OF WORK, FOR PERSONAL PROJECTS    NOT AT ALL   \n",
       "...                 ...                                     ...           ...   \n",
       "88377           WINDOWS                 I DO NOT USE CONTAINERS                 \n",
       "88601                                                                           \n",
       "88802                                                                           \n",
       "88816                                                                           \n",
       "88863       LINUX-BASED                              PRODUCTION                 \n",
       "\n",
       "                                                                     BlockchainIs  \\\n",
       "Respondent                                                                          \n",
       "1                                                                                   \n",
       "2           USEFUL ACROSS MANY DOMAINS AND COULD CHANGE MANY ASPECTS OF OUR LIVES   \n",
       "3                                                                                   \n",
       "4                               USEFUL FOR DECENTRALIZED CURRENCY (I.E., BITCOIN)   \n",
       "5                                                                                   \n",
       "...                                                                           ...   \n",
       "88377       USEFUL ACROSS MANY DOMAINS AND COULD CHANGE MANY ASPECTS OF OUR LIVES   \n",
       "88601                                                                               \n",
       "88802                                                                               \n",
       "88816                                                                               \n",
       "88863                           USEFUL FOR DECENTRALIZED CURRENCY (I.E., BITCOIN)   \n",
       "\n",
       "           BetterLife                                  ITperson  OffOn  \\\n",
       "Respondent                                                               \n",
       "1                 YES  FORTUNATELY, SOMEONE ELSE HAS THAT TITLE    YES   \n",
       "2                 YES                                       YES    YES   \n",
       "3                 YES                                       YES    YES   \n",
       "4                 YES                                      SIGH    YES   \n",
       "5                 YES                                  ALSO YES    YES   \n",
       "...               ...                                       ...    ...   \n",
       "88377             YES                                       YES  WHAT?   \n",
       "88601                                                                    \n",
       "88802                                                                    \n",
       "88816                                                                    \n",
       "88863             YES                                  ALSO YES    YES   \n",
       "\n",
       "           SocialMedia              Extraversion ScreenName        SOVisit1st  \\\n",
       "Respondent                                                                      \n",
       "1              TWITTER                    ONLINE   USERNAME              2017   \n",
       "2            INSTAGRAM                    ONLINE   USERNAME              2017   \n",
       "3               REDDIT  IN REAL LIFE (IN PERSON)   USERNAME              2011   \n",
       "4               REDDIT  IN REAL LIFE (IN PERSON)   USERNAME              2014   \n",
       "5             FACEBOOK  IN REAL LIFE (IN PERSON)   USERNAME  I DON'T REMEMBER   \n",
       "...                ...                       ...        ...               ...   \n",
       "88377          YOUTUBE                             USERNAME  I DON'T REMEMBER   \n",
       "88601                                                                           \n",
       "88802                                                                           \n",
       "88816                                                                           \n",
       "88863         WHATSAPP  IN REAL LIFE (IN PERSON)                         2012   \n",
       "\n",
       "                                SOVisitFreq  \\\n",
       "Respondent                                    \n",
       "1           A FEW TIMES PER MONTH OR WEEKLY   \n",
       "2                     DAILY OR ALMOST DAILY   \n",
       "3                      A FEW TIMES PER WEEK   \n",
       "4                     DAILY OR ALMOST DAILY   \n",
       "5                    MULTIPLE TIMES PER DAY   \n",
       "...                                     ...   \n",
       "88377                  A FEW TIMES PER WEEK   \n",
       "88601                                         \n",
       "88802                                         \n",
       "88816                                         \n",
       "88863                 DAILY OR ALMOST DAILY   \n",
       "\n",
       "                                                                                                                                              SOVisitTo  \\\n",
       "Respondent                                                                                                                                                \n",
       "1                                                               FIND ANSWERS TO SPECIFIC QUESTIONS;LEARN HOW TO DO THINGS I DIDN’T NECESSARILY LOOK FOR   \n",
       "2                                                               FIND ANSWERS TO SPECIFIC QUESTIONS;LEARN HOW TO DO THINGS I DIDN’T NECESSARILY LOOK FOR   \n",
       "3                                                               FIND ANSWERS TO SPECIFIC QUESTIONS;LEARN HOW TO DO THINGS I DIDN’T NECESSARILY LOOK FOR   \n",
       "4                                                                                              FIND ANSWERS TO SPECIFIC QUESTIONS;PASS THE TIME / RELAX   \n",
       "5                                                                                                                    FIND ANSWERS TO SPECIFIC QUESTIONS   \n",
       "...                                                                                                                                                 ...   \n",
       "88377                                     FIND ANSWERS TO SPECIFIC QUESTIONS;LEARN HOW TO DO THINGS I DIDN’T NECESSARILY LOOK FOR;PASS THE TIME / RELAX   \n",
       "88601                                                                                                                                                     \n",
       "88802                                                                                                                                                     \n",
       "88816                                                                                                                                                     \n",
       "88863       FIND ANSWERS TO SPECIFIC QUESTIONS;LEARN HOW TO DO THINGS I DIDN’T NECESSARILY LOOK FOR;GET A SENSE OF BELONGING TO THE DEVELOPER COMMUNITY   \n",
       "\n",
       "                           SOFindAnswer                         SOTimeSaved  \\\n",
       "Respondent                                                                    \n",
       "1                    3-5 TIMES PER WEEK      STACK OVERFLOW WAS MUCH FASTER   \n",
       "2                    3-5 TIMES PER WEEK      STACK OVERFLOW WAS MUCH FASTER   \n",
       "3                   6-10 TIMES PER WEEK            THEY WERE ABOUT THE SAME   \n",
       "4                    1-2 TIMES PER WEEK      STACK OVERFLOW WAS MUCH FASTER   \n",
       "5           MORE THAN 10 TIMES PER WEEK      STACK OVERFLOW WAS MUCH FASTER   \n",
       "...                                 ...                                 ...   \n",
       "88377                3-5 TIMES PER WEEK  STACK OVERFLOW WAS SLIGHTLY FASTER   \n",
       "88601                                                                         \n",
       "88802                                                                         \n",
       "88816                                                                         \n",
       "88863               6-10 TIMES PER WEEK      STACK OVERFLOW WAS MUCH FASTER   \n",
       "\n",
       "            SOHowMuchTime SOAccount  \\\n",
       "Respondent                            \n",
       "1           31-60 MINUTES        NO   \n",
       "2           11-30 MINUTES       YES   \n",
       "3                               YES   \n",
       "4           31-60 MINUTES       YES   \n",
       "5                               YES   \n",
       "...                   ...       ...   \n",
       "88377       11-30 MINUTES       YES   \n",
       "88601                                 \n",
       "88802                                 \n",
       "88816                                 \n",
       "88863       11-30 MINUTES       YES   \n",
       "\n",
       "                                                    SOPartFreq  \\\n",
       "Respondent                                                       \n",
       "1                                                                \n",
       "2                              A FEW TIMES PER MONTH OR WEEKLY   \n",
       "3                          LESS THAN ONCE PER MONTH OR MONTHLY   \n",
       "4                          LESS THAN ONCE PER MONTH OR MONTHLY   \n",
       "5                              A FEW TIMES PER MONTH OR WEEKLY   \n",
       "...                                                        ...   \n",
       "88377       I HAVE NEVER PARTICIPATED IN Q&A ON STACK OVERFLOW   \n",
       "88601                                                            \n",
       "88802                                                            \n",
       "88816                                                            \n",
       "88863                          A FEW TIMES PER MONTH OR WEEKLY   \n",
       "\n",
       "                                                                                      SOJobs  \\\n",
       "Respondent                                                                                     \n",
       "1                                      NO, I DIDN'T KNOW THAT STACK OVERFLOW HAD A JOB BOARD   \n",
       "2           NO, I KNEW THAT STACK OVERFLOW HAD A JOB BOARD BUT HAVE NEVER USED OR VISITED IT   \n",
       "3                                                                                        YES   \n",
       "4                                                                                        YES   \n",
       "5           NO, I KNEW THAT STACK OVERFLOW HAD A JOB BOARD BUT HAVE NEVER USED OR VISITED IT   \n",
       "...                                                                                      ...   \n",
       "88377       NO, I KNEW THAT STACK OVERFLOW HAD A JOB BOARD BUT HAVE NEVER USED OR VISITED IT   \n",
       "88601                                                                                          \n",
       "88802                                                                                          \n",
       "88816                                                                                          \n",
       "88863                                                                                    YES   \n",
       "\n",
       "                                                                       EntTeams  \\\n",
       "Respondent                                                                        \n",
       "1                                           NO, AND I DON'T KNOW WHAT THOSE ARE   \n",
       "2                                           NO, AND I DON'T KNOW WHAT THOSE ARE   \n",
       "3           NO, I'VE HEARD OF THEM, BUT I AM NOT PART OF A PRIVATE Q&A INSTANCE   \n",
       "4                                           NO, AND I DON'T KNOW WHAT THOSE ARE   \n",
       "5           NO, I'VE HEARD OF THEM, BUT I AM NOT PART OF A PRIVATE Q&A INSTANCE   \n",
       "...                                                                         ...   \n",
       "88377       NO, I'VE HEARD OF THEM, BUT I AM NOT PART OF A PRIVATE Q&A INSTANCE   \n",
       "88601                                                                             \n",
       "88802                                                                             \n",
       "88816                                                                             \n",
       "88863       NO, I'VE HEARD OF THEM, BUT I AM NOT PART OF A PRIVATE Q&A INSTANCE   \n",
       "\n",
       "                     SOComm                             WelcomeChange  \\\n",
       "Respondent                                                              \n",
       "1                   NEUTRAL   JUST AS WELCOME NOW AS I FELT LAST YEAR   \n",
       "2             YES, SOMEWHAT   JUST AS WELCOME NOW AS I FELT LAST YEAR   \n",
       "3                   NEUTRAL   JUST AS WELCOME NOW AS I FELT LAST YEAR   \n",
       "4            NO, NOT REALLY   JUST AS WELCOME NOW AS I FELT LAST YEAR   \n",
       "5           YES, DEFINITELY   JUST AS WELCOME NOW AS I FELT LAST YEAR   \n",
       "...                     ...                                       ...   \n",
       "88377        NO, NOT AT ALL                                             \n",
       "88601                                                                   \n",
       "88802                                                                   \n",
       "88816                                                                   \n",
       "88863         YES, SOMEWHAT  SOMEWHAT LESS WELCOME NOW THAN LAST YEAR   \n",
       "\n",
       "                                                                                                                                                                                SONewContent  \\\n",
       "Respondent                                                                                                                                                                                     \n",
       "1                                               TECH ARTICLES WRITTEN BY OTHER DEVELOPERS;INDUSTRY NEWS ABOUT TECHNOLOGIES YOU'RE INTERESTED IN;COURSES ON TECHNOLOGIES YOU'RE INTERESTED IN   \n",
       "2           TECH ARTICLES WRITTEN BY OTHER DEVELOPERS;INDUSTRY NEWS ABOUT TECHNOLOGIES YOU'RE INTERESTED IN;TECH MEETUPS OR EVENTS IN YOUR AREA;COURSES ON TECHNOLOGIES YOU'RE INTERESTED IN   \n",
       "3                                                                                                           TECH MEETUPS OR EVENTS IN YOUR AREA;COURSES ON TECHNOLOGIES YOU'RE INTERESTED IN   \n",
       "4           TECH ARTICLES WRITTEN BY OTHER DEVELOPERS;INDUSTRY NEWS ABOUT TECHNOLOGIES YOU'RE INTERESTED IN;TECH MEETUPS OR EVENTS IN YOUR AREA;COURSES ON TECHNOLOGIES YOU'RE INTERESTED IN   \n",
       "5                                                                                                           TECH MEETUPS OR EVENTS IN YOUR AREA;COURSES ON TECHNOLOGIES YOU'RE INTERESTED IN   \n",
       "...                                                                                                                                                                                      ...   \n",
       "88377                                                             TECH ARTICLES WRITTEN BY OTHER DEVELOPERS;TECH MEETUPS OR EVENTS IN YOUR AREA;COURSES ON TECHNOLOGIES YOU'RE INTERESTED IN   \n",
       "88601                                                                                                                                                                                          \n",
       "88802                                                                                                                                                                                          \n",
       "88816                                                                                                                                                                                          \n",
       "88863       TECH ARTICLES WRITTEN BY OTHER DEVELOPERS;INDUSTRY NEWS ABOUT TECHNOLOGIES YOU'RE INTERESTED IN;TECH MEETUPS OR EVENTS IN YOUR AREA;COURSES ON TECHNOLOGIES YOU'RE INTERESTED IN   \n",
       "\n",
       "           Gender Trans                Sexuality  \\\n",
       "Respondent                                         \n",
       "1             MAN    NO  STRAIGHT / HETEROSEXUAL   \n",
       "2             MAN    NO  STRAIGHT / HETEROSEXUAL   \n",
       "3             MAN    NO  STRAIGHT / HETEROSEXUAL   \n",
       "4             MAN    NO  STRAIGHT / HETEROSEXUAL   \n",
       "5             MAN    NO  STRAIGHT / HETEROSEXUAL   \n",
       "...           ...   ...                      ...   \n",
       "88377         MAN    NO                            \n",
       "88601                                              \n",
       "88802                                              \n",
       "88816                                              \n",
       "88863         MAN    NO  STRAIGHT / HETEROSEXUAL   \n",
       "\n",
       "                                                         Ethnicity Dependents  \\\n",
       "Respondent                                                                      \n",
       "1                                                                          NO   \n",
       "2                                                                          NO   \n",
       "3                                                                         YES   \n",
       "4                                     WHITE OR OF EUROPEAN DESCENT         NO   \n",
       "5                         WHITE OR OF EUROPEAN DESCENT;MULTIRACIAL         NO   \n",
       "...                                                            ...        ...   \n",
       "88377                                                                      NO   \n",
       "88601                                                                           \n",
       "88802                                                                           \n",
       "88816                                                                           \n",
       "88863       HISPANIC OR LATINO/LATINA;WHITE OR OF EUROPEAN DESCENT         NO   \n",
       "\n",
       "                     SurveyLength                  SurveyEase  \n",
       "Respondent                                                     \n",
       "1           APPROPRIATE IN LENGTH  NEITHER EASY NOR DIFFICULT  \n",
       "2           APPROPRIATE IN LENGTH  NEITHER EASY NOR DIFFICULT  \n",
       "3           APPROPRIATE IN LENGTH  NEITHER EASY NOR DIFFICULT  \n",
       "4           APPROPRIATE IN LENGTH                        EASY  \n",
       "5           APPROPRIATE IN LENGTH                        EASY  \n",
       "...                           ...                         ...  \n",
       "88377       APPROPRIATE IN LENGTH                        EASY  \n",
       "88601                                                          \n",
       "88802                                                          \n",
       "88816                                                          \n",
       "88863       APPROPRIATE IN LENGTH                        EASY  \n",
       "\n",
       "[88883 rows x 79 columns]"
      ],
      "text/html": "<div>\n<style scoped>\n    .dataframe tbody tr th:only-of-type {\n        vertical-align: middle;\n    }\n\n    .dataframe tbody tr th {\n        vertical-align: top;\n    }\n\n    .dataframe thead th {\n        text-align: right;\n    }\n</style>\n<table border=\"1\" class=\"dataframe\">\n  <thead>\n    <tr style=\"text-align: right;\">\n      <th></th>\n      <th>MainBranch</th>\n      <th>Hobbyist</th>\n      <th>OpenSourcer</th>\n      <th>OpenSource</th>\n      <th>Employment</th>\n      <th>Country</th>\n      <th>Student</th>\n      <th>EdLevel</th>\n      <th>UndergradMajor</th>\n      <th>EduOther</th>\n      <th>OrgSize</th>\n      <th>DevType</th>\n      <th>YearsCode</th>\n      <th>Age1stCode</th>\n      <th>YearsCodePro</th>\n      <th>CareerSat</th>\n      <th>JobSat</th>\n      <th>MgrIdiot</th>\n      <th>MgrMoney</th>\n      <th>MgrWant</th>\n      <th>JobSeek</th>\n      <th>LastHireDate</th>\n      <th>LastInt</th>\n      <th>FizzBuzz</th>\n      <th>JobFactors</th>\n      <th>ResumeUpdate</th>\n      <th>CurrencySymbol</th>\n      <th>CurrencyDesc</th>\n      <th>CompFreq</th>\n      <th>WorkPlan</th>\n      <th>WorkChallenge</th>\n      <th>WorkRemote</th>\n      <th>WorkLoc</th>\n      <th>ImpSyn</th>\n      <th>CodeRev</th>\n      <th>UnitTests</th>\n      <th>PurchaseHow</th>\n      <th>PurchaseWhat</th>\n      <th>LanguageWorkedWith</th>\n      <th>LanguageDesireNextYear</th>\n      <th>DatabaseWorkedWith</th>\n      <th>DatabaseDesireNextYear</th>\n      <th>PlatformWorkedWith</th>\n      <th>PlatformDesireNextYear</th>\n      <th>WebFrameWorkedWith</th>\n      <th>WebFrameDesireNextYear</th>\n      <th>MiscTechWorkedWith</th>\n      <th>MiscTechDesireNextYear</th>\n      <th>DevEnviron</th>\n      <th>OpSys</th>\n      <th>Containers</th>\n      <th>BlockchainOrg</th>\n      <th>BlockchainIs</th>\n      <th>BetterLife</th>\n      <th>ITperson</th>\n      <th>OffOn</th>\n      <th>SocialMedia</th>\n      <th>Extraversion</th>\n      <th>ScreenName</th>\n      <th>SOVisit1st</th>\n      <th>SOVisitFreq</th>\n      <th>SOVisitTo</th>\n      <th>SOFindAnswer</th>\n      <th>SOTimeSaved</th>\n      <th>SOHowMuchTime</th>\n      <th>SOAccount</th>\n      <th>SOPartFreq</th>\n      <th>SOJobs</th>\n      <th>EntTeams</th>\n      <th>SOComm</th>\n      <th>WelcomeChange</th>\n      <th>SONewContent</th>\n      <th>Gender</th>\n      <th>Trans</th>\n      <th>Sexuality</th>\n      <th>Ethnicity</th>\n      <th>Dependents</th>\n      <th>SurveyLength</th>\n      <th>SurveyEase</th>\n    </tr>\n    <tr>\n      <th>Respondent</th>\n      <th></th>\n      <th></th>\n      <th></th>\n      <th></th>\n      <th></th>\n      <th></th>\n      <th></th>\n      <th></th>\n      <th></th>\n      <th></th>\n      <th></th>\n      <th></th>\n      <th></th>\n      <th></th>\n      <th></th>\n      <th></th>\n      <th></th>\n      <th></th>\n      <th></th>\n      <th></th>\n      <th></th>\n      <th></th>\n      <th></th>\n      <th></th>\n      <th></th>\n      <th></th>\n      <th></th>\n      <th></th>\n      <th></th>\n      <th></th>\n      <th></th>\n      <th></th>\n      <th></th>\n      <th></th>\n      <th></th>\n      <th></th>\n      <th></th>\n      <th></th>\n      <th></th>\n      <th></th>\n      <th></th>\n      <th></th>\n      <th></th>\n      <th></th>\n      <th></th>\n      <th></th>\n      <th></th>\n      <th></th>\n      <th></th>\n      <th></th>\n      <th></th>\n      <th></th>\n      <th></th>\n      <th></th>\n      <th></th>\n      <th></th>\n      <th></th>\n      <th></th>\n      <th></th>\n      <th></th>\n      <th></th>\n      <th></th>\n      <th></th>\n      <th></th>\n      <th></th>\n      <th></th>\n      <th></th>\n      <th></th>\n      <th></th>\n      <th></th>\n      <th></th>\n      <th></th>\n      <th></th>\n      <th></th>\n      <th></th>\n      <th></th>\n      <th></th>\n      <th></th>\n      <th></th>\n    </tr>\n  </thead>\n  <tbody>\n    <tr>\n      <th>1</th>\n      <td>I AM A STUDENT WHO IS LEARNING TO CODE</td>\n      <td>YES</td>\n      <td>NEVER</td>\n      <td>THE QUALITY OF OSS AND CLOSED SOURCE SOFTWARE IS ABOUT THE SAME</td>\n      <td>NOT EMPLOYED, AND NOT LOOKING FOR WORK</td>\n      <td>UNITED KINGDOM</td>\n      <td>NO</td>\n      <td>PRIMARY/ELEMENTARY SCHOOL</td>\n      <td></td>\n      <td>TAUGHT YOURSELF A NEW LANGUAGE, FRAMEWORK, OR TOOL WITHOUT TAKING A FORMAL COURSE</td>\n      <td></td>\n      <td></td>\n      <td>4</td>\n      <td>10</td>\n      <td></td>\n      <td></td>\n      <td></td>\n      <td></td>\n      <td></td>\n      <td></td>\n      <td></td>\n      <td></td>\n      <td></td>\n      <td></td>\n      <td></td>\n      <td></td>\n      <td></td>\n      <td></td>\n      <td></td>\n      <td></td>\n      <td></td>\n      <td></td>\n      <td></td>\n      <td></td>\n      <td></td>\n      <td></td>\n      <td></td>\n      <td></td>\n      <td>HTML/CSS;JAVA;JAVASCRIPT;PYTHON</td>\n      <td>C;C++;C#;GO;HTML/CSS;JAVA;JAVASCRIPT;PYTHON;SQL</td>\n      <td>SQLITE</td>\n      <td>MYSQL</td>\n      <td>MACOS;WINDOWS</td>\n      <td>ANDROID;ARDUINO;WINDOWS</td>\n      <td>DJANGO;FLASK</td>\n      <td>FLASK;JQUERY</td>\n      <td>NODE.JS</td>\n      <td>NODE.JS</td>\n      <td>INTELLIJ;NOTEPAD++;PYCHARM</td>\n      <td>WINDOWS</td>\n      <td>I DO NOT USE CONTAINERS</td>\n      <td></td>\n      <td></td>\n      <td>YES</td>\n      <td>FORTUNATELY, SOMEONE ELSE HAS THAT TITLE</td>\n      <td>YES</td>\n      <td>TWITTER</td>\n      <td>ONLINE</td>\n      <td>USERNAME</td>\n      <td>2017</td>\n      <td>A FEW TIMES PER MONTH OR WEEKLY</td>\n      <td>FIND ANSWERS TO SPECIFIC QUESTIONS;LEARN HOW TO DO THINGS I DIDN’T NECESSARILY LOOK FOR</td>\n      <td>3-5 TIMES PER WEEK</td>\n      <td>STACK OVERFLOW WAS MUCH FASTER</td>\n      <td>31-60 MINUTES</td>\n      <td>NO</td>\n      <td></td>\n      <td>NO, I DIDN'T KNOW THAT STACK OVERFLOW HAD A JOB BOARD</td>\n      <td>NO, AND I DON'T KNOW WHAT THOSE ARE</td>\n      <td>NEUTRAL</td>\n      <td>JUST AS WELCOME NOW AS I FELT LAST YEAR</td>\n      <td>TECH ARTICLES WRITTEN BY OTHER DEVELOPERS;INDUSTRY NEWS ABOUT TECHNOLOGIES YOU'RE INTERESTED IN;COURSES ON TECHNOLOGIES YOU'RE INTERESTED IN</td>\n      <td>MAN</td>\n      <td>NO</td>\n      <td>STRAIGHT / HETEROSEXUAL</td>\n      <td></td>\n      <td>NO</td>\n      <td>APPROPRIATE IN LENGTH</td>\n      <td>NEITHER EASY NOR DIFFICULT</td>\n    </tr>\n    <tr>\n      <th>2</th>\n      <td>I AM A STUDENT WHO IS LEARNING TO CODE</td>\n      <td>NO</td>\n      <td>LESS THAN ONCE PER YEAR</td>\n      <td>THE QUALITY OF OSS AND CLOSED SOURCE SOFTWARE IS ABOUT THE SAME</td>\n      <td>NOT EMPLOYED, BUT LOOKING FOR WORK</td>\n      <td>BOSNIA AND HERZEGOVINA</td>\n      <td>YES, FULL-TIME</td>\n      <td>SECONDARY SCHOOL (E.G. AMERICAN HIGH SCHOOL, GERMAN REALSCHULE OR GYMNASIUM, ETC.)</td>\n      <td></td>\n      <td>TAKEN AN ONLINE COURSE IN PROGRAMMING OR SOFTWARE DEVELOPMENT (E.G. A MOOC)</td>\n      <td></td>\n      <td>DEVELOPER, DESKTOP OR ENTERPRISE APPLICATIONS;DEVELOPER, FRONT-END</td>\n      <td></td>\n      <td>17</td>\n      <td></td>\n      <td></td>\n      <td></td>\n      <td></td>\n      <td></td>\n      <td></td>\n      <td>I AM ACTIVELY LOOKING FOR A JOB</td>\n      <td>I'VE NEVER HAD A JOB</td>\n      <td></td>\n      <td></td>\n      <td>FINANCIAL PERFORMANCE OR FUNDING STATUS OF THE COMPANY OR ORGANIZATION;SPECIFIC DEPARTMENT OR TEAM I'D BE WORKING ON;LANGUAGES, FRAMEWORKS, AND OTHER TECHNOLOGIES I'D BE WORKING WITH</td>\n      <td>SOMETHING ELSE CHANGED (EDUCATION, AWARD, MEDIA, ETC.)</td>\n      <td></td>\n      <td></td>\n      <td></td>\n      <td></td>\n      <td></td>\n      <td></td>\n      <td></td>\n      <td></td>\n      <td></td>\n      <td></td>\n      <td></td>\n      <td></td>\n      <td>C++;HTML/CSS;PYTHON</td>\n      <td>C++;HTML/CSS;JAVASCRIPT;SQL</td>\n      <td></td>\n      <td>MYSQL</td>\n      <td>WINDOWS</td>\n      <td>WINDOWS</td>\n      <td>DJANGO</td>\n      <td>DJANGO</td>\n      <td></td>\n      <td></td>\n      <td>ATOM;PYCHARM</td>\n      <td>WINDOWS</td>\n      <td>I DO NOT USE CONTAINERS</td>\n      <td></td>\n      <td>USEFUL ACROSS MANY DOMAINS AND COULD CHANGE MANY ASPECTS OF OUR LIVES</td>\n      <td>YES</td>\n      <td>YES</td>\n      <td>YES</td>\n      <td>INSTAGRAM</td>\n      <td>ONLINE</td>\n      <td>USERNAME</td>\n      <td>2017</td>\n      <td>DAILY OR ALMOST DAILY</td>\n      <td>FIND ANSWERS TO SPECIFIC QUESTIONS;LEARN HOW TO DO THINGS I DIDN’T NECESSARILY LOOK FOR</td>\n      <td>3-5 TIMES PER WEEK</td>\n      <td>STACK OVERFLOW WAS MUCH FASTER</td>\n      <td>11-30 MINUTES</td>\n      <td>YES</td>\n      <td>A FEW TIMES PER MONTH OR WEEKLY</td>\n      <td>NO, I KNEW THAT STACK OVERFLOW HAD A JOB BOARD BUT HAVE NEVER USED OR VISITED IT</td>\n      <td>NO, AND I DON'T KNOW WHAT THOSE ARE</td>\n      <td>YES, SOMEWHAT</td>\n      <td>JUST AS WELCOME NOW AS I FELT LAST YEAR</td>\n      <td>TECH ARTICLES WRITTEN BY OTHER DEVELOPERS;INDUSTRY NEWS ABOUT TECHNOLOGIES YOU'RE INTERESTED IN;TECH MEETUPS OR EVENTS IN YOUR AREA;COURSES ON TECHNOLOGIES YOU'RE INTERESTED IN</td>\n      <td>MAN</td>\n      <td>NO</td>\n      <td>STRAIGHT / HETEROSEXUAL</td>\n      <td></td>\n      <td>NO</td>\n      <td>APPROPRIATE IN LENGTH</td>\n      <td>NEITHER EASY NOR DIFFICULT</td>\n    </tr>\n    <tr>\n      <th>3</th>\n      <td>I AM NOT PRIMARILY A DEVELOPER, BUT I WRITE CODE SOMETIMES AS PART OF MY WORK</td>\n      <td>YES</td>\n      <td>NEVER</td>\n      <td>THE QUALITY OF OSS AND CLOSED SOURCE SOFTWARE IS ABOUT THE SAME</td>\n      <td>EMPLOYED FULL-TIME</td>\n      <td>THAILAND</td>\n      <td>NO</td>\n      <td>BACHELOR’S DEGREE (BA, BS, B.ENG., ETC.)</td>\n      <td>WEB DEVELOPMENT OR WEB DESIGN</td>\n      <td>TAUGHT YOURSELF A NEW LANGUAGE, FRAMEWORK, OR TOOL WITHOUT TAKING A FORMAL COURSE</td>\n      <td>100 TO 499 EMPLOYEES</td>\n      <td>DESIGNER;DEVELOPER, BACK-END;DEVELOPER, FRONT-END;DEVELOPER, FULL-STACK</td>\n      <td>3</td>\n      <td>22</td>\n      <td>1</td>\n      <td>SLIGHTLY SATISFIED</td>\n      <td>SLIGHTLY SATISFIED</td>\n      <td>NOT AT ALL CONFIDENT</td>\n      <td>NOT SURE</td>\n      <td>NOT SURE</td>\n      <td>I’M NOT ACTIVELY LOOKING, BUT I AM OPEN TO NEW OPPORTUNITIES</td>\n      <td>1-2 YEARS AGO</td>\n      <td>INTERVIEW WITH PEOPLE IN PEER ROLES</td>\n      <td>NO</td>\n      <td>LANGUAGES, FRAMEWORKS, AND OTHER TECHNOLOGIES I'D BE WORKING WITH;REMOTE WORK OPTIONS;FLEX TIME OR A FLEXIBLE SCHEDULE</td>\n      <td>I WAS PREPARING FOR A JOB SEARCH</td>\n      <td>THB</td>\n      <td>THAI BAHT</td>\n      <td>MONTHLY</td>\n      <td>THERE'S NO SCHEDULE OR SPEC; I WORK ON WHAT SEEMS MOST IMPORTANT OR URGENT</td>\n      <td>DISTRACTING WORK ENVIRONMENT;INADEQUATE ACCESS TO NECESSARY TOOLS;LACK OF SUPPORT FROM MANAGEMENT</td>\n      <td>LESS THAN ONCE PER MONTH / NEVER</td>\n      <td>HOME</td>\n      <td>AVERAGE</td>\n      <td>NO</td>\n      <td>NO, BUT I THINK WE SHOULD</td>\n      <td>NOT SURE</td>\n      <td>I HAVE LITTLE OR NO INFLUENCE</td>\n      <td>HTML/CSS</td>\n      <td>ELIXIR;HTML/CSS</td>\n      <td>POSTGRESQL</td>\n      <td>POSTGRESQL</td>\n      <td></td>\n      <td></td>\n      <td></td>\n      <td>OTHER(S):</td>\n      <td></td>\n      <td></td>\n      <td>VIM;VISUAL STUDIO CODE</td>\n      <td>LINUX-BASED</td>\n      <td>I DO NOT USE CONTAINERS</td>\n      <td></td>\n      <td></td>\n      <td>YES</td>\n      <td>YES</td>\n      <td>YES</td>\n      <td>REDDIT</td>\n      <td>IN REAL LIFE (IN PERSON)</td>\n      <td>USERNAME</td>\n      <td>2011</td>\n      <td>A FEW TIMES PER WEEK</td>\n      <td>FIND ANSWERS TO SPECIFIC QUESTIONS;LEARN HOW TO DO THINGS I DIDN’T NECESSARILY LOOK FOR</td>\n      <td>6-10 TIMES PER WEEK</td>\n      <td>THEY WERE ABOUT THE SAME</td>\n      <td></td>\n      <td>YES</td>\n      <td>LESS THAN ONCE PER MONTH OR MONTHLY</td>\n      <td>YES</td>\n      <td>NO, I'VE HEARD OF THEM, BUT I AM NOT PART OF A PRIVATE Q&amp;A INSTANCE</td>\n      <td>NEUTRAL</td>\n      <td>JUST AS WELCOME NOW AS I FELT LAST YEAR</td>\n      <td>TECH MEETUPS OR EVENTS IN YOUR AREA;COURSES ON TECHNOLOGIES YOU'RE INTERESTED IN</td>\n      <td>MAN</td>\n      <td>NO</td>\n      <td>STRAIGHT / HETEROSEXUAL</td>\n      <td></td>\n      <td>YES</td>\n      <td>APPROPRIATE IN LENGTH</td>\n      <td>NEITHER EASY NOR DIFFICULT</td>\n    </tr>\n    <tr>\n      <th>4</th>\n      <td>I AM A DEVELOPER BY PROFESSION</td>\n      <td>NO</td>\n      <td>NEVER</td>\n      <td>THE QUALITY OF OSS AND CLOSED SOURCE SOFTWARE IS ABOUT THE SAME</td>\n      <td>EMPLOYED FULL-TIME</td>\n      <td>UNITED STATES</td>\n      <td>NO</td>\n      <td>BACHELOR’S DEGREE (BA, BS, B.ENG., ETC.)</td>\n      <td>COMPUTER SCIENCE, COMPUTER ENGINEERING, OR SOFTWARE ENGINEERING</td>\n      <td>TAKEN AN ONLINE COURSE IN PROGRAMMING OR SOFTWARE DEVELOPMENT (E.G. A MOOC);RECEIVED ON-THE-JOB TRAINING IN SOFTWARE DEVELOPMENT;TAUGHT YOURSELF A NEW LANGUAGE, FRAMEWORK, OR TOOL WITHOUT TAKING A FORMAL COURSE</td>\n      <td>100 TO 499 EMPLOYEES</td>\n      <td>DEVELOPER, FULL-STACK</td>\n      <td>3</td>\n      <td>16</td>\n      <td>LESS THAN 1 YEAR</td>\n      <td>VERY SATISFIED</td>\n      <td>SLIGHTLY SATISFIED</td>\n      <td>VERY CONFIDENT</td>\n      <td>NO</td>\n      <td>NOT SURE</td>\n      <td>I AM NOT INTERESTED IN NEW JOB OPPORTUNITIES</td>\n      <td>LESS THAN A YEAR AGO</td>\n      <td>WRITE CODE BY HAND (E.G., ON A WHITEBOARD);INTERVIEW WITH PEOPLE IN SENIOR / MANAGEMENT ROLES</td>\n      <td>NO</td>\n      <td>LANGUAGES, FRAMEWORKS, AND OTHER TECHNOLOGIES I'D BE WORKING WITH;OFFICE ENVIRONMENT OR COMPANY CULTURE;OPPORTUNITIES FOR PROFESSIONAL DEVELOPMENT</td>\n      <td>I WAS PREPARING FOR A JOB SEARCH</td>\n      <td>USD</td>\n      <td>UNITED STATES DOLLAR</td>\n      <td>YEARLY</td>\n      <td>THERE'S NO SCHEDULE OR SPEC; I WORK ON WHAT SEEMS MOST IMPORTANT OR URGENT</td>\n      <td></td>\n      <td>LESS THAN ONCE PER MONTH / NEVER</td>\n      <td>HOME</td>\n      <td>A LITTLE BELOW AVERAGE</td>\n      <td>NO</td>\n      <td>NO, BUT I THINK WE SHOULD</td>\n      <td>DEVELOPERS TYPICALLY HAVE THE MOST INFLUENCE ON PURCHASING NEW TECHNOLOGY</td>\n      <td>I HAVE LITTLE OR NO INFLUENCE</td>\n      <td>C;C++;C#;PYTHON;SQL</td>\n      <td>C;C#;JAVASCRIPT;SQL</td>\n      <td>MYSQL;SQLITE</td>\n      <td>MYSQL;SQLITE</td>\n      <td>LINUX;WINDOWS</td>\n      <td>LINUX;WINDOWS</td>\n      <td></td>\n      <td></td>\n      <td>.NET</td>\n      <td>.NET</td>\n      <td>ECLIPSE;VIM;VISUAL STUDIO;VISUAL STUDIO CODE</td>\n      <td>WINDOWS</td>\n      <td>I DO NOT USE CONTAINERS</td>\n      <td>NOT AT ALL</td>\n      <td>USEFUL FOR DECENTRALIZED CURRENCY (I.E., BITCOIN)</td>\n      <td>YES</td>\n      <td>SIGH</td>\n      <td>YES</td>\n      <td>REDDIT</td>\n      <td>IN REAL LIFE (IN PERSON)</td>\n      <td>USERNAME</td>\n      <td>2014</td>\n      <td>DAILY OR ALMOST DAILY</td>\n      <td>FIND ANSWERS TO SPECIFIC QUESTIONS;PASS THE TIME / RELAX</td>\n      <td>1-2 TIMES PER WEEK</td>\n      <td>STACK OVERFLOW WAS MUCH FASTER</td>\n      <td>31-60 MINUTES</td>\n      <td>YES</td>\n      <td>LESS THAN ONCE PER MONTH OR MONTHLY</td>\n      <td>YES</td>\n      <td>NO, AND I DON'T KNOW WHAT THOSE ARE</td>\n      <td>NO, NOT REALLY</td>\n      <td>JUST AS WELCOME NOW AS I FELT LAST YEAR</td>\n      <td>TECH ARTICLES WRITTEN BY OTHER DEVELOPERS;INDUSTRY NEWS ABOUT TECHNOLOGIES YOU'RE INTERESTED IN;TECH MEETUPS OR EVENTS IN YOUR AREA;COURSES ON TECHNOLOGIES YOU'RE INTERESTED IN</td>\n      <td>MAN</td>\n      <td>NO</td>\n      <td>STRAIGHT / HETEROSEXUAL</td>\n      <td>WHITE OR OF EUROPEAN DESCENT</td>\n      <td>NO</td>\n      <td>APPROPRIATE IN LENGTH</td>\n      <td>EASY</td>\n    </tr>\n    <tr>\n      <th>5</th>\n      <td>I AM A DEVELOPER BY PROFESSION</td>\n      <td>YES</td>\n      <td>ONCE A MONTH OR MORE OFTEN</td>\n      <td>OSS IS, ON AVERAGE, OF HIGHER QUALITY THAN PROPRIETARY / CLOSED SOURCE SOFTWARE</td>\n      <td>EMPLOYED FULL-TIME</td>\n      <td>UKRAINE</td>\n      <td>NO</td>\n      <td>BACHELOR’S DEGREE (BA, BS, B.ENG., ETC.)</td>\n      <td>COMPUTER SCIENCE, COMPUTER ENGINEERING, OR SOFTWARE ENGINEERING</td>\n      <td>TAKEN AN ONLINE COURSE IN PROGRAMMING OR SOFTWARE DEVELOPMENT (E.G. A MOOC);RECEIVED ON-THE-JOB TRAINING IN SOFTWARE DEVELOPMENT;TAUGHT YOURSELF A NEW LANGUAGE, FRAMEWORK, OR TOOL WITHOUT TAKING A FORMAL COURSE;CONTRIBUTED TO OPEN SOURCE SOFTWARE</td>\n      <td>10,000 OR MORE EMPLOYEES</td>\n      <td>ACADEMIC RESEARCHER;DEVELOPER, DESKTOP OR ENTERPRISE APPLICATIONS;DEVELOPER, FULL-STACK;DEVELOPER, MOBILE</td>\n      <td>16</td>\n      <td>14</td>\n      <td>9</td>\n      <td>VERY DISSATISFIED</td>\n      <td>SLIGHTLY DISSATISFIED</td>\n      <td>SOMEWHAT CONFIDENT</td>\n      <td>YES</td>\n      <td>NO</td>\n      <td>I AM NOT INTERESTED IN NEW JOB OPPORTUNITIES</td>\n      <td>LESS THAN A YEAR AGO</td>\n      <td>WRITE ANY CODE;WRITE CODE BY HAND (E.G., ON A WHITEBOARD);SOLVE A BRAIN-TEASER STYLE PUZZLE;INTERVIEW WITH PEOPLE IN SENIOR / MANAGEMENT ROLES</td>\n      <td>NO</td>\n      <td>INDUSTRY THAT I'D BE WORKING IN;LANGUAGES, FRAMEWORKS, AND OTHER TECHNOLOGIES I'D BE WORKING WITH;FLEX TIME OR A FLEXIBLE SCHEDULE</td>\n      <td>I WAS PREPARING FOR A JOB SEARCH</td>\n      <td>UAH</td>\n      <td>UKRAINIAN HRYVNIA</td>\n      <td></td>\n      <td>THERE IS A SCHEDULE AND/OR SPEC (MADE BY ME OR BY A COLLEAGUE), AND I FOLLOW IT VERY CLOSELY</td>\n      <td>BEING TASKED WITH NON-DEVELOPMENT WORK;INADEQUATE ACCESS TO NECESSARY TOOLS;NON-WORK COMMITMENTS (PARENTING, SCHOOL WORK, HOBBIES, ETC.)</td>\n      <td>A FEW DAYS EACH MONTH</td>\n      <td>OFFICE</td>\n      <td>A LITTLE ABOVE AVERAGE</td>\n      <td>YES, BECAUSE I SEE VALUE IN CODE REVIEW</td>\n      <td>YES, IT'S PART OF OUR PROCESS</td>\n      <td>NOT SURE</td>\n      <td>I HAVE LITTLE OR NO INFLUENCE</td>\n      <td>C++;HTML/CSS;JAVA;JAVASCRIPT;PYTHON;SQL;VBA</td>\n      <td>HTML/CSS;JAVA;JAVASCRIPT;SQL;WEBASSEMBLY</td>\n      <td>COUCHBASE;MONGODB;MYSQL;ORACLE;POSTGRESQL;SQLITE</td>\n      <td>COUCHBASE;FIREBASE;MONGODB;MYSQL;ORACLE;POSTGRESQL;SQLITE</td>\n      <td>ANDROID;LINUX;MACOS;SLACK;WINDOWS</td>\n      <td>ANDROID;DOCKER;KUBERNETES;LINUX;SLACK</td>\n      <td>DJANGO;EXPRESS;FLASK;JQUERY;REACT.JS;SPRING</td>\n      <td>FLASK;JQUERY;REACT.JS;SPRING</td>\n      <td>CORDOVA;NODE.JS</td>\n      <td>APACHE SPARK;HADOOP;NODE.JS;REACT NATIVE</td>\n      <td>INTELLIJ;NOTEPAD++;VIM</td>\n      <td>LINUX-BASED</td>\n      <td>OUTSIDE OF WORK, FOR PERSONAL PROJECTS</td>\n      <td>NOT AT ALL</td>\n      <td></td>\n      <td>YES</td>\n      <td>ALSO YES</td>\n      <td>YES</td>\n      <td>FACEBOOK</td>\n      <td>IN REAL LIFE (IN PERSON)</td>\n      <td>USERNAME</td>\n      <td>I DON'T REMEMBER</td>\n      <td>MULTIPLE TIMES PER DAY</td>\n      <td>FIND ANSWERS TO SPECIFIC QUESTIONS</td>\n      <td>MORE THAN 10 TIMES PER WEEK</td>\n      <td>STACK OVERFLOW WAS MUCH FASTER</td>\n      <td></td>\n      <td>YES</td>\n      <td>A FEW TIMES PER MONTH OR WEEKLY</td>\n      <td>NO, I KNEW THAT STACK OVERFLOW HAD A JOB BOARD BUT HAVE NEVER USED OR VISITED IT</td>\n      <td>NO, I'VE HEARD OF THEM, BUT I AM NOT PART OF A PRIVATE Q&amp;A INSTANCE</td>\n      <td>YES, DEFINITELY</td>\n      <td>JUST AS WELCOME NOW AS I FELT LAST YEAR</td>\n      <td>TECH MEETUPS OR EVENTS IN YOUR AREA;COURSES ON TECHNOLOGIES YOU'RE INTERESTED IN</td>\n      <td>MAN</td>\n      <td>NO</td>\n      <td>STRAIGHT / HETEROSEXUAL</td>\n      <td>WHITE OR OF EUROPEAN DESCENT;MULTIRACIAL</td>\n      <td>NO</td>\n      <td>APPROPRIATE IN LENGTH</td>\n      <td>EASY</td>\n    </tr>\n    <tr>\n      <th>...</th>\n      <td>...</td>\n      <td>...</td>\n      <td>...</td>\n      <td>...</td>\n      <td>...</td>\n      <td>...</td>\n      <td>...</td>\n      <td>...</td>\n      <td>...</td>\n      <td>...</td>\n      <td>...</td>\n      <td>...</td>\n      <td>...</td>\n      <td>...</td>\n      <td>...</td>\n      <td>...</td>\n      <td>...</td>\n      <td>...</td>\n      <td>...</td>\n      <td>...</td>\n      <td>...</td>\n      <td>...</td>\n      <td>...</td>\n      <td>...</td>\n      <td>...</td>\n      <td>...</td>\n      <td>...</td>\n      <td>...</td>\n      <td>...</td>\n      <td>...</td>\n      <td>...</td>\n      <td>...</td>\n      <td>...</td>\n      <td>...</td>\n      <td>...</td>\n      <td>...</td>\n      <td>...</td>\n      <td>...</td>\n      <td>...</td>\n      <td>...</td>\n      <td>...</td>\n      <td>...</td>\n      <td>...</td>\n      <td>...</td>\n      <td>...</td>\n      <td>...</td>\n      <td>...</td>\n      <td>...</td>\n      <td>...</td>\n      <td>...</td>\n      <td>...</td>\n      <td>...</td>\n      <td>...</td>\n      <td>...</td>\n      <td>...</td>\n      <td>...</td>\n      <td>...</td>\n      <td>...</td>\n      <td>...</td>\n      <td>...</td>\n      <td>...</td>\n      <td>...</td>\n      <td>...</td>\n      <td>...</td>\n      <td>...</td>\n      <td>...</td>\n      <td>...</td>\n      <td>...</td>\n      <td>...</td>\n      <td>...</td>\n      <td>...</td>\n      <td>...</td>\n      <td>...</td>\n      <td>...</td>\n      <td>...</td>\n      <td>...</td>\n      <td>...</td>\n      <td>...</td>\n      <td>...</td>\n    </tr>\n    <tr>\n      <th>88377</th>\n      <td></td>\n      <td>YES</td>\n      <td>LESS THAN ONCE A MONTH BUT MORE THAN ONCE PER YEAR</td>\n      <td>THE QUALITY OF OSS AND CLOSED SOURCE SOFTWARE IS ABOUT THE SAME</td>\n      <td>NOT EMPLOYED, AND NOT LOOKING FOR WORK</td>\n      <td>CANADA</td>\n      <td>NO</td>\n      <td>PRIMARY/ELEMENTARY SCHOOL</td>\n      <td></td>\n      <td>TAUGHT YOURSELF A NEW LANGUAGE, FRAMEWORK, OR TOOL WITHOUT TAKING A FORMAL COURSE;CONTRIBUTED TO OPEN SOURCE SOFTWARE</td>\n      <td></td>\n      <td></td>\n      <td></td>\n      <td></td>\n      <td></td>\n      <td></td>\n      <td></td>\n      <td></td>\n      <td></td>\n      <td></td>\n      <td></td>\n      <td></td>\n      <td></td>\n      <td></td>\n      <td></td>\n      <td></td>\n      <td></td>\n      <td></td>\n      <td></td>\n      <td></td>\n      <td></td>\n      <td></td>\n      <td></td>\n      <td></td>\n      <td></td>\n      <td></td>\n      <td></td>\n      <td></td>\n      <td>HTML/CSS;JAVASCRIPT;OTHER(S):</td>\n      <td>C++;HTML/CSS;JAVASCRIPT;SQL;WEBASSEMBLY;OTHER(S):</td>\n      <td>FIREBASE;SQLITE</td>\n      <td>FIREBASE;MYSQL;SQLITE</td>\n      <td>LINUX</td>\n      <td>GOOGLE CLOUD PLATFORM;LINUX</td>\n      <td>JQUERY</td>\n      <td>JQUERY;VUE.JS</td>\n      <td>NODE.JS</td>\n      <td>REACT NATIVE;UNITY 3D;UNREAL ENGINE</td>\n      <td>ATOM;VISUAL STUDIO;VISUAL STUDIO CODE</td>\n      <td>WINDOWS</td>\n      <td>I DO NOT USE CONTAINERS</td>\n      <td></td>\n      <td>USEFUL ACROSS MANY DOMAINS AND COULD CHANGE MANY ASPECTS OF OUR LIVES</td>\n      <td>YES</td>\n      <td>YES</td>\n      <td>WHAT?</td>\n      <td>YOUTUBE</td>\n      <td></td>\n      <td>USERNAME</td>\n      <td>I DON'T REMEMBER</td>\n      <td>A FEW TIMES PER WEEK</td>\n      <td>FIND ANSWERS TO SPECIFIC QUESTIONS;LEARN HOW TO DO THINGS I DIDN’T NECESSARILY LOOK FOR;PASS THE TIME / RELAX</td>\n      <td>3-5 TIMES PER WEEK</td>\n      <td>STACK OVERFLOW WAS SLIGHTLY FASTER</td>\n      <td>11-30 MINUTES</td>\n      <td>YES</td>\n      <td>I HAVE NEVER PARTICIPATED IN Q&amp;A ON STACK OVERFLOW</td>\n      <td>NO, I KNEW THAT STACK OVERFLOW HAD A JOB BOARD BUT HAVE NEVER USED OR VISITED IT</td>\n      <td>NO, I'VE HEARD OF THEM, BUT I AM NOT PART OF A PRIVATE Q&amp;A INSTANCE</td>\n      <td>NO, NOT AT ALL</td>\n      <td></td>\n      <td>TECH ARTICLES WRITTEN BY OTHER DEVELOPERS;TECH MEETUPS OR EVENTS IN YOUR AREA;COURSES ON TECHNOLOGIES YOU'RE INTERESTED IN</td>\n      <td>MAN</td>\n      <td>NO</td>\n      <td></td>\n      <td></td>\n      <td>NO</td>\n      <td>APPROPRIATE IN LENGTH</td>\n      <td>EASY</td>\n    </tr>\n    <tr>\n      <th>88601</th>\n      <td></td>\n      <td>NO</td>\n      <td>NEVER</td>\n      <td>THE QUALITY OF OSS AND CLOSED SOURCE SOFTWARE IS ABOUT THE SAME</td>\n      <td></td>\n      <td></td>\n      <td></td>\n      <td></td>\n      <td></td>\n      <td></td>\n      <td></td>\n      <td></td>\n      <td></td>\n      <td></td>\n      <td></td>\n      <td></td>\n      <td></td>\n      <td></td>\n      <td></td>\n      <td></td>\n      <td></td>\n      <td></td>\n      <td></td>\n      <td></td>\n      <td></td>\n      <td></td>\n      <td></td>\n      <td></td>\n      <td></td>\n      <td></td>\n      <td></td>\n      <td></td>\n      <td></td>\n      <td></td>\n      <td></td>\n      <td></td>\n      <td></td>\n      <td></td>\n      <td></td>\n      <td></td>\n      <td></td>\n      <td></td>\n      <td></td>\n      <td></td>\n      <td></td>\n      <td></td>\n      <td></td>\n      <td></td>\n      <td></td>\n      <td></td>\n      <td></td>\n      <td></td>\n      <td></td>\n      <td></td>\n      <td></td>\n      <td></td>\n      <td></td>\n      <td></td>\n      <td></td>\n      <td></td>\n      <td></td>\n      <td></td>\n      <td></td>\n      <td></td>\n      <td></td>\n      <td></td>\n      <td></td>\n      <td></td>\n      <td></td>\n      <td></td>\n      <td></td>\n      <td></td>\n      <td></td>\n      <td></td>\n      <td></td>\n      <td></td>\n      <td></td>\n      <td></td>\n      <td></td>\n    </tr>\n    <tr>\n      <th>88802</th>\n      <td></td>\n      <td>NO</td>\n      <td>NEVER</td>\n      <td></td>\n      <td>EMPLOYED FULL-TIME</td>\n      <td></td>\n      <td></td>\n      <td></td>\n      <td></td>\n      <td></td>\n      <td></td>\n      <td></td>\n      <td></td>\n      <td></td>\n      <td></td>\n      <td></td>\n      <td></td>\n      <td></td>\n      <td></td>\n      <td></td>\n      <td></td>\n      <td></td>\n      <td></td>\n      <td></td>\n      <td></td>\n      <td></td>\n      <td></td>\n      <td></td>\n      <td></td>\n      <td></td>\n      <td></td>\n      <td></td>\n      <td></td>\n      <td></td>\n      <td></td>\n      <td></td>\n      <td></td>\n      <td></td>\n      <td></td>\n      <td></td>\n      <td></td>\n      <td></td>\n      <td></td>\n      <td></td>\n      <td></td>\n      <td></td>\n      <td></td>\n      <td></td>\n      <td></td>\n      <td></td>\n      <td></td>\n      <td></td>\n      <td></td>\n      <td></td>\n      <td></td>\n      <td></td>\n      <td></td>\n      <td></td>\n      <td></td>\n      <td></td>\n      <td></td>\n      <td></td>\n      <td></td>\n      <td></td>\n      <td></td>\n      <td></td>\n      <td></td>\n      <td></td>\n      <td></td>\n      <td></td>\n      <td></td>\n      <td></td>\n      <td></td>\n      <td></td>\n      <td></td>\n      <td></td>\n      <td></td>\n      <td></td>\n      <td></td>\n    </tr>\n    <tr>\n      <th>88816</th>\n      <td></td>\n      <td>NO</td>\n      <td>NEVER</td>\n      <td>OSS IS, ON AVERAGE, OF HIGHER QUALITY THAN PROPRIETARY / CLOSED SOURCE SOFTWARE</td>\n      <td>INDEPENDENT CONTRACTOR, FREELANCER, OR SELF-EMPLOYED</td>\n      <td></td>\n      <td></td>\n      <td></td>\n      <td></td>\n      <td></td>\n      <td></td>\n      <td></td>\n      <td></td>\n      <td></td>\n      <td></td>\n      <td></td>\n      <td></td>\n      <td></td>\n      <td></td>\n      <td></td>\n      <td></td>\n      <td></td>\n      <td></td>\n      <td></td>\n      <td></td>\n      <td></td>\n      <td></td>\n      <td></td>\n      <td></td>\n      <td></td>\n      <td></td>\n      <td></td>\n      <td></td>\n      <td></td>\n      <td></td>\n      <td></td>\n      <td></td>\n      <td></td>\n      <td></td>\n      <td></td>\n      <td></td>\n      <td></td>\n      <td></td>\n      <td></td>\n      <td></td>\n      <td></td>\n      <td></td>\n      <td></td>\n      <td></td>\n      <td></td>\n      <td></td>\n      <td></td>\n      <td></td>\n      <td></td>\n      <td></td>\n      <td></td>\n      <td></td>\n      <td></td>\n      <td></td>\n      <td></td>\n      <td></td>\n      <td></td>\n      <td></td>\n      <td></td>\n      <td></td>\n      <td></td>\n      <td></td>\n      <td></td>\n      <td></td>\n      <td></td>\n      <td></td>\n      <td></td>\n      <td></td>\n      <td></td>\n      <td></td>\n      <td></td>\n      <td></td>\n      <td></td>\n      <td></td>\n    </tr>\n    <tr>\n      <th>88863</th>\n      <td></td>\n      <td>YES</td>\n      <td>LESS THAN ONCE PER YEAR</td>\n      <td>OSS IS, ON AVERAGE, OF HIGHER QUALITY THAN PROPRIETARY / CLOSED SOURCE SOFTWARE</td>\n      <td>NOT EMPLOYED, AND NOT LOOKING FOR WORK</td>\n      <td>SPAIN</td>\n      <td>YES, FULL-TIME</td>\n      <td>PROFESSIONAL DEGREE (JD, MD, ETC.)</td>\n      <td>COMPUTER SCIENCE, COMPUTER ENGINEERING, OR SOFTWARE ENGINEERING</td>\n      <td>TAKEN AN ONLINE COURSE IN PROGRAMMING OR SOFTWARE DEVELOPMENT (E.G. A MOOC);TAKEN A PART-TIME IN-PERSON COURSE IN PROGRAMMING OR SOFTWARE DEVELOPMENT;TAUGHT YOURSELF A NEW LANGUAGE, FRAMEWORK, OR TOOL WITHOUT TAKING A FORMAL COURSE</td>\n      <td></td>\n      <td></td>\n      <td>8</td>\n      <td>11</td>\n      <td>3</td>\n      <td></td>\n      <td></td>\n      <td></td>\n      <td></td>\n      <td></td>\n      <td></td>\n      <td></td>\n      <td></td>\n      <td></td>\n      <td></td>\n      <td></td>\n      <td></td>\n      <td></td>\n      <td></td>\n      <td></td>\n      <td></td>\n      <td></td>\n      <td></td>\n      <td></td>\n      <td></td>\n      <td></td>\n      <td></td>\n      <td></td>\n      <td>BASH/SHELL/POWERSHELL;HTML/CSS;JAVA;JAVASCRIPT;PHP;SQL;SWIFT</td>\n      <td>C;C++;C#;HTML/CSS;JAVA;OBJECTIVE-C;SQL;SWIFT</td>\n      <td>DYNAMODB;MARIADB;MICROSOFT SQL SERVER;MYSQL</td>\n      <td>MARIADB;MYSQL;ORACLE;SQLITE</td>\n      <td>IOS;LINUX;MACOS;WORDPRESS</td>\n      <td>ANDROID;AWS;GOOGLE CLOUD PLATFORM;IBM CLOUD OR WATSON;IOS;LINUX;MACOS;SLACK;WINDOWS</td>\n      <td>DJANGO;JQUERY;REACT.JS</td>\n      <td>DJANGO</td>\n      <td>UNITY 3D;UNREAL ENGINE</td>\n      <td></td>\n      <td>ANDROID STUDIO;ATOM;ECLIPSE;NETBEANS;NOTEPAD++;SUBLIME TEXT</td>\n      <td>LINUX-BASED</td>\n      <td>PRODUCTION</td>\n      <td></td>\n      <td>USEFUL FOR DECENTRALIZED CURRENCY (I.E., BITCOIN)</td>\n      <td>YES</td>\n      <td>ALSO YES</td>\n      <td>YES</td>\n      <td>WHATSAPP</td>\n      <td>IN REAL LIFE (IN PERSON)</td>\n      <td></td>\n      <td>2012</td>\n      <td>DAILY OR ALMOST DAILY</td>\n      <td>FIND ANSWERS TO SPECIFIC QUESTIONS;LEARN HOW TO DO THINGS I DIDN’T NECESSARILY LOOK FOR;GET A SENSE OF BELONGING TO THE DEVELOPER COMMUNITY</td>\n      <td>6-10 TIMES PER WEEK</td>\n      <td>STACK OVERFLOW WAS MUCH FASTER</td>\n      <td>11-30 MINUTES</td>\n      <td>YES</td>\n      <td>A FEW TIMES PER MONTH OR WEEKLY</td>\n      <td>YES</td>\n      <td>NO, I'VE HEARD OF THEM, BUT I AM NOT PART OF A PRIVATE Q&amp;A INSTANCE</td>\n      <td>YES, SOMEWHAT</td>\n      <td>SOMEWHAT LESS WELCOME NOW THAN LAST YEAR</td>\n      <td>TECH ARTICLES WRITTEN BY OTHER DEVELOPERS;INDUSTRY NEWS ABOUT TECHNOLOGIES YOU'RE INTERESTED IN;TECH MEETUPS OR EVENTS IN YOUR AREA;COURSES ON TECHNOLOGIES YOU'RE INTERESTED IN</td>\n      <td>MAN</td>\n      <td>NO</td>\n      <td>STRAIGHT / HETEROSEXUAL</td>\n      <td>HISPANIC OR LATINO/LATINA;WHITE OR OF EUROPEAN DESCENT</td>\n      <td>NO</td>\n      <td>APPROPRIATE IN LENGTH</td>\n      <td>EASY</td>\n    </tr>\n  </tbody>\n</table>\n<p>88883 rows × 79 columns</p>\n</div>"
     },
     "metadata": {},
     "execution_count": 148
    }
   ],
   "source": [
    "# 🧠 ⭐️ fillna(\"\")\n",
    "\n",
    "df.select_dtypes(include=object).fillna('').applymap(str.upper)"
   ]
  },
  {
   "cell_type": "code",
   "execution_count": 164,
   "metadata": {},
   "outputs": [
    {
     "output_type": "execute_result",
     "data": {
      "text/plain": [
       "   first  last  email\n",
       "0      5     7     22\n",
       "1      4     3     19\n",
       "2      4     5     21"
      ],
      "text/html": "<div>\n<style scoped>\n    .dataframe tbody tr th:only-of-type {\n        vertical-align: middle;\n    }\n\n    .dataframe tbody tr th {\n        vertical-align: top;\n    }\n\n    .dataframe thead th {\n        text-align: right;\n    }\n</style>\n<table border=\"1\" class=\"dataframe\">\n  <thead>\n    <tr style=\"text-align: right;\">\n      <th></th>\n      <th>first</th>\n      <th>last</th>\n      <th>email</th>\n    </tr>\n  </thead>\n  <tbody>\n    <tr>\n      <th>0</th>\n      <td>5</td>\n      <td>7</td>\n      <td>22</td>\n    </tr>\n    <tr>\n      <th>1</th>\n      <td>4</td>\n      <td>3</td>\n      <td>19</td>\n    </tr>\n    <tr>\n      <th>2</th>\n      <td>4</td>\n      <td>5</td>\n      <td>21</td>\n    </tr>\n  </tbody>\n</table>\n</div>"
     },
     "metadata": {},
     "execution_count": 164
    }
   ],
   "source": [
    "pp_df.applymap(len)"
   ]
  },
  {
   "cell_type": "code",
   "execution_count": 167,
   "metadata": {},
   "outputs": [
    {
     "output_type": "execute_result",
     "data": {
      "text/plain": [
       "            MainBranch  Hobbyist  OpenSourcer  OpenSource  Employment  \\\n",
       "Respondent                                                              \n",
       "1                   38         3            5          63          38   \n",
       "2                   38         2           23          63          34   \n",
       "3                   77         3            5          63          18   \n",
       "4                   30         2            5          63          18   \n",
       "5                   30         3           26          79          18   \n",
       "...                ...       ...          ...         ...         ...   \n",
       "88377                0         3           50          63          38   \n",
       "88601                0         2            5          63           0   \n",
       "88802                0         2            5           0          18   \n",
       "88816                0         2            5          79          52   \n",
       "88863                0         3           23          79          38   \n",
       "\n",
       "            Country  Student  EdLevel  UndergradMajor  EduOther  OrgSize  \\\n",
       "Respondent                                                                 \n",
       "1                14        2       25               0        81        0   \n",
       "2                22       14       82               0        75        0   \n",
       "3                 8        2       40              29        81       20   \n",
       "4                13        2       40              63       210       20   \n",
       "5                 7        2       40              63       246       24   \n",
       "...             ...      ...      ...             ...       ...      ...   \n",
       "88377             6        2       25               0       117        0   \n",
       "88601             0        0        0               0         0        0   \n",
       "88802             0        0        0               0         0        0   \n",
       "88816             0        0        0               0         0        0   \n",
       "88863             5       14       34              63       231        0   \n",
       "\n",
       "            DevType  YearsCode  Age1stCode  YearsCodePro  CareerSat  JobSat  \\\n",
       "Respondent                                                                    \n",
       "1                 0          1           2             0          0       0   \n",
       "2                66          0           2             0          0       0   \n",
       "3                71          1           2             1         18      18   \n",
       "4                21          1           2            16         14      18   \n",
       "5               105          2           2             1         17      21   \n",
       "...             ...        ...         ...           ...        ...     ...   \n",
       "88377             0          0           0             0          0       0   \n",
       "88601             0          0           0             0          0       0   \n",
       "88802             0          0           0             0          0       0   \n",
       "88816             0          0           0             0          0       0   \n",
       "88863             0          1           2             1          0       0   \n",
       "\n",
       "            MgrIdiot  MgrMoney  MgrWant  JobSeek  LastHireDate  LastInt  \\\n",
       "Respondent                                                                \n",
       "1                  0         0        0        0             0        0   \n",
       "2                  0         0        0       31            20        0   \n",
       "3                 20         8        8       60            13       35   \n",
       "4                 14         2        8       44            20       93   \n",
       "5                 18         3        2       44            20      142   \n",
       "...              ...       ...      ...      ...           ...      ...   \n",
       "88377              0         0        0        0             0        0   \n",
       "88601              0         0        0        0             0        0   \n",
       "88802              0         0        0        0             0        0   \n",
       "88816              0         0        0        0             0        0   \n",
       "88863              0         0        0        0             0        0   \n",
       "\n",
       "            FizzBuzz  JobFactors  ResumeUpdate  CurrencySymbol  CurrencyDesc  \\\n",
       "Respondent                                                                     \n",
       "1                  0           0             0               0             0   \n",
       "2                  0         182            54               0             0   \n",
       "3                  2         118            32               3             9   \n",
       "4                  2         146            32               3            20   \n",
       "5                  2         130            32               3            17   \n",
       "...              ...         ...           ...             ...           ...   \n",
       "88377              0           0             0               0             0   \n",
       "88601              0           0             0               0             0   \n",
       "88802              0           0             0               0             0   \n",
       "88816              0           0             0               0             0   \n",
       "88863              0           0             0               0             0   \n",
       "\n",
       "            CompFreq  WorkPlan  WorkChallenge  WorkRemote  WorkLoc  ImpSyn  \\\n",
       "Respondent                                                                   \n",
       "1                  0         0              0           0        0       0   \n",
       "2                  0         0              0           0        0       0   \n",
       "3                  7        74             97          32        4       7   \n",
       "4                  6        74              0          32        4      22   \n",
       "5                  0        92            136          21        6      22   \n",
       "...              ...       ...            ...         ...      ...     ...   \n",
       "88377              0         0              0           0        0       0   \n",
       "88601              0         0              0           0        0       0   \n",
       "88802              0         0              0           0        0       0   \n",
       "88816              0         0              0           0        0       0   \n",
       "88863              0         0              0           0        0       0   \n",
       "\n",
       "            CodeRev  UnitTests  PurchaseHow  PurchaseWhat  LanguageWorkedWith  \\\n",
       "Respondent                                                                      \n",
       "1                 0          0            0             0                  31   \n",
       "2                 0          0            0             0                  19   \n",
       "3                 2         25            8            29                   8   \n",
       "4                 2         25           73            29                  19   \n",
       "5                39         29            8            29                  43   \n",
       "...             ...        ...          ...           ...                 ...   \n",
       "88377             0          0            0             0                  29   \n",
       "88601             0          0            0             0                   0   \n",
       "88802             0          0            0             0                   0   \n",
       "88816             0          0            0             0                   0   \n",
       "88863             0          0            0             0                  60   \n",
       "\n",
       "            LanguageDesireNextYear  DatabaseWorkedWith  \\\n",
       "Respondent                                               \n",
       "1                               47                   6   \n",
       "2                               27                   0   \n",
       "3                               15                  10   \n",
       "4                               19                  12   \n",
       "5                               40                  48   \n",
       "...                            ...                 ...   \n",
       "88377                           49                  15   \n",
       "88601                            0                   0   \n",
       "88802                            0                   0   \n",
       "88816                            0                   0   \n",
       "88863                           44                  43   \n",
       "\n",
       "            DatabaseDesireNextYear  PlatformWorkedWith  \\\n",
       "Respondent                                               \n",
       "1                                5                  13   \n",
       "2                                5                   7   \n",
       "3                               10                   0   \n",
       "4                               12                  13   \n",
       "5                               57                  33   \n",
       "...                            ...                 ...   \n",
       "88377                           21                   5   \n",
       "88601                            0                   0   \n",
       "88802                            0                   0   \n",
       "88816                            0                   0   \n",
       "88863                           27                  25   \n",
       "\n",
       "            PlatformDesireNextYear  WebFrameWorkedWith  \\\n",
       "Respondent                                               \n",
       "1                               23                  12   \n",
       "2                                7                   6   \n",
       "3                                0                   0   \n",
       "4                               13                   0   \n",
       "5                               37                  43   \n",
       "...                            ...                 ...   \n",
       "88377                           27                   6   \n",
       "88601                            0                   0   \n",
       "88802                            0                   0   \n",
       "88816                            0                   0   \n",
       "88863                           83                  22   \n",
       "\n",
       "            WebFrameDesireNextYear  MiscTechWorkedWith  \\\n",
       "Respondent                                               \n",
       "1                               12                   7   \n",
       "2                                6                   0   \n",
       "3                                9                   0   \n",
       "4                                0                   4   \n",
       "5                               28                  15   \n",
       "...                            ...                 ...   \n",
       "88377                           13                   7   \n",
       "88601                            0                   0   \n",
       "88802                            0                   0   \n",
       "88816                            0                   0   \n",
       "88863                            6                  22   \n",
       "\n",
       "            MiscTechDesireNextYear  DevEnviron  OpSys  Containers  \\\n",
       "Respondent                                                          \n",
       "1                                7          26      7          23   \n",
       "2                                0          12      7          23   \n",
       "3                                0          22     11          23   \n",
       "4                                4          44      7          23   \n",
       "5                               40          22     11          38   \n",
       "...                            ...         ...    ...         ...   \n",
       "88377                           35          37      7          23   \n",
       "88601                            0           0      0           0   \n",
       "88802                            0           0      0           0   \n",
       "88816                            0           0      0           0   \n",
       "88863                            0          59     11          10   \n",
       "\n",
       "            BlockchainOrg  BlockchainIs  BetterLife  ITperson  OffOn  \\\n",
       "Respondent                                                             \n",
       "1                       0             0           3        40      3   \n",
       "2                       0            69           3         3      3   \n",
       "3                       0             0           3         3      3   \n",
       "4                      10            49           3         4      3   \n",
       "5                      10             0           3         8      3   \n",
       "...                   ...           ...         ...       ...    ...   \n",
       "88377                   0            69           3         3      5   \n",
       "88601                   0             0           0         0      0   \n",
       "88802                   0             0           0         0      0   \n",
       "88816                   0             0           0         0      0   \n",
       "88863                   0            49           3         8      3   \n",
       "\n",
       "            SocialMedia  Extraversion  ScreenName  SOVisit1st  SOVisitFreq  \\\n",
       "Respondent                                                                   \n",
       "1                     7             6           8           4           31   \n",
       "2                     9             6           8           4           21   \n",
       "3                     6            24           8           4           20   \n",
       "4                     6            24           8           4           21   \n",
       "5                     8            24           8          16           22   \n",
       "...                 ...           ...         ...         ...          ...   \n",
       "88377                 7             0           8          16           20   \n",
       "88601                 0             0           0           0            0   \n",
       "88802                 0             0           0           0            0   \n",
       "88816                 0             0           0           0            0   \n",
       "88863                 8            24           0           4           21   \n",
       "\n",
       "            SOVisitTo  SOFindAnswer  SOTimeSaved  SOHowMuchTime  SOAccount  \\\n",
       "Respondent                                                                   \n",
       "1                  87            18           30             13          2   \n",
       "2                  87            18           30             13          3   \n",
       "3                  87            19           24              0          3   \n",
       "4                  56            18           30             13          3   \n",
       "5                  34            27           30              0          3   \n",
       "...               ...           ...          ...            ...        ...   \n",
       "88377             109            18           34             13          3   \n",
       "88601               0             0            0              0          0   \n",
       "88802               0             0            0              0          0   \n",
       "88816               0             0            0              0          0   \n",
       "88863             139            19           30             13          3   \n",
       "\n",
       "            SOPartFreq  SOJobs  EntTeams  SOComm  WelcomeChange  SONewContent  \\\n",
       "Respondent                                                                      \n",
       "1                    0      53        35       7             39           140   \n",
       "2                   31      80        35      13             39           176   \n",
       "3                   35       3        67       7             39            80   \n",
       "4                   35       3        35      14             39           176   \n",
       "5                   31      80        67      15             39            80   \n",
       "...                ...     ...       ...     ...            ...           ...   \n",
       "88377               50      80        67      14              0           122   \n",
       "88601                0       0         0       0              0             0   \n",
       "88802                0       0         0       0              0             0   \n",
       "88816                0       0         0       0              0             0   \n",
       "88863               31       3        67      13             40           176   \n",
       "\n",
       "            Gender  Trans  Sexuality  Ethnicity  Dependents  SurveyLength  \\\n",
       "Respondent                                                                  \n",
       "1                3      2         23          0           2            21   \n",
       "2                3      2         23          0           2            21   \n",
       "3                3      2         23          0           3            21   \n",
       "4                3      2         23         28           2            21   \n",
       "5                3      2         23         40           2            21   \n",
       "...            ...    ...        ...        ...         ...           ...   \n",
       "88377            3      2          0          0           2            21   \n",
       "88601            0      0          0          0           0             0   \n",
       "88802            0      0          0          0           0             0   \n",
       "88816            0      0          0          0           0             0   \n",
       "88863            3      2         23         54           2            21   \n",
       "\n",
       "            SurveyEase  \n",
       "Respondent              \n",
       "1                   26  \n",
       "2                   26  \n",
       "3                   26  \n",
       "4                    4  \n",
       "5                    4  \n",
       "...                ...  \n",
       "88377                4  \n",
       "88601                0  \n",
       "88802                0  \n",
       "88816                0  \n",
       "88863                4  \n",
       "\n",
       "[88883 rows x 79 columns]"
      ],
      "text/html": "<div>\n<style scoped>\n    .dataframe tbody tr th:only-of-type {\n        vertical-align: middle;\n    }\n\n    .dataframe tbody tr th {\n        vertical-align: top;\n    }\n\n    .dataframe thead th {\n        text-align: right;\n    }\n</style>\n<table border=\"1\" class=\"dataframe\">\n  <thead>\n    <tr style=\"text-align: right;\">\n      <th></th>\n      <th>MainBranch</th>\n      <th>Hobbyist</th>\n      <th>OpenSourcer</th>\n      <th>OpenSource</th>\n      <th>Employment</th>\n      <th>Country</th>\n      <th>Student</th>\n      <th>EdLevel</th>\n      <th>UndergradMajor</th>\n      <th>EduOther</th>\n      <th>OrgSize</th>\n      <th>DevType</th>\n      <th>YearsCode</th>\n      <th>Age1stCode</th>\n      <th>YearsCodePro</th>\n      <th>CareerSat</th>\n      <th>JobSat</th>\n      <th>MgrIdiot</th>\n      <th>MgrMoney</th>\n      <th>MgrWant</th>\n      <th>JobSeek</th>\n      <th>LastHireDate</th>\n      <th>LastInt</th>\n      <th>FizzBuzz</th>\n      <th>JobFactors</th>\n      <th>ResumeUpdate</th>\n      <th>CurrencySymbol</th>\n      <th>CurrencyDesc</th>\n      <th>CompFreq</th>\n      <th>WorkPlan</th>\n      <th>WorkChallenge</th>\n      <th>WorkRemote</th>\n      <th>WorkLoc</th>\n      <th>ImpSyn</th>\n      <th>CodeRev</th>\n      <th>UnitTests</th>\n      <th>PurchaseHow</th>\n      <th>PurchaseWhat</th>\n      <th>LanguageWorkedWith</th>\n      <th>LanguageDesireNextYear</th>\n      <th>DatabaseWorkedWith</th>\n      <th>DatabaseDesireNextYear</th>\n      <th>PlatformWorkedWith</th>\n      <th>PlatformDesireNextYear</th>\n      <th>WebFrameWorkedWith</th>\n      <th>WebFrameDesireNextYear</th>\n      <th>MiscTechWorkedWith</th>\n      <th>MiscTechDesireNextYear</th>\n      <th>DevEnviron</th>\n      <th>OpSys</th>\n      <th>Containers</th>\n      <th>BlockchainOrg</th>\n      <th>BlockchainIs</th>\n      <th>BetterLife</th>\n      <th>ITperson</th>\n      <th>OffOn</th>\n      <th>SocialMedia</th>\n      <th>Extraversion</th>\n      <th>ScreenName</th>\n      <th>SOVisit1st</th>\n      <th>SOVisitFreq</th>\n      <th>SOVisitTo</th>\n      <th>SOFindAnswer</th>\n      <th>SOTimeSaved</th>\n      <th>SOHowMuchTime</th>\n      <th>SOAccount</th>\n      <th>SOPartFreq</th>\n      <th>SOJobs</th>\n      <th>EntTeams</th>\n      <th>SOComm</th>\n      <th>WelcomeChange</th>\n      <th>SONewContent</th>\n      <th>Gender</th>\n      <th>Trans</th>\n      <th>Sexuality</th>\n      <th>Ethnicity</th>\n      <th>Dependents</th>\n      <th>SurveyLength</th>\n      <th>SurveyEase</th>\n    </tr>\n    <tr>\n      <th>Respondent</th>\n      <th></th>\n      <th></th>\n      <th></th>\n      <th></th>\n      <th></th>\n      <th></th>\n      <th></th>\n      <th></th>\n      <th></th>\n      <th></th>\n      <th></th>\n      <th></th>\n      <th></th>\n      <th></th>\n      <th></th>\n      <th></th>\n      <th></th>\n      <th></th>\n      <th></th>\n      <th></th>\n      <th></th>\n      <th></th>\n      <th></th>\n      <th></th>\n      <th></th>\n      <th></th>\n      <th></th>\n      <th></th>\n      <th></th>\n      <th></th>\n      <th></th>\n      <th></th>\n      <th></th>\n      <th></th>\n      <th></th>\n      <th></th>\n      <th></th>\n      <th></th>\n      <th></th>\n      <th></th>\n      <th></th>\n      <th></th>\n      <th></th>\n      <th></th>\n      <th></th>\n      <th></th>\n      <th></th>\n      <th></th>\n      <th></th>\n      <th></th>\n      <th></th>\n      <th></th>\n      <th></th>\n      <th></th>\n      <th></th>\n      <th></th>\n      <th></th>\n      <th></th>\n      <th></th>\n      <th></th>\n      <th></th>\n      <th></th>\n      <th></th>\n      <th></th>\n      <th></th>\n      <th></th>\n      <th></th>\n      <th></th>\n      <th></th>\n      <th></th>\n      <th></th>\n      <th></th>\n      <th></th>\n      <th></th>\n      <th></th>\n      <th></th>\n      <th></th>\n      <th></th>\n      <th></th>\n    </tr>\n  </thead>\n  <tbody>\n    <tr>\n      <th>1</th>\n      <td>38</td>\n      <td>3</td>\n      <td>5</td>\n      <td>63</td>\n      <td>38</td>\n      <td>14</td>\n      <td>2</td>\n      <td>25</td>\n      <td>0</td>\n      <td>81</td>\n      <td>0</td>\n      <td>0</td>\n      <td>1</td>\n      <td>2</td>\n      <td>0</td>\n      <td>0</td>\n      <td>0</td>\n      <td>0</td>\n      <td>0</td>\n      <td>0</td>\n      <td>0</td>\n      <td>0</td>\n      <td>0</td>\n      <td>0</td>\n      <td>0</td>\n      <td>0</td>\n      <td>0</td>\n      <td>0</td>\n      <td>0</td>\n      <td>0</td>\n      <td>0</td>\n      <td>0</td>\n      <td>0</td>\n      <td>0</td>\n      <td>0</td>\n      <td>0</td>\n      <td>0</td>\n      <td>0</td>\n      <td>31</td>\n      <td>47</td>\n      <td>6</td>\n      <td>5</td>\n      <td>13</td>\n      <td>23</td>\n      <td>12</td>\n      <td>12</td>\n      <td>7</td>\n      <td>7</td>\n      <td>26</td>\n      <td>7</td>\n      <td>23</td>\n      <td>0</td>\n      <td>0</td>\n      <td>3</td>\n      <td>40</td>\n      <td>3</td>\n      <td>7</td>\n      <td>6</td>\n      <td>8</td>\n      <td>4</td>\n      <td>31</td>\n      <td>87</td>\n      <td>18</td>\n      <td>30</td>\n      <td>13</td>\n      <td>2</td>\n      <td>0</td>\n      <td>53</td>\n      <td>35</td>\n      <td>7</td>\n      <td>39</td>\n      <td>140</td>\n      <td>3</td>\n      <td>2</td>\n      <td>23</td>\n      <td>0</td>\n      <td>2</td>\n      <td>21</td>\n      <td>26</td>\n    </tr>\n    <tr>\n      <th>2</th>\n      <td>38</td>\n      <td>2</td>\n      <td>23</td>\n      <td>63</td>\n      <td>34</td>\n      <td>22</td>\n      <td>14</td>\n      <td>82</td>\n      <td>0</td>\n      <td>75</td>\n      <td>0</td>\n      <td>66</td>\n      <td>0</td>\n      <td>2</td>\n      <td>0</td>\n      <td>0</td>\n      <td>0</td>\n      <td>0</td>\n      <td>0</td>\n      <td>0</td>\n      <td>31</td>\n      <td>20</td>\n      <td>0</td>\n      <td>0</td>\n      <td>182</td>\n      <td>54</td>\n      <td>0</td>\n      <td>0</td>\n      <td>0</td>\n      <td>0</td>\n      <td>0</td>\n      <td>0</td>\n      <td>0</td>\n      <td>0</td>\n      <td>0</td>\n      <td>0</td>\n      <td>0</td>\n      <td>0</td>\n      <td>19</td>\n      <td>27</td>\n      <td>0</td>\n      <td>5</td>\n      <td>7</td>\n      <td>7</td>\n      <td>6</td>\n      <td>6</td>\n      <td>0</td>\n      <td>0</td>\n      <td>12</td>\n      <td>7</td>\n      <td>23</td>\n      <td>0</td>\n      <td>69</td>\n      <td>3</td>\n      <td>3</td>\n      <td>3</td>\n      <td>9</td>\n      <td>6</td>\n      <td>8</td>\n      <td>4</td>\n      <td>21</td>\n      <td>87</td>\n      <td>18</td>\n      <td>30</td>\n      <td>13</td>\n      <td>3</td>\n      <td>31</td>\n      <td>80</td>\n      <td>35</td>\n      <td>13</td>\n      <td>39</td>\n      <td>176</td>\n      <td>3</td>\n      <td>2</td>\n      <td>23</td>\n      <td>0</td>\n      <td>2</td>\n      <td>21</td>\n      <td>26</td>\n    </tr>\n    <tr>\n      <th>3</th>\n      <td>77</td>\n      <td>3</td>\n      <td>5</td>\n      <td>63</td>\n      <td>18</td>\n      <td>8</td>\n      <td>2</td>\n      <td>40</td>\n      <td>29</td>\n      <td>81</td>\n      <td>20</td>\n      <td>71</td>\n      <td>1</td>\n      <td>2</td>\n      <td>1</td>\n      <td>18</td>\n      <td>18</td>\n      <td>20</td>\n      <td>8</td>\n      <td>8</td>\n      <td>60</td>\n      <td>13</td>\n      <td>35</td>\n      <td>2</td>\n      <td>118</td>\n      <td>32</td>\n      <td>3</td>\n      <td>9</td>\n      <td>7</td>\n      <td>74</td>\n      <td>97</td>\n      <td>32</td>\n      <td>4</td>\n      <td>7</td>\n      <td>2</td>\n      <td>25</td>\n      <td>8</td>\n      <td>29</td>\n      <td>8</td>\n      <td>15</td>\n      <td>10</td>\n      <td>10</td>\n      <td>0</td>\n      <td>0</td>\n      <td>0</td>\n      <td>9</td>\n      <td>0</td>\n      <td>0</td>\n      <td>22</td>\n      <td>11</td>\n      <td>23</td>\n      <td>0</td>\n      <td>0</td>\n      <td>3</td>\n      <td>3</td>\n      <td>3</td>\n      <td>6</td>\n      <td>24</td>\n      <td>8</td>\n      <td>4</td>\n      <td>20</td>\n      <td>87</td>\n      <td>19</td>\n      <td>24</td>\n      <td>0</td>\n      <td>3</td>\n      <td>35</td>\n      <td>3</td>\n      <td>67</td>\n      <td>7</td>\n      <td>39</td>\n      <td>80</td>\n      <td>3</td>\n      <td>2</td>\n      <td>23</td>\n      <td>0</td>\n      <td>3</td>\n      <td>21</td>\n      <td>26</td>\n    </tr>\n    <tr>\n      <th>4</th>\n      <td>30</td>\n      <td>2</td>\n      <td>5</td>\n      <td>63</td>\n      <td>18</td>\n      <td>13</td>\n      <td>2</td>\n      <td>40</td>\n      <td>63</td>\n      <td>210</td>\n      <td>20</td>\n      <td>21</td>\n      <td>1</td>\n      <td>2</td>\n      <td>16</td>\n      <td>14</td>\n      <td>18</td>\n      <td>14</td>\n      <td>2</td>\n      <td>8</td>\n      <td>44</td>\n      <td>20</td>\n      <td>93</td>\n      <td>2</td>\n      <td>146</td>\n      <td>32</td>\n      <td>3</td>\n      <td>20</td>\n      <td>6</td>\n      <td>74</td>\n      <td>0</td>\n      <td>32</td>\n      <td>4</td>\n      <td>22</td>\n      <td>2</td>\n      <td>25</td>\n      <td>73</td>\n      <td>29</td>\n      <td>19</td>\n      <td>19</td>\n      <td>12</td>\n      <td>12</td>\n      <td>13</td>\n      <td>13</td>\n      <td>0</td>\n      <td>0</td>\n      <td>4</td>\n      <td>4</td>\n      <td>44</td>\n      <td>7</td>\n      <td>23</td>\n      <td>10</td>\n      <td>49</td>\n      <td>3</td>\n      <td>4</td>\n      <td>3</td>\n      <td>6</td>\n      <td>24</td>\n      <td>8</td>\n      <td>4</td>\n      <td>21</td>\n      <td>56</td>\n      <td>18</td>\n      <td>30</td>\n      <td>13</td>\n      <td>3</td>\n      <td>35</td>\n      <td>3</td>\n      <td>35</td>\n      <td>14</td>\n      <td>39</td>\n      <td>176</td>\n      <td>3</td>\n      <td>2</td>\n      <td>23</td>\n      <td>28</td>\n      <td>2</td>\n      <td>21</td>\n      <td>4</td>\n    </tr>\n    <tr>\n      <th>5</th>\n      <td>30</td>\n      <td>3</td>\n      <td>26</td>\n      <td>79</td>\n      <td>18</td>\n      <td>7</td>\n      <td>2</td>\n      <td>40</td>\n      <td>63</td>\n      <td>246</td>\n      <td>24</td>\n      <td>105</td>\n      <td>2</td>\n      <td>2</td>\n      <td>1</td>\n      <td>17</td>\n      <td>21</td>\n      <td>18</td>\n      <td>3</td>\n      <td>2</td>\n      <td>44</td>\n      <td>20</td>\n      <td>142</td>\n      <td>2</td>\n      <td>130</td>\n      <td>32</td>\n      <td>3</td>\n      <td>17</td>\n      <td>0</td>\n      <td>92</td>\n      <td>136</td>\n      <td>21</td>\n      <td>6</td>\n      <td>22</td>\n      <td>39</td>\n      <td>29</td>\n      <td>8</td>\n      <td>29</td>\n      <td>43</td>\n      <td>40</td>\n      <td>48</td>\n      <td>57</td>\n      <td>33</td>\n      <td>37</td>\n      <td>43</td>\n      <td>28</td>\n      <td>15</td>\n      <td>40</td>\n      <td>22</td>\n      <td>11</td>\n      <td>38</td>\n      <td>10</td>\n      <td>0</td>\n      <td>3</td>\n      <td>8</td>\n      <td>3</td>\n      <td>8</td>\n      <td>24</td>\n      <td>8</td>\n      <td>16</td>\n      <td>22</td>\n      <td>34</td>\n      <td>27</td>\n      <td>30</td>\n      <td>0</td>\n      <td>3</td>\n      <td>31</td>\n      <td>80</td>\n      <td>67</td>\n      <td>15</td>\n      <td>39</td>\n      <td>80</td>\n      <td>3</td>\n      <td>2</td>\n      <td>23</td>\n      <td>40</td>\n      <td>2</td>\n      <td>21</td>\n      <td>4</td>\n    </tr>\n    <tr>\n      <th>...</th>\n      <td>...</td>\n      <td>...</td>\n      <td>...</td>\n      <td>...</td>\n      <td>...</td>\n      <td>...</td>\n      <td>...</td>\n      <td>...</td>\n      <td>...</td>\n      <td>...</td>\n      <td>...</td>\n      <td>...</td>\n      <td>...</td>\n      <td>...</td>\n      <td>...</td>\n      <td>...</td>\n      <td>...</td>\n      <td>...</td>\n      <td>...</td>\n      <td>...</td>\n      <td>...</td>\n      <td>...</td>\n      <td>...</td>\n      <td>...</td>\n      <td>...</td>\n      <td>...</td>\n      <td>...</td>\n      <td>...</td>\n      <td>...</td>\n      <td>...</td>\n      <td>...</td>\n      <td>...</td>\n      <td>...</td>\n      <td>...</td>\n      <td>...</td>\n      <td>...</td>\n      <td>...</td>\n      <td>...</td>\n      <td>...</td>\n      <td>...</td>\n      <td>...</td>\n      <td>...</td>\n      <td>...</td>\n      <td>...</td>\n      <td>...</td>\n      <td>...</td>\n      <td>...</td>\n      <td>...</td>\n      <td>...</td>\n      <td>...</td>\n      <td>...</td>\n      <td>...</td>\n      <td>...</td>\n      <td>...</td>\n      <td>...</td>\n      <td>...</td>\n      <td>...</td>\n      <td>...</td>\n      <td>...</td>\n      <td>...</td>\n      <td>...</td>\n      <td>...</td>\n      <td>...</td>\n      <td>...</td>\n      <td>...</td>\n      <td>...</td>\n      <td>...</td>\n      <td>...</td>\n      <td>...</td>\n      <td>...</td>\n      <td>...</td>\n      <td>...</td>\n      <td>...</td>\n      <td>...</td>\n      <td>...</td>\n      <td>...</td>\n      <td>...</td>\n      <td>...</td>\n      <td>...</td>\n    </tr>\n    <tr>\n      <th>88377</th>\n      <td>0</td>\n      <td>3</td>\n      <td>50</td>\n      <td>63</td>\n      <td>38</td>\n      <td>6</td>\n      <td>2</td>\n      <td>25</td>\n      <td>0</td>\n      <td>117</td>\n      <td>0</td>\n      <td>0</td>\n      <td>0</td>\n      <td>0</td>\n      <td>0</td>\n      <td>0</td>\n      <td>0</td>\n      <td>0</td>\n      <td>0</td>\n      <td>0</td>\n      <td>0</td>\n      <td>0</td>\n      <td>0</td>\n      <td>0</td>\n      <td>0</td>\n      <td>0</td>\n      <td>0</td>\n      <td>0</td>\n      <td>0</td>\n      <td>0</td>\n      <td>0</td>\n      <td>0</td>\n      <td>0</td>\n      <td>0</td>\n      <td>0</td>\n      <td>0</td>\n      <td>0</td>\n      <td>0</td>\n      <td>29</td>\n      <td>49</td>\n      <td>15</td>\n      <td>21</td>\n      <td>5</td>\n      <td>27</td>\n      <td>6</td>\n      <td>13</td>\n      <td>7</td>\n      <td>35</td>\n      <td>37</td>\n      <td>7</td>\n      <td>23</td>\n      <td>0</td>\n      <td>69</td>\n      <td>3</td>\n      <td>3</td>\n      <td>5</td>\n      <td>7</td>\n      <td>0</td>\n      <td>8</td>\n      <td>16</td>\n      <td>20</td>\n      <td>109</td>\n      <td>18</td>\n      <td>34</td>\n      <td>13</td>\n      <td>3</td>\n      <td>50</td>\n      <td>80</td>\n      <td>67</td>\n      <td>14</td>\n      <td>0</td>\n      <td>122</td>\n      <td>3</td>\n      <td>2</td>\n      <td>0</td>\n      <td>0</td>\n      <td>2</td>\n      <td>21</td>\n      <td>4</td>\n    </tr>\n    <tr>\n      <th>88601</th>\n      <td>0</td>\n      <td>2</td>\n      <td>5</td>\n      <td>63</td>\n      <td>0</td>\n      <td>0</td>\n      <td>0</td>\n      <td>0</td>\n      <td>0</td>\n      <td>0</td>\n      <td>0</td>\n      <td>0</td>\n      <td>0</td>\n      <td>0</td>\n      <td>0</td>\n      <td>0</td>\n      <td>0</td>\n      <td>0</td>\n      <td>0</td>\n      <td>0</td>\n      <td>0</td>\n      <td>0</td>\n      <td>0</td>\n      <td>0</td>\n      <td>0</td>\n      <td>0</td>\n      <td>0</td>\n      <td>0</td>\n      <td>0</td>\n      <td>0</td>\n      <td>0</td>\n      <td>0</td>\n      <td>0</td>\n      <td>0</td>\n      <td>0</td>\n      <td>0</td>\n      <td>0</td>\n      <td>0</td>\n      <td>0</td>\n      <td>0</td>\n      <td>0</td>\n      <td>0</td>\n      <td>0</td>\n      <td>0</td>\n      <td>0</td>\n      <td>0</td>\n      <td>0</td>\n      <td>0</td>\n      <td>0</td>\n      <td>0</td>\n      <td>0</td>\n      <td>0</td>\n      <td>0</td>\n      <td>0</td>\n      <td>0</td>\n      <td>0</td>\n      <td>0</td>\n      <td>0</td>\n      <td>0</td>\n      <td>0</td>\n      <td>0</td>\n      <td>0</td>\n      <td>0</td>\n      <td>0</td>\n      <td>0</td>\n      <td>0</td>\n      <td>0</td>\n      <td>0</td>\n      <td>0</td>\n      <td>0</td>\n      <td>0</td>\n      <td>0</td>\n      <td>0</td>\n      <td>0</td>\n      <td>0</td>\n      <td>0</td>\n      <td>0</td>\n      <td>0</td>\n      <td>0</td>\n    </tr>\n    <tr>\n      <th>88802</th>\n      <td>0</td>\n      <td>2</td>\n      <td>5</td>\n      <td>0</td>\n      <td>18</td>\n      <td>0</td>\n      <td>0</td>\n      <td>0</td>\n      <td>0</td>\n      <td>0</td>\n      <td>0</td>\n      <td>0</td>\n      <td>0</td>\n      <td>0</td>\n      <td>0</td>\n      <td>0</td>\n      <td>0</td>\n      <td>0</td>\n      <td>0</td>\n      <td>0</td>\n      <td>0</td>\n      <td>0</td>\n      <td>0</td>\n      <td>0</td>\n      <td>0</td>\n      <td>0</td>\n      <td>0</td>\n      <td>0</td>\n      <td>0</td>\n      <td>0</td>\n      <td>0</td>\n      <td>0</td>\n      <td>0</td>\n      <td>0</td>\n      <td>0</td>\n      <td>0</td>\n      <td>0</td>\n      <td>0</td>\n      <td>0</td>\n      <td>0</td>\n      <td>0</td>\n      <td>0</td>\n      <td>0</td>\n      <td>0</td>\n      <td>0</td>\n      <td>0</td>\n      <td>0</td>\n      <td>0</td>\n      <td>0</td>\n      <td>0</td>\n      <td>0</td>\n      <td>0</td>\n      <td>0</td>\n      <td>0</td>\n      <td>0</td>\n      <td>0</td>\n      <td>0</td>\n      <td>0</td>\n      <td>0</td>\n      <td>0</td>\n      <td>0</td>\n      <td>0</td>\n      <td>0</td>\n      <td>0</td>\n      <td>0</td>\n      <td>0</td>\n      <td>0</td>\n      <td>0</td>\n      <td>0</td>\n      <td>0</td>\n      <td>0</td>\n      <td>0</td>\n      <td>0</td>\n      <td>0</td>\n      <td>0</td>\n      <td>0</td>\n      <td>0</td>\n      <td>0</td>\n      <td>0</td>\n    </tr>\n    <tr>\n      <th>88816</th>\n      <td>0</td>\n      <td>2</td>\n      <td>5</td>\n      <td>79</td>\n      <td>52</td>\n      <td>0</td>\n      <td>0</td>\n      <td>0</td>\n      <td>0</td>\n      <td>0</td>\n      <td>0</td>\n      <td>0</td>\n      <td>0</td>\n      <td>0</td>\n      <td>0</td>\n      <td>0</td>\n      <td>0</td>\n      <td>0</td>\n      <td>0</td>\n      <td>0</td>\n      <td>0</td>\n      <td>0</td>\n      <td>0</td>\n      <td>0</td>\n      <td>0</td>\n      <td>0</td>\n      <td>0</td>\n      <td>0</td>\n      <td>0</td>\n      <td>0</td>\n      <td>0</td>\n      <td>0</td>\n      <td>0</td>\n      <td>0</td>\n      <td>0</td>\n      <td>0</td>\n      <td>0</td>\n      <td>0</td>\n      <td>0</td>\n      <td>0</td>\n      <td>0</td>\n      <td>0</td>\n      <td>0</td>\n      <td>0</td>\n      <td>0</td>\n      <td>0</td>\n      <td>0</td>\n      <td>0</td>\n      <td>0</td>\n      <td>0</td>\n      <td>0</td>\n      <td>0</td>\n      <td>0</td>\n      <td>0</td>\n      <td>0</td>\n      <td>0</td>\n      <td>0</td>\n      <td>0</td>\n      <td>0</td>\n      <td>0</td>\n      <td>0</td>\n      <td>0</td>\n      <td>0</td>\n      <td>0</td>\n      <td>0</td>\n      <td>0</td>\n      <td>0</td>\n      <td>0</td>\n      <td>0</td>\n      <td>0</td>\n      <td>0</td>\n      <td>0</td>\n      <td>0</td>\n      <td>0</td>\n      <td>0</td>\n      <td>0</td>\n      <td>0</td>\n      <td>0</td>\n      <td>0</td>\n    </tr>\n    <tr>\n      <th>88863</th>\n      <td>0</td>\n      <td>3</td>\n      <td>23</td>\n      <td>79</td>\n      <td>38</td>\n      <td>5</td>\n      <td>14</td>\n      <td>34</td>\n      <td>63</td>\n      <td>231</td>\n      <td>0</td>\n      <td>0</td>\n      <td>1</td>\n      <td>2</td>\n      <td>1</td>\n      <td>0</td>\n      <td>0</td>\n      <td>0</td>\n      <td>0</td>\n      <td>0</td>\n      <td>0</td>\n      <td>0</td>\n      <td>0</td>\n      <td>0</td>\n      <td>0</td>\n      <td>0</td>\n      <td>0</td>\n      <td>0</td>\n      <td>0</td>\n      <td>0</td>\n      <td>0</td>\n      <td>0</td>\n      <td>0</td>\n      <td>0</td>\n      <td>0</td>\n      <td>0</td>\n      <td>0</td>\n      <td>0</td>\n      <td>60</td>\n      <td>44</td>\n      <td>43</td>\n      <td>27</td>\n      <td>25</td>\n      <td>83</td>\n      <td>22</td>\n      <td>6</td>\n      <td>22</td>\n      <td>0</td>\n      <td>59</td>\n      <td>11</td>\n      <td>10</td>\n      <td>0</td>\n      <td>49</td>\n      <td>3</td>\n      <td>8</td>\n      <td>3</td>\n      <td>8</td>\n      <td>24</td>\n      <td>0</td>\n      <td>4</td>\n      <td>21</td>\n      <td>139</td>\n      <td>19</td>\n      <td>30</td>\n      <td>13</td>\n      <td>3</td>\n      <td>31</td>\n      <td>3</td>\n      <td>67</td>\n      <td>13</td>\n      <td>40</td>\n      <td>176</td>\n      <td>3</td>\n      <td>2</td>\n      <td>23</td>\n      <td>54</td>\n      <td>2</td>\n      <td>21</td>\n      <td>4</td>\n    </tr>\n  </tbody>\n</table>\n<p>88883 rows × 79 columns</p>\n</div>"
     },
     "metadata": {},
     "execution_count": 167
    }
   ],
   "source": [
    "df.select_dtypes(include=object).fillna('').applymap(len)"
   ]
  },
  {
   "cell_type": "code",
   "execution_count": 181,
   "metadata": {},
   "outputs": [
    {
     "output_type": "execute_result",
     "data": {
      "text/plain": [
       "   first     last                   email\n",
       "0  Corey  Schafer  CoreySchafer@gmail.com\n",
       "1   Jane      Doe     JaneDoe@hotmail.com\n",
       "2   John    Smith   JohnSmith@outlook.com"
      ],
      "text/html": "<div>\n<style scoped>\n    .dataframe tbody tr th:only-of-type {\n        vertical-align: middle;\n    }\n\n    .dataframe tbody tr th {\n        vertical-align: top;\n    }\n\n    .dataframe thead th {\n        text-align: right;\n    }\n</style>\n<table border=\"1\" class=\"dataframe\">\n  <thead>\n    <tr style=\"text-align: right;\">\n      <th></th>\n      <th>first</th>\n      <th>last</th>\n      <th>email</th>\n    </tr>\n  </thead>\n  <tbody>\n    <tr>\n      <th>0</th>\n      <td>Corey</td>\n      <td>Schafer</td>\n      <td>CoreySchafer@gmail.com</td>\n    </tr>\n    <tr>\n      <th>1</th>\n      <td>Jane</td>\n      <td>Doe</td>\n      <td>JaneDoe@hotmail.com</td>\n    </tr>\n    <tr>\n      <th>2</th>\n      <td>John</td>\n      <td>Smith</td>\n      <td>JohnSmith@outlook.com</td>\n    </tr>\n  </tbody>\n</table>\n</div>"
     },
     "metadata": {},
     "execution_count": 181
    }
   ],
   "source": [
    "df = pp_df\n",
    "df"
   ]
  },
  {
   "cell_type": "code",
   "execution_count": 182,
   "metadata": {},
   "outputs": [
    {
     "output_type": "execute_result",
     "data": {
      "text/plain": [
       "0    Corey\n",
       "1     Adam\n",
       "2     John\n",
       "Name: first, dtype: object"
      ]
     },
     "metadata": {},
     "execution_count": 182
    }
   ],
   "source": [
    "df['first'].replace('Jane', 'Adam')"
   ]
  },
  {
   "cell_type": "code",
   "execution_count": 188,
   "metadata": {},
   "outputs": [],
   "source": [
    "df['first'].replace({\n",
    "    'Corey': 'Mark_1',\n",
    "    'Jane': 'Mark_2',\n",
    "    'John': 'Mark_3'}, \n",
    "    inplace=True)"
   ]
  },
  {
   "cell_type": "code",
   "execution_count": 189,
   "metadata": {},
   "outputs": [
    {
     "output_type": "execute_result",
     "data": {
      "text/plain": [
       "    first     last                   email\n",
       "0  Mark_1  Schafer  CoreySchafer@gmail.com\n",
       "1  Mark_2      Doe     JaneDoe@hotmail.com\n",
       "2  Mark_3    Smith   JohnSmith@outlook.com"
      ],
      "text/html": "<div>\n<style scoped>\n    .dataframe tbody tr th:only-of-type {\n        vertical-align: middle;\n    }\n\n    .dataframe tbody tr th {\n        vertical-align: top;\n    }\n\n    .dataframe thead th {\n        text-align: right;\n    }\n</style>\n<table border=\"1\" class=\"dataframe\">\n  <thead>\n    <tr style=\"text-align: right;\">\n      <th></th>\n      <th>first</th>\n      <th>last</th>\n      <th>email</th>\n    </tr>\n  </thead>\n  <tbody>\n    <tr>\n      <th>0</th>\n      <td>Mark_1</td>\n      <td>Schafer</td>\n      <td>CoreySchafer@gmail.com</td>\n    </tr>\n    <tr>\n      <th>1</th>\n      <td>Mark_2</td>\n      <td>Doe</td>\n      <td>JaneDoe@hotmail.com</td>\n    </tr>\n    <tr>\n      <th>2</th>\n      <td>Mark_3</td>\n      <td>Smith</td>\n      <td>JohnSmith@outlook.com</td>\n    </tr>\n  </tbody>\n</table>\n</div>"
     },
     "metadata": {},
     "execution_count": 189
    }
   ],
   "source": [
    "df"
   ]
  },
  {
   "cell_type": "code",
   "execution_count": 178,
   "metadata": {},
   "outputs": [
    {
     "output_type": "execute_result",
     "data": {
      "text/plain": [
       "0    Random\n",
       "1      Jane\n",
       "2    Joseph\n",
       "Name: first, dtype: object"
      ]
     },
     "metadata": {},
     "execution_count": 178
    }
   ],
   "source": [
    "# 🧭 Replace 1 value ONLY -> replace(a, b)\n",
    "# 🧭 Replace 2 or more values -> replace({dict})\n",
    "\n",
    "\n",
    "df['first'].replace({\n",
    "    'John': 'Joseph', \n",
    "    'Corey': 'Random'\n",
    "    })"
   ]
  },
  {
   "cell_type": "code",
   "execution_count": 173,
   "metadata": {},
   "outputs": [
    {
     "output_type": "execute_result",
     "data": {
      "text/plain": [
       "   first     last                   email\n",
       "0  Corey  Schafer  CoreySchafer@gmail.com\n",
       "1   Jane      Doe     JaneDoe@hotmail.com\n",
       "2   John    Smith   JohnSmith@outlook.com"
      ],
      "text/html": "<div>\n<style scoped>\n    .dataframe tbody tr th:only-of-type {\n        vertical-align: middle;\n    }\n\n    .dataframe tbody tr th {\n        vertical-align: top;\n    }\n\n    .dataframe thead th {\n        text-align: right;\n    }\n</style>\n<table border=\"1\" class=\"dataframe\">\n  <thead>\n    <tr style=\"text-align: right;\">\n      <th></th>\n      <th>first</th>\n      <th>last</th>\n      <th>email</th>\n    </tr>\n  </thead>\n  <tbody>\n    <tr>\n      <th>0</th>\n      <td>Corey</td>\n      <td>Schafer</td>\n      <td>CoreySchafer@gmail.com</td>\n    </tr>\n    <tr>\n      <th>1</th>\n      <td>Jane</td>\n      <td>Doe</td>\n      <td>JaneDoe@hotmail.com</td>\n    </tr>\n    <tr>\n      <th>2</th>\n      <td>John</td>\n      <td>Smith</td>\n      <td>JohnSmith@outlook.com</td>\n    </tr>\n  </tbody>\n</table>\n</div>"
     },
     "metadata": {},
     "execution_count": 173
    }
   ],
   "source": [
    "df"
   ]
  },
  {
   "cell_type": "code",
   "execution_count": 203,
   "metadata": {},
   "outputs": [
    {
     "output_type": "execute_result",
     "data": {
      "text/plain": [
       "array([ True,  True,  True,  True,  True,  True,  True,  True,  True,\n",
       "        True,  True,  True,  True,  True,  True,  True,  True,  True,\n",
       "        True,  True,  True,  True,  True,  True,  True,  True,  True,\n",
       "        True,  True,  True,  True,  True,  True,  True,  True,  True,\n",
       "        True,  True,  True,  True,  True,  True,  True,  True,  True,\n",
       "        True,  True,  True,  True,  True,  True,  True,  True,  True,\n",
       "        True,  True,  True,  True,  True,  True,  True,  True,  True,\n",
       "        True,  True,  True,  True,  True,  True,  True,  True,  True,\n",
       "        True,  True,  True,  True,  True,  True,  True,  True,  True,\n",
       "        True,  True,  True])"
      ]
     },
     "metadata": {},
     "execution_count": 203
    }
   ],
   "source": [
    "df.isnull().sum().sort_values().values == df.isna().sum().sort_values().values"
   ]
  },
  {
   "cell_type": "code",
   "execution_count": 207,
   "metadata": {},
   "outputs": [
    {
     "output_type": "execute_result",
     "data": {
      "text/plain": [
       "Respondent\n",
       "1         True\n",
       "2        False\n",
       "3         True\n",
       "4        False\n",
       "5         True\n",
       "         ...  \n",
       "88377     True\n",
       "88601    False\n",
       "88802    False\n",
       "88816    False\n",
       "88863     True\n",
       "Name: Hobbyist, Length: 88883, dtype: bool"
      ]
     },
     "metadata": {},
     "execution_count": 207
    }
   ],
   "source": [
    "df['Hobbyist'].replace({\n",
    "    'Yes': True,\n",
    "    'No': False\n",
    "})"
   ]
  },
  {
   "cell_type": "code",
   "execution_count": null,
   "metadata": {},
   "outputs": [],
   "source": []
  }
 ]
}
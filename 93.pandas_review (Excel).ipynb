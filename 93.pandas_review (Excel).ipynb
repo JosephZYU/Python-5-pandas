{
 "metadata": {
  "language_info": {
   "codemirror_mode": {
    "name": "ipython",
    "version": 3
   },
   "file_extension": ".py",
   "mimetype": "text/x-python",
   "name": "python",
   "nbconvert_exporter": "python",
   "pygments_lexer": "ipython3",
   "version": "3.9.0-final"
  },
  "orig_nbformat": 2,
  "kernelspec": {
   "name": "python3",
   "display_name": "Python 3",
   "language": "python"
  }
 },
 "nbformat": 4,
 "nbformat_minor": 2,
 "cells": [
  {
   "cell_type": "code",
   "execution_count": 1,
   "metadata": {},
   "outputs": [],
   "source": [
    "import pandas as pd\n",
    "import numpy as np\n",
    "import datetime as dt\n",
    "\n",
    "people = {\n",
    "    \"first\":['Corey', 'Jane', 'John'],\n",
    "    \"last\":['Schafer', 'Doe', 'Smith'],\n",
    "    \"email\":['CoreySchafer@gmail.com','JaneDoe@hotmail.com','JohnSmith@outlook.com'],\n",
    "}\n",
    "\n",
    "\n",
    "pd.set_option('display.max_columns', 100)\n",
    "pd.set_option('display.max_rows', 100)\n",
    "pd.set_option('display.max_colwidth', None)  \n",
    "\n",
    "\n",
    "pd.set_option('display.float_format', lambda x: '%.4f' % x)\n",
    "\n",
    "\n",
    "survey_source = '/Users/josephyu/Documents/GitHub/data/survey_results_public.csv'\n",
    "schema_source = '/Users/josephyu/Documents/GitHub/data/survey_results_schema.csv'\n",
    "dt_source = '/Users/josephyu/Documents/GitHub/data/ETH_1h.csv'\n",
    "\n",
    "\n",
    "df = pd.read_csv(survey_source, index_col = 'Respondent')\n",
    "schema_df = pd.read_csv(schema_source, index_col = 'Column')\n",
    "pp_df = pd.DataFrame(people)\n",
    "dt_df = pd.read_csv(dt_source)"
   ]
  },
  {
   "cell_type": "code",
   "execution_count": 49,
   "metadata": {},
   "outputs": [
    {
     "output_type": "execute_result",
     "data": {
      "text/plain": [
       "                     Symbol     Open     High      Low    Close       Volume\n",
       "Date                                                                        \n",
       "2020-03-13 20:00:00  ETHUSD 129.9400 131.8200 126.8700 128.7100 1940673.9300\n",
       "2020-03-13 19:00:00  ETHUSD 119.5100 132.0200 117.1000 129.9400 7579741.0900\n",
       "2020-03-13 18:00:00  ETHUSD 124.4700 124.8500 115.5000 119.5100 4898735.8100\n",
       "2020-03-13 17:00:00  ETHUSD 124.0800 127.4200 121.6300 124.4700 2753450.9200\n",
       "2020-03-13 16:00:00  ETHUSD 124.8500 129.5100 120.1700 124.0800 4461424.7100\n",
       "...                     ...      ...      ...      ...      ...          ...\n",
       "2017-07-01 15:00:00  ETHUSD 265.7400 272.7400 265.0000 272.5700 1500282.5500\n",
       "2017-07-01 14:00:00  ETHUSD 268.7900 269.9000 265.0000 265.7400 1702536.8500\n",
       "2017-07-01 13:00:00  ETHUSD 274.8300 274.9300 265.0000 268.7900 3010787.9900\n",
       "2017-07-01 12:00:00  ETHUSD 275.0100 275.0100 271.0000 274.8300  824362.8700\n",
       "2017-07-01 11:00:00  ETHUSD 279.9800 279.9900 272.1000 275.0100  679358.8700\n",
       "\n",
       "[23674 rows x 6 columns]"
      ],
      "text/html": "<div>\n<style scoped>\n    .dataframe tbody tr th:only-of-type {\n        vertical-align: middle;\n    }\n\n    .dataframe tbody tr th {\n        vertical-align: top;\n    }\n\n    .dataframe thead th {\n        text-align: right;\n    }\n</style>\n<table border=\"1\" class=\"dataframe\">\n  <thead>\n    <tr style=\"text-align: right;\">\n      <th></th>\n      <th>Symbol</th>\n      <th>Open</th>\n      <th>High</th>\n      <th>Low</th>\n      <th>Close</th>\n      <th>Volume</th>\n    </tr>\n    <tr>\n      <th>Date</th>\n      <th></th>\n      <th></th>\n      <th></th>\n      <th></th>\n      <th></th>\n      <th></th>\n    </tr>\n  </thead>\n  <tbody>\n    <tr>\n      <th>2020-03-13 20:00:00</th>\n      <td>ETHUSD</td>\n      <td>129.9400</td>\n      <td>131.8200</td>\n      <td>126.8700</td>\n      <td>128.7100</td>\n      <td>1940673.9300</td>\n    </tr>\n    <tr>\n      <th>2020-03-13 19:00:00</th>\n      <td>ETHUSD</td>\n      <td>119.5100</td>\n      <td>132.0200</td>\n      <td>117.1000</td>\n      <td>129.9400</td>\n      <td>7579741.0900</td>\n    </tr>\n    <tr>\n      <th>2020-03-13 18:00:00</th>\n      <td>ETHUSD</td>\n      <td>124.4700</td>\n      <td>124.8500</td>\n      <td>115.5000</td>\n      <td>119.5100</td>\n      <td>4898735.8100</td>\n    </tr>\n    <tr>\n      <th>2020-03-13 17:00:00</th>\n      <td>ETHUSD</td>\n      <td>124.0800</td>\n      <td>127.4200</td>\n      <td>121.6300</td>\n      <td>124.4700</td>\n      <td>2753450.9200</td>\n    </tr>\n    <tr>\n      <th>2020-03-13 16:00:00</th>\n      <td>ETHUSD</td>\n      <td>124.8500</td>\n      <td>129.5100</td>\n      <td>120.1700</td>\n      <td>124.0800</td>\n      <td>4461424.7100</td>\n    </tr>\n    <tr>\n      <th>...</th>\n      <td>...</td>\n      <td>...</td>\n      <td>...</td>\n      <td>...</td>\n      <td>...</td>\n      <td>...</td>\n    </tr>\n    <tr>\n      <th>2017-07-01 15:00:00</th>\n      <td>ETHUSD</td>\n      <td>265.7400</td>\n      <td>272.7400</td>\n      <td>265.0000</td>\n      <td>272.5700</td>\n      <td>1500282.5500</td>\n    </tr>\n    <tr>\n      <th>2017-07-01 14:00:00</th>\n      <td>ETHUSD</td>\n      <td>268.7900</td>\n      <td>269.9000</td>\n      <td>265.0000</td>\n      <td>265.7400</td>\n      <td>1702536.8500</td>\n    </tr>\n    <tr>\n      <th>2017-07-01 13:00:00</th>\n      <td>ETHUSD</td>\n      <td>274.8300</td>\n      <td>274.9300</td>\n      <td>265.0000</td>\n      <td>268.7900</td>\n      <td>3010787.9900</td>\n    </tr>\n    <tr>\n      <th>2017-07-01 12:00:00</th>\n      <td>ETHUSD</td>\n      <td>275.0100</td>\n      <td>275.0100</td>\n      <td>271.0000</td>\n      <td>274.8300</td>\n      <td>824362.8700</td>\n    </tr>\n    <tr>\n      <th>2017-07-01 11:00:00</th>\n      <td>ETHUSD</td>\n      <td>279.9800</td>\n      <td>279.9900</td>\n      <td>272.1000</td>\n      <td>275.0100</td>\n      <td>679358.8700</td>\n    </tr>\n  </tbody>\n</table>\n<p>23674 rows × 6 columns</p>\n</div>"
     },
     "metadata": {},
     "execution_count": 49
    }
   ],
   "source": [
    "format = '%Y-%m-%d %I-%p'\n",
    "\n",
    "date_parser = lambda x: pd.datetime.strptime(x, format)\n",
    "df = pd.read_csv(dt_source, parse_dates=['Date'], date_parser=date_parser, index_col='Date')\n",
    "\n",
    "df"
   ]
  },
  {
   "cell_type": "code",
   "execution_count": null,
   "metadata": {},
   "outputs": [],
   "source": []
  }
 ]
}
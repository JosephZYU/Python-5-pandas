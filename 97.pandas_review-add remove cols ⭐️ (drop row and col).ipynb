{
 "metadata": {
  "language_info": {
   "codemirror_mode": {
    "name": "ipython",
    "version": 3
   },
   "file_extension": ".py",
   "mimetype": "text/x-python",
   "name": "python",
   "nbconvert_exporter": "python",
   "pygments_lexer": "ipython3",
   "version": "3.9.0-final"
  },
  "orig_nbformat": 2,
  "kernelspec": {
   "name": "python3",
   "display_name": "Python 3",
   "language": "python"
  }
 },
 "nbformat": 4,
 "nbformat_minor": 2,
 "cells": [
  {
   "cell_type": "code",
   "execution_count": 38,
   "metadata": {},
   "outputs": [],
   "source": [
    "import pandas as pd\n",
    "import numpy as np\n",
    "\n",
    "people = {\n",
    "    \"first\":['Corey', 'Jane', 'John'],\n",
    "    \"last\":['Schafer', 'Doe', 'Smith'],\n",
    "    \"email\":['CoreySchafer@gmail.com','JaneDoe@hotmail.com','JohnSmith@outlook.com'],\n",
    "}\n",
    "\n",
    "\n",
    "pd.set_option('display.max_columns', 100)\n",
    "pd.set_option('display.max_rows', 100)\n",
    "pd.set_option('display.max_colwidth', None)  \n",
    "\n",
    "\n",
    "pd.set_option('display.float_format', lambda x: '%.4f' % x)\n",
    "\n",
    "\n",
    "survey_source = '/Users/josephyu/Documents/GitHub/data/survey_results_public.csv'\n",
    "schema_source = '/Users/josephyu/Documents/GitHub/data/survey_results_schema.csv'\n",
    "\n",
    "\n",
    "df = pd.read_csv(survey_source, index_col = 'Respondent')\n",
    "schema_df = pd.read_csv(schema_source, index_col = 'Column')\n",
    "pp_df = pd.DataFrame(people)\n",
    "\n",
    "# ['Hobbyist', 'OpenSourcer', 'Region'] -> PERFECT Data Quality by column"
   ]
  },
  {
   "cell_type": "code",
   "execution_count": 3,
   "metadata": {},
   "outputs": [],
   "source": [
    "df = pp_df"
   ]
  },
  {
   "cell_type": "code",
   "execution_count": 4,
   "metadata": {},
   "outputs": [],
   "source": [
    "df = df.applymap(str.strip)"
   ]
  },
  {
   "cell_type": "code",
   "execution_count": 5,
   "metadata": {},
   "outputs": [],
   "source": [
    "df['name'] = df['first'] + ' ' + df['last']"
   ]
  },
  {
   "cell_type": "code",
   "execution_count": 12,
   "metadata": {},
   "outputs": [],
   "source": [
    "# 🧭 Append can even append to BOTH rows and columns all at once - the ultimate way of adding data as NoSQL style\n",
    "# Append 可以同时以不定项形式，2维添加行列，非常适合不定项的NoSql模式\n",
    "# NOTE: BUT 需要确保不任意添加不必要的（重复的）列！ E.g. first == first_name\n",
    "\n",
    "# 🧠 df.append({dict}, ignore_index=True) -> ignore_index=True\n",
    "\n",
    "df = df.append({\n",
    "    'name': 'Adam Smith',\n",
    "    'first': 'Joseph',\n",
    "    'last': 'Yu',\n",
    "    'email': 'JosephYu@gmail.com',\n",
    "    }, ignore_index=True)"
   ]
  },
  {
   "cell_type": "code",
   "execution_count": 13,
   "metadata": {},
   "outputs": [
    {
     "output_type": "execute_result",
     "data": {
      "text/plain": [
       "    first     last                   email           name\n",
       "0   Corey  Schafer  CoreySchafer@gmail.com  Corey Schafer\n",
       "1    Jane      Doe     JaneDoe@hotmail.com       Jane Doe\n",
       "2    John    Smith   JohnSmith@outlook.com     John Smith\n",
       "3  Joseph       Yu      JosephYu@gmail.com     Adam Smith"
      ],
      "text/html": "<div>\n<style scoped>\n    .dataframe tbody tr th:only-of-type {\n        vertical-align: middle;\n    }\n\n    .dataframe tbody tr th {\n        vertical-align: top;\n    }\n\n    .dataframe thead th {\n        text-align: right;\n    }\n</style>\n<table border=\"1\" class=\"dataframe\">\n  <thead>\n    <tr style=\"text-align: right;\">\n      <th></th>\n      <th>first</th>\n      <th>last</th>\n      <th>email</th>\n      <th>name</th>\n    </tr>\n  </thead>\n  <tbody>\n    <tr>\n      <th>0</th>\n      <td>Corey</td>\n      <td>Schafer</td>\n      <td>CoreySchafer@gmail.com</td>\n      <td>Corey Schafer</td>\n    </tr>\n    <tr>\n      <th>1</th>\n      <td>Jane</td>\n      <td>Doe</td>\n      <td>JaneDoe@hotmail.com</td>\n      <td>Jane Doe</td>\n    </tr>\n    <tr>\n      <th>2</th>\n      <td>John</td>\n      <td>Smith</td>\n      <td>JohnSmith@outlook.com</td>\n      <td>John Smith</td>\n    </tr>\n    <tr>\n      <th>3</th>\n      <td>Joseph</td>\n      <td>Yu</td>\n      <td>JosephYu@gmail.com</td>\n      <td>Adam Smith</td>\n    </tr>\n  </tbody>\n</table>\n</div>"
     },
     "metadata": {},
     "execution_count": 13
    }
   ],
   "source": [
    "df"
   ]
  },
  {
   "cell_type": "code",
   "execution_count": 14,
   "metadata": {},
   "outputs": [
    {
     "output_type": "execute_result",
     "data": {
      "text/plain": [
       "    first     last                   email           name\n",
       "0   Corey  Schafer  CoreySchafer@gmail.com  Corey Schafer\n",
       "1    Jane      Doe     JaneDoe@hotmail.com       Jane Doe\n",
       "3  Joseph       Yu      JosephYu@gmail.com     Adam Smith"
      ],
      "text/html": "<div>\n<style scoped>\n    .dataframe tbody tr th:only-of-type {\n        vertical-align: middle;\n    }\n\n    .dataframe tbody tr th {\n        vertical-align: top;\n    }\n\n    .dataframe thead th {\n        text-align: right;\n    }\n</style>\n<table border=\"1\" class=\"dataframe\">\n  <thead>\n    <tr style=\"text-align: right;\">\n      <th></th>\n      <th>first</th>\n      <th>last</th>\n      <th>email</th>\n      <th>name</th>\n    </tr>\n  </thead>\n  <tbody>\n    <tr>\n      <th>0</th>\n      <td>Corey</td>\n      <td>Schafer</td>\n      <td>CoreySchafer@gmail.com</td>\n      <td>Corey Schafer</td>\n    </tr>\n    <tr>\n      <th>1</th>\n      <td>Jane</td>\n      <td>Doe</td>\n      <td>JaneDoe@hotmail.com</td>\n      <td>Jane Doe</td>\n    </tr>\n    <tr>\n      <th>3</th>\n      <td>Joseph</td>\n      <td>Yu</td>\n      <td>JosephYu@gmail.com</td>\n      <td>Adam Smith</td>\n    </tr>\n  </tbody>\n</table>\n</div>"
     },
     "metadata": {},
     "execution_count": 14
    }
   ],
   "source": [
    "# df.drop(index=)\n",
    "# df.drop(columns=)\n",
    "\n",
    "df.drop(index=2)"
   ]
  },
  {
   "cell_type": "code",
   "execution_count": 33,
   "metadata": {},
   "outputs": [
    {
     "output_type": "execute_result",
     "data": {
      "text/plain": [
       "  first   last\n",
       "1  Jane    Doe\n",
       "2  John  Smith"
      ],
      "text/html": "<div>\n<style scoped>\n    .dataframe tbody tr th:only-of-type {\n        vertical-align: middle;\n    }\n\n    .dataframe tbody tr th {\n        vertical-align: top;\n    }\n\n    .dataframe thead th {\n        text-align: right;\n    }\n</style>\n<table border=\"1\" class=\"dataframe\">\n  <thead>\n    <tr style=\"text-align: right;\">\n      <th></th>\n      <th>first</th>\n      <th>last</th>\n    </tr>\n  </thead>\n  <tbody>\n    <tr>\n      <th>1</th>\n      <td>Jane</td>\n      <td>Doe</td>\n    </tr>\n    <tr>\n      <th>2</th>\n      <td>John</td>\n      <td>Smith</td>\n    </tr>\n  </tbody>\n</table>\n</div>"
     },
     "metadata": {},
     "execution_count": 33
    }
   ],
   "source": [
    "filt = df['email'].str.contains('gmail.com')\n",
    "\n",
    "df.drop(index=df[filt].index,\n",
    "        columns=['name', 'email'])"
   ]
  },
  {
   "cell_type": "code",
   "execution_count": 68,
   "metadata": {},
   "outputs": [],
   "source": [
    "col_drop = df.isna().mean().sort_values(ascending=False)[:'WebFrameWorkedWith'].index"
   ]
  },
  {
   "cell_type": "code",
   "execution_count": 69,
   "metadata": {},
   "outputs": [],
   "source": [
    "tgt_country = df['Country'].value_counts().nsmallest(100)[:'Azerbaijan'].index.tolist()\n",
    "\n",
    "row_filt = df['Country'].isin(tgt_country)\n",
    "\n",
    "row_drop = df[row_filt].index"
   ]
  },
  {
   "cell_type": "code",
   "execution_count": 70,
   "metadata": {},
   "outputs": [
    {
     "output_type": "execute_result",
     "data": {
      "text/plain": [
       "(88883, 84)"
      ]
     },
     "metadata": {},
     "execution_count": 70
    }
   ],
   "source": [
    "df.shape"
   ]
  },
  {
   "cell_type": "code",
   "execution_count": 74,
   "metadata": {},
   "outputs": [
    {
     "output_type": "execute_result",
     "data": {
      "text/plain": [
       "(87745, 67)"
      ]
     },
     "metadata": {},
     "execution_count": 74
    }
   ],
   "source": [
    "df.drop(\n",
    "    index=row_drop,\n",
    "    columns=col_drop,\n",
    ").shape"
   ]
  },
  {
   "cell_type": "code",
   "execution_count": null,
   "metadata": {},
   "outputs": [],
   "source": []
  }
 ]
}
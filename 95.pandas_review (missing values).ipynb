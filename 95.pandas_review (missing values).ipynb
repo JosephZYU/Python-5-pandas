{
 "metadata": {
  "language_info": {
   "codemirror_mode": {
    "name": "ipython",
    "version": 3
   },
   "file_extension": ".py",
   "mimetype": "text/x-python",
   "name": "python",
   "nbconvert_exporter": "python",
   "pygments_lexer": "ipython3",
   "version": "3.9.0-final"
  },
  "orig_nbformat": 2,
  "kernelspec": {
   "name": "python3",
   "display_name": "Python 3",
   "language": "python"
  }
 },
 "nbformat": 4,
 "nbformat_minor": 2,
 "cells": [
  {
   "cell_type": "code",
   "execution_count": 2,
   "metadata": {},
   "outputs": [],
   "source": [
    "import pandas as pd\n",
    "import numpy as np\n",
    "\n",
    "people = {\n",
    "    'first': ['Corey', 'Jane', 'John', 'Chris', np.nan, None, 'NA'], \n",
    "    'last': ['Schafer', 'Doe', 'Doe', 'Schafer', np.nan, np.nan, 'Missing'], \n",
    "    'email': ['CoreyMSchafer@gmail.com', 'JaneDoe@email.com', 'JohnDoe@email.com', None, np.nan, 'Anonymous@email.com', 'NA'],\n",
    "    'age': ['33', '55', '63', '36', None, None, 'Missing']\n",
    "}"
   ]
  },
  {
   "cell_type": "code",
   "execution_count": 3,
   "metadata": {},
   "outputs": [],
   "source": [
    "df = pd.DataFrame(people)"
   ]
  },
  {
   "cell_type": "code",
   "execution_count": 8,
   "metadata": {},
   "outputs": [
    {
     "output_type": "execute_result",
     "data": {
      "text/plain": [
       "   first   last  email    age\n",
       "0  False  False  False  False\n",
       "1  False  False  False  False\n",
       "2  False  False  False  False\n",
       "3  False  False   True  False\n",
       "4   True   True   True   True\n",
       "5   True   True  False   True\n",
       "6  False  False  False  False"
      ],
      "text/html": "<div>\n<style scoped>\n    .dataframe tbody tr th:only-of-type {\n        vertical-align: middle;\n    }\n\n    .dataframe tbody tr th {\n        vertical-align: top;\n    }\n\n    .dataframe thead th {\n        text-align: right;\n    }\n</style>\n<table border=\"1\" class=\"dataframe\">\n  <thead>\n    <tr style=\"text-align: right;\">\n      <th></th>\n      <th>first</th>\n      <th>last</th>\n      <th>email</th>\n      <th>age</th>\n    </tr>\n  </thead>\n  <tbody>\n    <tr>\n      <th>0</th>\n      <td>False</td>\n      <td>False</td>\n      <td>False</td>\n      <td>False</td>\n    </tr>\n    <tr>\n      <th>1</th>\n      <td>False</td>\n      <td>False</td>\n      <td>False</td>\n      <td>False</td>\n    </tr>\n    <tr>\n      <th>2</th>\n      <td>False</td>\n      <td>False</td>\n      <td>False</td>\n      <td>False</td>\n    </tr>\n    <tr>\n      <th>3</th>\n      <td>False</td>\n      <td>False</td>\n      <td>True</td>\n      <td>False</td>\n    </tr>\n    <tr>\n      <th>4</th>\n      <td>True</td>\n      <td>True</td>\n      <td>True</td>\n      <td>True</td>\n    </tr>\n    <tr>\n      <th>5</th>\n      <td>True</td>\n      <td>True</td>\n      <td>False</td>\n      <td>True</td>\n    </tr>\n    <tr>\n      <th>6</th>\n      <td>False</td>\n      <td>False</td>\n      <td>False</td>\n      <td>False</td>\n    </tr>\n  </tbody>\n</table>\n</div>"
     },
     "metadata": {},
     "execution_count": 8
    }
   ],
   "source": [
    "df.isna()"
   ]
  },
  {
   "cell_type": "code",
   "execution_count": 15,
   "metadata": {},
   "outputs": [],
   "source": [
    "# np.nan -> NaN -> BLANK\n",
    "# None -> None -> BLANK\n",
    "\n",
    "df.columns = df.columns.str.title()"
   ]
  },
  {
   "cell_type": "code",
   "execution_count": 16,
   "metadata": {},
   "outputs": [
    {
     "output_type": "execute_result",
     "data": {
      "text/plain": [
       "   First     Last                    Email      Age\n",
       "0  Corey  Schafer  CoreyMSchafer@gmail.com       33\n",
       "1   Jane      Doe        JaneDoe@email.com       55\n",
       "2   John      Doe        JohnDoe@email.com       63\n",
       "3  Chris  Schafer                     None       36\n",
       "4    NaN      NaN                      NaN     None\n",
       "5   None      NaN      Anonymous@email.com     None\n",
       "6     NA  Missing                       NA  Missing"
      ],
      "text/html": "<div>\n<style scoped>\n    .dataframe tbody tr th:only-of-type {\n        vertical-align: middle;\n    }\n\n    .dataframe tbody tr th {\n        vertical-align: top;\n    }\n\n    .dataframe thead th {\n        text-align: right;\n    }\n</style>\n<table border=\"1\" class=\"dataframe\">\n  <thead>\n    <tr style=\"text-align: right;\">\n      <th></th>\n      <th>First</th>\n      <th>Last</th>\n      <th>Email</th>\n      <th>Age</th>\n    </tr>\n  </thead>\n  <tbody>\n    <tr>\n      <th>0</th>\n      <td>Corey</td>\n      <td>Schafer</td>\n      <td>CoreyMSchafer@gmail.com</td>\n      <td>33</td>\n    </tr>\n    <tr>\n      <th>1</th>\n      <td>Jane</td>\n      <td>Doe</td>\n      <td>JaneDoe@email.com</td>\n      <td>55</td>\n    </tr>\n    <tr>\n      <th>2</th>\n      <td>John</td>\n      <td>Doe</td>\n      <td>JohnDoe@email.com</td>\n      <td>63</td>\n    </tr>\n    <tr>\n      <th>3</th>\n      <td>Chris</td>\n      <td>Schafer</td>\n      <td>None</td>\n      <td>36</td>\n    </tr>\n    <tr>\n      <th>4</th>\n      <td>NaN</td>\n      <td>NaN</td>\n      <td>NaN</td>\n      <td>None</td>\n    </tr>\n    <tr>\n      <th>5</th>\n      <td>None</td>\n      <td>NaN</td>\n      <td>Anonymous@email.com</td>\n      <td>None</td>\n    </tr>\n    <tr>\n      <th>6</th>\n      <td>NA</td>\n      <td>Missing</td>\n      <td>NA</td>\n      <td>Missing</td>\n    </tr>\n  </tbody>\n</table>\n</div>"
     },
     "metadata": {},
     "execution_count": 16
    }
   ],
   "source": [
    "df"
   ]
  },
  {
   "cell_type": "code",
   "execution_count": 21,
   "metadata": {},
   "outputs": [
    {
     "output_type": "execute_result",
     "data": {
      "text/plain": [
       "   First     Last                    Email      Age\n",
       "0  Corey  Schafer  CoreyMSchafer@gmail.com       33\n",
       "1   Jane      Doe        JaneDoe@email.com       55\n",
       "2   John      Doe        JohnDoe@email.com       63\n",
       "6     NA  Missing                       NA  Missing"
      ],
      "text/html": "<div>\n<style scoped>\n    .dataframe tbody tr th:only-of-type {\n        vertical-align: middle;\n    }\n\n    .dataframe tbody tr th {\n        vertical-align: top;\n    }\n\n    .dataframe thead th {\n        text-align: right;\n    }\n</style>\n<table border=\"1\" class=\"dataframe\">\n  <thead>\n    <tr style=\"text-align: right;\">\n      <th></th>\n      <th>First</th>\n      <th>Last</th>\n      <th>Email</th>\n      <th>Age</th>\n    </tr>\n  </thead>\n  <tbody>\n    <tr>\n      <th>0</th>\n      <td>Corey</td>\n      <td>Schafer</td>\n      <td>CoreyMSchafer@gmail.com</td>\n      <td>33</td>\n    </tr>\n    <tr>\n      <th>1</th>\n      <td>Jane</td>\n      <td>Doe</td>\n      <td>JaneDoe@email.com</td>\n      <td>55</td>\n    </tr>\n    <tr>\n      <th>2</th>\n      <td>John</td>\n      <td>Doe</td>\n      <td>JohnDoe@email.com</td>\n      <td>63</td>\n    </tr>\n    <tr>\n      <th>6</th>\n      <td>NA</td>\n      <td>Missing</td>\n      <td>NA</td>\n      <td>Missing</td>\n    </tr>\n  </tbody>\n</table>\n</div>"
     },
     "metadata": {},
     "execution_count": 21
    }
   ],
   "source": [
    "# 🧭🧭 Two major scenarios of null (na) values\n",
    "# 1 of 2: deal with True Null cells: np.nan or None 处理真空值\n",
    "# 2 of 2: deal with Fake Non-Null cells: 'NA', 'n/a', 'missing', ... (pretending in string format) 处理伪装成非空的干扰值\n",
    "\n",
    "# CAUTION: dropna() will drop ALL rows with any missing values -> leave ONLY perfect data 慎用\n",
    "df.dropna()"
   ]
  },
  {
   "cell_type": "code",
   "execution_count": 23,
   "metadata": {},
   "outputs": [
    {
     "output_type": "execute_result",
     "data": {
      "text/plain": [
       "   First     Last                    Email      Age\n",
       "0  Corey  Schafer  CoreyMSchafer@gmail.com       33\n",
       "1   Jane      Doe        JaneDoe@email.com       55\n",
       "2   John      Doe        JohnDoe@email.com       63\n",
       "6     NA  Missing                       NA  Missing"
      ],
      "text/html": "<div>\n<style scoped>\n    .dataframe tbody tr th:only-of-type {\n        vertical-align: middle;\n    }\n\n    .dataframe tbody tr th {\n        vertical-align: top;\n    }\n\n    .dataframe thead th {\n        text-align: right;\n    }\n</style>\n<table border=\"1\" class=\"dataframe\">\n  <thead>\n    <tr style=\"text-align: right;\">\n      <th></th>\n      <th>First</th>\n      <th>Last</th>\n      <th>Email</th>\n      <th>Age</th>\n    </tr>\n  </thead>\n  <tbody>\n    <tr>\n      <th>0</th>\n      <td>Corey</td>\n      <td>Schafer</td>\n      <td>CoreyMSchafer@gmail.com</td>\n      <td>33</td>\n    </tr>\n    <tr>\n      <th>1</th>\n      <td>Jane</td>\n      <td>Doe</td>\n      <td>JaneDoe@email.com</td>\n      <td>55</td>\n    </tr>\n    <tr>\n      <th>2</th>\n      <td>John</td>\n      <td>Doe</td>\n      <td>JohnDoe@email.com</td>\n      <td>63</td>\n    </tr>\n    <tr>\n      <th>6</th>\n      <td>NA</td>\n      <td>Missing</td>\n      <td>NA</td>\n      <td>Missing</td>\n    </tr>\n  </tbody>\n</table>\n</div>"
     },
     "metadata": {},
     "execution_count": 23
    }
   ],
   "source": [
    "df.dropna(axis=0, how='any')"
   ]
  },
  {
   "cell_type": "code",
   "execution_count": 24,
   "metadata": {},
   "outputs": [
    {
     "output_type": "execute_result",
     "data": {
      "text/plain": [
       "Empty DataFrame\n",
       "Columns: []\n",
       "Index: [0, 1, 2, 3, 4, 5, 6]"
      ],
      "text/html": "<div>\n<style scoped>\n    .dataframe tbody tr th:only-of-type {\n        vertical-align: middle;\n    }\n\n    .dataframe tbody tr th {\n        vertical-align: top;\n    }\n\n    .dataframe thead th {\n        text-align: right;\n    }\n</style>\n<table border=\"1\" class=\"dataframe\">\n  <thead>\n    <tr style=\"text-align: right;\">\n      <th></th>\n    </tr>\n  </thead>\n  <tbody>\n    <tr>\n      <th>0</th>\n    </tr>\n    <tr>\n      <th>1</th>\n    </tr>\n    <tr>\n      <th>2</th>\n    </tr>\n    <tr>\n      <th>3</th>\n    </tr>\n    <tr>\n      <th>4</th>\n    </tr>\n    <tr>\n      <th>5</th>\n    </tr>\n    <tr>\n      <th>6</th>\n    </tr>\n  </tbody>\n</table>\n</div>"
     },
     "metadata": {},
     "execution_count": 24
    }
   ],
   "source": [
    "df.dropna(axis=1, how='any')"
   ]
  },
  {
   "cell_type": "code",
   "execution_count": 27,
   "metadata": {},
   "outputs": [
    {
     "output_type": "execute_result",
     "data": {
      "text/plain": [
       "   First     Last                    Email      Age\n",
       "0  Corey  Schafer  CoreyMSchafer@gmail.com       33\n",
       "1   Jane      Doe        JaneDoe@email.com       55\n",
       "2   John      Doe        JohnDoe@email.com       63\n",
       "3  Chris  Schafer                     None       36\n",
       "5   None      NaN      Anonymous@email.com     None\n",
       "6     NA  Missing                       NA  Missing"
      ],
      "text/html": "<div>\n<style scoped>\n    .dataframe tbody tr th:only-of-type {\n        vertical-align: middle;\n    }\n\n    .dataframe tbody tr th {\n        vertical-align: top;\n    }\n\n    .dataframe thead th {\n        text-align: right;\n    }\n</style>\n<table border=\"1\" class=\"dataframe\">\n  <thead>\n    <tr style=\"text-align: right;\">\n      <th></th>\n      <th>First</th>\n      <th>Last</th>\n      <th>Email</th>\n      <th>Age</th>\n    </tr>\n  </thead>\n  <tbody>\n    <tr>\n      <th>0</th>\n      <td>Corey</td>\n      <td>Schafer</td>\n      <td>CoreyMSchafer@gmail.com</td>\n      <td>33</td>\n    </tr>\n    <tr>\n      <th>1</th>\n      <td>Jane</td>\n      <td>Doe</td>\n      <td>JaneDoe@email.com</td>\n      <td>55</td>\n    </tr>\n    <tr>\n      <th>2</th>\n      <td>John</td>\n      <td>Doe</td>\n      <td>JohnDoe@email.com</td>\n      <td>63</td>\n    </tr>\n    <tr>\n      <th>3</th>\n      <td>Chris</td>\n      <td>Schafer</td>\n      <td>None</td>\n      <td>36</td>\n    </tr>\n    <tr>\n      <th>5</th>\n      <td>None</td>\n      <td>NaN</td>\n      <td>Anonymous@email.com</td>\n      <td>None</td>\n    </tr>\n    <tr>\n      <th>6</th>\n      <td>NA</td>\n      <td>Missing</td>\n      <td>NA</td>\n      <td>Missing</td>\n    </tr>\n  </tbody>\n</table>\n</div>"
     },
     "metadata": {},
     "execution_count": 27
    }
   ],
   "source": [
    "df.dropna(axis=0, how='all')  # ⭐️"
   ]
  },
  {
   "cell_type": "code",
   "execution_count": 28,
   "metadata": {},
   "outputs": [
    {
     "output_type": "execute_result",
     "data": {
      "text/plain": [
       "   First     Last                    Email      Age\n",
       "0  Corey  Schafer  CoreyMSchafer@gmail.com       33\n",
       "1   Jane      Doe        JaneDoe@email.com       55\n",
       "2   John      Doe        JohnDoe@email.com       63\n",
       "3  Chris  Schafer                     None       36\n",
       "4    NaN      NaN                      NaN     None\n",
       "5   None      NaN      Anonymous@email.com     None\n",
       "6     NA  Missing                       NA  Missing"
      ],
      "text/html": "<div>\n<style scoped>\n    .dataframe tbody tr th:only-of-type {\n        vertical-align: middle;\n    }\n\n    .dataframe tbody tr th {\n        vertical-align: top;\n    }\n\n    .dataframe thead th {\n        text-align: right;\n    }\n</style>\n<table border=\"1\" class=\"dataframe\">\n  <thead>\n    <tr style=\"text-align: right;\">\n      <th></th>\n      <th>First</th>\n      <th>Last</th>\n      <th>Email</th>\n      <th>Age</th>\n    </tr>\n  </thead>\n  <tbody>\n    <tr>\n      <th>0</th>\n      <td>Corey</td>\n      <td>Schafer</td>\n      <td>CoreyMSchafer@gmail.com</td>\n      <td>33</td>\n    </tr>\n    <tr>\n      <th>1</th>\n      <td>Jane</td>\n      <td>Doe</td>\n      <td>JaneDoe@email.com</td>\n      <td>55</td>\n    </tr>\n    <tr>\n      <th>2</th>\n      <td>John</td>\n      <td>Doe</td>\n      <td>JohnDoe@email.com</td>\n      <td>63</td>\n    </tr>\n    <tr>\n      <th>3</th>\n      <td>Chris</td>\n      <td>Schafer</td>\n      <td>None</td>\n      <td>36</td>\n    </tr>\n    <tr>\n      <th>4</th>\n      <td>NaN</td>\n      <td>NaN</td>\n      <td>NaN</td>\n      <td>None</td>\n    </tr>\n    <tr>\n      <th>5</th>\n      <td>None</td>\n      <td>NaN</td>\n      <td>Anonymous@email.com</td>\n      <td>None</td>\n    </tr>\n    <tr>\n      <th>6</th>\n      <td>NA</td>\n      <td>Missing</td>\n      <td>NA</td>\n      <td>Missing</td>\n    </tr>\n  </tbody>\n</table>\n</div>"
     },
     "metadata": {},
     "execution_count": 28
    }
   ],
   "source": [
    "df.dropna(axis=1, how='all')"
   ]
  },
  {
   "cell_type": "code",
   "execution_count": 22,
   "metadata": {},
   "outputs": [
    {
     "output_type": "execute_result",
     "data": {
      "text/plain": [
       "Index(['First', 'Last', 'Email', 'Age'], dtype='object')"
      ]
     },
     "metadata": {},
     "execution_count": 22
    }
   ],
   "source": [
    "df.columns"
   ]
  },
  {
   "cell_type": "code",
   "execution_count": 40,
   "metadata": {},
   "outputs": [
    {
     "output_type": "execute_result",
     "data": {
      "text/plain": [
       "   First     Last                    Email      Age\n",
       "0  Corey  Schafer  CoreyMSchafer@gmail.com       33\n",
       "1   Jane      Doe        JaneDoe@email.com       55\n",
       "2   John      Doe        JohnDoe@email.com       63\n",
       "3  Chris  Schafer                     None       36\n",
       "6     NA  Missing                       NA  Missing"
      ],
      "text/html": "<div>\n<style scoped>\n    .dataframe tbody tr th:only-of-type {\n        vertical-align: middle;\n    }\n\n    .dataframe tbody tr th {\n        vertical-align: top;\n    }\n\n    .dataframe thead th {\n        text-align: right;\n    }\n</style>\n<table border=\"1\" class=\"dataframe\">\n  <thead>\n    <tr style=\"text-align: right;\">\n      <th></th>\n      <th>First</th>\n      <th>Last</th>\n      <th>Email</th>\n      <th>Age</th>\n    </tr>\n  </thead>\n  <tbody>\n    <tr>\n      <th>0</th>\n      <td>Corey</td>\n      <td>Schafer</td>\n      <td>CoreyMSchafer@gmail.com</td>\n      <td>33</td>\n    </tr>\n    <tr>\n      <th>1</th>\n      <td>Jane</td>\n      <td>Doe</td>\n      <td>JaneDoe@email.com</td>\n      <td>55</td>\n    </tr>\n    <tr>\n      <th>2</th>\n      <td>John</td>\n      <td>Doe</td>\n      <td>JohnDoe@email.com</td>\n      <td>63</td>\n    </tr>\n    <tr>\n      <th>3</th>\n      <td>Chris</td>\n      <td>Schafer</td>\n      <td>None</td>\n      <td>36</td>\n    </tr>\n    <tr>\n      <th>6</th>\n      <td>NA</td>\n      <td>Missing</td>\n      <td>NA</td>\n      <td>Missing</td>\n    </tr>\n  </tbody>\n</table>\n</div>"
     },
     "metadata": {},
     "execution_count": 40
    }
   ],
   "source": [
    "# Drop any rows where the 3 columns 'First', 'Last', 'Email' are missing \n",
    "\n",
    "df.dropna(axis=0, subset=['First', 'Last'], how='all')\n"
   ]
  },
  {
   "cell_type": "code",
   "execution_count": 44,
   "metadata": {},
   "outputs": [
    {
     "output_type": "execute_result",
     "data": {
      "text/plain": [
       "Index(['First', 'Last', 'Email', 'Age'], dtype='object')"
      ]
     },
     "metadata": {},
     "execution_count": 44
    }
   ],
   "source": [
    "df.columns"
   ]
  },
  {
   "cell_type": "code",
   "execution_count": 45,
   "metadata": {},
   "outputs": [
    {
     "output_type": "execute_result",
     "data": {
      "text/plain": [
       "   First     Last                    Email      Age\n",
       "0  Corey  Schafer  CoreyMSchafer@gmail.com       33\n",
       "1   Jane      Doe        JaneDoe@email.com       55\n",
       "2   John      Doe        JohnDoe@email.com       63\n",
       "3  Chris  Schafer                     None       36\n",
       "5   None      NaN      Anonymous@email.com     None\n",
       "6     NA  Missing                       NA  Missing"
      ],
      "text/html": "<div>\n<style scoped>\n    .dataframe tbody tr th:only-of-type {\n        vertical-align: middle;\n    }\n\n    .dataframe tbody tr th {\n        vertical-align: top;\n    }\n\n    .dataframe thead th {\n        text-align: right;\n    }\n</style>\n<table border=\"1\" class=\"dataframe\">\n  <thead>\n    <tr style=\"text-align: right;\">\n      <th></th>\n      <th>First</th>\n      <th>Last</th>\n      <th>Email</th>\n      <th>Age</th>\n    </tr>\n  </thead>\n  <tbody>\n    <tr>\n      <th>0</th>\n      <td>Corey</td>\n      <td>Schafer</td>\n      <td>CoreyMSchafer@gmail.com</td>\n      <td>33</td>\n    </tr>\n    <tr>\n      <th>1</th>\n      <td>Jane</td>\n      <td>Doe</td>\n      <td>JaneDoe@email.com</td>\n      <td>55</td>\n    </tr>\n    <tr>\n      <th>2</th>\n      <td>John</td>\n      <td>Doe</td>\n      <td>JohnDoe@email.com</td>\n      <td>63</td>\n    </tr>\n    <tr>\n      <th>3</th>\n      <td>Chris</td>\n      <td>Schafer</td>\n      <td>None</td>\n      <td>36</td>\n    </tr>\n    <tr>\n      <th>5</th>\n      <td>None</td>\n      <td>NaN</td>\n      <td>Anonymous@email.com</td>\n      <td>None</td>\n    </tr>\n    <tr>\n      <th>6</th>\n      <td>NA</td>\n      <td>Missing</td>\n      <td>NA</td>\n      <td>Missing</td>\n    </tr>\n  </tbody>\n</table>\n</div>"
     },
     "metadata": {},
     "execution_count": 45
    }
   ],
   "source": [
    "df.dropna(axis=0, subset=['First', 'Last', 'Email'], how='all')"
   ]
  },
  {
   "cell_type": "code",
   "execution_count": 50,
   "metadata": {},
   "outputs": [
    {
     "output_type": "execute_result",
     "data": {
      "text/plain": [
       "0    False\n",
       "1    False\n",
       "2    False\n",
       "3    False\n",
       "4     True\n",
       "5     True\n",
       "6    False\n",
       "Name: First, dtype: bool"
      ]
     },
     "metadata": {},
     "execution_count": 50
    }
   ],
   "source": [
    "df['First'].isna()"
   ]
  },
  {
   "cell_type": "code",
   "execution_count": 52,
   "metadata": {},
   "outputs": [
    {
     "output_type": "execute_result",
     "data": {
      "text/plain": [
       "0    False\n",
       "1    False\n",
       "2    False\n",
       "3     True\n",
       "4     True\n",
       "5    False\n",
       "6    False\n",
       "Name: Email, dtype: bool"
      ]
     },
     "metadata": {},
     "execution_count": 52
    }
   ],
   "source": [
    "df['Email'].isna()"
   ]
  },
  {
   "cell_type": "code",
   "execution_count": 53,
   "metadata": {},
   "outputs": [
    {
     "output_type": "execute_result",
     "data": {
      "text/plain": [
       "0    False\n",
       "1    False\n",
       "2    False\n",
       "3    False\n",
       "4     True\n",
       "5    False\n",
       "6    False\n",
       "dtype: bool"
      ]
     },
     "metadata": {},
     "execution_count": 53
    }
   ],
   "source": [
    "(df['First'].isna()) & (df['Email'].isna())"
   ]
  },
  {
   "cell_type": "code",
   "execution_count": 69,
   "metadata": {},
   "outputs": [],
   "source": [
    "filt = ((df['First'].isna()) & (df['Email'].isna())) & (df['Email'].isna())"
   ]
  },
  {
   "cell_type": "code",
   "execution_count": 66,
   "metadata": {},
   "outputs": [
    {
     "output_type": "execute_result",
     "data": {
      "text/plain": [
       "   First   Last  Email    Age\n",
       "0  False  False  False  False\n",
       "1  False  False  False  False\n",
       "2  False  False  False  False\n",
       "3  False  False   True  False\n",
       "4   True   True   True   True\n",
       "5   True   True  False   True\n",
       "6  False  False  False  False"
      ],
      "text/html": "<div>\n<style scoped>\n    .dataframe tbody tr th:only-of-type {\n        vertical-align: middle;\n    }\n\n    .dataframe tbody tr th {\n        vertical-align: top;\n    }\n\n    .dataframe thead th {\n        text-align: right;\n    }\n</style>\n<table border=\"1\" class=\"dataframe\">\n  <thead>\n    <tr style=\"text-align: right;\">\n      <th></th>\n      <th>First</th>\n      <th>Last</th>\n      <th>Email</th>\n      <th>Age</th>\n    </tr>\n  </thead>\n  <tbody>\n    <tr>\n      <th>0</th>\n      <td>False</td>\n      <td>False</td>\n      <td>False</td>\n      <td>False</td>\n    </tr>\n    <tr>\n      <th>1</th>\n      <td>False</td>\n      <td>False</td>\n      <td>False</td>\n      <td>False</td>\n    </tr>\n    <tr>\n      <th>2</th>\n      <td>False</td>\n      <td>False</td>\n      <td>False</td>\n      <td>False</td>\n    </tr>\n    <tr>\n      <th>3</th>\n      <td>False</td>\n      <td>False</td>\n      <td>True</td>\n      <td>False</td>\n    </tr>\n    <tr>\n      <th>4</th>\n      <td>True</td>\n      <td>True</td>\n      <td>True</td>\n      <td>True</td>\n    </tr>\n    <tr>\n      <th>5</th>\n      <td>True</td>\n      <td>True</td>\n      <td>False</td>\n      <td>True</td>\n    </tr>\n    <tr>\n      <th>6</th>\n      <td>False</td>\n      <td>False</td>\n      <td>False</td>\n      <td>False</td>\n    </tr>\n  </tbody>\n</table>\n</div>"
     },
     "metadata": {},
     "execution_count": 66
    }
   ],
   "source": [
    "df.isna()"
   ]
  },
  {
   "cell_type": "code",
   "execution_count": 71,
   "metadata": {},
   "outputs": [
    {
     "output_type": "execute_result",
     "data": {
      "text/plain": [
       "   First     Last                    Email      Age\n",
       "0  Corey  Schafer  CoreyMSchafer@gmail.com       33\n",
       "1   Jane      Doe        JaneDoe@email.com       55\n",
       "2   John      Doe        JohnDoe@email.com       63\n",
       "3  Chris  Schafer                     None       36\n",
       "5   None      NaN      Anonymous@email.com     None\n",
       "6     NA  Missing                       NA  Missing"
      ],
      "text/html": "<div>\n<style scoped>\n    .dataframe tbody tr th:only-of-type {\n        vertical-align: middle;\n    }\n\n    .dataframe tbody tr th {\n        vertical-align: top;\n    }\n\n    .dataframe thead th {\n        text-align: right;\n    }\n</style>\n<table border=\"1\" class=\"dataframe\">\n  <thead>\n    <tr style=\"text-align: right;\">\n      <th></th>\n      <th>First</th>\n      <th>Last</th>\n      <th>Email</th>\n      <th>Age</th>\n    </tr>\n  </thead>\n  <tbody>\n    <tr>\n      <th>0</th>\n      <td>Corey</td>\n      <td>Schafer</td>\n      <td>CoreyMSchafer@gmail.com</td>\n      <td>33</td>\n    </tr>\n    <tr>\n      <th>1</th>\n      <td>Jane</td>\n      <td>Doe</td>\n      <td>JaneDoe@email.com</td>\n      <td>55</td>\n    </tr>\n    <tr>\n      <th>2</th>\n      <td>John</td>\n      <td>Doe</td>\n      <td>JohnDoe@email.com</td>\n      <td>63</td>\n    </tr>\n    <tr>\n      <th>3</th>\n      <td>Chris</td>\n      <td>Schafer</td>\n      <td>None</td>\n      <td>36</td>\n    </tr>\n    <tr>\n      <th>5</th>\n      <td>None</td>\n      <td>NaN</td>\n      <td>Anonymous@email.com</td>\n      <td>None</td>\n    </tr>\n    <tr>\n      <th>6</th>\n      <td>NA</td>\n      <td>Missing</td>\n      <td>NA</td>\n      <td>Missing</td>\n    </tr>\n  </tbody>\n</table>\n</div>"
     },
     "metadata": {},
     "execution_count": 71
    }
   ],
   "source": [
    "df[~filt]"
   ]
  },
  {
   "cell_type": "code",
   "execution_count": 72,
   "metadata": {},
   "outputs": [
    {
     "output_type": "execute_result",
     "data": {
      "text/plain": [
       "   First     Last                    Email      Age\n",
       "0  Corey  Schafer  CoreyMSchafer@gmail.com       33\n",
       "1   Jane      Doe        JaneDoe@email.com       55\n",
       "2   John      Doe        JohnDoe@email.com       63\n",
       "3  Chris  Schafer                     None       36\n",
       "4    NaN      NaN                      NaN     None\n",
       "5   None      NaN      Anonymous@email.com     None\n",
       "6     NA  Missing                       NA  Missing"
      ],
      "text/html": "<div>\n<style scoped>\n    .dataframe tbody tr th:only-of-type {\n        vertical-align: middle;\n    }\n\n    .dataframe tbody tr th {\n        vertical-align: top;\n    }\n\n    .dataframe thead th {\n        text-align: right;\n    }\n</style>\n<table border=\"1\" class=\"dataframe\">\n  <thead>\n    <tr style=\"text-align: right;\">\n      <th></th>\n      <th>First</th>\n      <th>Last</th>\n      <th>Email</th>\n      <th>Age</th>\n    </tr>\n  </thead>\n  <tbody>\n    <tr>\n      <th>0</th>\n      <td>Corey</td>\n      <td>Schafer</td>\n      <td>CoreyMSchafer@gmail.com</td>\n      <td>33</td>\n    </tr>\n    <tr>\n      <th>1</th>\n      <td>Jane</td>\n      <td>Doe</td>\n      <td>JaneDoe@email.com</td>\n      <td>55</td>\n    </tr>\n    <tr>\n      <th>2</th>\n      <td>John</td>\n      <td>Doe</td>\n      <td>JohnDoe@email.com</td>\n      <td>63</td>\n    </tr>\n    <tr>\n      <th>3</th>\n      <td>Chris</td>\n      <td>Schafer</td>\n      <td>None</td>\n      <td>36</td>\n    </tr>\n    <tr>\n      <th>4</th>\n      <td>NaN</td>\n      <td>NaN</td>\n      <td>NaN</td>\n      <td>None</td>\n    </tr>\n    <tr>\n      <th>5</th>\n      <td>None</td>\n      <td>NaN</td>\n      <td>Anonymous@email.com</td>\n      <td>None</td>\n    </tr>\n    <tr>\n      <th>6</th>\n      <td>NA</td>\n      <td>Missing</td>\n      <td>NA</td>\n      <td>Missing</td>\n    </tr>\n  </tbody>\n</table>\n</div>"
     },
     "metadata": {},
     "execution_count": 72
    }
   ],
   "source": [
    "df"
   ]
  },
  {
   "cell_type": "code",
   "execution_count": null,
   "metadata": {},
   "outputs": [],
   "source": []
  }
 ]
}
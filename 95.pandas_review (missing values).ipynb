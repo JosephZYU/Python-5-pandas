{
 "metadata": {
  "language_info": {
   "codemirror_mode": {
    "name": "ipython",
    "version": 3
   },
   "file_extension": ".py",
   "mimetype": "text/x-python",
   "name": "python",
   "nbconvert_exporter": "python",
   "pygments_lexer": "ipython3",
   "version": "3.9.0-final"
  },
  "orig_nbformat": 2,
  "kernelspec": {
   "name": "python3",
   "display_name": "Python 3",
   "language": "python"
  }
 },
 "nbformat": 4,
 "nbformat_minor": 2,
 "cells": [
  {
   "cell_type": "code",
   "execution_count": 245,
   "metadata": {},
   "outputs": [],
   "source": [
    "import pandas as pd\n",
    "import numpy as np\n",
    "import datetime as dt\n",
    "\n",
    "\n",
    "people = {\n",
    "    'first': ['Corey', 'Jane', 'John', 'Chris', np.nan, None, 'NA'], \n",
    "    'last': ['Schafer', 'Doe', 'Doe', 'Schafer', np.nan, np.nan, 'Missing'], \n",
    "    'email': ['CoreyMSchafer@gmail.com', 'JaneDoe@email.com', 'JohnDoe@email.com', None, np.nan, 'Anonymous@email.com', 'NA'],\n",
    "    'age': ['33', '55', '63', '36', None, None, 'Missing']\n",
    "}\n",
    "\n",
    "pd.set_option('display.max_columns', 100)\n",
    "pd.set_option('display.max_rows', 100)\n",
    "pd.set_option('display.max_colwidth', None)  \n",
    "\n",
    "\n",
    "pd.set_option('display.float_format', lambda x: '%.4f' % x)\n",
    "\n",
    "\n",
    "survey_source = '/Users/josephyu/Documents/GitHub/data/survey_results_public.csv'\n",
    "schema_source = '/Users/josephyu/Documents/GitHub/data/survey_results_schema.csv'\n",
    "dt_source = '/Users/josephyu/Documents/GitHub/data/ETH_1h.csv'\n",
    "\n",
    "\n",
    "df = pd.read_csv(survey_source, index_col = 'Respondent')\n",
    "schema_df = pd.read_csv(schema_source, index_col = 'Column')\n",
    "pp_df = pd.DataFrame(people)\n",
    "\n",
    "dt_df = pd.read_csv(dt_source)"
   ]
  },
  {
   "cell_type": "code",
   "execution_count": 246,
   "metadata": {},
   "outputs": [
    {
     "output_type": "execute_result",
     "data": {
      "text/plain": [
       "   first     last                    email      age\n",
       "0  Corey  Schafer  CoreyMSchafer@gmail.com       33\n",
       "1   Jane      Doe        JaneDoe@email.com       55\n",
       "2   John      Doe        JohnDoe@email.com       63\n",
       "3  Chris  Schafer                     None       36\n",
       "4    NaN      NaN                      NaN     None\n",
       "5   None      NaN      Anonymous@email.com     None\n",
       "6     NA  Missing                       NA  Missing"
      ],
      "text/html": "<div>\n<style scoped>\n    .dataframe tbody tr th:only-of-type {\n        vertical-align: middle;\n    }\n\n    .dataframe tbody tr th {\n        vertical-align: top;\n    }\n\n    .dataframe thead th {\n        text-align: right;\n    }\n</style>\n<table border=\"1\" class=\"dataframe\">\n  <thead>\n    <tr style=\"text-align: right;\">\n      <th></th>\n      <th>first</th>\n      <th>last</th>\n      <th>email</th>\n      <th>age</th>\n    </tr>\n  </thead>\n  <tbody>\n    <tr>\n      <th>0</th>\n      <td>Corey</td>\n      <td>Schafer</td>\n      <td>CoreyMSchafer@gmail.com</td>\n      <td>33</td>\n    </tr>\n    <tr>\n      <th>1</th>\n      <td>Jane</td>\n      <td>Doe</td>\n      <td>JaneDoe@email.com</td>\n      <td>55</td>\n    </tr>\n    <tr>\n      <th>2</th>\n      <td>John</td>\n      <td>Doe</td>\n      <td>JohnDoe@email.com</td>\n      <td>63</td>\n    </tr>\n    <tr>\n      <th>3</th>\n      <td>Chris</td>\n      <td>Schafer</td>\n      <td>None</td>\n      <td>36</td>\n    </tr>\n    <tr>\n      <th>4</th>\n      <td>NaN</td>\n      <td>NaN</td>\n      <td>NaN</td>\n      <td>None</td>\n    </tr>\n    <tr>\n      <th>5</th>\n      <td>None</td>\n      <td>NaN</td>\n      <td>Anonymous@email.com</td>\n      <td>None</td>\n    </tr>\n    <tr>\n      <th>6</th>\n      <td>NA</td>\n      <td>Missing</td>\n      <td>NA</td>\n      <td>Missing</td>\n    </tr>\n  </tbody>\n</table>\n</div>"
     },
     "metadata": {},
     "execution_count": 246
    }
   ],
   "source": [
    "# 🧭🧭 Two major scenarios of null (na) values\n",
    "# 1 of 2: deal with True BLANK cells: np.nan or None 处理真-空值\n",
    "# 2 of 2: deal with Fake Non-Null cells: 'NA', 'n/a', 'missing', ... (pretending in string format) 处理伪装成非空的干扰值\n",
    "\n",
    "df = pd.DataFrame(people)\n",
    "\n",
    "df"
   ]
  },
  {
   "cell_type": "code",
   "execution_count": 247,
   "metadata": {},
   "outputs": [
    {
     "output_type": "execute_result",
     "data": {
      "text/plain": [
       "        first        last                    email         age\n",
       "0       Corey     Schafer  CoreyMSchafer@gmail.com          33\n",
       "1        Jane         Doe        JaneDoe@email.com          55\n",
       "2        John         Doe        JohnDoe@email.com          63\n",
       "3       Chris     Schafer               BLANK_CELL          36\n",
       "4  BLANK_CELL  BLANK_CELL               BLANK_CELL  BLANK_CELL\n",
       "5  BLANK_CELL  BLANK_CELL      Anonymous@email.com  BLANK_CELL\n",
       "6          NA     Missing                       NA     Missing"
      ],
      "text/html": "<div>\n<style scoped>\n    .dataframe tbody tr th:only-of-type {\n        vertical-align: middle;\n    }\n\n    .dataframe tbody tr th {\n        vertical-align: top;\n    }\n\n    .dataframe thead th {\n        text-align: right;\n    }\n</style>\n<table border=\"1\" class=\"dataframe\">\n  <thead>\n    <tr style=\"text-align: right;\">\n      <th></th>\n      <th>first</th>\n      <th>last</th>\n      <th>email</th>\n      <th>age</th>\n    </tr>\n  </thead>\n  <tbody>\n    <tr>\n      <th>0</th>\n      <td>Corey</td>\n      <td>Schafer</td>\n      <td>CoreyMSchafer@gmail.com</td>\n      <td>33</td>\n    </tr>\n    <tr>\n      <th>1</th>\n      <td>Jane</td>\n      <td>Doe</td>\n      <td>JaneDoe@email.com</td>\n      <td>55</td>\n    </tr>\n    <tr>\n      <th>2</th>\n      <td>John</td>\n      <td>Doe</td>\n      <td>JohnDoe@email.com</td>\n      <td>63</td>\n    </tr>\n    <tr>\n      <th>3</th>\n      <td>Chris</td>\n      <td>Schafer</td>\n      <td>BLANK_CELL</td>\n      <td>36</td>\n    </tr>\n    <tr>\n      <th>4</th>\n      <td>BLANK_CELL</td>\n      <td>BLANK_CELL</td>\n      <td>BLANK_CELL</td>\n      <td>BLANK_CELL</td>\n    </tr>\n    <tr>\n      <th>5</th>\n      <td>BLANK_CELL</td>\n      <td>BLANK_CELL</td>\n      <td>Anonymous@email.com</td>\n      <td>BLANK_CELL</td>\n    </tr>\n    <tr>\n      <th>6</th>\n      <td>NA</td>\n      <td>Missing</td>\n      <td>NA</td>\n      <td>Missing</td>\n    </tr>\n  </tbody>\n</table>\n</div>"
     },
     "metadata": {},
     "execution_count": 247
    }
   ],
   "source": [
    "# ✅ Is there any to applymap() to all the BLANK cells E.g. replace ALL Blank Cells with certain strings\n",
    "# 🧠 df.fillna()\n",
    "\n",
    "df.fillna('BLANK_CELL')  # inplace=True"
   ]
  },
  {
   "cell_type": "code",
   "execution_count": 248,
   "metadata": {},
   "outputs": [
    {
     "output_type": "execute_result",
     "data": {
      "text/plain": [
       "   first     last                    email age\n",
       "0  Corey  Schafer  CoreyMSchafer@gmail.com  33\n",
       "1   Jane      Doe        JaneDoe@email.com  55\n",
       "2   John      Doe        JohnDoe@email.com  63\n",
       "3  Chris  Schafer                        0  36\n",
       "4      0        0                        0   0\n",
       "5      0        0      Anonymous@email.com   0\n",
       "6      1        2                        1   2"
      ],
      "text/html": "<div>\n<style scoped>\n    .dataframe tbody tr th:only-of-type {\n        vertical-align: middle;\n    }\n\n    .dataframe tbody tr th {\n        vertical-align: top;\n    }\n\n    .dataframe thead th {\n        text-align: right;\n    }\n</style>\n<table border=\"1\" class=\"dataframe\">\n  <thead>\n    <tr style=\"text-align: right;\">\n      <th></th>\n      <th>first</th>\n      <th>last</th>\n      <th>email</th>\n      <th>age</th>\n    </tr>\n  </thead>\n  <tbody>\n    <tr>\n      <th>0</th>\n      <td>Corey</td>\n      <td>Schafer</td>\n      <td>CoreyMSchafer@gmail.com</td>\n      <td>33</td>\n    </tr>\n    <tr>\n      <th>1</th>\n      <td>Jane</td>\n      <td>Doe</td>\n      <td>JaneDoe@email.com</td>\n      <td>55</td>\n    </tr>\n    <tr>\n      <th>2</th>\n      <td>John</td>\n      <td>Doe</td>\n      <td>JohnDoe@email.com</td>\n      <td>63</td>\n    </tr>\n    <tr>\n      <th>3</th>\n      <td>Chris</td>\n      <td>Schafer</td>\n      <td>0</td>\n      <td>36</td>\n    </tr>\n    <tr>\n      <th>4</th>\n      <td>0</td>\n      <td>0</td>\n      <td>0</td>\n      <td>0</td>\n    </tr>\n    <tr>\n      <th>5</th>\n      <td>0</td>\n      <td>0</td>\n      <td>Anonymous@email.com</td>\n      <td>0</td>\n    </tr>\n    <tr>\n      <th>6</th>\n      <td>1</td>\n      <td>2</td>\n      <td>1</td>\n      <td>2</td>\n    </tr>\n  </tbody>\n</table>\n</div>"
     },
     "metadata": {},
     "execution_count": 248
    }
   ],
   "source": [
    "# Test if data can be replaced with replace() method\n",
    "\n",
    "df.replace({\n",
    "    None: 0,\n",
    "    'NA': 1,\n",
    "    'Missing': 2,\n",
    "}) "
   ]
  },
  {
   "cell_type": "code",
   "execution_count": 249,
   "metadata": {},
   "outputs": [],
   "source": [
    "df.replace({\n",
    "    'NA': None,\n",
    "    'Missing': None,\n",
    "}, inplace=True) "
   ]
  },
  {
   "cell_type": "code",
   "execution_count": 250,
   "metadata": {},
   "outputs": [
    {
     "output_type": "execute_result",
     "data": {
      "text/plain": [
       "   first   last  email    age\n",
       "0  False  False  False  False\n",
       "1  False  False  False  False\n",
       "2  False  False  False  False\n",
       "3  False  False   True  False\n",
       "4   True   True   True   True\n",
       "5   True   True  False   True\n",
       "6   True   True   True   True"
      ],
      "text/html": "<div>\n<style scoped>\n    .dataframe tbody tr th:only-of-type {\n        vertical-align: middle;\n    }\n\n    .dataframe tbody tr th {\n        vertical-align: top;\n    }\n\n    .dataframe thead th {\n        text-align: right;\n    }\n</style>\n<table border=\"1\" class=\"dataframe\">\n  <thead>\n    <tr style=\"text-align: right;\">\n      <th></th>\n      <th>first</th>\n      <th>last</th>\n      <th>email</th>\n      <th>age</th>\n    </tr>\n  </thead>\n  <tbody>\n    <tr>\n      <th>0</th>\n      <td>False</td>\n      <td>False</td>\n      <td>False</td>\n      <td>False</td>\n    </tr>\n    <tr>\n      <th>1</th>\n      <td>False</td>\n      <td>False</td>\n      <td>False</td>\n      <td>False</td>\n    </tr>\n    <tr>\n      <th>2</th>\n      <td>False</td>\n      <td>False</td>\n      <td>False</td>\n      <td>False</td>\n    </tr>\n    <tr>\n      <th>3</th>\n      <td>False</td>\n      <td>False</td>\n      <td>True</td>\n      <td>False</td>\n    </tr>\n    <tr>\n      <th>4</th>\n      <td>True</td>\n      <td>True</td>\n      <td>True</td>\n      <td>True</td>\n    </tr>\n    <tr>\n      <th>5</th>\n      <td>True</td>\n      <td>True</td>\n      <td>False</td>\n      <td>True</td>\n    </tr>\n    <tr>\n      <th>6</th>\n      <td>True</td>\n      <td>True</td>\n      <td>True</td>\n      <td>True</td>\n    </tr>\n  </tbody>\n</table>\n</div>"
     },
     "metadata": {},
     "execution_count": 250
    }
   ],
   "source": [
    "df.isna()"
   ]
  },
  {
   "cell_type": "code",
   "execution_count": 251,
   "metadata": {},
   "outputs": [
    {
     "output_type": "execute_result",
     "data": {
      "text/plain": [
       "   first     last                    email   age\n",
       "0  Corey  Schafer  CoreyMSchafer@gmail.com    33\n",
       "1   Jane      Doe        JaneDoe@email.com    55\n",
       "2   John      Doe        JohnDoe@email.com    63\n",
       "3  Chris  Schafer                     None    36\n",
       "4    NaN      NaN                      NaN  None\n",
       "5   None      NaN      Anonymous@email.com  None\n",
       "6   None     None                     None  None"
      ],
      "text/html": "<div>\n<style scoped>\n    .dataframe tbody tr th:only-of-type {\n        vertical-align: middle;\n    }\n\n    .dataframe tbody tr th {\n        vertical-align: top;\n    }\n\n    .dataframe thead th {\n        text-align: right;\n    }\n</style>\n<table border=\"1\" class=\"dataframe\">\n  <thead>\n    <tr style=\"text-align: right;\">\n      <th></th>\n      <th>first</th>\n      <th>last</th>\n      <th>email</th>\n      <th>age</th>\n    </tr>\n  </thead>\n  <tbody>\n    <tr>\n      <th>0</th>\n      <td>Corey</td>\n      <td>Schafer</td>\n      <td>CoreyMSchafer@gmail.com</td>\n      <td>33</td>\n    </tr>\n    <tr>\n      <th>1</th>\n      <td>Jane</td>\n      <td>Doe</td>\n      <td>JaneDoe@email.com</td>\n      <td>55</td>\n    </tr>\n    <tr>\n      <th>2</th>\n      <td>John</td>\n      <td>Doe</td>\n      <td>JohnDoe@email.com</td>\n      <td>63</td>\n    </tr>\n    <tr>\n      <th>3</th>\n      <td>Chris</td>\n      <td>Schafer</td>\n      <td>None</td>\n      <td>36</td>\n    </tr>\n    <tr>\n      <th>4</th>\n      <td>NaN</td>\n      <td>NaN</td>\n      <td>NaN</td>\n      <td>None</td>\n    </tr>\n    <tr>\n      <th>5</th>\n      <td>None</td>\n      <td>NaN</td>\n      <td>Anonymous@email.com</td>\n      <td>None</td>\n    </tr>\n    <tr>\n      <th>6</th>\n      <td>None</td>\n      <td>None</td>\n      <td>None</td>\n      <td>None</td>\n    </tr>\n  </tbody>\n</table>\n</div>"
     },
     "metadata": {},
     "execution_count": 251
    }
   ],
   "source": [
    "df"
   ]
  },
  {
   "cell_type": "code",
   "execution_count": 252,
   "metadata": {},
   "outputs": [
    {
     "output_type": "execute_result",
     "data": {
      "text/plain": [
       "   first     last                    email   age\n",
       "0  Corey  Schafer  CoreyMSchafer@gmail.com    33\n",
       "1   Jane      Doe        JaneDoe@email.com    55\n",
       "2   John      Doe        JohnDoe@email.com    63\n",
       "3  Chris  Schafer                     None    36\n",
       "5   None      NaN      Anonymous@email.com  None"
      ],
      "text/html": "<div>\n<style scoped>\n    .dataframe tbody tr th:only-of-type {\n        vertical-align: middle;\n    }\n\n    .dataframe tbody tr th {\n        vertical-align: top;\n    }\n\n    .dataframe thead th {\n        text-align: right;\n    }\n</style>\n<table border=\"1\" class=\"dataframe\">\n  <thead>\n    <tr style=\"text-align: right;\">\n      <th></th>\n      <th>first</th>\n      <th>last</th>\n      <th>email</th>\n      <th>age</th>\n    </tr>\n  </thead>\n  <tbody>\n    <tr>\n      <th>0</th>\n      <td>Corey</td>\n      <td>Schafer</td>\n      <td>CoreyMSchafer@gmail.com</td>\n      <td>33</td>\n    </tr>\n    <tr>\n      <th>1</th>\n      <td>Jane</td>\n      <td>Doe</td>\n      <td>JaneDoe@email.com</td>\n      <td>55</td>\n    </tr>\n    <tr>\n      <th>2</th>\n      <td>John</td>\n      <td>Doe</td>\n      <td>JohnDoe@email.com</td>\n      <td>63</td>\n    </tr>\n    <tr>\n      <th>3</th>\n      <td>Chris</td>\n      <td>Schafer</td>\n      <td>None</td>\n      <td>36</td>\n    </tr>\n    <tr>\n      <th>5</th>\n      <td>None</td>\n      <td>NaN</td>\n      <td>Anonymous@email.com</td>\n      <td>None</td>\n    </tr>\n  </tbody>\n</table>\n</div>"
     },
     "metadata": {},
     "execution_count": 252
    }
   ],
   "source": [
    "# 🧠 df.dropna(axis=, subset=, how=, )\n",
    "\n",
    "df.dropna(\n",
    "    axis=0, \n",
    "    subset=['first', 'last', 'email'],\n",
    "    how='all',\n",
    "    inplace=True\n",
    "    )\n",
    "\n",
    "df"
   ]
  },
  {
   "cell_type": "code",
   "execution_count": 253,
   "metadata": {},
   "outputs": [],
   "source": [
    "# NOTE: type(np.nan) == float astype(float) is the best solution by far! astype(float)为最佳目前为止选择\n",
    "# 🧠 df[col].astype(float) 200\n",
    "\n",
    "df['age'] = df['age'].astype(float)"
   ]
  },
  {
   "cell_type": "code",
   "execution_count": 254,
   "metadata": {},
   "outputs": [
    {
     "output_type": "stream",
     "name": "stdout",
     "text": [
      "<class 'pandas.core.frame.DataFrame'>\nInt64Index: 5 entries, 0 to 5\nData columns (total 4 columns):\n #   Column  Non-Null Count  Dtype  \n---  ------  --------------  -----  \n 0   first   4 non-null      object \n 1   last    4 non-null      object \n 2   email   4 non-null      object \n 3   age     4 non-null      float64\ndtypes: float64(1), object(3)\nmemory usage: 200.0+ bytes\n"
     ]
    }
   ],
   "source": [
    "df.info()"
   ]
  },
  {
   "cell_type": "code",
   "execution_count": 256,
   "metadata": {},
   "outputs": [
    {
     "output_type": "execute_result",
     "data": {
      "text/plain": [
       "                                        MainBranch Hobbyist OpenSourcer  \\\n",
       "Respondent                                                                \n",
       "1           I am a student who is learning to code      Yes       Never   \n",
       "\n",
       "                                                                 OpenSource  \\\n",
       "Respondent                                                                    \n",
       "1           The quality of OSS and closed source software is about the same   \n",
       "\n",
       "                                        Employment         Country Student  \\\n",
       "Respondent                                                                   \n",
       "1           Not employed, and not looking for work  United Kingdom      No   \n",
       "\n",
       "                              EdLevel UndergradMajor  \\\n",
       "Respondent                                             \n",
       "1           Primary/elementary school            NaN   \n",
       "\n",
       "                                                                                     EduOther  \\\n",
       "Respondent                                                                                      \n",
       "1           Taught yourself a new language, framework, or tool without taking a formal course   \n",
       "\n",
       "           OrgSize DevType YearsCode Age1stCode YearsCodePro CareerSat JobSat  \\\n",
       "Respondent                                                                      \n",
       "1              NaN     NaN         4         10          NaN       NaN    NaN   \n",
       "\n",
       "           MgrIdiot MgrMoney MgrWant JobSeek LastHireDate LastInt FizzBuzz  \\\n",
       "Respondent                                                                   \n",
       "1               NaN      NaN     NaN     NaN          NaN     NaN      NaN   \n",
       "\n",
       "           JobFactors ResumeUpdate CurrencySymbol CurrencyDesc  CompTotal  \\\n",
       "Respondent                                                                  \n",
       "1                 NaN          NaN            NaN          NaN        NaN   \n",
       "\n",
       "           CompFreq  ConvertedComp  WorkWeekHrs WorkPlan WorkChallenge  \\\n",
       "Respondent                                                               \n",
       "1               NaN            NaN          NaN      NaN           NaN   \n",
       "\n",
       "           WorkRemote WorkLoc ImpSyn CodeRev  CodeRevHrs UnitTests  \\\n",
       "Respondent                                                           \n",
       "1                 NaN     NaN    NaN     NaN         NaN       NaN   \n",
       "\n",
       "           PurchaseHow PurchaseWhat               LanguageWorkedWith  \\\n",
       "Respondent                                                             \n",
       "1                  NaN          NaN  HTML/CSS;Java;JavaScript;Python   \n",
       "\n",
       "                                     LanguageDesireNextYear  \\\n",
       "Respondent                                                    \n",
       "1           C;C++;C#;Go;HTML/CSS;Java;JavaScript;Python;SQL   \n",
       "\n",
       "           DatabaseWorkedWith DatabaseDesireNextYear PlatformWorkedWith  \\\n",
       "Respondent                                                                \n",
       "1                      SQLite                  MySQL      MacOS;Windows   \n",
       "\n",
       "             PlatformDesireNextYear WebFrameWorkedWith WebFrameDesireNextYear  \\\n",
       "Respondent                                                                      \n",
       "1           Android;Arduino;Windows       Django;Flask           Flask;jQuery   \n",
       "\n",
       "           MiscTechWorkedWith MiscTechDesireNextYear  \\\n",
       "Respondent                                             \n",
       "1                     Node.js                Node.js   \n",
       "\n",
       "                            DevEnviron    OpSys               Containers  \\\n",
       "Respondent                                                                 \n",
       "1           IntelliJ;Notepad++;PyCharm  Windows  I do not use containers   \n",
       "\n",
       "           BlockchainOrg BlockchainIs BetterLife  \\\n",
       "Respondent                                         \n",
       "1                    NaN          NaN        Yes   \n",
       "\n",
       "                                            ITperson OffOn SocialMedia  \\\n",
       "Respondent                                                               \n",
       "1           Fortunately, someone else has that title   Yes     Twitter   \n",
       "\n",
       "           Extraversion ScreenName SOVisit1st  \\\n",
       "Respondent                                      \n",
       "1                Online   Username       2017   \n",
       "\n",
       "                                SOVisitFreq  \\\n",
       "Respondent                                    \n",
       "1           A few times per month or weekly   \n",
       "\n",
       "                                                                                          SOVisitTo  \\\n",
       "Respondent                                                                                            \n",
       "1           Find answers to specific questions;Learn how to do things I didn’t necessarily look for   \n",
       "\n",
       "                  SOFindAnswer                     SOTimeSaved  SOHowMuchTime  \\\n",
       "Respondent                                                                      \n",
       "1           3-5 times per week  Stack Overflow was much faster  31-60 minutes   \n",
       "\n",
       "           SOAccount SOPartFreq  \\\n",
       "Respondent                        \n",
       "1                 No        NaN   \n",
       "\n",
       "                                                           SOJobs  \\\n",
       "Respondent                                                          \n",
       "1           No, I didn't know that Stack Overflow had a job board   \n",
       "\n",
       "                                       EntTeams   SOComm  \\\n",
       "Respondent                                                 \n",
       "1           No, and I don't know what those are  Neutral   \n",
       "\n",
       "                                      WelcomeChange  \\\n",
       "Respondent                                            \n",
       "1           Just as welcome now as I felt last year   \n",
       "\n",
       "                                                                                                                                            SONewContent  \\\n",
       "Respondent                                                                                                                                                 \n",
       "1           Tech articles written by other developers;Industry news about technologies you're interested in;Courses on technologies you're interested in   \n",
       "\n",
       "               Age Gender Trans                Sexuality Ethnicity Dependents  \\\n",
       "Respondent                                                                      \n",
       "1          14.0000    Man    No  Straight / Heterosexual       NaN         No   \n",
       "\n",
       "                     SurveyLength                  SurveyEase  \n",
       "Respondent                                                     \n",
       "1           Appropriate in length  Neither easy nor difficult  "
      ],
      "text/html": "<div>\n<style scoped>\n    .dataframe tbody tr th:only-of-type {\n        vertical-align: middle;\n    }\n\n    .dataframe tbody tr th {\n        vertical-align: top;\n    }\n\n    .dataframe thead th {\n        text-align: right;\n    }\n</style>\n<table border=\"1\" class=\"dataframe\">\n  <thead>\n    <tr style=\"text-align: right;\">\n      <th></th>\n      <th>MainBranch</th>\n      <th>Hobbyist</th>\n      <th>OpenSourcer</th>\n      <th>OpenSource</th>\n      <th>Employment</th>\n      <th>Country</th>\n      <th>Student</th>\n      <th>EdLevel</th>\n      <th>UndergradMajor</th>\n      <th>EduOther</th>\n      <th>OrgSize</th>\n      <th>DevType</th>\n      <th>YearsCode</th>\n      <th>Age1stCode</th>\n      <th>YearsCodePro</th>\n      <th>CareerSat</th>\n      <th>JobSat</th>\n      <th>MgrIdiot</th>\n      <th>MgrMoney</th>\n      <th>MgrWant</th>\n      <th>JobSeek</th>\n      <th>LastHireDate</th>\n      <th>LastInt</th>\n      <th>FizzBuzz</th>\n      <th>JobFactors</th>\n      <th>ResumeUpdate</th>\n      <th>CurrencySymbol</th>\n      <th>CurrencyDesc</th>\n      <th>CompTotal</th>\n      <th>CompFreq</th>\n      <th>ConvertedComp</th>\n      <th>WorkWeekHrs</th>\n      <th>WorkPlan</th>\n      <th>WorkChallenge</th>\n      <th>WorkRemote</th>\n      <th>WorkLoc</th>\n      <th>ImpSyn</th>\n      <th>CodeRev</th>\n      <th>CodeRevHrs</th>\n      <th>UnitTests</th>\n      <th>PurchaseHow</th>\n      <th>PurchaseWhat</th>\n      <th>LanguageWorkedWith</th>\n      <th>LanguageDesireNextYear</th>\n      <th>DatabaseWorkedWith</th>\n      <th>DatabaseDesireNextYear</th>\n      <th>PlatformWorkedWith</th>\n      <th>PlatformDesireNextYear</th>\n      <th>WebFrameWorkedWith</th>\n      <th>WebFrameDesireNextYear</th>\n      <th>MiscTechWorkedWith</th>\n      <th>MiscTechDesireNextYear</th>\n      <th>DevEnviron</th>\n      <th>OpSys</th>\n      <th>Containers</th>\n      <th>BlockchainOrg</th>\n      <th>BlockchainIs</th>\n      <th>BetterLife</th>\n      <th>ITperson</th>\n      <th>OffOn</th>\n      <th>SocialMedia</th>\n      <th>Extraversion</th>\n      <th>ScreenName</th>\n      <th>SOVisit1st</th>\n      <th>SOVisitFreq</th>\n      <th>SOVisitTo</th>\n      <th>SOFindAnswer</th>\n      <th>SOTimeSaved</th>\n      <th>SOHowMuchTime</th>\n      <th>SOAccount</th>\n      <th>SOPartFreq</th>\n      <th>SOJobs</th>\n      <th>EntTeams</th>\n      <th>SOComm</th>\n      <th>WelcomeChange</th>\n      <th>SONewContent</th>\n      <th>Age</th>\n      <th>Gender</th>\n      <th>Trans</th>\n      <th>Sexuality</th>\n      <th>Ethnicity</th>\n      <th>Dependents</th>\n      <th>SurveyLength</th>\n      <th>SurveyEase</th>\n    </tr>\n    <tr>\n      <th>Respondent</th>\n      <th></th>\n      <th></th>\n      <th></th>\n      <th></th>\n      <th></th>\n      <th></th>\n      <th></th>\n      <th></th>\n      <th></th>\n      <th></th>\n      <th></th>\n      <th></th>\n      <th></th>\n      <th></th>\n      <th></th>\n      <th></th>\n      <th></th>\n      <th></th>\n      <th></th>\n      <th></th>\n      <th></th>\n      <th></th>\n      <th></th>\n      <th></th>\n      <th></th>\n      <th></th>\n      <th></th>\n      <th></th>\n      <th></th>\n      <th></th>\n      <th></th>\n      <th></th>\n      <th></th>\n      <th></th>\n      <th></th>\n      <th></th>\n      <th></th>\n      <th></th>\n      <th></th>\n      <th></th>\n      <th></th>\n      <th></th>\n      <th></th>\n      <th></th>\n      <th></th>\n      <th></th>\n      <th></th>\n      <th></th>\n      <th></th>\n      <th></th>\n      <th></th>\n      <th></th>\n      <th></th>\n      <th></th>\n      <th></th>\n      <th></th>\n      <th></th>\n      <th></th>\n      <th></th>\n      <th></th>\n      <th></th>\n      <th></th>\n      <th></th>\n      <th></th>\n      <th></th>\n      <th></th>\n      <th></th>\n      <th></th>\n      <th></th>\n      <th></th>\n      <th></th>\n      <th></th>\n      <th></th>\n      <th></th>\n      <th></th>\n      <th></th>\n      <th></th>\n      <th></th>\n      <th></th>\n      <th></th>\n      <th></th>\n      <th></th>\n      <th></th>\n      <th></th>\n    </tr>\n  </thead>\n  <tbody>\n    <tr>\n      <th>1</th>\n      <td>I am a student who is learning to code</td>\n      <td>Yes</td>\n      <td>Never</td>\n      <td>The quality of OSS and closed source software is about the same</td>\n      <td>Not employed, and not looking for work</td>\n      <td>United Kingdom</td>\n      <td>No</td>\n      <td>Primary/elementary school</td>\n      <td>NaN</td>\n      <td>Taught yourself a new language, framework, or tool without taking a formal course</td>\n      <td>NaN</td>\n      <td>NaN</td>\n      <td>4</td>\n      <td>10</td>\n      <td>NaN</td>\n      <td>NaN</td>\n      <td>NaN</td>\n      <td>NaN</td>\n      <td>NaN</td>\n      <td>NaN</td>\n      <td>NaN</td>\n      <td>NaN</td>\n      <td>NaN</td>\n      <td>NaN</td>\n      <td>NaN</td>\n      <td>NaN</td>\n      <td>NaN</td>\n      <td>NaN</td>\n      <td>NaN</td>\n      <td>NaN</td>\n      <td>NaN</td>\n      <td>NaN</td>\n      <td>NaN</td>\n      <td>NaN</td>\n      <td>NaN</td>\n      <td>NaN</td>\n      <td>NaN</td>\n      <td>NaN</td>\n      <td>NaN</td>\n      <td>NaN</td>\n      <td>NaN</td>\n      <td>NaN</td>\n      <td>HTML/CSS;Java;JavaScript;Python</td>\n      <td>C;C++;C#;Go;HTML/CSS;Java;JavaScript;Python;SQL</td>\n      <td>SQLite</td>\n      <td>MySQL</td>\n      <td>MacOS;Windows</td>\n      <td>Android;Arduino;Windows</td>\n      <td>Django;Flask</td>\n      <td>Flask;jQuery</td>\n      <td>Node.js</td>\n      <td>Node.js</td>\n      <td>IntelliJ;Notepad++;PyCharm</td>\n      <td>Windows</td>\n      <td>I do not use containers</td>\n      <td>NaN</td>\n      <td>NaN</td>\n      <td>Yes</td>\n      <td>Fortunately, someone else has that title</td>\n      <td>Yes</td>\n      <td>Twitter</td>\n      <td>Online</td>\n      <td>Username</td>\n      <td>2017</td>\n      <td>A few times per month or weekly</td>\n      <td>Find answers to specific questions;Learn how to do things I didn’t necessarily look for</td>\n      <td>3-5 times per week</td>\n      <td>Stack Overflow was much faster</td>\n      <td>31-60 minutes</td>\n      <td>No</td>\n      <td>NaN</td>\n      <td>No, I didn't know that Stack Overflow had a job board</td>\n      <td>No, and I don't know what those are</td>\n      <td>Neutral</td>\n      <td>Just as welcome now as I felt last year</td>\n      <td>Tech articles written by other developers;Industry news about technologies you're interested in;Courses on technologies you're interested in</td>\n      <td>14.0000</td>\n      <td>Man</td>\n      <td>No</td>\n      <td>Straight / Heterosexual</td>\n      <td>NaN</td>\n      <td>No</td>\n      <td>Appropriate in length</td>\n      <td>Neither easy nor difficult</td>\n    </tr>\n  </tbody>\n</table>\n</div>"
     },
     "metadata": {},
     "execution_count": 256
    }
   ],
   "source": [
    "df = pd.read_csv(survey_source, index_col = 'Respondent')\n",
    "\n",
    "df.head(1)"
   ]
  },
  {
   "cell_type": "code",
   "execution_count": 284,
   "metadata": {},
   "outputs": [
    {
     "output_type": "stream",
     "name": "stdout",
     "text": [
      "MainBranch False\n",
      "Hobbyist False\n",
      "OpenSourcer False\n",
      "OpenSource False\n",
      "Employment False\n",
      "Country False\n",
      "Student False\n",
      "EdLevel False\n",
      "UndergradMajor False\n",
      "EduOther False\n",
      "OrgSize False\n",
      "DevType False\n",
      "YearsCode False\n",
      "Age1stCode False\n",
      "YearsCodePro False\n",
      "CareerSat False\n",
      "JobSat False\n",
      "MgrIdiot False\n",
      "MgrMoney False\n",
      "MgrWant False\n",
      "JobSeek False\n",
      "LastHireDate True\n",
      "LastInt False\n",
      "FizzBuzz False\n",
      "JobFactors False\n",
      "ResumeUpdate False\n",
      "CurrencySymbol False\n",
      "CurrencyDesc False\n",
      "CompFreq False\n",
      "WorkPlan False\n",
      "WorkChallenge False\n",
      "WorkRemote False\n",
      "WorkLoc False\n",
      "ImpSyn False\n",
      "CodeRev False\n",
      "UnitTests False\n",
      "PurchaseHow False\n",
      "PurchaseWhat False\n",
      "LanguageWorkedWith False\n",
      "LanguageDesireNextYear False\n",
      "DatabaseWorkedWith False\n",
      "DatabaseDesireNextYear False\n",
      "PlatformWorkedWith False\n",
      "PlatformDesireNextYear False\n",
      "WebFrameWorkedWith False\n",
      "WebFrameDesireNextYear False\n",
      "MiscTechWorkedWith False\n",
      "MiscTechDesireNextYear False\n",
      "DevEnviron False\n",
      "OpSys False\n",
      "Containers False\n",
      "BlockchainOrg False\n",
      "BlockchainIs False\n",
      "BetterLife False\n",
      "ITperson False\n",
      "OffOn False\n",
      "SocialMedia False\n",
      "Extraversion False\n",
      "ScreenName False\n",
      "SOVisit1st False\n",
      "SOVisitFreq False\n",
      "SOVisitTo False\n",
      "SOFindAnswer False\n",
      "SOTimeSaved False\n",
      "SOHowMuchTime False\n",
      "SOAccount False\n",
      "SOPartFreq False\n",
      "SOJobs False\n",
      "EntTeams False\n",
      "SOComm False\n",
      "WelcomeChange False\n",
      "SONewContent False\n",
      "Gender False\n",
      "Trans False\n",
      "Sexuality False\n",
      "Ethnicity False\n",
      "Dependents False\n",
      "SurveyLength False\n",
      "SurveyEase False\n"
     ]
    }
   ],
   "source": [
    "# TODO: scan the entire the DF for string E.g. 'NA', 'Missing'\n",
    "\n",
    "# 'NA' -> LastHireDate True\n",
    "# 🧠 df[].str.contains().any() -> contsin().any()\n",
    "\n",
    "for col in df.select_dtypes(include=object).columns:\n",
    "    print(col, df[col].str.contains('NA').any())"
   ]
  },
  {
   "cell_type": "code",
   "execution_count": 285,
   "metadata": {},
   "outputs": [],
   "source": [
    "# Create \"potential\" list of na values to replace strings\n",
    "\n",
    "na_val_li = ['NA', 'N.A.', 'N/A', 'na', 'n.a', 'n/a', 'NaN', 'MISSING', 'Missing', 'missing']\n",
    "\n",
    "df = pd.read_csv(survey_source, index_col = 'Respondent', na_values=na_val_li)"
   ]
  },
  {
   "cell_type": "code",
   "execution_count": 293,
   "metadata": {},
   "outputs": [
    {
     "output_type": "execute_result",
     "data": {
      "text/plain": [
       "Hobbyist                 0.0000\n",
       "OpenSourcer              0.0000\n",
       "Country                  0.0015\n",
       "MainBranch               0.0062\n",
       "SOVisitFreq              0.0070\n",
       "SOComm                   0.0085\n",
       "SOVisitTo                0.0090\n",
       "SOJobs                   0.0092\n",
       "YearsCode                0.0106\n",
       "OpSys                    0.0116\n",
       "EntTeams                 0.0117\n",
       "SOAccount                0.0119\n",
       "SOFindAnswer             0.0120\n",
       "Age1stCode               0.0141\n",
       "LanguageWorkedWith       0.0148\n",
       "DevEnviron               0.0176\n",
       "Extraversion             0.0178\n",
       "Employment               0.0191\n",
       "ITperson                 0.0196\n",
       "SurveyEase               0.0203\n",
       "Student                  0.0210\n",
       "SurveyLength             0.0214\n",
       "OpenSource               0.0230\n",
       "OffOn                    0.0250\n",
       "EdLevel                  0.0280\n",
       "SOTimeSaved              0.0286\n",
       "BetterLife               0.0294\n",
       "WelcomeChange            0.0341\n",
       "Gender                   0.0391\n",
       "Containers               0.0396\n",
       "SocialMedia              0.0500\n",
       "EduOther                 0.0520\n",
       "LanguageDesireNextYear   0.0539\n",
       "SOVisit1st               0.0563\n",
       "Trans                    0.0594\n",
       "Dependents               0.0655\n",
       "DevType                  0.0849\n",
       "PlatformWorkedWith       0.0919\n",
       "JobSeek                  0.0937\n",
       "ScreenName               0.0945\n",
       "LastHireDate             0.1016\n",
       "JobFactors               0.1070\n",
       "ResumeUpdate             0.1238\n",
       "PlatformDesireNextYear   0.1287\n",
       "Ethnicity                0.1374\n",
       "Sexuality                0.1433\n",
       "DatabaseWorkedWith       0.1447\n",
       "UndergradMajor           0.1493\n",
       "SOPartFreq               0.1597\n",
       "YearsCodePro             0.1637\n",
       "CareerSat                0.1804\n",
       "OrgSize                  0.1923\n",
       "ImpSyn                   0.1924\n",
       "CurrencySymbol           0.1968\n",
       "CurrencyDesc             0.1968\n",
       "FizzBuzz                 0.1973\n",
       "JobSat                   0.2013\n",
       "CodeRev                  0.2081\n",
       "WorkRemote               0.2093\n",
       "WorkLoc                  0.2118\n",
       "SONewContent             0.2174\n",
       "DatabaseDesireNextYear   0.2220\n",
       "WorkPlan                 0.2247\n",
       "SOHowMuchTime            0.2307\n",
       "WorkChallenge            0.2334\n",
       "LastInt                  0.2445\n",
       "WebFrameWorkedWith       0.2685\n",
       "MiscTechDesireNextYear   0.2742\n",
       "CompFreq                 0.2882\n",
       "WebFrameDesireNextYear   0.2918\n",
       "UnitTests                0.2949\n",
       "PurchaseWhat             0.3021\n",
       "MgrWant                  0.3111\n",
       "MgrIdiot                 0.3119\n",
       "MgrMoney                 0.3119\n",
       "PurchaseHow              0.3125\n",
       "BlockchainIs             0.3231\n",
       "MiscTechWorkedWith       0.3296\n",
       "BlockchainOrg            0.4580\n",
       "dtype: float64"
      ]
     },
     "metadata": {},
     "execution_count": 293
    }
   ],
   "source": [
    "df.select_dtypes(include=object).isna().mean().sort_values()"
   ]
  },
  {
   "cell_type": "code",
   "execution_count": 295,
   "metadata": {},
   "outputs": [
    {
     "output_type": "execute_result",
     "data": {
      "text/plain": [
       "Age             0.1088\n",
       "WorkWeekHrs     0.2743\n",
       "CompTotal       0.3706\n",
       "ConvertedComp   0.3719\n",
       "CodeRevHrs      0.4398\n",
       "dtype: float64"
      ]
     },
     "metadata": {},
     "execution_count": 295
    }
   ],
   "source": [
    "df.select_dtypes(include=np.number).isna().mean().sort_values()"
   ]
  },
  {
   "cell_type": "code",
   "execution_count": 305,
   "metadata": {},
   "outputs": [
    {
     "output_type": "execute_result",
     "data": {
      "text/plain": [
       "945"
      ]
     },
     "metadata": {},
     "execution_count": 305
    }
   ],
   "source": [
    "df['YearsCode'].isna().sum()"
   ]
  },
  {
   "cell_type": "code",
   "execution_count": 304,
   "metadata": {},
   "outputs": [
    {
     "output_type": "execute_result",
     "data": {
      "text/plain": [
       "Respondent\n",
       "2        NaN\n",
       "226      NaN\n",
       "287      NaN\n",
       "535      NaN\n",
       "601      NaN\n",
       "        ... \n",
       "88076    NaN\n",
       "88377    NaN\n",
       "88601    NaN\n",
       "88802    NaN\n",
       "88816    NaN\n",
       "Name: YearsCode, Length: 945, dtype: object"
      ]
     },
     "metadata": {},
     "execution_count": 304
    }
   ],
   "source": [
    "df[df['YearsCode'].isna()]['YearsCode']#.unique()"
   ]
  },
  {
   "cell_type": "code",
   "execution_count": 324,
   "metadata": {},
   "outputs": [
    {
     "output_type": "execute_result",
     "data": {
      "text/plain": [
       "count   86445.0000\n",
       "mean       11.7892\n",
       "std         8.9888\n",
       "min         1.0000\n",
       "25%         5.0000\n",
       "50%         9.0000\n",
       "75%        16.0000\n",
       "max        50.0000\n",
       "Name: YearsCode, dtype: float64"
      ]
     },
     "metadata": {},
     "execution_count": 324
    }
   ],
   "source": [
    "# df['YearsCode'].value_counts()\n",
    "\n",
    "# Less than 1 year:0\n",
    "# More than 50 years:51\n",
    "\n",
    "df['YearsCode'].replace({\n",
    "                        'Less than 1 year': None,\n",
    "                        'More than 50 years': None,\n",
    "                        }).astype(float).describe()"
   ]
  },
  {
   "cell_type": "code",
   "execution_count": 325,
   "metadata": {},
   "outputs": [
    {
     "output_type": "execute_result",
     "data": {
      "text/plain": [
       "count   87938.0000\n",
       "mean       11.6621\n",
       "std         9.1528\n",
       "min         0.0000\n",
       "25%         5.0000\n",
       "50%         9.0000\n",
       "75%        15.0000\n",
       "max        51.0000\n",
       "Name: YearsCode, dtype: float64"
      ]
     },
     "metadata": {},
     "execution_count": 325
    }
   ],
   "source": [
    "df['YearsCode'].replace({\n",
    "                        'Less than 1 year': 0,\n",
    "                        'More than 50 years': 51,\n",
    "                        }).astype(float).describe()"
   ]
  },
  {
   "cell_type": "code",
   "execution_count": null,
   "metadata": {},
   "outputs": [],
   "source": []
  }
 ]
}
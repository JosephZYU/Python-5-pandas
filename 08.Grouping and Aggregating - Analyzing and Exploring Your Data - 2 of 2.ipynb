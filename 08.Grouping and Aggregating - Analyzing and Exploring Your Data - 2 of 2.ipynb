{
 "metadata": {
  "language_info": {
   "codemirror_mode": {
    "name": "ipython",
    "version": 3
   },
   "file_extension": ".py",
   "mimetype": "text/x-python",
   "name": "python",
   "nbconvert_exporter": "python",
   "pygments_lexer": "ipython3",
   "version": "3.9.0-final"
  },
  "orig_nbformat": 2,
  "kernelspec": {
   "name": "python3",
   "display_name": "Python 3",
   "language": "python"
  }
 },
 "nbformat": 4,
 "nbformat_minor": 2,
 "cells": [
  {
   "cell_type": "code",
   "execution_count": 17,
   "metadata": {},
   "outputs": [],
   "source": [
    "# Ref - concat - concatination\n",
    "# https://youtu.be/txMdrV1Ut64?t=2131\n",
    "\n",
    "import pandas as pd\n",
    "\n",
    "pd.set_option('display.max_columns', 100)\n",
    "pd.set_option('display.max_rows', 100)\n",
    "\n",
    "survey_source = '/Users/josephyu/Documents/GitHub/data/survey_results_public.csv'\n",
    "schema_source = '/Users/josephyu/Documents/GitHub/data/survey_results_schema.csv'\n",
    "\n",
    "df = pd.read_csv(survey_source)  # index_col = 'Respondent'\n",
    "schema_df = pd.read_csv(schema_source, index_col = 'Column')"
   ]
  },
  {
   "cell_type": "code",
   "execution_count": 18,
   "metadata": {},
   "outputs": [
    {
     "output_type": "execute_result",
     "data": {
      "text/plain": [
       "Country\n",
       "Afghanistan                              8\n",
       "Albania                                 23\n",
       "Algeria                                 40\n",
       "Andorra                                  0\n",
       "Angola                                   2\n",
       "                                        ..\n",
       "Venezuela, Bolivarian Republic of...    28\n",
       "Viet Nam                                78\n",
       "Yemen                                    3\n",
       "Zambia                                   4\n",
       "Zimbabwe                                14\n",
       "Name: LanguageWorkedWith, Length: 179, dtype: int64"
      ]
     },
     "metadata": {},
     "execution_count": 18
    }
   ],
   "source": [
    "# Create numerator\n",
    "\n",
    "_num = df.groupby('Country')['LanguageWorkedWith'].apply(lambda x: x.str.contains('Python').sum())\n",
    "_num"
   ]
  },
  {
   "cell_type": "code",
   "execution_count": 19,
   "metadata": {},
   "outputs": [
    {
     "output_type": "execute_result",
     "data": {
      "text/plain": [
       "Country\n",
       "Afghanistan                              39\n",
       "Albania                                  83\n",
       "Algeria                                 126\n",
       "Andorra                                   7\n",
       "Angola                                    4\n",
       "                                       ... \n",
       "Venezuela, Bolivarian Republic of...     87\n",
       "Viet Nam                                220\n",
       "Yemen                                    17\n",
       "Zambia                                   12\n",
       "Zimbabwe                                 39\n",
       "Name: LanguageWorkedWith, Length: 179, dtype: int64"
      ]
     },
     "metadata": {},
     "execution_count": 19
    }
   ],
   "source": [
    "# # Create denominator\n",
    "_deno = df.groupby('Country')['LanguageWorkedWith'].count()\n",
    "_deno"
   ]
  },
  {
   "cell_type": "code",
   "execution_count": 20,
   "metadata": {},
   "outputs": [
    {
     "output_type": "stream",
     "name": "stdout",
     "text": [
      "<class 'pandas.core.series.Series'>\n<class 'pandas.core.series.Series'>\n"
     ]
    }
   ],
   "source": [
    "print(type(_num))\n",
    "print(type(_deno))"
   ]
  },
  {
   "cell_type": "code",
   "execution_count": 22,
   "metadata": {},
   "outputs": [
    {
     "output_type": "execute_result",
     "data": {
      "text/plain": [
       "                                      LanguageWorkedWith  LanguageWorkedWith\n",
       "Country                                                                     \n",
       "Afghanistan                                            8                  39\n",
       "Albania                                               23                  83\n",
       "Algeria                                               40                 126\n",
       "Andorra                                                0                   7\n",
       "Angola                                                 2                   4\n",
       "...                                                  ...                 ...\n",
       "Venezuela, Bolivarian Republic of...                  28                  87\n",
       "Viet Nam                                              78                 220\n",
       "Yemen                                                  3                  17\n",
       "Zambia                                                 4                  12\n",
       "Zimbabwe                                              14                  39\n",
       "\n",
       "[179 rows x 2 columns]"
      ],
      "text/html": "<div>\n<style scoped>\n    .dataframe tbody tr th:only-of-type {\n        vertical-align: middle;\n    }\n\n    .dataframe tbody tr th {\n        vertical-align: top;\n    }\n\n    .dataframe thead th {\n        text-align: right;\n    }\n</style>\n<table border=\"1\" class=\"dataframe\">\n  <thead>\n    <tr style=\"text-align: right;\">\n      <th></th>\n      <th>LanguageWorkedWith</th>\n      <th>LanguageWorkedWith</th>\n    </tr>\n    <tr>\n      <th>Country</th>\n      <th></th>\n      <th></th>\n    </tr>\n  </thead>\n  <tbody>\n    <tr>\n      <th>Afghanistan</th>\n      <td>8</td>\n      <td>39</td>\n    </tr>\n    <tr>\n      <th>Albania</th>\n      <td>23</td>\n      <td>83</td>\n    </tr>\n    <tr>\n      <th>Algeria</th>\n      <td>40</td>\n      <td>126</td>\n    </tr>\n    <tr>\n      <th>Andorra</th>\n      <td>0</td>\n      <td>7</td>\n    </tr>\n    <tr>\n      <th>Angola</th>\n      <td>2</td>\n      <td>4</td>\n    </tr>\n    <tr>\n      <th>...</th>\n      <td>...</td>\n      <td>...</td>\n    </tr>\n    <tr>\n      <th>Venezuela, Bolivarian Republic of...</th>\n      <td>28</td>\n      <td>87</td>\n    </tr>\n    <tr>\n      <th>Viet Nam</th>\n      <td>78</td>\n      <td>220</td>\n    </tr>\n    <tr>\n      <th>Yemen</th>\n      <td>3</td>\n      <td>17</td>\n    </tr>\n    <tr>\n      <th>Zambia</th>\n      <td>4</td>\n      <td>12</td>\n    </tr>\n    <tr>\n      <th>Zimbabwe</th>\n      <td>14</td>\n      <td>39</td>\n    </tr>\n  </tbody>\n</table>\n<p>179 rows × 2 columns</p>\n</div>"
     },
     "metadata": {},
     "execution_count": 22
    }
   ],
   "source": [
    "# Concatenate two Series into one dataframe\n",
    "\n",
    "python_df = pd.concat([_num, _deno], axis='columns')\n",
    "\n",
    "python_df"
   ]
  },
  {
   "cell_type": "code",
   "execution_count": 24,
   "metadata": {},
   "outputs": [],
   "source": [
    "python_df.columns = ['numerator', 'denominator']\n",
    "\n",
    "# df.rename(columns={'a':'A', 'b':'B'}, inplace=True)"
   ]
  },
  {
   "cell_type": "code",
   "execution_count": 27,
   "metadata": {},
   "outputs": [
    {
     "output_type": "execute_result",
     "data": {
      "text/plain": [
       "                                      numerator  denominator  python_pct\n",
       "Country                                                                 \n",
       "Afghanistan                                   8           39      0.2051\n",
       "Albania                                      23           83      0.2771\n",
       "Algeria                                      40          126      0.3175\n",
       "Andorra                                       0            7      0.0000\n",
       "Angola                                        2            4      0.5000\n",
       "...                                         ...          ...         ...\n",
       "Venezuela, Bolivarian Republic of...         28           87      0.3218\n",
       "Viet Nam                                     78          220      0.3545\n",
       "Yemen                                         3           17      0.1765\n",
       "Zambia                                        4           12      0.3333\n",
       "Zimbabwe                                     14           39      0.3590\n",
       "\n",
       "[179 rows x 3 columns]"
      ],
      "text/html": "<div>\n<style scoped>\n    .dataframe tbody tr th:only-of-type {\n        vertical-align: middle;\n    }\n\n    .dataframe tbody tr th {\n        vertical-align: top;\n    }\n\n    .dataframe thead th {\n        text-align: right;\n    }\n</style>\n<table border=\"1\" class=\"dataframe\">\n  <thead>\n    <tr style=\"text-align: right;\">\n      <th></th>\n      <th>numerator</th>\n      <th>denominator</th>\n      <th>python_pct</th>\n    </tr>\n    <tr>\n      <th>Country</th>\n      <th></th>\n      <th></th>\n      <th></th>\n    </tr>\n  </thead>\n  <tbody>\n    <tr>\n      <th>Afghanistan</th>\n      <td>8</td>\n      <td>39</td>\n      <td>0.2051</td>\n    </tr>\n    <tr>\n      <th>Albania</th>\n      <td>23</td>\n      <td>83</td>\n      <td>0.2771</td>\n    </tr>\n    <tr>\n      <th>Algeria</th>\n      <td>40</td>\n      <td>126</td>\n      <td>0.3175</td>\n    </tr>\n    <tr>\n      <th>Andorra</th>\n      <td>0</td>\n      <td>7</td>\n      <td>0.0000</td>\n    </tr>\n    <tr>\n      <th>Angola</th>\n      <td>2</td>\n      <td>4</td>\n      <td>0.5000</td>\n    </tr>\n    <tr>\n      <th>...</th>\n      <td>...</td>\n      <td>...</td>\n      <td>...</td>\n    </tr>\n    <tr>\n      <th>Venezuela, Bolivarian Republic of...</th>\n      <td>28</td>\n      <td>87</td>\n      <td>0.3218</td>\n    </tr>\n    <tr>\n      <th>Viet Nam</th>\n      <td>78</td>\n      <td>220</td>\n      <td>0.3545</td>\n    </tr>\n    <tr>\n      <th>Yemen</th>\n      <td>3</td>\n      <td>17</td>\n      <td>0.1765</td>\n    </tr>\n    <tr>\n      <th>Zambia</th>\n      <td>4</td>\n      <td>12</td>\n      <td>0.3333</td>\n    </tr>\n    <tr>\n      <th>Zimbabwe</th>\n      <td>14</td>\n      <td>39</td>\n      <td>0.3590</td>\n    </tr>\n  </tbody>\n</table>\n<p>179 rows × 3 columns</p>\n</div>"
     },
     "metadata": {},
     "execution_count": 27
    }
   ],
   "source": [
    "python_df['python_pct'] = (python_df['numerator'] / python_df['denominator']).round(4)\n",
    "\n",
    "python_df"
   ]
  },
  {
   "cell_type": "code",
   "execution_count": 45,
   "metadata": {},
   "outputs": [
    {
     "output_type": "execute_result",
     "data": {
      "text/plain": [
       "               numerator  denominator  python_pct\n",
       "Country                                          \n",
       "China                297          638      0.4655\n",
       "India               3105         8844      0.3511\n",
       "United States      10083        20769      0.4855"
      ],
      "text/html": "<div>\n<style scoped>\n    .dataframe tbody tr th:only-of-type {\n        vertical-align: middle;\n    }\n\n    .dataframe tbody tr th {\n        vertical-align: top;\n    }\n\n    .dataframe thead th {\n        text-align: right;\n    }\n</style>\n<table border=\"1\" class=\"dataframe\">\n  <thead>\n    <tr style=\"text-align: right;\">\n      <th></th>\n      <th>numerator</th>\n      <th>denominator</th>\n      <th>python_pct</th>\n    </tr>\n    <tr>\n      <th>Country</th>\n      <th></th>\n      <th></th>\n      <th></th>\n    </tr>\n  </thead>\n  <tbody>\n    <tr>\n      <th>China</th>\n      <td>297</td>\n      <td>638</td>\n      <td>0.4655</td>\n    </tr>\n    <tr>\n      <th>India</th>\n      <td>3105</td>\n      <td>8844</td>\n      <td>0.3511</td>\n    </tr>\n    <tr>\n      <th>United States</th>\n      <td>10083</td>\n      <td>20769</td>\n      <td>0.4855</td>\n    </tr>\n  </tbody>\n</table>\n</div>"
     },
     "metadata": {},
     "execution_count": 45
    }
   ],
   "source": [
    "python_df.loc[['China', 'India', 'United States']]"
   ]
  },
  {
   "cell_type": "code",
   "execution_count": 44,
   "metadata": {},
   "outputs": [
    {
     "output_type": "execute_result",
     "data": {
      "text/plain": [
       "                    numerator  denominator  python_pct\n",
       "Country                                               \n",
       "United States           10083        20769      0.4855\n",
       "India                    3105         8844      0.3511\n",
       "Germany                  2451         5831      0.4203\n",
       "United Kingdom           2384         5690      0.4190\n",
       "Canada                   1558         3365      0.4630\n",
       "France                   1054         2374      0.4440\n",
       "Brazil                    767         1930      0.3974\n",
       "Poland                    751         1907      0.3938\n",
       "Australia                 790         1880      0.4202\n",
       "Netherlands               767         1838      0.4173\n",
       "Russian Federation        708         1686      0.4199\n",
       "Spain                     641         1588      0.4037\n",
       "Italy                     625         1554      0.4022\n",
       "Sweden                    496         1263      0.3927\n",
       "Switzerland               460          972      0.4733\n",
       "Israel                    457          944      0.4841\n",
       "Turkey                    371          924      0.4015\n",
       "Pakistan                  251          900      0.2789\n",
       "Ukraine                   246          861      0.2857\n",
       "Austria                   338          832      0.4062\n",
       "Czech Republic            285          759      0.3755\n",
       "Romania                   253          744      0.3401\n",
       "Iran                      268          731      0.3666\n",
       "Belgium                   296          720      0.4111\n",
       "Bulgaria                  181          650      0.2785\n",
       "China                     297          638      0.4655\n",
       "Mexico                    245          633      0.3870\n",
       "South Africa              202          616      0.3279\n",
       "Denmark                   246          609      0.4039\n",
       "Bangladesh                204          589      0.3463\n",
       "Norway                    232          568      0.4085\n",
       "Greece                    226          552      0.4094\n",
       "Argentina                 191          547      0.3492\n",
       "Finland                   266          539      0.4935\n",
       "Portugal                  182          521      0.3493\n",
       "New Zealand               236          519      0.4547\n",
       "Hungary                   191          511      0.3738\n",
       "Ireland                   209          495      0.4222\n",
       "Nigeria                   152          493      0.3083\n",
       "Indonesia                 148          488      0.3033\n",
       "Serbia                    117          395      0.2962\n",
       "Japan                     182          387      0.4703\n",
       "Sri Lanka                 137          366      0.3743\n",
       "Philippines               117          361      0.3241\n",
       "Egypt                     111          314      0.3535\n",
       "Colombia                  108          306      0.3529\n",
       "Singapore                 139          300      0.4633\n",
       "Slovenia                  119          297      0.4007\n",
       "Malaysia                   95          290      0.3276\n",
       "Croatia                    87          258      0.3372"
      ],
      "text/html": "<div>\n<style scoped>\n    .dataframe tbody tr th:only-of-type {\n        vertical-align: middle;\n    }\n\n    .dataframe tbody tr th {\n        vertical-align: top;\n    }\n\n    .dataframe thead th {\n        text-align: right;\n    }\n</style>\n<table border=\"1\" class=\"dataframe\">\n  <thead>\n    <tr style=\"text-align: right;\">\n      <th></th>\n      <th>numerator</th>\n      <th>denominator</th>\n      <th>python_pct</th>\n    </tr>\n    <tr>\n      <th>Country</th>\n      <th></th>\n      <th></th>\n      <th></th>\n    </tr>\n  </thead>\n  <tbody>\n    <tr>\n      <th>United States</th>\n      <td>10083</td>\n      <td>20769</td>\n      <td>0.4855</td>\n    </tr>\n    <tr>\n      <th>India</th>\n      <td>3105</td>\n      <td>8844</td>\n      <td>0.3511</td>\n    </tr>\n    <tr>\n      <th>Germany</th>\n      <td>2451</td>\n      <td>5831</td>\n      <td>0.4203</td>\n    </tr>\n    <tr>\n      <th>United Kingdom</th>\n      <td>2384</td>\n      <td>5690</td>\n      <td>0.4190</td>\n    </tr>\n    <tr>\n      <th>Canada</th>\n      <td>1558</td>\n      <td>3365</td>\n      <td>0.4630</td>\n    </tr>\n    <tr>\n      <th>France</th>\n      <td>1054</td>\n      <td>2374</td>\n      <td>0.4440</td>\n    </tr>\n    <tr>\n      <th>Brazil</th>\n      <td>767</td>\n      <td>1930</td>\n      <td>0.3974</td>\n    </tr>\n    <tr>\n      <th>Poland</th>\n      <td>751</td>\n      <td>1907</td>\n      <td>0.3938</td>\n    </tr>\n    <tr>\n      <th>Australia</th>\n      <td>790</td>\n      <td>1880</td>\n      <td>0.4202</td>\n    </tr>\n    <tr>\n      <th>Netherlands</th>\n      <td>767</td>\n      <td>1838</td>\n      <td>0.4173</td>\n    </tr>\n    <tr>\n      <th>Russian Federation</th>\n      <td>708</td>\n      <td>1686</td>\n      <td>0.4199</td>\n    </tr>\n    <tr>\n      <th>Spain</th>\n      <td>641</td>\n      <td>1588</td>\n      <td>0.4037</td>\n    </tr>\n    <tr>\n      <th>Italy</th>\n      <td>625</td>\n      <td>1554</td>\n      <td>0.4022</td>\n    </tr>\n    <tr>\n      <th>Sweden</th>\n      <td>496</td>\n      <td>1263</td>\n      <td>0.3927</td>\n    </tr>\n    <tr>\n      <th>Switzerland</th>\n      <td>460</td>\n      <td>972</td>\n      <td>0.4733</td>\n    </tr>\n    <tr>\n      <th>Israel</th>\n      <td>457</td>\n      <td>944</td>\n      <td>0.4841</td>\n    </tr>\n    <tr>\n      <th>Turkey</th>\n      <td>371</td>\n      <td>924</td>\n      <td>0.4015</td>\n    </tr>\n    <tr>\n      <th>Pakistan</th>\n      <td>251</td>\n      <td>900</td>\n      <td>0.2789</td>\n    </tr>\n    <tr>\n      <th>Ukraine</th>\n      <td>246</td>\n      <td>861</td>\n      <td>0.2857</td>\n    </tr>\n    <tr>\n      <th>Austria</th>\n      <td>338</td>\n      <td>832</td>\n      <td>0.4062</td>\n    </tr>\n    <tr>\n      <th>Czech Republic</th>\n      <td>285</td>\n      <td>759</td>\n      <td>0.3755</td>\n    </tr>\n    <tr>\n      <th>Romania</th>\n      <td>253</td>\n      <td>744</td>\n      <td>0.3401</td>\n    </tr>\n    <tr>\n      <th>Iran</th>\n      <td>268</td>\n      <td>731</td>\n      <td>0.3666</td>\n    </tr>\n    <tr>\n      <th>Belgium</th>\n      <td>296</td>\n      <td>720</td>\n      <td>0.4111</td>\n    </tr>\n    <tr>\n      <th>Bulgaria</th>\n      <td>181</td>\n      <td>650</td>\n      <td>0.2785</td>\n    </tr>\n    <tr>\n      <th>China</th>\n      <td>297</td>\n      <td>638</td>\n      <td>0.4655</td>\n    </tr>\n    <tr>\n      <th>Mexico</th>\n      <td>245</td>\n      <td>633</td>\n      <td>0.3870</td>\n    </tr>\n    <tr>\n      <th>South Africa</th>\n      <td>202</td>\n      <td>616</td>\n      <td>0.3279</td>\n    </tr>\n    <tr>\n      <th>Denmark</th>\n      <td>246</td>\n      <td>609</td>\n      <td>0.4039</td>\n    </tr>\n    <tr>\n      <th>Bangladesh</th>\n      <td>204</td>\n      <td>589</td>\n      <td>0.3463</td>\n    </tr>\n    <tr>\n      <th>Norway</th>\n      <td>232</td>\n      <td>568</td>\n      <td>0.4085</td>\n    </tr>\n    <tr>\n      <th>Greece</th>\n      <td>226</td>\n      <td>552</td>\n      <td>0.4094</td>\n    </tr>\n    <tr>\n      <th>Argentina</th>\n      <td>191</td>\n      <td>547</td>\n      <td>0.3492</td>\n    </tr>\n    <tr>\n      <th>Finland</th>\n      <td>266</td>\n      <td>539</td>\n      <td>0.4935</td>\n    </tr>\n    <tr>\n      <th>Portugal</th>\n      <td>182</td>\n      <td>521</td>\n      <td>0.3493</td>\n    </tr>\n    <tr>\n      <th>New Zealand</th>\n      <td>236</td>\n      <td>519</td>\n      <td>0.4547</td>\n    </tr>\n    <tr>\n      <th>Hungary</th>\n      <td>191</td>\n      <td>511</td>\n      <td>0.3738</td>\n    </tr>\n    <tr>\n      <th>Ireland</th>\n      <td>209</td>\n      <td>495</td>\n      <td>0.4222</td>\n    </tr>\n    <tr>\n      <th>Nigeria</th>\n      <td>152</td>\n      <td>493</td>\n      <td>0.3083</td>\n    </tr>\n    <tr>\n      <th>Indonesia</th>\n      <td>148</td>\n      <td>488</td>\n      <td>0.3033</td>\n    </tr>\n    <tr>\n      <th>Serbia</th>\n      <td>117</td>\n      <td>395</td>\n      <td>0.2962</td>\n    </tr>\n    <tr>\n      <th>Japan</th>\n      <td>182</td>\n      <td>387</td>\n      <td>0.4703</td>\n    </tr>\n    <tr>\n      <th>Sri Lanka</th>\n      <td>137</td>\n      <td>366</td>\n      <td>0.3743</td>\n    </tr>\n    <tr>\n      <th>Philippines</th>\n      <td>117</td>\n      <td>361</td>\n      <td>0.3241</td>\n    </tr>\n    <tr>\n      <th>Egypt</th>\n      <td>111</td>\n      <td>314</td>\n      <td>0.3535</td>\n    </tr>\n    <tr>\n      <th>Colombia</th>\n      <td>108</td>\n      <td>306</td>\n      <td>0.3529</td>\n    </tr>\n    <tr>\n      <th>Singapore</th>\n      <td>139</td>\n      <td>300</td>\n      <td>0.4633</td>\n    </tr>\n    <tr>\n      <th>Slovenia</th>\n      <td>119</td>\n      <td>297</td>\n      <td>0.4007</td>\n    </tr>\n    <tr>\n      <th>Malaysia</th>\n      <td>95</td>\n      <td>290</td>\n      <td>0.3276</td>\n    </tr>\n    <tr>\n      <th>Croatia</th>\n      <td>87</td>\n      <td>258</td>\n      <td>0.3372</td>\n    </tr>\n  </tbody>\n</table>\n</div>"
     },
     "metadata": {},
     "execution_count": 44
    }
   ],
   "source": [
    "python_df.sort_values(by='denominator', ascending=False).head(50)"
   ]
  },
  {
   "cell_type": "code",
   "execution_count": null,
   "metadata": {},
   "outputs": [],
   "source": []
  }
 ]
}
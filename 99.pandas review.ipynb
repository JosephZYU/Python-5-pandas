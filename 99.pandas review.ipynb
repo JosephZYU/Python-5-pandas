{
 "metadata": {
  "language_info": {
   "codemirror_mode": {
    "name": "ipython",
    "version": 3
   },
   "file_extension": ".py",
   "mimetype": "text/x-python",
   "name": "python",
   "nbconvert_exporter": "python",
   "pygments_lexer": "ipython3",
   "version": "3.9.0-final"
  },
  "orig_nbformat": 2,
  "kernelspec": {
   "name": "python3",
   "display_name": "Python 3",
   "language": "python"
  }
 },
 "nbformat": 4,
 "nbformat_minor": 2,
 "cells": [
  {
   "cell_type": "code",
   "execution_count": 237,
   "metadata": {},
   "outputs": [],
   "source": [
    "import numpy as np\n",
    "import pandas as pd"
   ]
  },
  {
   "cell_type": "code",
   "execution_count": 238,
   "metadata": {},
   "outputs": [],
   "source": [
    "# Constructor Key Value Pair 字典构建\n",
    "# 🧭 Each column first of all a Serie, and a 1-dimensional DataFrame! 列即一维DF\n",
    "# 🧠 dict = {}\n",
    "\n",
    "\"\"\"\n",
    "\n",
    "dict = {\n",
    "    'key_1': [],\n",
    "    'key_2': [],\n",
    "    'key_2': [],\n",
    "}\n",
    "\n",
    "\"\"\"\n",
    "\n",
    "people = {\n",
    "    \"first\":['Corey', 'Jane', 'John'],\n",
    "    \"last\":['Schafer', 'Doe', 'Smith'],\n",
    "    \"email\":['CoreySchafer@gmail.com','JaneDoe@hotmail.com','JohnSmith@outlook.com'],\n",
    "}"
   ]
  },
  {
   "cell_type": "code",
   "execution_count": 307,
   "metadata": {},
   "outputs": [],
   "source": [
    "# ⭐️ display full (non-truncated) dataframe information\n",
    "# 🧠 'display.max_colwidth', None -> \n",
    "\n",
    "pd.set_option('display.max_columns', 100)\n",
    "pd.set_option('display.max_rows', 100)\n",
    "pd.set_option('display.max_colwidth', None)  # None or -1\n",
    "\n",
    "# ⭐️ Format / Suppress Scientific Notation from Python Pandas Aggregation Results\n",
    "# https://stackoverflow.com/a/21140339/15063197\n",
    "pd.set_option('display.float_format', lambda x: '%.4f' % x)\n",
    "\n",
    "# Data Sources\n",
    "survey_source = '/Users/josephyu/Documents/GitHub/data/survey_results_public.csv'\n",
    "schema_source = '/Users/josephyu/Documents/GitHub/data/survey_results_schema.csv'\n",
    "\n",
    "# Create Data Frame\n",
    "df = pd.read_csv(survey_source, index_col = 'Respondent')\n",
    "schema_df = pd.read_csv(schema_source, index_col = 'Column')"
   ]
  },
  {
   "cell_type": "code",
   "execution_count": 240,
   "metadata": {},
   "outputs": [
    {
     "output_type": "execute_result",
     "data": {
      "text/plain": [
       "                                                                                                                                                                                                                                                                                                                QuestionText\n",
       "Column                                                                                                                                                                                                                                                                                                                      \n",
       "MgrIdiot                                                                                                                                                                                                                                                   How confident are you that your manager knows what they’re doing?\n",
       "LanguageWorkedWith      Which of the following programming, scripting, and markup languages have you done extensive development work in over the past year, and which do you want to work in over the next year?  (If you both worked with the language and want to continue to do so, please check both boxes in that row.)\n",
       "LanguageDesireNextYear  Which of the following programming, scripting, and markup languages have you done extensive development work in over the past year, and which do you want to work in over the next year?  (If you both worked with the language and want to continue to do so, please check both boxes in that row.)"
      ],
      "text/html": "<div>\n<style scoped>\n    .dataframe tbody tr th:only-of-type {\n        vertical-align: middle;\n    }\n\n    .dataframe tbody tr th {\n        vertical-align: top;\n    }\n\n    .dataframe thead th {\n        text-align: right;\n    }\n</style>\n<table border=\"1\" class=\"dataframe\">\n  <thead>\n    <tr style=\"text-align: right;\">\n      <th></th>\n      <th>QuestionText</th>\n    </tr>\n    <tr>\n      <th>Column</th>\n      <th></th>\n    </tr>\n  </thead>\n  <tbody>\n    <tr>\n      <th>MgrIdiot</th>\n      <td>How confident are you that your manager knows what they’re doing?</td>\n    </tr>\n    <tr>\n      <th>LanguageWorkedWith</th>\n      <td>Which of the following programming, scripting, and markup languages have you done extensive development work in over the past year, and which do you want to work in over the next year?  (If you both worked with the language and want to continue to do so, please check both boxes in that row.)</td>\n    </tr>\n    <tr>\n      <th>LanguageDesireNextYear</th>\n      <td>Which of the following programming, scripting, and markup languages have you done extensive development work in over the past year, and which do you want to work in over the next year?  (If you both worked with the language and want to continue to do so, please check both boxes in that row.)</td>\n    </tr>\n  </tbody>\n</table>\n</div>"
     },
     "metadata": {},
     "execution_count": 240
    }
   ],
   "source": [
    "# Search string case insensitive\n",
    "# df2 = df1['company_name'].str.contains(\"apple\", na=False, case=False)\n",
    "# 🧭 As long as it is a Data Frame, we can always apply filter 只要是DF就可以使用T/F进行过滤\n",
    "\n",
    "row_filter = schema_df.index.str.contains('Language', case=False) | schema_df.index.str.contains('Idiot', case=False)\n",
    "\n",
    "schema_df[row_filter]"
   ]
  },
  {
   "cell_type": "code",
   "execution_count": 241,
   "metadata": {},
   "outputs": [],
   "source": [
    "# Try to filter with index and col together\n",
    "# Index within (1000, 10_000) & Country == China\n",
    "\n",
    "tgt_countries = ['China', 'India', 'United States']\n",
    "\n",
    "row_filter = (df.index >= 1000) & (df.index <= 10_000) & (df['Country'].isin(tgt_countries))\n"
   ]
  },
  {
   "cell_type": "code",
   "execution_count": 242,
   "metadata": {},
   "outputs": [
    {
     "output_type": "execute_result",
     "data": {
      "text/plain": [
       "(2991, 84)"
      ]
     },
     "metadata": {},
     "execution_count": 242
    }
   ],
   "source": [
    "df[row_filter].shape"
   ]
  },
  {
   "cell_type": "code",
   "execution_count": 243,
   "metadata": {},
   "outputs": [
    {
     "output_type": "execute_result",
     "data": {
      "text/plain": [
       "United States                       20949\n",
       "India                                9061\n",
       "Germany                              5866\n",
       "United Kingdom                       5737\n",
       "Canada                               3395\n",
       "France                               2391\n",
       "Brazil                               1948\n",
       "Poland                               1922\n",
       "Australia                            1903\n",
       "Netherlands                          1852\n",
       "Russian Federation                   1694\n",
       "Spain                                1604\n",
       "Italy                                1576\n",
       "Sweden                               1274\n",
       "Switzerland                           978\n",
       "Israel                                952\n",
       "Turkey                                949\n",
       "Pakistan                              923\n",
       "Ukraine                               868\n",
       "Austria                               839\n",
       "Czech Republic                        764\n",
       "Romania                               760\n",
       "Iran                                  738\n",
       "Belgium                               727\n",
       "China                                 664\n",
       "Bulgaria                              659\n",
       "Mexico                                642\n",
       "South Africa                          627\n",
       "Denmark                               617\n",
       "Bangladesh                            605\n",
       "Norway                                574\n",
       "Greece                                556\n",
       "Argentina                             553\n",
       "Finland                               546\n",
       "Portugal                              525\n",
       "New Zealand                           524\n",
       "Nigeria                               522\n",
       "Hungary                               513\n",
       "Indonesia                             507\n",
       "Ireland                               501\n",
       "Serbia                                402\n",
       "Japan                                 391\n",
       "Philippines                           381\n",
       "Sri Lanka                             372\n",
       "Egypt                                 323\n",
       "Colombia                              313\n",
       "Singapore                             303\n",
       "Malaysia                              299\n",
       "Slovenia                              298\n",
       "Croatia                               260\n",
       "Slovakia                              260\n",
       "Kenya                                 249\n",
       "Lithuania                             248\n",
       "Nepal                                 237\n",
       "Viet Nam                              231\n",
       "Thailand                              214\n",
       "Chile                                 206\n",
       "Belarus                               202\n",
       "Estonia                               195\n",
       "Hong Kong (S.A.R.)                    188\n",
       "Taiwan                                187\n",
       "South Korea                           160\n",
       "United Arab Emirates                  158\n",
       "Morocco                               155\n",
       "Latvia                                136\n",
       "Other Country (Not Listed Above)      136\n",
       "Algeria                               134\n",
       "Tunisia                               130\n",
       "Peru                                  130\n",
       "Lebanon                               120\n",
       "Uruguay                               111\n",
       "Bosnia and Herzegovina                108\n",
       "Saudi Arabia                           98\n",
       "Name: Country, dtype: int64"
      ]
     },
     "metadata": {},
     "execution_count": 243
    }
   ],
   "source": [
    "# 🎯 What if we want the 90% percentil instead of Top 50\n",
    "\n",
    "df['Country'].value_counts()[:'Saudi Arabia']"
   ]
  },
  {
   "cell_type": "code",
   "execution_count": 244,
   "metadata": {},
   "outputs": [
    {
     "output_type": "execute_result",
     "data": {
      "text/plain": [
       "United States         20949\n",
       "India                  9061\n",
       "Germany                5866\n",
       "United Kingdom         5737\n",
       "Canada                 3395\n",
       "France                 2391\n",
       "Brazil                 1948\n",
       "Poland                 1922\n",
       "Australia              1903\n",
       "Netherlands            1852\n",
       "Russian Federation     1694\n",
       "Spain                  1604\n",
       "Italy                  1576\n",
       "Sweden                 1274\n",
       "Switzerland             978\n",
       "Israel                  952\n",
       "Turkey                  949\n",
       "Pakistan                923\n",
       "Ukraine                 868\n",
       "Austria                 839\n",
       "Czech Republic          764\n",
       "Romania                 760\n",
       "Iran                    738\n",
       "Belgium                 727\n",
       "China                   664\n",
       "Bulgaria                659\n",
       "Mexico                  642\n",
       "South Africa            627\n",
       "Denmark                 617\n",
       "Bangladesh              605\n",
       "Norway                  574\n",
       "Greece                  556\n",
       "Argentina               553\n",
       "Finland                 546\n",
       "Portugal                525\n",
       "New Zealand             524\n",
       "Nigeria                 522\n",
       "Hungary                 513\n",
       "Indonesia               507\n",
       "Ireland                 501\n",
       "Serbia                  402\n",
       "Japan                   391\n",
       "Philippines             381\n",
       "Sri Lanka               372\n",
       "Egypt                   323\n",
       "Name: Country, dtype: int64"
      ]
     },
     "metadata": {},
     "execution_count": 244
    }
   ],
   "source": [
    "df['Country'].value_counts().nlargest(50)[:'Egypt']"
   ]
  },
  {
   "cell_type": "code",
   "execution_count": 245,
   "metadata": {},
   "outputs": [
    {
     "output_type": "execute_result",
     "data": {
      "text/plain": [
       "   first     last                   email\n",
       "0  Corey  Schafer  CoreySchafer@gmail.com\n",
       "1   Jane      Doe     JaneDoe@hotmail.com\n",
       "2   John    Smith   JohnSmith@outlook.com"
      ],
      "text/html": "<div>\n<style scoped>\n    .dataframe tbody tr th:only-of-type {\n        vertical-align: middle;\n    }\n\n    .dataframe tbody tr th {\n        vertical-align: top;\n    }\n\n    .dataframe thead th {\n        text-align: right;\n    }\n</style>\n<table border=\"1\" class=\"dataframe\">\n  <thead>\n    <tr style=\"text-align: right;\">\n      <th></th>\n      <th>first</th>\n      <th>last</th>\n      <th>email</th>\n    </tr>\n  </thead>\n  <tbody>\n    <tr>\n      <th>0</th>\n      <td>Corey</td>\n      <td>Schafer</td>\n      <td>CoreySchafer@gmail.com</td>\n    </tr>\n    <tr>\n      <th>1</th>\n      <td>Jane</td>\n      <td>Doe</td>\n      <td>JaneDoe@hotmail.com</td>\n    </tr>\n    <tr>\n      <th>2</th>\n      <td>John</td>\n      <td>Smith</td>\n      <td>JohnSmith@outlook.com</td>\n    </tr>\n  </tbody>\n</table>\n</div>"
     },
     "metadata": {},
     "execution_count": 245
    }
   ],
   "source": [
    "df = pd.DataFrame(people)\n",
    "\n",
    "df"
   ]
  },
  {
   "cell_type": "code",
   "execution_count": 246,
   "metadata": {},
   "outputs": [
    {
     "output_type": "execute_result",
     "data": {
      "text/plain": [
       "  first last                email\n",
       "1  Jane  Doe  JaneDoe@hotmail.com"
      ],
      "text/html": "<div>\n<style scoped>\n    .dataframe tbody tr th:only-of-type {\n        vertical-align: middle;\n    }\n\n    .dataframe tbody tr th {\n        vertical-align: top;\n    }\n\n    .dataframe thead th {\n        text-align: right;\n    }\n</style>\n<table border=\"1\" class=\"dataframe\">\n  <thead>\n    <tr style=\"text-align: right;\">\n      <th></th>\n      <th>first</th>\n      <th>last</th>\n      <th>email</th>\n    </tr>\n  </thead>\n  <tbody>\n    <tr>\n      <th>1</th>\n      <td>Jane</td>\n      <td>Doe</td>\n      <td>JaneDoe@hotmail.com</td>\n    </tr>\n  </tbody>\n</table>\n</div>"
     },
     "metadata": {},
     "execution_count": 246
    }
   ],
   "source": [
    "# Find ALL has a last name of Doe\n",
    "# Return a T/F Boolean filter mask\n",
    "\n",
    "filt = (df['last'] == 'Doe')\n",
    "\n",
    "df[filt]"
   ]
  },
  {
   "cell_type": "code",
   "execution_count": 247,
   "metadata": {},
   "outputs": [
    {
     "output_type": "execute_result",
     "data": {
      "text/plain": [
       "  first last                email\n",
       "1  Jane  Doe  JaneDoe@hotmail.com"
      ],
      "text/html": "<div>\n<style scoped>\n    .dataframe tbody tr th:only-of-type {\n        vertical-align: middle;\n    }\n\n    .dataframe tbody tr th {\n        vertical-align: top;\n    }\n\n    .dataframe thead th {\n        text-align: right;\n    }\n</style>\n<table border=\"1\" class=\"dataframe\">\n  <thead>\n    <tr style=\"text-align: right;\">\n      <th></th>\n      <th>first</th>\n      <th>last</th>\n      <th>email</th>\n    </tr>\n  </thead>\n  <tbody>\n    <tr>\n      <th>1</th>\n      <td>Jane</td>\n      <td>Doe</td>\n      <td>JaneDoe@hotmail.com</td>\n    </tr>\n  </tbody>\n</table>\n</div>"
     },
     "metadata": {},
     "execution_count": 247
    }
   ],
   "source": [
    "df.loc[filt, :]"
   ]
  },
  {
   "cell_type": "code",
   "execution_count": 248,
   "metadata": {},
   "outputs": [
    {
     "output_type": "execute_result",
     "data": {
      "text/plain": [
       "  first   last                  email\n",
       "1  Jane    Doe    JaneDoe@hotmail.com\n",
       "2  John  Smith  JohnSmith@outlook.com"
      ],
      "text/html": "<div>\n<style scoped>\n    .dataframe tbody tr th:only-of-type {\n        vertical-align: middle;\n    }\n\n    .dataframe tbody tr th {\n        vertical-align: top;\n    }\n\n    .dataframe thead th {\n        text-align: right;\n    }\n</style>\n<table border=\"1\" class=\"dataframe\">\n  <thead>\n    <tr style=\"text-align: right;\">\n      <th></th>\n      <th>first</th>\n      <th>last</th>\n      <th>email</th>\n    </tr>\n  </thead>\n  <tbody>\n    <tr>\n      <th>1</th>\n      <td>Jane</td>\n      <td>Doe</td>\n      <td>JaneDoe@hotmail.com</td>\n    </tr>\n    <tr>\n      <th>2</th>\n      <td>John</td>\n      <td>Smith</td>\n      <td>JohnSmith@outlook.com</td>\n    </tr>\n  </tbody>\n</table>\n</div>"
     },
     "metadata": {},
     "execution_count": 248
    }
   ],
   "source": [
    "# Must use & | for and or\n",
    "# Must include () parenthesis for each statement\n",
    "\n",
    "\n",
    "row_filt = (df['first'] == 'Jane') | (df['last'] == 'Smith')\n",
    "\n",
    "df[row_filt]"
   ]
  },
  {
   "cell_type": "code",
   "execution_count": 249,
   "metadata": {},
   "outputs": [
    {
     "output_type": "execute_result",
     "data": {
      "text/plain": [
       "   first     last                   email\n",
       "0  Corey  Schafer  CoreySchafer@gmail.com"
      ],
      "text/html": "<div>\n<style scoped>\n    .dataframe tbody tr th:only-of-type {\n        vertical-align: middle;\n    }\n\n    .dataframe tbody tr th {\n        vertical-align: top;\n    }\n\n    .dataframe thead th {\n        text-align: right;\n    }\n</style>\n<table border=\"1\" class=\"dataframe\">\n  <thead>\n    <tr style=\"text-align: right;\">\n      <th></th>\n      <th>first</th>\n      <th>last</th>\n      <th>email</th>\n    </tr>\n  </thead>\n  <tbody>\n    <tr>\n      <th>0</th>\n      <td>Corey</td>\n      <td>Schafer</td>\n      <td>CoreySchafer@gmail.com</td>\n    </tr>\n  </tbody>\n</table>\n</div>"
     },
     "metadata": {},
     "execution_count": 249
    }
   ],
   "source": [
    "# The opposite of that filter\n",
    "\n",
    "df[~row_filt]"
   ]
  },
  {
   "cell_type": "code",
   "execution_count": 250,
   "metadata": {},
   "outputs": [],
   "source": [
    "# Look at the data for people for salary over a certain amount\n",
    "\n",
    "df = pd.read_csv(survey_source, index_col = 'Respondent')"
   ]
  },
  {
   "cell_type": "code",
   "execution_count": 251,
   "metadata": {},
   "outputs": [
    {
     "output_type": "execute_result",
     "data": {
      "text/plain": [
       "er style puzzle;Interview with people in senior / management roles   \n",
       "\n",
       "           FizzBuzz  \\\n",
       "Respondent            \n",
       "1               NaN   \n",
       "2               NaN   \n",
       "3                No   \n",
       "4                No   \n",
       "5                No   \n",
       "\n",
       "                                                                                                                                                                                        JobFactors  \\\n",
       "Respondent                                                                                                                                                                                           \n",
       "1                                                                                                                                                                                              NaN   \n",
       "2           Financial performance or funding status of the company or organization;Specific department or team I'd be working on;Languages, frameworks, and other technologies I'd be working with   \n",
       "3                                                                           Languages, frameworks, and other technologies I'd be working with;Remote work options;Flex time or a flexible schedule   \n",
       "4                                               Languages, frameworks, and other technologies I'd be working with;Office environment or company culture;Opportunities for professional development   \n",
       "5                                                               Industry that I'd be working in;Languages, frameworks, and other technologies I'd be working with;Flex time or a flexible schedule   \n",
       "\n",
       "                                                      ResumeUpdate  \\\n",
       "Respondent                                                           \n",
       "1                                                              NaN   \n",
       "2           Something else changed (education, award, media, etc.)   \n",
       "3                                 I was preparing for a job search   \n",
       "4                                 I was preparing for a job search   \n",
       "5                                 I was preparing for a job search   \n",
       "\n",
       "           CurrencySymbol          CurrencyDesc  CompTotal CompFreq  \\\n",
       "Respondent                                                            \n",
       "1                     NaN                   NaN        NaN      NaN   \n",
       "2                     NaN                   NaN        NaN      NaN   \n",
       "3                     THB             Thai baht   23000.00  Monthly   \n",
       "4                     USD  United States dollar   61000.00   Yearly   \n",
       "5                     UAH     Ukrainian hryvnia        NaN      NaN   \n",
       "\n",
       "            ConvertedComp  WorkWeekHrs  \\\n",
       "Respondent                               \n",
       "1                     NaN          NaN   \n",
       "2                     NaN          NaN   \n",
       "3                 8820.00        40.00   \n",
       "4                61000.00        80.00   \n",
       "5                     NaN        55.00   \n",
       "\n",
       "                                                                                                WorkPlan  \\\n",
       "Respondent                                                                                                 \n",
       "1                                                                                                    NaN   \n",
       "2                                                                                                    NaN   \n",
       "3                             There's no schedule or spec; I work on what seems most important or urgent   \n",
       "4                             There's no schedule or spec; I work on what seems most important or urgent   \n",
       "5           There is a schedule and/or spec (made by me or by a colleague), and I follow it very closely   \n",
       "\n",
       "                                                                                                                                       WorkChallenge  \\\n",
       "Respondent                                                                                                                                             \n",
       "1                                                                                                                                                NaN   \n",
       "2                                                                                                                                                NaN   \n",
       "3                                                  Distracting work environment;Inadequate access to necessary tools;Lack of support from management   \n",
       "4                                                                                                                                                NaN   \n",
       "5           Being tasked with non-development work;Inadequate access to necessary tools;Non-work commitments (parenting, school work, hobbies, etc.)   \n",
       "\n",
       "                                  WorkRemote WorkLoc                  ImpSyn  \\\n",
       "Respondent                                                                     \n",
       "1                                        NaN     NaN                     NaN   \n",
       "2                                        NaN     NaN                     NaN   \n",
       "3           Less than once per month / Never    Home                 Average   \n",
       "4           Less than once per month / Never    Home  A little below average   \n",
       "5                      A few days each month  Office  A little above average   \n",
       "\n",
       "                                            CodeRev  CodeRevHrs  \\\n",
       "Respondent                                                        \n",
       "1                                               NaN         NaN   \n",
       "2                                               NaN         NaN   \n",
       "3                                                No         NaN   \n",
       "4                                                No         NaN   \n",
       "5           Yes, because I see value in code review         NaN   \n",
       "\n",
       "                                UnitTests  \\\n",
       "Respondent                                  \n",
       "1                                     NaN   \n",
       "2                                     NaN   \n",
       "3               No, but I think we should   \n",
       "4               No, but I think we should   \n",
       "5           Yes, it's part of our process   \n",
       "\n",
       "                                                                          PurchaseHow  \\\n",
       "Respondent                                                                              \n",
       "1                                                                                 NaN   \n",
       "2                                                                                 NaN   \n",
       "3                                                                            Not sure   \n",
       "4           Developers typically have the most influence on purchasing new technology   \n",
       "5                                                                            Not sure   \n",
       "\n",
       "                             PurchaseWhat  \\\n",
       "Respondent                                  \n",
       "1                                     NaN   \n",
       "2                                     NaN   \n",
       "3           I have little or no influence   \n",
       "4           I have little or no influence   \n",
       "5           I have little or no influence   \n",
       "\n",
       "                                     LanguageWorkedWith  \\\n",
       "Respondent                                                \n",
       "1                       HTML/CSS;Java;JavaScript;Python   \n",
       "2                                   C++;HTML/CSS;Python   \n",
       "3                                              HTML/CSS   \n",
       "4                                   C;C++;C#;Python;SQL   \n",
       "5           C++;HTML/CSS;Java;JavaScript;Python;SQL;VBA   \n",
       "\n",
       "                                     LanguageDesireNextYear  \\\n",
       "Respondent                                                    \n",
       "1           C;C++;C#;Go;HTML/CSS;Java;JavaScript;Python;SQL   \n",
       "2                               C++;HTML/CSS;JavaScript;SQL   \n",
       "3                                           Elixir;HTML/CSS   \n",
       "4                                       C;C#;JavaScript;SQL   \n",
       "5                  HTML/CSS;Java;JavaScript;SQL;WebAssembly   \n",
       "\n",
       "                                          DatabaseWorkedWith  \\\n",
       "Respondent                                                     \n",
       "1                                                     SQLite   \n",
       "2                                                        NaN   \n",
       "3                                                 PostgreSQL   \n",
       "4                                               MySQL;SQLite   \n",
       "5           Couchbase;MongoDB;MySQL;Oracle;PostgreSQL;SQLite   \n",
       "\n",
       "                                               DatabaseDesireNextYear  \\\n",
       "Respondent                                                              \n",
       "1                                                               MySQL   \n",
       "2                                                               MySQL   \n",
       "3                                                          PostgreSQL   \n",
       "4                                                        MySQL;SQLite   \n",
       "5           Couchbase;Firebase;MongoDB;MySQL;Oracle;PostgreSQL;SQLite   \n",
       "\n",
       "                           PlatformWorkedWith  \\\n",
       "Respondent                                      \n",
       "1                               MacOS;Windows   \n",
       "2                                     Windows   \n",
       "3                                         NaN   \n",
       "4                               Linux;Windows   \n",
       "5           Android;Linux;MacOS;Slack;Windows   \n",
       "\n",
       "                           PlatformDesireNextYear  \\\n",
       "Respondent                                          \n",
       "1                         Android;Arduino;Windows   \n",
       "2                                         Windows   \n",
       "3                                             NaN   \n",
       "4                                   Linux;Windows   \n",
       "5           Android;Docker;Kubernetes;Linux;Slack   \n",
       "\n",
       "                                     WebFrameWorkedWith  \\\n",
       "Respondent                                                \n",
       "1                                          Django;Flask   \n",
       "2                                                Django   \n",
       "3                                                   NaN   \n",
       "4                                                   NaN   \n",
       "5           Django;Express;Flask;jQuery;React.js;Spring   \n",
       "\n",
       "                  WebFrameDesireNextYear MiscTechWorkedWith  \\\n",
       "Respondent                                                    \n",
       "1                           Flask;jQuery            Node.js   \n",
       "2                                 Django                NaN   \n",
       "3                              Other(s):                NaN   \n",
       "4                                    NaN               .NET   \n",
       "5           Flask;jQuery;React.js;Spring    Cordova;Node.js   \n",
       "\n",
       "                              MiscTechDesireNextYear  \\\n",
       "Respondent                                             \n",
       "1                                            Node.js   \n",
       "2                                                NaN   \n",
       "3                                                NaN   \n",
       "4                                               .NET   \n",
       "5           Apache Spark;Hadoop;Node.js;React Native   \n",
       "\n",
       "                                              DevEnviron        OpSys  \\\n",
       "Respondent                                                              \n",
       "1                             IntelliJ;Notepad++;PyCharm      Windows   \n",
       "2                                           Atom;PyCharm      Windows   \n",
       "3                                 Vim;Visual Studio Code  Linux-based   \n",
       "4           Eclipse;Vim;Visual Studio;Visual Studio Code      Windows   \n",
       "5                                 IntelliJ;Notepad++;Vim  Linux-based   \n",
       "\n",
       "                                        Containers BlockchainOrg  \\\n",
       "Respondent                                                         \n",
       "1                          I do not use containers           NaN   \n",
       "2                          I do not use containers           NaN   \n",
       "3                          I do not use containers           NaN   \n",
       "4                          I do not use containers    Not at all   \n",
       "5           Outside of work, for personal projects    Not at all   \n",
       "\n",
       "                                                                     BlockchainIs  \\\n",
       "Respondent                                                                          \n",
       "1                                                                             NaN   \n",
       "2           Useful across many domains and could change many aspects of our lives   \n",
       "3                                                                             NaN   \n",
       "4                               Useful for decentralized currency (i.e., Bitcoin)   \n",
       "5                                                                             NaN   \n",
       "\n",
       "           BetterLife                                  ITperson OffOn  \\\n",
       "Respondent                                                              \n",
       "1                 Yes  Fortunately, someone else has that title   Yes   \n",
       "2                 Yes                                       Yes   Yes   \n",
       "3                 Yes                                       Yes   Yes   \n",
       "4                 Yes                                      SIGH   Yes   \n",
       "5                 Yes                                  Also Yes   Yes   \n",
       "\n",
       "           SocialMedia              Extraversion ScreenName        SOVisit1st  \\\n",
       "Respondent                                                                      \n",
       "1              Twitter                    Online   Username              2017   \n",
       "2            Instagram                    Online   Username              2017   \n",
       "3               Reddit  In real life (in person)   Username              2011   \n",
       "4               Reddit  In real life (in person)   Username              2014   \n",
       "5             Facebook  In real life (in person)   Username  I don't remember   \n",
       "\n",
       "                                SOVisitFreq  \\\n",
       "Respondent                                    \n",
       "1           A few times per month or weekly   \n",
       "2                     Daily or almost daily   \n",
       "3                      A few times per week   \n",
       "4                     Daily or almost daily   \n",
       "5                    Multiple times per day   \n",
       "\n",
       "                                                                                          SOVisitTo  \\\n",
       "Respondent                                                                                            \n",
       "1           Find answers to specific questions;Learn how to do things I didn’t necessarily look for   \n",
       "2           Find answers to specific questions;Learn how to do things I didn’t necessarily look for   \n",
       "3           Find answers to specific questions;Learn how to do things I didn’t necessarily look for   \n",
       "4                                          Find answers to specific questions;Pass the time / relax   \n",
       "5                                                                Find answers to specific questions   \n",
       "\n",
       "                           SOFindAnswer                     SOTimeSaved  \\\n",
       "Respondent                                                                \n",
       "1                    3-5 times per week  Stack Overflow was much faster   \n",
       "2                    3-5 times per week  Stack Overflow was much faster   \n",
       "3                   6-10 times per week        They were about the same   \n",
       "4                    1-2 times per week  Stack Overflow was much faster   \n",
       "5           More than 10 times per week  Stack Overflow was much faster   \n",
       "\n",
       "            SOHowMuchTime SOAccount                           SOPartFreq  \\\n",
       "Respondent                                                                 \n",
       "1           31-60 minutes        No                                  NaN   \n",
       "2           11-30 minutes       Yes      A few times per month or weekly   \n",
       "3                     NaN       Yes  Less than once per month or monthly   \n",
       "4           31-60 minutes       Yes  Less than once per month or monthly   \n",
       "5                     NaN       Yes      A few times per month or weekly   \n",
       "\n",
       "                                                                                      SOJobs  \\\n",
       "Respondent                                                                                     \n",
       "1                                      No, I didn't know that Stack Overflow had a job board   \n",
       "2           No, I knew that Stack Overflow had a job board but have never used or visited it   \n",
       "3                                                                                        Yes   \n",
       "4                                                                                        Yes   \n",
       "5           No, I knew that Stack Overflow had a job board but have never used or visited it   \n",
       "\n",
       "                                                                       EntTeams  \\\n",
       "Respondent                                                                        \n",
       "1                                           No, and I don't know what those are   \n",
       "2                                           No, and I don't know what those are   \n",
       "3           No, I've heard of them, but I am not part of a private Q&A instance   \n",
       "4                                           No, and I don't know what those are   \n",
       "5           No, I've heard of them, but I am not part of a private Q&A instance   \n",
       "\n",
       "                     SOComm                            WelcomeChange  \\\n",
       "Respondent                                                             \n",
       "1                   Neutral  Just as welcome now as I felt last year   \n",
       "2             Yes, somewhat  Just as welcome now as I felt last year   \n",
       "3                   Neutral  Just as welcome now as I felt last year   \n",
       "4            No, not really  Just as welcome now as I felt last year   \n",
       "5           Yes, definitely  Just as welcome now as I felt last year   \n",
       "\n",
       "                                                                                                                                                                                SONewContent  \\\n",
       "Respondent                                                                                                                                                                                     \n",
       "1                                               Tech articles written by other developers;Industry news about technologies you're interested in;Courses on technologies you're interested in   \n",
       "2           Tech articles written by other developers;Industry news about technologies you're interested in;Tech meetups or events in your area;Courses on technologies you're interested in   \n",
       "3                                                                                                           Tech meetups or events in your area;Courses on technologies you're interested in   \n",
       "4           Tech articles written by other developers;Industry news about technologies you're interested in;Tech meetups or events in your area;Courses on technologies you're interested in   \n",
       "5                                                                                                           Tech meetups or events in your area;Courses on technologies you're interested in   \n",
       "\n",
       "             Age Gender Trans                Sexuality  \\\n",
       "Respondent                                               \n",
       "1          14.00    Man    No  Straight / Heterosexual   \n",
       "2          19.00    Man    No  Straight / Heterosexual   \n",
       "3          28.00    Man    No  Straight / Heterosexual   \n",
       "4          22.00    Man    No  Straight / Heterosexual   \n",
       "5          30.00    Man    No  Straight / Heterosexual   \n",
       "\n",
       "                                           Ethnicity Dependents  \\\n",
       "Respondent                                                        \n",
       "1                                                NaN         No   \n",
       "2                                                NaN         No   \n",
       "3                                                NaN        Yes   \n",
       "4                       White or of European descent         No   \n",
       "5           White or of European descent;Multiracial         No   \n",
       "\n",
       "                     SurveyLength                  SurveyEase  \n",
       "Respondent                                                     \n",
       "1           Appropriate in length  Neither easy nor difficult  \n",
       "2           Appropriate in length  Neither easy nor difficult  \n",
       "3           Appropriate in length  Neither easy nor difficult  \n",
       "4           Appropriate in length                        Easy  \n",
       "5           Appropriate in length                        Easy  "
      ],
      "text/html": "<div>\n<style scoped>\n    .dataframe tbody tr th:only-of-type {\n        vertical-align: middle;\n    }\n\n    .dataframe tbody tr th {\n        vertical-align: top;\n    }\n\n    .dataframe thead th {\n        text-align: right;\n    }\n</style>\n<table border=\"1\" class=\"dataframe\">\n  <thead>\n    <tr style=\"text-align: right;\">\n      <th></th>\n      <th>MainBranch</th>\n      <th>Hobbyist</th>\n      <th>OpenSourcer</th>\n      <th>OpenSource</th>\n      <th>Employment</th>\n      <th>Country</th>\n      <th>Student</th>\n      <th>EdLevel</th>\n      <th>UndergradMajor</th>\n      <th>EduOther</th>\n      <th>OrgSize</th>\n      <th>DevType</th>\n      <th>YearsCode</th>\n      <th>Age1stCode</th>\n      <th>YearsCodePro</th>\n      <th>CareerSat</th>\n      <th>JobSat</th>\n      <th>MgrIdiot</th>\n      <th>MgrMoney</th>\n      <th>MgrWant</th>\n      <th>JobSeek</th>\n      <th>LastHireDate</th>\n      <th>LastInt</th>\n      <th>FizzBuzz</th>\n      <th>JobFactors</th>\n      <th>ResumeUpdate</th>\n      <th>CurrencySymbol</th>\n      <th>CurrencyDesc</th>\n      <th>CompTotal</th>\n      <th>CompFreq</th>\n      <th>ConvertedComp</th>\n      <th>WorkWeekHrs</th>\n      <th>WorkPlan</th>\n      <th>WorkChallenge</th>\n      <th>WorkRemote</th>\n      <th>WorkLoc</th>\n      <th>ImpSyn</th>\n      <th>CodeRev</th>\n      <th>CodeRevHrs</th>\n      <th>UnitTests</th>\n      <th>PurchaseHow</th>\n      <th>PurchaseWhat</th>\n      <th>LanguageWorkedWith</th>\n      <th>LanguageDesireNextYear</th>\n      <th>DatabaseWorkedWith</th>\n      <th>DatabaseDesireNextYear</th>\n      <th>PlatformWorkedWith</th>\n      <th>PlatformDesireNextYear</th>\n      <th>WebFrameWorkedWith</th>\n      <th>WebFrameDesireNextYear</th>\n      <th>MiscTechWorkedWith</th>\n      <th>MiscTechDesireNextYear</th>\n      <th>DevEnviron</th>\n      <th>OpSys</th>\n      <th>Containers</th>\n      <th>BlockchainOrg</th>\n      <th>BlockchainIs</th>\n      <th>BetterLife</th>\n      <th>ITperson</th>\n      <th>OffOn</th>\n      <th>SocialMedia</th>\n      <th>Extraversion</th>\n      <th>ScreenName</th>\n      <th>SOVisit1st</th>\n      <th>SOVisitFreq</th>\n      <th>SOVisitTo</th>\n      <th>SOFindAnswer</th>\n      <th>SOTimeSaved</th>\n      <th>SOHowMuchTime</th>\n      <th>SOAccount</th>\n      <th>SOPartFreq</th>\n      <th>SOJobs</th>\n      <th>EntTeams</th>\n      <th>SOComm</th>\n      <th>WelcomeChange</th>\n      <th>SONewContent</th>\n      <th>Age</th>\n      <th>Gender</th>\n      <th>Trans</th>\n      <th>Sexuality</th>\n      <th>Ethnicity</th>\n      <th>Dependents</th>\n      <th>SurveyLength</th>\n      <th>SurveyEase</th>\n    </tr>\n    <tr>\n      <th>Respondent</th>\n      <th></th>\n      <th></th>\n      <th></th>\n      <th></th>\n      <th></th>\n      <th></th>\n      <th></th>\n      <th></th>\n      <th></th>\n      <th></th>\n      <th></th>\n      <th></th>\n      <th></th>\n      <th></th>\n      <th></th>\n      <th></th>\n      <th></th>\n      <th></th>\n      <th></th>\n      <th></th>\n      <th></th>\n      <th></th>\n      <th></th>\n      <th></th>\n      <th></th>\n      <th></th>\n      <th></th>\n      <th></th>\n      <th></th>\n      <th></th>\n      <th></th>\n      <th></th>\n      <th></th>\n      <th></th>\n      <th></th>\n      <th></th>\n      <th></th>\n      <th></th>\n      <th></th>\n      <th></th>\n      <th></th>\n      <th></th>\n      <th></th>\n      <th></th>\n      <th></th>\n      <th></th>\n      <th></th>\n      <th></th>\n      <th></th>\n      <th></th>\n      <th></th>\n      <th></th>\n      <th></th>\n      <th></th>\n      <th></th>\n      <th></th>\n      <th></th>\n      <th></th>\n      <th></th>\n      <th></th>\n      <th></th>\n      <th></th>\n      <th></th>\n      <th></th>\n      <th></th>\n      <th></th>\n      <th></th>\n      <th></th>\n      <th></th>\n      <th></th>\n      <th></th>\n      <th></th>\n      <th></th>\n      <th></th>\n      <th></th>\n      <th></th>\n      <th></th>\n      <th></th>\n      <th></th>\n      <th></th>\n      <th></th>\n      <th></th>\n      <th></th>\n      <th></th>\n    </tr>\n  </thead>\n  <tbody>\n    <tr>\n      <th>1</th>\n      <td>I am a student who is learning to code</td>\n      <td>Yes</td>\n      <td>Never</td>\n      <td>The quality of OSS and closed source software is about the same</td>\n      <td>Not employed, and not looking for work</td>\n      <td>United Kingdom</td>\n      <td>No</td>\n      <td>Primary/elementary school</td>\n      <td>NaN</td>\n      <td>Taught yourself a new language, framework, or tool without taking a formal course</td>\n      <td>NaN</td>\n      <td>NaN</td>\n      <td>4</td>\n      <td>10</td>\n      <td>NaN</td>\n      <td>NaN</td>\n      <td>NaN</td>\n      <td>NaN</td>\n      <td>NaN</td>\n      <td>NaN</td>\n      <td>NaN</td>\n      <td>NaN</td>\n      <td>NaN</td>\n      <td>NaN</td>\n      <td>NaN</td>\n      <td>NaN</td>\n      <td>NaN</td>\n      <td>NaN</td>\n      <td>NaN</td>\n      <td>NaN</td>\n      <td>NaN</td>\n      <td>NaN</td>\n      <td>NaN</td>\n      <td>NaN</td>\n      <td>NaN</td>\n      <td>NaN</td>\n      <td>NaN</td>\n      <td>NaN</td>\n      <td>NaN</td>\n      <td>NaN</td>\n      <td>NaN</td>\n      <td>NaN</td>\n      <td>HTML/CSS;Java;JavaScript;Python</td>\n      <td>C;C++;C#;Go;HTML/CSS;Java;JavaScript;Python;SQL</td>\n      <td>SQLite</td>\n      <td>MySQL</td>\n      <td>MacOS;Windows</td>\n      <td>Android;Arduino;Windows</td>\n      <td>Django;Flask</td>\n      <td>Flask;jQuery</td>\n      <td>Node.js</td>\n      <td>Node.js</td>\n      <td>IntelliJ;Notepad++;PyCharm</td>\n      <td>Windows</td>\n      <td>I do not use containers</td>\n      <td>NaN</td>\n      <td>NaN</td>\n      <td>Yes</td>\n      <td>Fortunately, someone else has that title</td>\n      <td>Yes</td>\n      <td>Twitter</td>\n      <td>Online</td>\n      <td>Username</td>\n      <td>2017</td>\n      <td>A few times per month or weekly</td>\n      <td>Find answers to specific questions;Learn how to do things I didn’t necessarily look for</td>\n      <td>3-5 times per week</td>\n      <td>Stack Overflow was much faster</td>\n      <td>31-60 minutes</td>\n      <td>No</td>\n      <td>NaN</td>\n      <td>No, I didn't know that Stack Overflow had a job board</td>\n      <td>No, and I don't know what those are</td>\n      <td>Neutral</td>\n      <td>Just as welcome now as I felt last year</td>\n      <td>Tech articles written by other developers;Industry news about technologies you're interested in;Courses on technologies you're interested in</td>\n      <td>14.00</td>\n      <td>Man</td>\n      <td>No</td>\n      <td>Straight / Heterosexual</td>\n      <td>NaN</td>\n      <td>No</td>\n      <td>Appropriate in length</td>\n      <td>Neither easy nor difficult</td>\n    </tr>\n    <tr>\n      <th>2</th>\n      <td>I am a student who is learning to code</td>\n      <td>No</td>\n      <td>Less than once per year</td>\n      <td>The quality of OSS and closed source software is about the same</td>\n      <td>Not employed, but looking for work</td>\n      <td>Bosnia and Herzegovina</td>\n      <td>Yes, full-time</td>\n      <td>Secondary school (e.g. American high school, German Realschule or Gymnasium, etc.)</td>\n      <td>NaN</td>\n      <td>Taken an online course in programming or software development (e.g. a MOOC)</td>\n      <td>NaN</td>\n      <td>Developer, desktop or enterprise applications;Developer, front-end</td>\n      <td>NaN</td>\n      <td>17</td>\n      <td>NaN</td>\n      <td>NaN</td>\n      <td>NaN</td>\n      <td>NaN</td>\n      <td>NaN</td>\n      <td>NaN</td>\n      <td>I am actively looking for a job</td>\n      <td>I've never had a job</td>\n      <td>NaN</td>\n      <td>NaN</td>\n      <td>Financial performance or funding status of the company or organization;Specific department or team I'd be working on;Languages, frameworks, and other technologies I'd be working with</td>\n      <td>Something else changed (education, award, media, etc.)</td>\n      <td>NaN</td>\n      <td>NaN</td>\n      <td>NaN</td>\n      <td>NaN</td>\n      <td>NaN</td>\n      <td>NaN</td>\n      <td>NaN</td>\n      <td>NaN</td>\n      <td>NaN</td>\n      <td>NaN</td>\n      <td>NaN</td>\n      <td>NaN</td>\n      <td>NaN</td>\n      <td>NaN</td>\n      <td>NaN</td>\n      <td>NaN</td>\n      <td>C++;HTML/CSS;Python</td>\n      <td>C++;HTML/CSS;JavaScript;SQL</td>\n      <td>NaN</td>\n      <td>MySQL</td>\n      <td>Windows</td>\n      <td>Windows</td>\n      <td>Django</td>\n      <td>Django</td>\n      <td>NaN</td>\n      <td>NaN</td>\n      <td>Atom;PyCharm</td>\n      <td>Windows</td>\n      <td>I do not use containers</td>\n      <td>NaN</td>\n      <td>Useful across many domains and could change many aspects of our lives</td>\n      <td>Yes</td>\n      <td>Yes</td>\n      <td>Yes</td>\n      <td>Instagram</td>\n      <td>Online</td>\n      <td>Username</td>\n      <td>2017</td>\n      <td>Daily or almost daily</td>\n      <td>Find answers to specific questions;Learn how to do things I didn’t necessarily look for</td>\n      <td>3-5 times per week</td>\n      <td>Stack Overflow was much faster</td>\n      <td>11-30 minutes</td>\n      <td>Yes</td>\n      <td>A few times per month or weekly</td>\n      <td>No, I knew that Stack Overflow had a job board but have never used or visited it</td>\n      <td>No, and I don't know what those are</td>\n      <td>Yes, somewhat</td>\n      <td>Just as welcome now as I felt last year</td>\n      <td>Tech articles written by other developers;Industry news about technologies you're interested in;Tech meetups or events in your area;Courses on technologies you're interested in</td>\n      <td>19.00</td>\n      <td>Man</td>\n      <td>No</td>\n      <td>Straight / Heterosexual</td>\n      <td>NaN</td>\n      <td>No</td>\n      <td>Appropriate in length</td>\n      <td>Neither easy nor difficult</td>\n    </tr>\n    <tr>\n      <th>3</th>\n      <td>I am not primarily a developer, but I write code sometimes as part of my work</td>\n      <td>Yes</td>\n      <td>Never</td>\n      <td>The quality of OSS and closed source software is about the same</td>\n      <td>Employed full-time</td>\n      <td>Thailand</td>\n      <td>No</td>\n      <td>Bachelor’s degree (BA, BS, B.Eng., etc.)</td>\n      <td>Web development or web design</td>\n      <td>Taught yourself a new language, framework, or tool without taking a formal course</td>\n      <td>100 to 499 employees</td>\n      <td>Designer;Developer, back-end;Developer, front-end;Developer, full-stack</td>\n      <td>3</td>\n      <td>22</td>\n      <td>1</td>\n      <td>Slightly satisfied</td>\n      <td>Slightly satisfied</td>\n      <td>Not at all confident</td>\n      <td>Not sure</td>\n      <td>Not sure</td>\n      <td>I’m not actively looking, but I am open to new opportunities</td>\n      <td>1-2 years ago</td>\n      <td>Interview with people in peer roles</td>\n      <td>No</td>\n      <td>Languages, frameworks, and other technologies I'd be working with;Remote work options;Flex time or a flexible schedule</td>\n      <td>I was preparing for a job search</td>\n      <td>THB</td>\n      <td>Thai baht</td>\n      <td>23000.00</td>\n      <td>Monthly</td>\n      <td>8820.00</td>\n      <td>40.00</td>\n      <td>There's no schedule or spec; I work on what seems most important or urgent</td>\n      <td>Distracting work environment;Inadequate access to necessary tools;Lack of support from management</td>\n      <td>Less than once per month / Never</td>\n      <td>Home</td>\n      <td>Average</td>\n      <td>No</td>\n      <td>NaN</td>\n      <td>No, but I think we should</td>\n      <td>Not sure</td>\n      <td>I have little or no influence</td>\n      <td>HTML/CSS</td>\n      <td>Elixir;HTML/CSS</td>\n      <td>PostgreSQL</td>\n      <td>PostgreSQL</td>\n      <td>NaN</td>\n      <td>NaN</td>\n      <td>NaN</td>\n      <td>Other(s):</td>\n      <td>NaN</td>\n      <td>NaN</td>\n      <td>Vim;Visual Studio Code</td>\n      <td>Linux-based</td>\n      <td>I do not use containers</td>\n      <td>NaN</td>\n      <td>NaN</td>\n      <td>Yes</td>\n      <td>Yes</td>\n      <td>Yes</td>\n      <td>Reddit</td>\n      <td>In real life (in person)</td>\n      <td>Username</td>\n      <td>2011</td>\n      <td>A few times per week</td>\n      <td>Find answers to specific questions;Learn how to do things I didn’t necessarily look for</td>\n      <td>6-10 times per week</td>\n      <td>They were about the same</td>\n      <td>NaN</td>\n      <td>Yes</td>\n      <td>Less than once per month or monthly</td>\n      <td>Yes</td>\n      <td>No, I've heard of them, but I am not part of a private Q&amp;A instance</td>\n      <td>Neutral</td>\n      <td>Just as welcome now as I felt last year</td>\n      <td>Tech meetups or events in your area;Courses on technologies you're interested in</td>\n      <td>28.00</td>\n      <td>Man</td>\n      <td>No</td>\n      <td>Straight / Heterosexual</td>\n      <td>NaN</td>\n      <td>Yes</td>\n      <td>Appropriate in length</td>\n      <td>Neither easy nor difficult</td>\n    </tr>\n    <tr>\n      <th>4</th>\n      <td>I am a developer by profession</td>\n      <td>No</td>\n      <td>Never</td>\n      <td>The quality of OSS and closed source software is about the same</td>\n      <td>Employed full-time</td>\n      <td>United States</td>\n      <td>No</td>\n      <td>Bachelor’s degree (BA, BS, B.Eng., etc.)</td>\n      <td>Computer science, computer engineering, or software engineering</td>\n      <td>Taken an online course in programming or software development (e.g. a MOOC);Received on-the-job training in software development;Taught yourself a new language, framework, or tool without taking a formal course</td>\n      <td>100 to 499 employees</td>\n      <td>Developer, full-stack</td>\n      <td>3</td>\n      <td>16</td>\n      <td>Less than 1 year</td>\n      <td>Very satisfied</td>\n      <td>Slightly satisfied</td>\n      <td>Very confident</td>\n      <td>No</td>\n      <td>Not sure</td>\n      <td>I am not interested in new job opportunities</td>\n      <td>Less than a year ago</td>\n      <td>Write code by hand (e.g., on a whiteboard);Interview with people in senior / management roles</td>\n      <td>No</td>\n      <td>Languages, frameworks, and other technologies I'd be working with;Office environment or company culture;Opportunities for professional development</td>\n      <td>I was preparing for a job search</td>\n      <td>USD</td>\n      <td>United States dollar</td>\n      <td>61000.00</td>\n      <td>Yearly</td>\n      <td>61000.00</td>\n      <td>80.00</td>\n      <td>There's no schedule or spec; I work on what seems most important or urgent</td>\n      <td>NaN</td>\n      <td>Less than once per month / Never</td>\n      <td>Home</td>\n      <td>A little below average</td>\n      <td>No</td>\n      <td>NaN</td>\n      <td>No, but I think we should</td>\n      <td>Developers typically have the most influence on purchasing new technology</td>\n      <td>I have little or no influence</td>\n      <td>C;C++;C#;Python;SQL</td>\n      <td>C;C#;JavaScript;SQL</td>\n      <td>MySQL;SQLite</td>\n      <td>MySQL;SQLite</td>\n      <td>Linux;Windows</td>\n      <td>Linux;Windows</td>\n      <td>NaN</td>\n      <td>NaN</td>\n      <td>.NET</td>\n      <td>.NET</td>\n      <td>Eclipse;Vim;Visual Studio;Visual Studio Code</td>\n      <td>Windows</td>\n      <td>I do not use containers</td>\n      <td>Not at all</td>\n      <td>Useful for decentralized currency (i.e., Bitcoin)</td>\n      <td>Yes</td>\n      <td>SIGH</td>\n      <td>Yes</td>\n      <td>Reddit</td>\n      <td>In real life (in person)</td>\n      <td>Username</td>\n      <td>2014</td>\n      <td>Daily or almost daily</td>\n      <td>Find answers to specific questions;Pass the time / relax</td>\n      <td>1-2 times per week</td>\n      <td>Stack Overflow was much faster</td>\n      <td>31-60 minutes</td>\n      <td>Yes</td>\n      <td>Less than once per month or monthly</td>\n      <td>Yes</td>\n      <td>No, and I don't know what those are</td>\n      <td>No, not really</td>\n      <td>Just as welcome now as I felt last year</td>\n      <td>Tech articles written by other developers;Industry news about technologies you're interested in;Tech meetups or events in your area;Courses on technologies you're interested in</td>\n      <td>22.00</td>\n      <td>Man</td>\n      <td>No</td>\n      <td>Straight / Heterosexual</td>\n      <td>White or of European descent</td>\n      <td>No</td>\n      <td>Appropriate in length</td>\n      <td>Easy</td>\n    </tr>\n    <tr>\n      <th>5</th>\n      <td>I am a developer by profession</td>\n      <td>Yes</td>\n      <td>Once a month or more often</td>\n      <td>OSS is, on average, of HIGHER quality than proprietary / closed source software</td>\n      <td>Employed full-time</td>\n      <td>Ukraine</td>\n      <td>No</td>\n      <td>Bachelor’s degree (BA, BS, B.Eng., etc.)</td>\n      <td>Computer science, computer engineering, or software engineering</td>\n      <td>Taken an online course in programming or software development (e.g. a MOOC);Received on-the-job training in software development;Taught yourself a new language, framework, or tool without taking a formal course;Contributed to open source software</td>\n      <td>10,000 or more employees</td>\n      <td>Academic researcher;Developer, desktop or enterprise applications;Developer, full-stack;Developer, mobile</td>\n      <td>16</td>\n      <td>14</td>\n      <td>9</td>\n      <td>Very dissatisfied</td>\n      <td>Slightly dissatisfied</td>\n      <td>Somewhat confident</td>\n      <td>Yes</td>\n      <td>No</td>\n      <td>I am not interested in new job opportunities</td>\n      <td>Less than a year ago</td>\n      <td>Write any code;Write code by hand (e.g., on a whiteboard);Solve a brain-teaser style puzzle;Interview with people in senior / management roles</td>\n      <td>No</td>\n      <td>Industry that I'd be working in;Languages, frameworks, and other technologies I'd be working with;Flex time or a flexible schedule</td>\n      <td>I was preparing for a job search</td>\n      <td>UAH</td>\n      <td>Ukrainian hryvnia</td>\n      <td>NaN</td>\n      <td>NaN</td>\n      <td>NaN</td>\n      <td>55.00</td>\n      <td>There is a schedule and/or spec (made by me or by a colleague), and I follow it very closely</td>\n      <td>Being tasked with non-development work;Inadequate access to necessary tools;Non-work commitments (parenting, school work, hobbies, etc.)</td>\n      <td>A few days each month</td>\n      <td>Office</td>\n      <td>A little above average</td>\n      <td>Yes, because I see value in code review</td>\n      <td>NaN</td>\n      <td>Yes, it's part of our process</td>\n      <td>Not sure</td>\n      <td>I have little or no influence</td>\n      <td>C++;HTML/CSS;Java;JavaScript;Python;SQL;VBA</td>\n      <td>HTML/CSS;Java;JavaScript;SQL;WebAssembly</td>\n      <td>Couchbase;MongoDB;MySQL;Oracle;PostgreSQL;SQLite</td>\n      <td>Couchbase;Firebase;MongoDB;MySQL;Oracle;PostgreSQL;SQLite</td>\n      <td>Android;Linux;MacOS;Slack;Windows</td>\n      <td>Android;Docker;Kubernetes;Linux;Slack</td>\n      <td>Django;Express;Flask;jQuery;React.js;Spring</td>\n      <td>Flask;jQuery;React.js;Spring</td>\n      <td>Cordova;Node.js</td>\n      <td>Apache Spark;Hadoop;Node.js;React Native</td>\n      <td>IntelliJ;Notepad++;Vim</td>\n      <td>Linux-based</td>\n      <td>Outside of work, for personal projects</td>\n      <td>Not at all</td>\n      <td>NaN</td>\n      <td>Yes</td>\n      <td>Also Yes</td>\n      <td>Yes</td>\n      <td>Facebook</td>\n      <td>In real life (in person)</td>\n      <td>Username</td>\n      <td>I don't remember</td>\n      <td>Multiple times per day</td>\n      <td>Find answers to specific questions</td>\n      <td>More than 10 times per week</td>\n      <td>Stack Overflow was much faster</td>\n      <td>NaN</td>\n      <td>Yes</td>\n      <td>A few times per month or weekly</td>\n      <td>No, I knew that Stack Overflow had a job board but have never used or visited it</td>\n      <td>No, I've heard of them, but I am not part of a private Q&amp;A instance</td>\n      <td>Yes, definitely</td>\n      <td>Just as welcome now as I felt last year</td>\n      <td>Tech meetups or events in your area;Courses on technologies you're interested in</td>\n      <td>30.00</td>\n      <td>Man</td>\n      <td>No</td>\n      <td>Straight / Heterosexual</td>\n      <td>White or of European descent;Multiracial</td>\n      <td>No</td>\n      <td>Appropriate in length</td>\n      <td>Easy</td>\n    </tr>\n  </tbody>\n</table>\n</div>"
     },
     "metadata": {},
     "execution_count": 251
    }
   ],
   "source": [
    "df.head()"
   ]
  },
  {
   "cell_type": "code",
   "execution_count": 252,
   "metadata": {},
   "outputs": [
    {
     "output_type": "execute_result",
     "data": {
      "text/plain": [
       "BlockchainOrg            0.46\n",
       "CodeRevHrs               0.44\n",
       "ConvertedComp            0.37\n",
       "CompTotal                0.37\n",
       "MiscTechWorkedWith       0.33\n",
       "BlockchainIs             0.32\n",
       "PurchaseHow              0.31\n",
       "MgrMoney                 0.31\n",
       "MgrIdiot                 0.31\n",
       "MgrWant                  0.31\n",
       "PurchaseWhat             0.30\n",
       "UnitTests                0.29\n",
       "WebFrameDesireNextYear   0.29\n",
       "CompFreq                 0.29\n",
       "WorkWeekHrs              0.27\n",
       "MiscTechDesireNextYear   0.27\n",
       "WebFrameWorkedWith       0.27\n",
       "LastInt                  0.24\n",
       "WorkChallenge            0.23\n",
       "SOHowMuchTime            0.23\n",
       "WorkPlan                 0.22\n",
       "DatabaseDesireNextYear   0.22\n",
       "SONewContent             0.22\n",
       "WorkLoc                  0.21\n",
       "WorkRemote               0.21\n",
       "CodeRev                  0.21\n",
       "JobSat                   0.20\n",
       "FizzBuzz                 0.20\n",
       "CurrencyDesc             0.20\n",
       "CurrencySymbol           0.20\n",
       "ImpSyn                   0.19\n",
       "OrgSize                  0.19\n",
       "CareerSat                0.18\n",
       "YearsCodePro             0.16\n",
       "SOPartFreq               0.16\n",
       "UndergradMajor           0.15\n",
       "DatabaseWorkedWith       0.14\n",
       "Sexuality                0.14\n",
       "Ethnicity                0.14\n",
       "PlatformDesireNextYear   0.13\n",
       "ResumeUpdate             0.12\n",
       "Age                      0.11\n",
       "JobFactors               0.11\n",
       "LastHireDate             0.10\n",
       "ScreenName               0.09\n",
       "JobSeek                  0.09\n",
       "PlatformWorkedWith       0.09\n",
       "DevType                  0.08\n",
       "Dependents               0.07\n",
       "Trans                    0.06\n",
       "SOVisit1st               0.06\n",
       "LanguageDesireNextYear   0.05\n",
       "EduOther                 0.05\n",
       "SocialMedia              0.05\n",
       "Containers               0.04\n",
       "Gender                   0.04\n",
       "WelcomeChange            0.03\n",
       "BetterLife               0.03\n",
       "SOTimeSaved              0.03\n",
       "EdLevel                  0.03\n",
       "OffOn                    0.02\n",
       "OpenSource               0.02\n",
       "SurveyLength             0.02\n",
       "Student                  0.02\n",
       "SurveyEase               0.02\n",
       "ITperson                 0.02\n",
       "Employment               0.02\n",
       "Extraversion             0.02\n",
       "DevEnviron               0.02\n",
       "LanguageWorkedWith       0.01\n",
       "Age1stCode               0.01\n",
       "SOFindAnswer             0.01\n",
       "SOAccount                0.01\n",
       "EntTeams                 0.01\n",
       "OpSys                    0.01\n",
       "YearsCode                0.01\n",
       "SOJobs                   0.01\n",
       "SOVisitTo                0.01\n",
       "SOComm                   0.01\n",
       "SOVisitFreq              0.01\n",
       "MainBranch               0.01\n",
       "Country                  0.00\n",
       "Hobbyist                 0.00\n",
       "OpenSourcer              0.00\n",
       "dtype: float64"
      ]
     },
     "metadata": {},
     "execution_count": 252
    }
   ],
   "source": [
    "# ⭐️ Missing valuves over 10% cut-off \n",
    "\n",
    "df.isnull().mean().sort_values(ascending=False)#[:'LastHireDate'].index.tolist()"
   ]
  },
  {
   "cell_type": "code",
   "execution_count": 253,
   "metadata": {},
   "outputs": [
    {
     "output_type": "execute_result",
     "data": {
      "text/plain": [
       "2000000.00    709\n",
       "1000000.00    558\n",
       "120000.00     502\n",
       "100000.00     480\n",
       "150000.00     434\n",
       "             ... \n",
       "24156.00        1\n",
       "255720.00       1\n",
       "614.00          1\n",
       "179261.00       1\n",
       "57889.00        1\n",
       "Name: ConvertedComp, Length: 9162, dtype: int64"
      ]
     },
     "metadata": {},
     "execution_count": 253
    }
   ],
   "source": [
    "# df.columns # ConvertedComp\n",
    "\n",
    "df['ConvertedComp'].value_counts()"
   ]
  },
  {
   "cell_type": "code",
   "execution_count": 254,
   "metadata": {},
   "outputs": [
    {
     "output_type": "execute_result",
     "data": {
      "text/plain": [
       "['United States',\n",
       " 'India',\n",
       " 'Germany',\n",
       " 'United Kingdom',\n",
       " 'Canada',\n",
       " 'France',\n",
       " 'Brazil',\n",
       " 'Poland',\n",
       " 'Australia',\n",
       " 'Netherlands',\n",
       " 'Russian Federation',\n",
       " 'Spain',\n",
       " 'Italy',\n",
       " 'Sweden',\n",
       " 'Switzerland',\n",
       " 'Israel',\n",
       " 'Turkey',\n",
       " 'Pakistan',\n",
       " 'Ukraine',\n",
       " 'Austria',\n",
       " 'Czech Republic',\n",
       " 'Romania',\n",
       " 'Iran',\n",
       " 'Belgium',\n",
       " 'China',\n",
       " 'Bulgaria',\n",
       " 'Mexico',\n",
       " 'South Africa',\n",
       " 'Denmark',\n",
       " 'Bangladesh',\n",
       " 'Norway',\n",
       " 'Greece',\n",
       " 'Argentina',\n",
       " 'Finland',\n",
       " 'Portugal',\n",
       " 'New Zealand',\n",
       " 'Nigeria',\n",
       " 'Hungary',\n",
       " 'Indonesia',\n",
       " 'Ireland',\n",
       " 'Serbia',\n",
       " 'Japan',\n",
       " 'Philippines',\n",
       " 'Sri Lanka',\n",
       " 'Egypt',\n",
       " 'Colombia',\n",
       " 'Singapore',\n",
       " 'Malaysia',\n",
       " 'Slovenia',\n",
       " 'Croatia',\n",
       " 'Slovakia',\n",
       " 'Kenya',\n",
       " 'Lithuania',\n",
       " 'Nepal',\n",
       " 'Viet Nam',\n",
       " 'Thailand',\n",
       " 'Chile',\n",
       " 'Belarus',\n",
       " 'Estonia',\n",
       " 'Hong Kong (S.A.R.)',\n",
       " 'Taiwan',\n",
       " 'South Korea',\n",
       " 'United Arab Emirates',\n",
       " 'Morocco',\n",
       " 'Latvia']"
      ]
     },
     "metadata": {},
     "execution_count": 254
    }
   ],
   "source": [
    "# Filter through target list of countries\n",
    "\n",
    "# 🎯 What if we want the 90% percentil instead of Top 50\n",
    "\n",
    "# participants exceeding \"Other Country (Not Listed Above)\" as cut-off for Latvia\n",
    "tgt_regions = df['Country'].value_counts(normalize=True)[:'Latvia'].index.tolist()\n",
    "\n",
    "tgt_regions"
   ]
  },
  {
   "cell_type": "code",
   "execution_count": 255,
   "metadata": {},
   "outputs": [],
   "source": [
    "\"\"\"\n",
    "🎯 对于统计中的NaN，究竟应该如何处理？\n",
    "如果直接作为零，会导致数据偏差\n",
    "但如果不做处理，是否又会影响value_counts, mean, median ???\n",
    "所以最优处理是否找到ignore Na的方法？\n",
    "\n",
    "\n",
    "df['ConvertedComp'].median() # 57_287.0\n",
    "df['ConvertedComp'].mean() # 127_110.0\n",
    "\"\"\"\n",
    "filt = df['Country'].isin(tgt_regions)\n",
    "\n",
    "# Create the new DF\n",
    "df = df[filt]"
   ]
  },
  {
   "cell_type": "code",
   "execution_count": 256,
   "metadata": {},
   "outputs": [
    {
     "output_type": "execute_result",
     "data": {
      "text/plain": [
       "Country\n",
       "United States    110000.00\n",
       "Switzerland       95440.00\n",
       "Israel            90720.00\n",
       "Ireland           83640.00\n",
       "Denmark           82860.00\n",
       "Australia         79783.00\n",
       "Norway            79512.00\n",
       "Canada            68705.00\n",
       "United Kingdom    68041.00\n",
       "New Zealand       63452.00\n",
       "Germany           63016.00\n",
       "Singapore         57758.50\n",
       "Netherlands       57287.00\n",
       "Name: ConvertedComp, dtype: float64"
      ]
     },
     "metadata": {},
     "execution_count": 256
    }
   ],
   "source": [
    "# 这种方法暂时可以，但还是需要解决问题：\n",
    "# 🎯🎯🎯 对于超过全球中位数的测评者，在各国中所占的比例\n",
    "\n",
    "# How to slice series based on condition (E.g. value > 57_287.0)\n",
    "\n",
    "# pandas.core.series.Series\n",
    "\n",
    "salary_df = df.groupby('Country')['ConvertedComp'].median().sort_values(ascending=False)\n",
    "\n",
    "salary_df[salary_df.values >= 57_287]"
   ]
  },
  {
   "cell_type": "code",
   "execution_count": 257,
   "metadata": {},
   "outputs": [
    {
     "output_type": "execute_result",
     "data": {
      "text/plain": [
       "Country\n",
       "Sweden                 56004.00\n",
       "Finland                55569.00\n",
       "Hong Kong (S.A.R.)     53520.00\n",
       "Austria                51559.00\n",
       "Japan                  51326.50\n",
       "United Arab Emirates   49008.00\n",
       "Belgium                48120.00\n",
       "France                 46752.00\n",
       "South Korea            40950.50\n",
       "Spain                  40101.00\n",
       "South Africa           38354.00\n",
       "Estonia                37237.00\n",
       "Czech Republic         35637.00\n",
       "Italy                  35518.00\n",
       "Slovenia               34368.00\n",
       "Lithuania              33000.00\n",
       "Slovakia               32658.00\n",
       "Poland                 32064.00\n",
       "Latvia                 31620.00\n",
       "Romania                31224.00\n",
       "Thailand               30672.00\n",
       "China                  28464.00\n",
       "Bulgaria               28080.00\n",
       "Taiwan                 27954.00\n",
       "Chile                  27528.00\n",
       "Ukraine                26940.00\n",
       "Hungary                26412.00\n",
       "Portugal               26124.00\n",
       "Serbia                 24672.00\n",
       "Croatia                24108.00\n",
       "Belarus                24000.00\n",
       "Russian Federation     23832.00\n",
       "Greece                 22457.00\n",
       "Brazil                 18036.00\n",
       "Argentina              17760.00\n",
       "Turkey                 17280.00\n",
       "Mexico                 16968.00\n",
       "Malaysia               16890.00\n",
       "Colombia               15528.00\n",
       "Morocco                15132.00\n",
       "Kenya                  11940.00\n",
       "Viet Nam               11892.00\n",
       "Iran                   10620.00\n",
       "India                  10080.00\n",
       "Philippines             9750.00\n",
       "Egypt                   8844.00\n",
       "Bangladesh              8764.00\n",
       "Indonesia               7740.00\n",
       "Sri Lanka               7476.00\n",
       "Pakistan                7368.00\n",
       "Nigeria                 5988.00\n",
       "Nepal                   4224.00\n",
       "Name: ConvertedComp, dtype: float64"
      ]
     },
     "metadata": {},
     "execution_count": 257
    }
   ],
   "source": [
    "salary_df[salary_df.values < 57_287]"
   ]
  },
  {
   "cell_type": "code",
   "execution_count": 258,
   "metadata": {},
   "outputs": [],
   "source": [
    "us_df = df[df['Country'] == 'United States']"
   ]
  },
  {
   "cell_type": "code",
   "execution_count": 284,
   "metadata": {},
   "outputs": [
    {
     "output_type": "execute_result",
     "data": {
      "text/plain": [
       "14981"
      ]
     },
     "metadata": {},
     "execution_count": 284
    }
   ],
   "source": [
    "# 在美国中超过平均的比例\n",
    "# 20949\n",
    "\n",
    "len(us_df['ConvertedComp'].dropna())"
   ]
  },
  {
   "cell_type": "code",
   "execution_count": 282,
   "metadata": {},
   "outputs": [
    {
     "output_type": "execute_result",
     "data": {
      "text/plain": [
       "13554"
      ]
     },
     "metadata": {},
     "execution_count": 282
    }
   ],
   "source": [
    "tbd = us_df['ConvertedComp']\n",
    "\n",
    "len(tbd[tbd.values >= 57_287])"
   ]
  },
  {
   "cell_type": "code",
   "execution_count": 285,
   "metadata": {},
   "outputs": [
    {
     "output_type": "execute_result",
     "data": {
      "text/plain": [
       "0.904746011614712"
      ]
     },
     "metadata": {},
     "execution_count": 285
    }
   ],
   "source": [
    "len(tbd[tbd.values >= 57_287]) / len(us_df['ConvertedComp'].dropna())"
   ]
  },
  {
   "cell_type": "code",
   "execution_count": 308,
   "metadata": {},
   "outputs": [],
   "source": [
    "li_reg = []\n",
    "li_pct = []\n",
    "\n",
    "for region in tgt_regions:\n",
    "    one_df = df[df['Country'] == region]\n",
    "    tbd = one_df['ConvertedComp']\n",
    "\n",
    "    li_reg.append(region)\n",
    "    li_pct.append(round(len(tbd[tbd.values >= 57_287]) / len(one_df['ConvertedComp'].dropna()), 4))\n",
    "    \n",
    "    # print(region, round(len(tbd[tbd.values >= 57_287]) / len(one_df['ConvertedComp'].dropna()), 4))"
   ]
  },
  {
   "cell_type": "code",
   "execution_count": 311,
   "metadata": {},
   "outputs": [
    {
     "output_type": "execute_result",
     "data": {
      "text/plain": [
       "                 Regions  Pct_over_avg\n",
       "0          United States        0.9047\n",
       "1                  India        0.0773\n",
       "2                Germany        0.5993\n",
       "3         United Kingdom        0.6235\n",
       "4                 Canada        0.6393\n",
       "5                 France        0.3500\n",
       "6                 Brazil        0.0843\n",
       "7                 Poland        0.1469\n",
       "8              Australia        0.7867\n",
       "9            Netherlands        0.5075\n",
       "10    Russian Federation        0.0570\n",
       "11                 Spain        0.2830\n",
       "12                 Italy        0.2511\n",
       "13                Sweden        0.4730\n",
       "14           Switzerland        0.8348\n",
       "15                Israel        0.7703\n",
       "16                Turkey        0.0378\n",
       "17              Pakistan        0.0071\n",
       "18               Ukraine        0.0996\n",
       "19               Austria        0.4277\n",
       "20        Czech Republic        0.1615\n",
       "21               Romania        0.1855\n",
       "22                  Iran        0.0286\n",
       "23               Belgium        0.3384\n",
       "24                 China        0.1741\n",
       "25              Bulgaria        0.1538\n",
       "26                Mexico        0.0778\n",
       "27          South Africa        0.2990\n",
       "28               Denmark        0.8333\n",
       "29            Bangladesh        0.0360\n",
       "30                Norway        0.8876\n",
       "31                Greece        0.1331\n",
       "32             Argentina        0.0969\n",
       "33               Finland        0.4817\n",
       "34              Portugal        0.1348\n",
       "35           New Zealand        0.5882\n",
       "36               Nigeria        0.0201\n",
       "37               Hungary        0.0881\n",
       "38             Indonesia        0.0425\n",
       "39               Ireland        0.7755\n",
       "40                Serbia        0.1182\n",
       "41                 Japan        0.4115\n",
       "42           Philippines        0.0461\n",
       "43             Sri Lanka        0.0242\n",
       "44                 Egypt        0.0397\n",
       "45              Colombia        0.0714\n",
       "46             Singapore        0.5064\n",
       "47              Malaysia        0.0357\n",
       "48              Slovenia        0.1912\n",
       "49               Croatia        0.1488\n",
       "50              Slovakia        0.1133\n",
       "51                 Kenya        0.0300\n",
       "52             Lithuania        0.1801\n",
       "53                 Nepal        0.0241\n",
       "54              Viet Nam        0.0345\n",
       "55              Thailand        0.2621\n",
       "56                 Chile        0.1389\n",
       "57               Belarus        0.1048\n",
       "58               Estonia        0.1915\n",
       "59    Hong Kong (S.A.R.)        0.4352\n",
       "60                Taiwan        0.1111\n",
       "61           South Korea        0.2000\n",
       "62  United Arab Emirates        0.3409\n",
       "63               Morocco        0.0488\n",
       "64                Latvia        0.1633"
      ],
      "text/html": "<div>\n<style scoped>\n    .dataframe tbody tr th:only-of-type {\n        vertical-align: middle;\n    }\n\n    .dataframe tbody tr th {\n        vertical-align: top;\n    }\n\n    .dataframe thead th {\n        text-align: right;\n    }\n</style>\n<table border=\"1\" class=\"dataframe\">\n  <thead>\n    <tr style=\"text-align: right;\">\n      <th></th>\n      <th>Regions</th>\n      <th>Pct_over_avg</th>\n    </tr>\n  </thead>\n  <tbody>\n    <tr>\n      <th>0</th>\n      <td>United States</td>\n      <td>0.9047</td>\n    </tr>\n    <tr>\n      <th>1</th>\n      <td>India</td>\n      <td>0.0773</td>\n    </tr>\n    <tr>\n      <th>2</th>\n      <td>Germany</td>\n      <td>0.5993</td>\n    </tr>\n    <tr>\n      <th>3</th>\n      <td>United Kingdom</td>\n      <td>0.6235</td>\n    </tr>\n    <tr>\n      <th>4</th>\n      <td>Canada</td>\n      <td>0.6393</td>\n    </tr>\n    <tr>\n      <th>5</th>\n      <td>France</td>\n      <td>0.3500</td>\n    </tr>\n    <tr>\n      <th>6</th>\n      <td>Brazil</td>\n      <td>0.0843</td>\n    </tr>\n    <tr>\n      <th>7</th>\n      <td>Poland</td>\n      <td>0.1469</td>\n    </tr>\n    <tr>\n      <th>8</th>\n      <td>Australia</td>\n      <td>0.7867</td>\n    </tr>\n    <tr>\n      <th>9</th>\n      <td>Netherlands</td>\n      <td>0.5075</td>\n    </tr>\n    <tr>\n      <th>10</th>\n      <td>Russian Federation</td>\n      <td>0.0570</td>\n    </tr>\n    <tr>\n      <th>11</th>\n      <td>Spain</td>\n      <td>0.2830</td>\n    </tr>\n    <tr>\n      <th>12</th>\n      <td>Italy</td>\n      <td>0.2511</td>\n    </tr>\n    <tr>\n      <th>13</th>\n      <td>Sweden</td>\n      <td>0.4730</td>\n    </tr>\n    <tr>\n      <th>14</th>\n      <td>Switzerland</td>\n      <td>0.8348</td>\n    </tr>\n    <tr>\n      <th>15</th>\n      <td>Israel</td>\n      <td>0.7703</td>\n    </tr>\n    <tr>\n      <th>16</th>\n      <td>Turkey</td>\n      <td>0.0378</td>\n    </tr>\n    <tr>\n      <th>17</th>\n      <td>Pakistan</td>\n      <td>0.0071</td>\n    </tr>\n    <tr>\n      <th>18</th>\n      <td>Ukraine</td>\n      <td>0.0996</td>\n    </tr>\n    <tr>\n      <th>19</th>\n      <td>Austria</td>\n      <td>0.4277</td>\n    </tr>\n    <tr>\n      <th>20</th>\n      <td>Czech Republic</td>\n      <td>0.1615</td>\n    </tr>\n    <tr>\n      <th>21</th>\n      <td>Romania</td>\n      <td>0.1855</td>\n    </tr>\n    <tr>\n      <th>22</th>\n      <td>Iran</td>\n      <td>0.0286</td>\n    </tr>\n    <tr>\n      <th>23</th>\n      <td>Belgium</td>\n      <td>0.3384</td>\n    </tr>\n    <tr>\n      <th>24</th>\n      <td>China</td>\n      <td>0.1741</td>\n    </tr>\n    <tr>\n      <th>25</th>\n      <td>Bulgaria</td>\n      <td>0.1538</td>\n    </tr>\n    <tr>\n      <th>26</th>\n      <td>Mexico</td>\n      <td>0.0778</td>\n    </tr>\n    <tr>\n      <th>27</th>\n      <td>South Africa</td>\n      <td>0.2990</td>\n    </tr>\n    <tr>\n      <th>28</th>\n      <td>Denmark</td>\n      <td>0.8333</td>\n    </tr>\n    <tr>\n      <th>29</th>\n      <td>Bangladesh</td>\n      <td>0.0360</td>\n    </tr>\n    <tr>\n      <th>30</th>\n      <td>Norway</td>\n      <td>0.8876</td>\n    </tr>\n    <tr>\n      <th>31</th>\n      <td>Greece</td>\n      <td>0.1331</td>\n    </tr>\n    <tr>\n      <th>32</th>\n      <td>Argentina</td>\n      <td>0.0969</td>\n    </tr>\n    <tr>\n      <th>33</th>\n      <td>Finland</td>\n      <td>0.4817</td>\n    </tr>\n    <tr>\n      <th>34</th>\n      <td>Portugal</td>\n      <td>0.1348</td>\n    </tr>\n    <tr>\n      <th>35</th>\n      <td>New Zealand</td>\n      <td>0.5882</td>\n    </tr>\n    <tr>\n      <th>36</th>\n      <td>Nigeria</td>\n      <td>0.0201</td>\n    </tr>\n    <tr>\n      <th>37</th>\n      <td>Hungary</td>\n      <td>0.0881</td>\n    </tr>\n    <tr>\n      <th>38</th>\n      <td>Indonesia</td>\n      <td>0.0425</td>\n    </tr>\n    <tr>\n      <th>39</th>\n      <td>Ireland</td>\n      <td>0.7755</td>\n    </tr>\n    <tr>\n      <th>40</th>\n      <td>Serbia</td>\n      <td>0.1182</td>\n    </tr>\n    <tr>\n      <th>41</th>\n      <td>Japan</td>\n      <td>0.4115</td>\n    </tr>\n    <tr>\n      <th>42</th>\n      <td>Philippines</td>\n      <td>0.0461</td>\n    </tr>\n    <tr>\n      <th>43</th>\n      <td>Sri Lanka</td>\n      <td>0.0242</td>\n    </tr>\n    <tr>\n      <th>44</th>\n      <td>Egypt</td>\n      <td>0.0397</td>\n    </tr>\n    <tr>\n      <th>45</th>\n      <td>Colombia</td>\n      <td>0.0714</td>\n    </tr>\n    <tr>\n      <th>46</th>\n      <td>Singapore</td>\n      <td>0.5064</td>\n    </tr>\n    <tr>\n      <th>47</th>\n      <td>Malaysia</td>\n      <td>0.0357</td>\n    </tr>\n    <tr>\n      <th>48</th>\n      <td>Slovenia</td>\n      <td>0.1912</td>\n    </tr>\n    <tr>\n      <th>49</th>\n      <td>Croatia</td>\n      <td>0.1488</td>\n    </tr>\n    <tr>\n      <th>50</th>\n      <td>Slovakia</td>\n      <td>0.1133</td>\n    </tr>\n    <tr>\n      <th>51</th>\n      <td>Kenya</td>\n      <td>0.0300</td>\n    </tr>\n    <tr>\n      <th>52</th>\n      <td>Lithuania</td>\n      <td>0.1801</td>\n    </tr>\n    <tr>\n      <th>53</th>\n      <td>Nepal</td>\n      <td>0.0241</td>\n    </tr>\n    <tr>\n      <th>54</th>\n      <td>Viet Nam</td>\n      <td>0.0345</td>\n    </tr>\n    <tr>\n      <th>55</th>\n      <td>Thailand</td>\n      <td>0.2621</td>\n    </tr>\n    <tr>\n      <th>56</th>\n      <td>Chile</td>\n      <td>0.1389</td>\n    </tr>\n    <tr>\n      <th>57</th>\n      <td>Belarus</td>\n      <td>0.1048</td>\n    </tr>\n    <tr>\n      <th>58</th>\n      <td>Estonia</td>\n      <td>0.1915</td>\n    </tr>\n    <tr>\n      <th>59</th>\n      <td>Hong Kong (S.A.R.)</td>\n      <td>0.4352</td>\n    </tr>\n    <tr>\n      <th>60</th>\n      <td>Taiwan</td>\n      <td>0.1111</td>\n    </tr>\n    <tr>\n      <th>61</th>\n      <td>South Korea</td>\n      <td>0.2000</td>\n    </tr>\n    <tr>\n      <th>62</th>\n      <td>United Arab Emirates</td>\n      <td>0.3409</td>\n    </tr>\n    <tr>\n      <th>63</th>\n      <td>Morocco</td>\n      <td>0.0488</td>\n    </tr>\n    <tr>\n      <th>64</th>\n      <td>Latvia</td>\n      <td>0.1633</td>\n    </tr>\n  </tbody>\n</table>\n</div>"
     },
     "metadata": {},
     "execution_count": 311
    }
   ],
   "source": [
    "# ✅ Take multiple lists into dataframe ⭐️\n",
    "# 🧠 pd.DataFrame({dict}) -> DataFrame({}) NOTE: {} within ()\n",
    "\n",
    "pct_df = pd.DataFrame({\n",
    "    'Regions': li_reg,\n",
    "    'Pct_over_avg': li_pct\n",
    "})\n",
    "\n",
    "pct_df"
   ]
  },
  {
   "cell_type": "code",
   "execution_count": 312,
   "metadata": {},
   "outputs": [
    {
     "output_type": "execute_result",
     "data": {
      "text/plain": [
       "                 Regions  Pct_over_avg\n",
       "0          United States        0.9047\n",
       "30                Norway        0.8876\n",
       "14           Switzerland        0.8348\n",
       "28               Denmark        0.8333\n",
       "8              Australia        0.7867\n",
       "39               Ireland        0.7755\n",
       "15                Israel        0.7703\n",
       "4                 Canada        0.6393\n",
       "3         United Kingdom        0.6235\n",
       "2                Germany        0.5993\n",
       "35           New Zealand        0.5882\n",
       "9            Netherlands        0.5075\n",
       "46             Singapore        0.5064\n",
       "33               Finland        0.4817\n",
       "13                Sweden        0.4730\n",
       "59    Hong Kong (S.A.R.)        0.4352\n",
       "19               Austria        0.4277\n",
       "41                 Japan        0.4115\n",
       "5                 France        0.3500\n",
       "62  United Arab Emirates        0.3409\n",
       "23               Belgium        0.3384\n",
       "27          South Africa        0.2990\n",
       "11                 Spain        0.2830\n",
       "55              Thailand        0.2621\n",
       "12                 Italy        0.2511\n",
       "61           South Korea        0.2000\n",
       "58               Estonia        0.1915\n",
       "48              Slovenia        0.1912\n",
       "21               Romania        0.1855\n",
       "52             Lithuania        0.1801\n",
       "24                 China        0.1741\n",
       "64                Latvia        0.1633\n",
       "20        Czech Republic        0.1615\n",
       "25              Bulgaria        0.1538\n",
       "49               Croatia        0.1488\n",
       "7                 Poland        0.1469\n",
       "56                 Chile        0.1389\n",
       "34              Portugal        0.1348\n",
       "31                Greece        0.1331\n",
       "40                Serbia        0.1182\n",
       "50              Slovakia        0.1133\n",
       "60                Taiwan        0.1111\n",
       "57               Belarus        0.1048\n",
       "18               Ukraine        0.0996\n",
       "32             Argentina        0.0969\n",
       "37               Hungary        0.0881\n",
       "6                 Brazil        0.0843\n",
       "26                Mexico        0.0778\n",
       "1                  India        0.0773\n",
       "45              Colombia        0.0714\n",
       "10    Russian Federation        0.0570\n",
       "63               Morocco        0.0488\n",
       "42           Philippines        0.0461\n",
       "38             Indonesia        0.0425\n",
       "44                 Egypt        0.0397\n",
       "16                Turkey        0.0378\n",
       "29            Bangladesh        0.0360\n",
       "47              Malaysia        0.0357\n",
       "54              Viet Nam        0.0345\n",
       "51                 Kenya        0.0300\n",
       "22                  Iran        0.0286\n",
       "43             Sri Lanka        0.0242\n",
       "53                 Nepal        0.0241\n",
       "36               Nigeria        0.0201\n",
       "17              Pakistan        0.0071"
      ],
      "text/html": "<div>\n<style scoped>\n    .dataframe tbody tr th:only-of-type {\n        vertical-align: middle;\n    }\n\n    .dataframe tbody tr th {\n        vertical-align: top;\n    }\n\n    .dataframe thead th {\n        text-align: right;\n    }\n</style>\n<table border=\"1\" class=\"dataframe\">\n  <thead>\n    <tr style=\"text-align: right;\">\n      <th></th>\n      <th>Regions</th>\n      <th>Pct_over_avg</th>\n    </tr>\n  </thead>\n  <tbody>\n    <tr>\n      <th>0</th>\n      <td>United States</td>\n      <td>0.9047</td>\n    </tr>\n    <tr>\n      <th>30</th>\n      <td>Norway</td>\n      <td>0.8876</td>\n    </tr>\n    <tr>\n      <th>14</th>\n      <td>Switzerland</td>\n      <td>0.8348</td>\n    </tr>\n    <tr>\n      <th>28</th>\n      <td>Denmark</td>\n      <td>0.8333</td>\n    </tr>\n    <tr>\n      <th>8</th>\n      <td>Australia</td>\n      <td>0.7867</td>\n    </tr>\n    <tr>\n      <th>39</th>\n      <td>Ireland</td>\n      <td>0.7755</td>\n    </tr>\n    <tr>\n      <th>15</th>\n      <td>Israel</td>\n      <td>0.7703</td>\n    </tr>\n    <tr>\n      <th>4</th>\n      <td>Canada</td>\n      <td>0.6393</td>\n    </tr>\n    <tr>\n      <th>3</th>\n      <td>United Kingdom</td>\n      <td>0.6235</td>\n    </tr>\n    <tr>\n      <th>2</th>\n      <td>Germany</td>\n      <td>0.5993</td>\n    </tr>\n    <tr>\n      <th>35</th>\n      <td>New Zealand</td>\n      <td>0.5882</td>\n    </tr>\n    <tr>\n      <th>9</th>\n      <td>Netherlands</td>\n      <td>0.5075</td>\n    </tr>\n    <tr>\n      <th>46</th>\n      <td>Singapore</td>\n      <td>0.5064</td>\n    </tr>\n    <tr>\n      <th>33</th>\n      <td>Finland</td>\n      <td>0.4817</td>\n    </tr>\n    <tr>\n      <th>13</th>\n      <td>Sweden</td>\n      <td>0.4730</td>\n    </tr>\n    <tr>\n      <th>59</th>\n      <td>Hong Kong (S.A.R.)</td>\n      <td>0.4352</td>\n    </tr>\n    <tr>\n      <th>19</th>\n      <td>Austria</td>\n      <td>0.4277</td>\n    </tr>\n    <tr>\n      <th>41</th>\n      <td>Japan</td>\n      <td>0.4115</td>\n    </tr>\n    <tr>\n      <th>5</th>\n      <td>France</td>\n      <td>0.3500</td>\n    </tr>\n    <tr>\n      <th>62</th>\n      <td>United Arab Emirates</td>\n      <td>0.3409</td>\n    </tr>\n    <tr>\n      <th>23</th>\n      <td>Belgium</td>\n      <td>0.3384</td>\n    </tr>\n    <tr>\n      <th>27</th>\n      <td>South Africa</td>\n      <td>0.2990</td>\n    </tr>\n    <tr>\n      <th>11</th>\n      <td>Spain</td>\n      <td>0.2830</td>\n    </tr>\n    <tr>\n      <th>55</th>\n      <td>Thailand</td>\n      <td>0.2621</td>\n    </tr>\n    <tr>\n      <th>12</th>\n      <td>Italy</td>\n      <td>0.2511</td>\n    </tr>\n    <tr>\n      <th>61</th>\n      <td>South Korea</td>\n      <td>0.2000</td>\n    </tr>\n    <tr>\n      <th>58</th>\n      <td>Estonia</td>\n      <td>0.1915</td>\n    </tr>\n    <tr>\n      <th>48</th>\n      <td>Slovenia</td>\n      <td>0.1912</td>\n    </tr>\n    <tr>\n      <th>21</th>\n      <td>Romania</td>\n      <td>0.1855</td>\n    </tr>\n    <tr>\n      <th>52</th>\n      <td>Lithuania</td>\n      <td>0.1801</td>\n    </tr>\n    <tr>\n      <th>24</th>\n      <td>China</td>\n      <td>0.1741</td>\n    </tr>\n    <tr>\n      <th>64</th>\n      <td>Latvia</td>\n      <td>0.1633</td>\n    </tr>\n    <tr>\n      <th>20</th>\n      <td>Czech Republic</td>\n      <td>0.1615</td>\n    </tr>\n    <tr>\n      <th>25</th>\n      <td>Bulgaria</td>\n      <td>0.1538</td>\n    </tr>\n    <tr>\n      <th>49</th>\n      <td>Croatia</td>\n      <td>0.1488</td>\n    </tr>\n    <tr>\n      <th>7</th>\n      <td>Poland</td>\n      <td>0.1469</td>\n    </tr>\n    <tr>\n      <th>56</th>\n      <td>Chile</td>\n      <td>0.1389</td>\n    </tr>\n    <tr>\n      <th>34</th>\n      <td>Portugal</td>\n      <td>0.1348</td>\n    </tr>\n    <tr>\n      <th>31</th>\n      <td>Greece</td>\n      <td>0.1331</td>\n    </tr>\n    <tr>\n      <th>40</th>\n      <td>Serbia</td>\n      <td>0.1182</td>\n    </tr>\n    <tr>\n      <th>50</th>\n      <td>Slovakia</td>\n      <td>0.1133</td>\n    </tr>\n    <tr>\n      <th>60</th>\n      <td>Taiwan</td>\n      <td>0.1111</td>\n    </tr>\n    <tr>\n      <th>57</th>\n      <td>Belarus</td>\n      <td>0.1048</td>\n    </tr>\n    <tr>\n      <th>18</th>\n      <td>Ukraine</td>\n      <td>0.0996</td>\n    </tr>\n    <tr>\n      <th>32</th>\n      <td>Argentina</td>\n      <td>0.0969</td>\n    </tr>\n    <tr>\n      <th>37</th>\n      <td>Hungary</td>\n      <td>0.0881</td>\n    </tr>\n    <tr>\n      <th>6</th>\n      <td>Brazil</td>\n      <td>0.0843</td>\n    </tr>\n    <tr>\n      <th>26</th>\n      <td>Mexico</td>\n      <td>0.0778</td>\n    </tr>\n    <tr>\n      <th>1</th>\n      <td>India</td>\n      <td>0.0773</td>\n    </tr>\n    <tr>\n      <th>45</th>\n      <td>Colombia</td>\n      <td>0.0714</td>\n    </tr>\n    <tr>\n      <th>10</th>\n      <td>Russian Federation</td>\n      <td>0.0570</td>\n    </tr>\n    <tr>\n      <th>63</th>\n      <td>Morocco</td>\n      <td>0.0488</td>\n    </tr>\n    <tr>\n      <th>42</th>\n      <td>Philippines</td>\n      <td>0.0461</td>\n    </tr>\n    <tr>\n      <th>38</th>\n      <td>Indonesia</td>\n      <td>0.0425</td>\n    </tr>\n    <tr>\n      <th>44</th>\n      <td>Egypt</td>\n      <td>0.0397</td>\n    </tr>\n    <tr>\n      <th>16</th>\n      <td>Turkey</td>\n      <td>0.0378</td>\n    </tr>\n    <tr>\n      <th>29</th>\n      <td>Bangladesh</td>\n      <td>0.0360</td>\n    </tr>\n    <tr>\n      <th>47</th>\n      <td>Malaysia</td>\n      <td>0.0357</td>\n    </tr>\n    <tr>\n      <th>54</th>\n      <td>Viet Nam</td>\n      <td>0.0345</td>\n    </tr>\n    <tr>\n      <th>51</th>\n      <td>Kenya</td>\n      <td>0.0300</td>\n    </tr>\n    <tr>\n      <th>22</th>\n      <td>Iran</td>\n      <td>0.0286</td>\n    </tr>\n    <tr>\n      <th>43</th>\n      <td>Sri Lanka</td>\n      <td>0.0242</td>\n    </tr>\n    <tr>\n      <th>53</th>\n      <td>Nepal</td>\n      <td>0.0241</td>\n    </tr>\n    <tr>\n      <th>36</th>\n      <td>Nigeria</td>\n      <td>0.0201</td>\n    </tr>\n    <tr>\n      <th>17</th>\n      <td>Pakistan</td>\n      <td>0.0071</td>\n    </tr>\n  </tbody>\n</table>\n</div>"
     },
     "metadata": {},
     "execution_count": 312
    }
   ],
   "source": [
    "pct_df.sort_values(by='Pct_over_avg', ascending=False)"
   ]
  },
  {
   "cell_type": "code",
   "execution_count": 314,
   "metadata": {},
   "outputs": [
    {
     "output_type": "execute_result",
     "data": {
      "text/plain": [
       "(88883, 84)"
      ]
     },
     "metadata": {},
     "execution_count": 314
    }
   ],
   "source": [
    "df.shape"
   ]
  },
  {
   "cell_type": "code",
   "execution_count": null,
   "metadata": {},
   "outputs": [],
   "source": []
  }
 ]
}
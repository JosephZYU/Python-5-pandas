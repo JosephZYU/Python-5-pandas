{
 "metadata": {
  "language_info": {
   "codemirror_mode": {
    "name": "ipython",
    "version": 3
   },
   "file_extension": ".py",
   "mimetype": "text/x-python",
   "name": "python",
   "nbconvert_exporter": "python",
   "pygments_lexer": "ipython3",
   "version": "3.9.0-final"
  },
  "orig_nbformat": 2,
  "kernelspec": {
   "name": "python3",
   "display_name": "Python 3",
   "language": "python"
  }
 },
 "nbformat": 4,
 "nbformat_minor": 2,
 "cells": [
  {
   "cell_type": "code",
   "execution_count": 1,
   "metadata": {},
   "outputs": [],
   "source": [
    "import numpy as np\n",
    "import pandas as pd"
   ]
  },
  {
   "cell_type": "code",
   "execution_count": 2,
   "metadata": {},
   "outputs": [],
   "source": [
    "# Constructor Key Value Pair 字典构建\n",
    "# 🧭 Each column first of all a Serie, and a 1-dimensional DataFrame! 列即一维DF\n",
    "# 🧠 dict = {}\n",
    "\n",
    "\"\"\"\n",
    "\n",
    "dict = {\n",
    "    'key_1': [],\n",
    "    'key_2': [],\n",
    "    'key_2': [],\n",
    "}\n",
    "\n",
    "\"\"\"\n",
    "\n",
    "people = {\n",
    "    \"first\":['Corey', 'Jane', 'John'],\n",
    "    \"last\":['Schafer', 'Doe', 'Smith'],\n",
    "    \"email\":['CoreySchafer@gmail.com','JaneDoe@hotmail.com','JohnSmith@outlook.com'],\n",
    "}"
   ]
  },
  {
   "cell_type": "code",
   "execution_count": 3,
   "metadata": {},
   "outputs": [],
   "source": [
    "# ⭐️ display full (non-truncated) dataframe information\n",
    "# 🧠 'display.max_colwidth', None -> \n",
    "\n",
    "pd.set_option('display.max_columns', 100)\n",
    "pd.set_option('display.max_rows', 100)\n",
    "pd.set_option('display.max_colwidth', None)  # None or -1\n",
    "\n",
    "# Data Sources\n",
    "survey_source = '/Users/josephyu/Documents/GitHub/data/survey_results_public.csv'\n",
    "schema_source = '/Users/josephyu/Documents/GitHub/data/survey_results_schema.csv'\n",
    "\n",
    "# Create Data Frame\n",
    "df = pd.read_csv(survey_source, index_col = 'Respondent')\n",
    "schema_df = pd.read_csv(schema_source, index_col = 'Column')"
   ]
  },
  {
   "cell_type": "code",
   "execution_count": 21,
   "metadata": {},
   "outputs": [
    {
     "output_type": "execute_result",
     "data": {
      "text/plain": [
       "pandas.core.frame.DataFrame"
      ]
     },
     "metadata": {},
     "execution_count": 21
    }
   ],
   "source": [
    "type(schema_df)"
   ]
  },
  {
   "cell_type": "code",
   "execution_count": 34,
   "metadata": {},
   "outputs": [
    {
     "output_type": "execute_result",
     "data": {
      "text/plain": [
       "                                                                                                                                                                                                                                                                                                                QuestionText\n",
       "Column                                                                                                                                                                                                                                                                                                                      \n",
       "MgrIdiot                                                                                                                                                                                                                                                   How confident are you that your manager knows what they’re doing?\n",
       "LanguageWorkedWith      Which of the following programming, scripting, and markup languages have you done extensive development work in over the past year, and which do you want to work in over the next year?  (If you both worked with the language and want to continue to do so, please check both boxes in that row.)\n",
       "LanguageDesireNextYear  Which of the following programming, scripting, and markup languages have you done extensive development work in over the past year, and which do you want to work in over the next year?  (If you both worked with the language and want to continue to do so, please check both boxes in that row.)"
      ],
      "text/html": "<div>\n<style scoped>\n    .dataframe tbody tr th:only-of-type {\n        vertical-align: middle;\n    }\n\n    .dataframe tbody tr th {\n        vertical-align: top;\n    }\n\n    .dataframe thead th {\n        text-align: right;\n    }\n</style>\n<table border=\"1\" class=\"dataframe\">\n  <thead>\n    <tr style=\"text-align: right;\">\n      <th></th>\n      <th>QuestionText</th>\n    </tr>\n    <tr>\n      <th>Column</th>\n      <th></th>\n    </tr>\n  </thead>\n  <tbody>\n    <tr>\n      <th>MgrIdiot</th>\n      <td>How confident are you that your manager knows what they’re doing?</td>\n    </tr>\n    <tr>\n      <th>LanguageWorkedWith</th>\n      <td>Which of the following programming, scripting, and markup languages have you done extensive development work in over the past year, and which do you want to work in over the next year?  (If you both worked with the language and want to continue to do so, please check both boxes in that row.)</td>\n    </tr>\n    <tr>\n      <th>LanguageDesireNextYear</th>\n      <td>Which of the following programming, scripting, and markup languages have you done extensive development work in over the past year, and which do you want to work in over the next year?  (If you both worked with the language and want to continue to do so, please check both boxes in that row.)</td>\n    </tr>\n  </tbody>\n</table>\n</div>"
     },
     "metadata": {},
     "execution_count": 34
    }
   ],
   "source": [
    "# Search string case insensitive\n",
    "# df2 = df1['company_name'].str.contains(\"apple\", na=False, case=False)\n",
    "# 🧭 As long as it is a Data Frame, we can always apply filter 只要是DF就可以使用T/F进行过滤\n",
    "\n",
    "row_filter = schema_df.index.str.contains('Language', case=False) | schema_df.index.str.contains('Idiot', case=False)\n",
    "\n",
    "schema_df[row_filter]"
   ]
  },
  {
   "cell_type": "code",
   "execution_count": 65,
   "metadata": {},
   "outputs": [],
   "source": [
    "# Try to filter with index and col together\n",
    "# Index within (1000, 10_000) & Country == China\n",
    "\n",
    "tgt_countries = ['China', 'India', 'United States']\n",
    "\n",
    "row_filter = (df.index >= 1000) & (df.index <= 10_000) & (df['Country'].isin(tgt_countries))\n"
   ]
  },
  {
   "cell_type": "code",
   "execution_count": 66,
   "metadata": {},
   "outputs": [
    {
     "output_type": "execute_result",
     "data": {
      "text/plain": [
       "(2991, 84)"
      ]
     },
     "metadata": {},
     "execution_count": 66
    }
   ],
   "source": [
    "df[row_filter].shape"
   ]
  },
  {
   "cell_type": "code",
   "execution_count": 80,
   "metadata": {},
   "outputs": [
    {
     "output_type": "execute_result",
     "data": {
      "text/plain": [
       "United States                       20949\n",
       "India                                9061\n",
       "Germany                              5866\n",
       "United Kingdom                       5737\n",
       "Canada                               3395\n",
       "France                               2391\n",
       "Brazil                               1948\n",
       "Poland                               1922\n",
       "Australia                            1903\n",
       "Netherlands                          1852\n",
       "Russian Federation                   1694\n",
       "Spain                                1604\n",
       "Italy                                1576\n",
       "Sweden                               1274\n",
       "Switzerland                           978\n",
       "Israel                                952\n",
       "Turkey                                949\n",
       "Pakistan                              923\n",
       "Ukraine                               868\n",
       "Austria                               839\n",
       "Czech Republic                        764\n",
       "Romania                               760\n",
       "Iran                                  738\n",
       "Belgium                               727\n",
       "China                                 664\n",
       "Bulgaria                              659\n",
       "Mexico                                642\n",
       "South Africa                          627\n",
       "Denmark                               617\n",
       "Bangladesh                            605\n",
       "Norway                                574\n",
       "Greece                                556\n",
       "Argentina                             553\n",
       "Finland                               546\n",
       "Portugal                              525\n",
       "New Zealand                           524\n",
       "Nigeria                               522\n",
       "Hungary                               513\n",
       "Indonesia                             507\n",
       "Ireland                               501\n",
       "Serbia                                402\n",
       "Japan                                 391\n",
       "Philippines                           381\n",
       "Sri Lanka                             372\n",
       "Egypt                                 323\n",
       "Colombia                              313\n",
       "Singapore                             303\n",
       "Malaysia                              299\n",
       "Slovenia                              298\n",
       "Croatia                               260\n",
       "Slovakia                              260\n",
       "Kenya                                 249\n",
       "Lithuania                             248\n",
       "Nepal                                 237\n",
       "Viet Nam                              231\n",
       "Thailand                              214\n",
       "Chile                                 206\n",
       "Belarus                               202\n",
       "Estonia                               195\n",
       "Hong Kong (S.A.R.)                    188\n",
       "Taiwan                                187\n",
       "South Korea                           160\n",
       "United Arab Emirates                  158\n",
       "Morocco                               155\n",
       "Latvia                                136\n",
       "Other Country (Not Listed Above)      136\n",
       "Algeria                               134\n",
       "Tunisia                               130\n",
       "Peru                                  130\n",
       "Lebanon                               120\n",
       "Uruguay                               111\n",
       "Bosnia and Herzegovina                108\n",
       "Saudi Arabia                           98\n",
       "Name: Country, dtype: int64"
      ]
     },
     "metadata": {},
     "execution_count": 80
    }
   ],
   "source": [
    "# 🎯 What if we want the 90% percentil instead of Top 50\n",
    "\n",
    "df['Country'].value_counts()[:'Saudi Arabia']"
   ]
  },
  {
   "cell_type": "code",
   "execution_count": 78,
   "metadata": {},
   "outputs": [
    {
     "output_type": "execute_result",
     "data": {
      "text/plain": [
       "United States         20949\n",
       "India                  9061\n",
       "Germany                5866\n",
       "United Kingdom         5737\n",
       "Canada                 3395\n",
       "France                 2391\n",
       "Brazil                 1948\n",
       "Poland                 1922\n",
       "Australia              1903\n",
       "Netherlands            1852\n",
       "Russian Federation     1694\n",
       "Spain                  1604\n",
       "Italy                  1576\n",
       "Sweden                 1274\n",
       "Switzerland             978\n",
       "Israel                  952\n",
       "Turkey                  949\n",
       "Pakistan                923\n",
       "Ukraine                 868\n",
       "Austria                 839\n",
       "Czech Republic          764\n",
       "Romania                 760\n",
       "Iran                    738\n",
       "Belgium                 727\n",
       "China                   664\n",
       "Bulgaria                659\n",
       "Mexico                  642\n",
       "South Africa            627\n",
       "Denmark                 617\n",
       "Bangladesh              605\n",
       "Norway                  574\n",
       "Greece                  556\n",
       "Argentina               553\n",
       "Finland                 546\n",
       "Portugal                525\n",
       "New Zealand             524\n",
       "Nigeria                 522\n",
       "Hungary                 513\n",
       "Indonesia               507\n",
       "Ireland                 501\n",
       "Serbia                  402\n",
       "Japan                   391\n",
       "Philippines             381\n",
       "Sri Lanka               372\n",
       "Egypt                   323\n",
       "Name: Country, dtype: int64"
      ]
     },
     "metadata": {},
     "execution_count": 78
    }
   ],
   "source": [
    "df['Country'].value_counts().nlargest(50)[:'Egypt']"
   ]
  },
  {
   "cell_type": "code",
   "execution_count": null,
   "metadata": {},
   "outputs": [],
   "source": []
  }
 ]
}
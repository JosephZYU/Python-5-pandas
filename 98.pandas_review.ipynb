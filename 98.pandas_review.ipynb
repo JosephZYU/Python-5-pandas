{
 "metadata": {
  "language_info": {
   "codemirror_mode": {
    "name": "ipython",
    "version": 3
   },
   "file_extension": ".py",
   "mimetype": "text/x-python",
   "name": "python",
   "nbconvert_exporter": "python",
   "pygments_lexer": "ipython3",
   "version": "3.9.0-final"
  },
  "orig_nbformat": 2,
  "kernelspec": {
   "name": "python3",
   "display_name": "Python 3",
   "language": "python"
  }
 },
 "nbformat": 4,
 "nbformat_minor": 2,
 "cells": [
  {
   "cell_type": "code",
   "execution_count": 143,
   "metadata": {},
   "outputs": [],
   "source": [
    "import pandas as pd\n",
    "import numpy as np\n",
    "\n",
    "people = {\n",
    "    \"first\":['Corey', 'Jane', 'John'],\n",
    "    \"last\":['Schafer', 'Doe', 'Smith'],\n",
    "    \"email\":['CoreySchafer@gmail.com','JaneDoe@hotmail.com','JohnSmith@outlook.com'],\n",
    "}\n",
    "\n",
    "\n",
    "pd.set_option('display.max_columns', 100)\n",
    "pd.set_option('display.max_rows', 100)\n",
    "pd.set_option('display.max_colwidth', None)  \n",
    "\n",
    "\n",
    "pd.set_option('display.float_format', lambda x: '%.4f' % x)\n",
    "\n",
    "\n",
    "survey_source = '/Users/josephyu/Documents/GitHub/data/survey_results_public.csv'\n",
    "schema_source = '/Users/josephyu/Documents/GitHub/data/survey_results_schema.csv'\n",
    "\n",
    "\n",
    "df = pd.read_csv(survey_source, index_col = 'Respondent')\n",
    "schema_df = pd.read_csv(schema_source, index_col = 'Column')\n",
    "pp_df = pd.DataFrame(people)\n",
    "\n",
    "# ['Hobbyist', 'OpenSourcer', 'Region'] -> PERFECT Data Quality by column"
   ]
  },
  {
   "cell_type": "code",
   "execution_count": 144,
   "metadata": {},
   "outputs": [],
   "source": [
    "df.columns = df.columns.str.strip()\n",
    "df.rename(columns={\"ConvertedComp\": \"Salary\", \"Country\": \"Region\"}, inplace=True)"
   ]
  },
  {
   "cell_type": "code",
   "execution_count": 145,
   "metadata": {},
   "outputs": [],
   "source": [
    "# participants exceeding \"Other Country (Not Listed Above)\" as cut-off for Latvia\n",
    "tgt_regions = df['Region'].value_counts(normalize=True)[:'Latvia'].index.tolist()"
   ]
  },
  {
   "cell_type": "code",
   "execution_count": 146,
   "metadata": {},
   "outputs": [],
   "source": [
    "filt = df['Region'].isin(tgt_regions)\n",
    "\n",
    "df = df[filt]"
   ]
  },
  {
   "cell_type": "code",
   "execution_count": 147,
   "metadata": {},
   "outputs": [],
   "source": [
    "region_dict= {\"United States\":\"US\", \"United Kingdom\":\"UK\", \"Germany\":\"DE\", \"France\":\"FR\", \"Canada\":\"CA\", \"China\":\"CN\", \"Taiwan\":\"TW\", \"Hong Kong (S.A.R.)\":\"HK\", \"India\":\"IN\", \"Japan\":\"JP\"}\n",
    "\n",
    "df['Region'].replace(region_dict, inplace=True)"
   ]
  },
  {
   "cell_type": "code",
   "execution_count": 148,
   "metadata": {},
   "outputs": [
    {
     "output_type": "execute_result",
     "data": {
      "text/plain": [
       "count     53965.0000\n",
       "mean     129979.1589\n",
       "std      287698.1569\n",
       "min           0.0000\n",
       "25%       27492.0000\n",
       "50%       58413.0000\n",
       "75%      101542.0000\n",
       "max     2000000.0000\n",
       "Name: Salary, dtype: float64"
      ]
     },
     "metadata": {},
     "execution_count": 148
    }
   ],
   "source": [
    "df['Salary'].describe()"
   ]
  },
  {
   "cell_type": "code",
   "execution_count": 149,
   "metadata": {},
   "outputs": [
    {
     "output_type": "execute_result",
     "data": {
      "text/plain": [
       "count     14981.0000\n",
       "mean     249546.2546\n",
       "std      452103.4965\n",
       "min           0.0000\n",
       "25%       80000.0000\n",
       "50%      110000.0000\n",
       "75%      160000.0000\n",
       "max     2000000.0000\n",
       "Name: Salary, dtype: float64"
      ]
     },
     "metadata": {},
     "execution_count": 149
    }
   ],
   "source": [
    "# Salary US v.s. the rest of the world\n",
    "\n",
    "filt = df['Region'] == 'US'\n",
    "\n",
    "df[filt]['Salary'].describe()"
   ]
  },
  {
   "cell_type": "code",
   "execution_count": 166,
   "metadata": {},
   "outputs": [],
   "source": [
    "stats_us = df[filt]['Salary'].describe().values.tolist()[-4:-1]"
   ]
  },
  {
   "cell_type": "code",
   "execution_count": 167,
   "metadata": {},
   "outputs": [],
   "source": [
    "stats_rest = df[~filt]['Salary'].describe().values.tolist()[-4:-1]"
   ]
  },
  {
   "cell_type": "code",
   "execution_count": 168,
   "metadata": {},
   "outputs": [
    {
     "output_type": "execute_result",
     "data": {
      "text/plain": [
       "[4.131804565644045, 2.580705705705706, 2.2523790753983897]"
      ]
     },
     "metadata": {},
     "execution_count": 168
    }
   ],
   "source": [
    "[x/y for x, y in zip(stats_us, stats_rest)]\n"
   ]
  },
  {
   "cell_type": "code",
   "execution_count": 223,
   "metadata": {},
   "outputs": [
    {
     "output_type": "execute_result",
     "data": {
      "text/plain": [
       "count     53965.0000\n",
       "mean     129979.1589\n",
       "std      287698.1569\n",
       "min           0.0000\n",
       "25%       27492.0000\n",
       "50%       58413.0000\n",
       "75%      101542.0000\n",
       "max     2000000.0000\n",
       "Name: Salary, dtype: float64"
      ]
     },
     "metadata": {},
     "execution_count": 223
    }
   ],
   "source": []
  },
  {
   "cell_type": "code",
   "execution_count": null,
   "metadata": {},
   "outputs": [],
   "source": []
  },
  {
   "cell_type": "code",
   "execution_count": 226,
   "metadata": {},
   "outputs": [
    {
     "output_type": "execute_result",
     "data": {
      "text/plain": [
       "                 Regions  Pct_over_avg\n",
       "0                     US        0.2964\n",
       "1                Ireland        0.2828\n",
       "2                     UK        0.2062\n",
       "3            Switzerland        0.1711\n",
       "4                 Norway        0.1579\n",
       "5              Australia        0.1540\n",
       "6                     HK        0.1296\n",
       "7            New Zealand        0.1261\n",
       "8                  Italy        0.1150\n",
       "9                  Spain        0.1127\n",
       "10                    CA        0.1112\n",
       "11             Singapore        0.1026\n",
       "12           Netherlands        0.0918\n",
       "13                    JP        0.0846\n",
       "14                    DE        0.0844\n",
       "15               Denmark        0.0762\n",
       "16           South Korea        0.0714\n",
       "17                Israel        0.0674\n",
       "18                    FR        0.0634\n",
       "19               Belgium        0.0539\n",
       "20              Portugal        0.0534\n",
       "21               Austria        0.0495\n",
       "22              Thailand        0.0485\n",
       "23                Sweden        0.0474\n",
       "24                    TW        0.0463\n",
       "25                    CN        0.0445\n",
       "26          South Africa        0.0407\n",
       "27                Greece        0.0390\n",
       "28                    IN        0.0370\n",
       "29              Slovenia        0.0343\n",
       "30  United Arab Emirates        0.0341\n",
       "31               Croatia        0.0298\n",
       "32               Romania        0.0289\n",
       "33               Finland        0.0288\n",
       "34                 Chile        0.0278\n",
       "35              Slovakia        0.0267\n",
       "36              Colombia        0.0238\n",
       "37                Brazil        0.0207\n",
       "38              Bulgaria        0.0199\n",
       "39             Indonesia        0.0189\n",
       "40               Belarus        0.0161\n",
       "41            Bangladesh        0.0160\n",
       "42               Nigeria        0.0151\n",
       "43        Czech Republic        0.0145\n",
       "44                Poland        0.0136\n",
       "45                Serbia        0.0136\n",
       "46                 Egypt        0.0132\n",
       "47                Mexico        0.0130\n",
       "48                 Nepal        0.0120\n",
       "49             Argentina        0.0102\n",
       "50                Latvia        0.0102\n",
       "51                 Kenya        0.0100\n",
       "52                Turkey        0.0080\n",
       "53              Malaysia        0.0071\n",
       "54    Russian Federation        0.0063\n",
       "55             Lithuania        0.0062\n",
       "56             Sri Lanka        0.0061\n",
       "57               Ukraine        0.0055\n",
       "58                  Iran        0.0048\n",
       "59               Hungary        0.0030\n",
       "60              Pakistan        0.0024\n",
       "61              Viet Nam        0.0000\n",
       "62               Estonia        0.0000\n",
       "63           Philippines        0.0000\n",
       "64               Morocco        0.0000"
      ],
      "text/html": "<div>\n<style scoped>\n    .dataframe tbody tr th:only-of-type {\n        vertical-align: middle;\n    }\n\n    .dataframe tbody tr th {\n        vertical-align: top;\n    }\n\n    .dataframe thead th {\n        text-align: right;\n    }\n</style>\n<table border=\"1\" class=\"dataframe\">\n  <thead>\n    <tr style=\"text-align: right;\">\n      <th></th>\n      <th>Regions</th>\n      <th>Pct_over_avg</th>\n    </tr>\n  </thead>\n  <tbody>\n    <tr>\n      <th>0</th>\n      <td>US</td>\n      <td>0.2964</td>\n    </tr>\n    <tr>\n      <th>1</th>\n      <td>Ireland</td>\n      <td>0.2828</td>\n    </tr>\n    <tr>\n      <th>2</th>\n      <td>UK</td>\n      <td>0.2062</td>\n    </tr>\n    <tr>\n      <th>3</th>\n      <td>Switzerland</td>\n      <td>0.1711</td>\n    </tr>\n    <tr>\n      <th>4</th>\n      <td>Norway</td>\n      <td>0.1579</td>\n    </tr>\n    <tr>\n      <th>5</th>\n      <td>Australia</td>\n      <td>0.1540</td>\n    </tr>\n    <tr>\n      <th>6</th>\n      <td>HK</td>\n      <td>0.1296</td>\n    </tr>\n    <tr>\n      <th>7</th>\n      <td>New Zealand</td>\n      <td>0.1261</td>\n    </tr>\n    <tr>\n      <th>8</th>\n      <td>Italy</td>\n      <td>0.1150</td>\n    </tr>\n    <tr>\n      <th>9</th>\n      <td>Spain</td>\n      <td>0.1127</td>\n    </tr>\n    <tr>\n      <th>10</th>\n      <td>CA</td>\n      <td>0.1112</td>\n    </tr>\n    <tr>\n      <th>11</th>\n      <td>Singapore</td>\n      <td>0.1026</td>\n    </tr>\n    <tr>\n      <th>12</th>\n      <td>Netherlands</td>\n      <td>0.0918</td>\n    </tr>\n    <tr>\n      <th>13</th>\n      <td>JP</td>\n      <td>0.0846</td>\n    </tr>\n    <tr>\n      <th>14</th>\n      <td>DE</td>\n      <td>0.0844</td>\n    </tr>\n    <tr>\n      <th>15</th>\n      <td>Denmark</td>\n      <td>0.0762</td>\n    </tr>\n    <tr>\n      <th>16</th>\n      <td>South Korea</td>\n      <td>0.0714</td>\n    </tr>\n    <tr>\n      <th>17</th>\n      <td>Israel</td>\n      <td>0.0674</td>\n    </tr>\n    <tr>\n      <th>18</th>\n      <td>FR</td>\n      <td>0.0634</td>\n    </tr>\n    <tr>\n      <th>19</th>\n      <td>Belgium</td>\n      <td>0.0539</td>\n    </tr>\n    <tr>\n      <th>20</th>\n      <td>Portugal</td>\n      <td>0.0534</td>\n    </tr>\n    <tr>\n      <th>21</th>\n      <td>Austria</td>\n      <td>0.0495</td>\n    </tr>\n    <tr>\n      <th>22</th>\n      <td>Thailand</td>\n      <td>0.0485</td>\n    </tr>\n    <tr>\n      <th>23</th>\n      <td>Sweden</td>\n      <td>0.0474</td>\n    </tr>\n    <tr>\n      <th>24</th>\n      <td>TW</td>\n      <td>0.0463</td>\n    </tr>\n    <tr>\n      <th>25</th>\n      <td>CN</td>\n      <td>0.0445</td>\n    </tr>\n    <tr>\n      <th>26</th>\n      <td>South Africa</td>\n      <td>0.0407</td>\n    </tr>\n    <tr>\n      <th>27</th>\n      <td>Greece</td>\n      <td>0.0390</td>\n    </tr>\n    <tr>\n      <th>28</th>\n      <td>IN</td>\n      <td>0.0370</td>\n    </tr>\n    <tr>\n      <th>29</th>\n      <td>Slovenia</td>\n      <td>0.0343</td>\n    </tr>\n    <tr>\n      <th>30</th>\n      <td>United Arab Emirates</td>\n      <td>0.0341</td>\n    </tr>\n    <tr>\n      <th>31</th>\n      <td>Croatia</td>\n      <td>0.0298</td>\n    </tr>\n    <tr>\n      <th>32</th>\n      <td>Romania</td>\n      <td>0.0289</td>\n    </tr>\n    <tr>\n      <th>33</th>\n      <td>Finland</td>\n      <td>0.0288</td>\n    </tr>\n    <tr>\n      <th>34</th>\n      <td>Chile</td>\n      <td>0.0278</td>\n    </tr>\n    <tr>\n      <th>35</th>\n      <td>Slovakia</td>\n      <td>0.0267</td>\n    </tr>\n    <tr>\n      <th>36</th>\n      <td>Colombia</td>\n      <td>0.0238</td>\n    </tr>\n    <tr>\n      <th>37</th>\n      <td>Brazil</td>\n      <td>0.0207</td>\n    </tr>\n    <tr>\n      <th>38</th>\n      <td>Bulgaria</td>\n      <td>0.0199</td>\n    </tr>\n    <tr>\n      <th>39</th>\n      <td>Indonesia</td>\n      <td>0.0189</td>\n    </tr>\n    <tr>\n      <th>40</th>\n      <td>Belarus</td>\n      <td>0.0161</td>\n    </tr>\n    <tr>\n      <th>41</th>\n      <td>Bangladesh</td>\n      <td>0.0160</td>\n    </tr>\n    <tr>\n      <th>42</th>\n      <td>Nigeria</td>\n      <td>0.0151</td>\n    </tr>\n    <tr>\n      <th>43</th>\n      <td>Czech Republic</td>\n      <td>0.0145</td>\n    </tr>\n    <tr>\n      <th>44</th>\n      <td>Poland</td>\n      <td>0.0136</td>\n    </tr>\n    <tr>\n      <th>45</th>\n      <td>Serbia</td>\n      <td>0.0136</td>\n    </tr>\n    <tr>\n      <th>46</th>\n      <td>Egypt</td>\n      <td>0.0132</td>\n    </tr>\n    <tr>\n      <th>47</th>\n      <td>Mexico</td>\n      <td>0.0130</td>\n    </tr>\n    <tr>\n      <th>48</th>\n      <td>Nepal</td>\n      <td>0.0120</td>\n    </tr>\n    <tr>\n      <th>49</th>\n      <td>Argentina</td>\n      <td>0.0102</td>\n    </tr>\n    <tr>\n      <th>50</th>\n      <td>Latvia</td>\n      <td>0.0102</td>\n    </tr>\n    <tr>\n      <th>51</th>\n      <td>Kenya</td>\n      <td>0.0100</td>\n    </tr>\n    <tr>\n      <th>52</th>\n      <td>Turkey</td>\n      <td>0.0080</td>\n    </tr>\n    <tr>\n      <th>53</th>\n      <td>Malaysia</td>\n      <td>0.0071</td>\n    </tr>\n    <tr>\n      <th>54</th>\n      <td>Russian Federation</td>\n      <td>0.0063</td>\n    </tr>\n    <tr>\n      <th>55</th>\n      <td>Lithuania</td>\n      <td>0.0062</td>\n    </tr>\n    <tr>\n      <th>56</th>\n      <td>Sri Lanka</td>\n      <td>0.0061</td>\n    </tr>\n    <tr>\n      <th>57</th>\n      <td>Ukraine</td>\n      <td>0.0055</td>\n    </tr>\n    <tr>\n      <th>58</th>\n      <td>Iran</td>\n      <td>0.0048</td>\n    </tr>\n    <tr>\n      <th>59</th>\n      <td>Hungary</td>\n      <td>0.0030</td>\n    </tr>\n    <tr>\n      <th>60</th>\n      <td>Pakistan</td>\n      <td>0.0024</td>\n    </tr>\n    <tr>\n      <th>61</th>\n      <td>Viet Nam</td>\n      <td>0.0000</td>\n    </tr>\n    <tr>\n      <th>62</th>\n      <td>Estonia</td>\n      <td>0.0000</td>\n    </tr>\n    <tr>\n      <th>63</th>\n      <td>Philippines</td>\n      <td>0.0000</td>\n    </tr>\n    <tr>\n      <th>64</th>\n      <td>Morocco</td>\n      <td>0.0000</td>\n    </tr>\n  </tbody>\n</table>\n</div>"
     },
     "metadata": {},
     "execution_count": 226
    }
   ],
   "source": [
    "li_reg = []\n",
    "li_pct = []\n",
    "\n",
    "for region in df['Region'].unique():\n",
    "    one_df = df[df['Region'] == region]\n",
    "    tbd = one_df['Salary']\n",
    "\n",
    "    li_reg.append(region)\n",
    "    li_pct.append(round(len(tbd[tbd.values >= 150_000]) / len(one_df['Salary'].dropna()), 4))\n",
    "\n",
    "pct_df = pd.DataFrame({\n",
    "    'Regions': li_reg,\n",
    "    'Pct_over_avg': li_pct\n",
    "})\n",
    "\n",
    "\n",
    "pct_df.sort_values(by='Pct_over_avg', ascending=False).reset_index(drop=True)"
   ]
  },
  {
   "cell_type": "code",
   "execution_count": 155,
   "metadata": {},
   "outputs": [
    {
     "output_type": "execute_result",
     "data": {
      "text/plain": [
       "'How confident are you that your manager knows what they’re doing?'"
      ]
     },
     "metadata": {},
     "execution_count": 155
    }
   ],
   "source": [
    "schema_df.loc['MgrIdiot', 'QuestionText']"
   ]
  },
  {
   "cell_type": "code",
   "execution_count": 163,
   "metadata": {},
   "outputs": [
    {
     "output_type": "execute_result",
     "data": {
      "text/plain": [
       "                                                                                                            Do you have a Stack Overflow account?\n",
       "ResumeUpdate                                                                                                                                                                                                                    Think back to the last time you updated your resumé, CV, or an online profile on a job site. What is the PRIMARY reason that you did so?\n",
       "Respondent                                                                                                                                                                                                                                                                                        Randomized respondent ID number (not in order of survey response time)\n",
       "PurchaseWhat                                                                                                                                                                                                                                                        What level of influence do you, personally, have over new technology purchases at your organization?\n",
       "PurchaseHow                                                                                                                                                                                                                                                            How does your company make decisions about purchasing new technology (cloud, AI, IoT, databases)?\n",
       "PlatformWorkedWith                                                                                                                                      Which of the following platforms have you done extensive development work for over the past year?   (If you both developed for the platform and want to continue to do so, please check both boxes in that row.)\n",
       "PlatformDesireNextYear                                                                                                                                  Which of the following platforms have you done extensive development work for over the past year?   (If you both developed for the platform and want to continue to do so, please check both boxes in that row.)\n",
       "OrgSize                                                                                                                                                                                                                                                                          Approximately how many people are employed by the company or organization you work for?\n",
       "OpenSourcer                                                                                                                                                                                                                                                                                                                  How often do you contribute to open source?\n",
       "OpenSource                                                                                                                                                                                                                                                                                              How do you feel about the quality of open source software (OSS)?\n",
       "OpSys                                                                                                                                                                                                                                                                                                            What is the primary operating system in which you work?\n",
       "OffOn                                                                                                                                                                                                                                                                                                                        Have you tried turning it off and on again?\n",
       "MiscTechWorkedWith                                                       Which of the following other frameworks, libraries, and tools have you done extensive development work in over the past year, and which do you want to work in over the next year? (If you both worked with the technology and want to continue to do so, please check both boxes in that row.)\n",
       "MiscTechDesireNextYear                                                   Which of the following other frameworks, libraries, and tools have you done extensive development work in over the past year, and which do you want to work in over the next year? (If you both worked with the technology and want to continue to do so, please check both boxes in that row.)\n",
       "MgrWant                                                                                                                                                                                                                                                                                                          Do you want to become a manager yourself in the future?\n",
       "MgrMoney                                                                                                                                                                                                                                                                                                Do you believe that you need to be a manager to make more money?\n",
       "MgrIdiot                                                                                                                                                                                                                                                                                               How confident are you that your manager knows what they’re doing?\n",
       "MainBranch                                                                                                                                                                                                                                              Which of the following options best describes you today? Here, by \"developer\" we mean \"someone who writes code.\"\n",
       "LastInt                                                                                                                                                                                                                                             In your most recent successful job interview (resulting in a job offer), you were asked to... (check all that apply)\n",
       "LastHireDate                                                                                                                                                                                                                                                                                             When was the last time that you took a job with a new employer?\n",
       "LanguageWorkedWith                                                  Which of the following programming, scripting, and markup languages have you done extensive development work in over the past year, and which do you want to work in over the next year?  (If you both worked with the language and want to continue to do so, please check both boxes in that row.)\n",
       "LanguageDesireNextYear                                              Which of the following programming, scripting, and markup languages have you done extensive development work in over the past year, and which do you want to work in over the next year?  (If you both worked with the language and want to continue to do so, please check both boxes in that row.)\n",
       "JobSeek                                                                                                                                                                                                                                                                                           Which of the following best describes your current job-seeking status?\n",
       "JobSat                                                                                                                                                                                                                                         How satisfied are you with your current job? (If you work multiple jobs, answer for the one you spend the most hours on.)\n",
       "JobFactors                                                                                                                                                                                         Imagine that you are deciding between two job offers with the same compensation, benefits, and location. Of the following factors, which 3 are MOST important to you?\n",
       "ImpSyn                                                                                                                                                                                                                                                 For the specific work you do, and the years of experience you have, how do you rate your own level of competence?\n",
       "ITperson                                                                                                                                                                                                                                                                                                                Are you the \"IT support person\" for your family?\n",
       "Hobbyist                                                                                                                                                                                                                                                                                                                                         Do you code as a hobby?\n",
       "Gender                                                                                                                                                                                                                Which of the following do you currently identify as? Please select all that apply. If you prefer not to answer, you may leave this question blank.\n",
       "FizzBuzz                                                                                                                                                                                                                                                                                                     Have you ever been asked to solve FizzBuzz in an interview?\n",
       "Extraversion                                                                                                                                                                                                                                                                                                             Do you prefer online chat or IRL conversations?\n",
       "Ethnicity                                                                                                                                                                                                                        Which of the following do you identify as? Please check all that apply. If you prefer not to answer, you may leave this question blank.\n",
       "EntTeams                                                                                                                                                                                                                                                                                   Have you ever used Stack Overflow for Enterprise or Stack Overflow for Teams?\n",
       "Employment                                                                                                                                                                                                                                                                                         Which of the following best describes your current employment status?\n",
       "EduOther                                                                                                                                                                                                                                            Which of the following types of non-degree education have you used or participated in? Please select all that apply.\n",
       "EdLevel                                                                                                                                                                                                                                                               Which of the following best describes the highest level of formal education that you’ve completed?\n",
       "DevType                                                                                                                                                                                                                                                                                               Which of the following describe you? Please select all that apply.\n",
       "DevEnviron                                                                                                                                                                                                                                                                          Which development environment(s) do you use regularly?  Please check all that apply.\n",
       "Dependents                                                                                                                                                                                                                                                                             Do you have any dependents (e.g., children, elders, or others) that you care for?\n",
       "DatabaseWorkedWith                                                                        Which of the following database environments have you done extensive development work in over the past year, and which do you want to work in over the next year?   (If you both worked with the database and want to continue to do so, please check both boxes in that row.)\n",
       "DatabaseDesireNextYear                                                                    Which of the following database environments have you done extensive development work in over the past year, and which do you want to work in over the next year?   (If you both worked with the database and want to continue to do so, please check both boxes in that row.)\n",
       "CurrencySymbol                                                                                                                                                                                                                           Which currency do you use day-to-day? If your answer is complicated, please pick the one you're most comfortable estimating in.\n",
       "CurrencyDesc                                                                                                                                                                                                                             Which currency do you use day-to-day? If your answer is complicated, please pick the one you're most comfortable estimating in.\n",
       "Country                                                                                                                                                                                                                                                                                                                        In which country do you currently reside?\n",
       "ConvertedComp                                                                                                                                                                                                                            Salary converted to annual USD salaries using the exchange rate on 2019-02-01, assuming 12 working months and 50 working weeks.\n",
       "Containers                                                                                                                                                                                                                                                                                    How do you use containers (Docker, Open Container Initiative (OCI), etc.)?\n",
       "CompTotal               What is your current total compensation (salary, bonuses, and perks, before taxes and deductions), in `CurrencySymbol`? Please enter a whole number in the box below, without any punctuation. If you are paid hourly, please estimate an equivalent weekly, monthly, or yearly salary. If you prefer not to answer, please leave the box empty.\n",
       "CompFreq                                                                                                                                                                                                                                                                                                                Is that compensation weekly, monthly, or yearly?\n",
       "CodeRevHrs                                                                                                                                                                                                                                                                                              On average, how many hours per week do you spend on code review?\n",
       "CodeRev                                                                                                                                                                                                                                                                                                                         Do you review code as part of your work?\n",
       "CareerSat                                                                                                                                                                                                                                                                                                      Overall, how satisfied are you with your career thus far?\n",
       "BlockchainOrg                                                                                                                                                                                                                                                                             How is your organization thinking about or implementing blockchain technology?\n",
       "BlockchainIs                                                                                                                                                                                                                                                                                                        Blockchain / cryptocurrency technology is primarily:\n",
       "BetterLife                                                                                                                                                                                                                                                                                    Do you think people born today will have a better life than their parents?\n",
       "Age1stCode                                                                                                                                                                                                                                                   At what age did you write your first line of code or program? (E.g., webpage, Hello World, Scratch project)\n",
       "Age                                                                                                                                                                                                                                                                         What is your age (in years)? If you prefer not to answer, you may leave this question blank."
      ],
      "text/html": "<div>\n<style scoped>\n    .dataframe tbody tr th:only-of-type {\n        vertical-align: middle;\n    }\n\n    .dataframe tbody tr th {\n        vertical-align: top;\n    }\n\n    .dataframe thead th {\n        text-align: right;\n    }\n</style>\n<table border=\"1\" class=\"dataframe\">\n  <thead>\n    <tr style=\"text-align: right;\">\n      <th></th>\n      <th>QuestionText</th>\n    </tr>\n    <tr>\n      <th>Column</th>\n      <th></th>\n    </tr>\n  </thead>\n  <tbody>\n    <tr>\n      <th>YearsCodePro</th>\n      <td>How many years have you coded professionally (as a part of your work)?</td>\n    </tr>\n    <tr>\n      <th>YearsCode</th>\n      <td>Including any education, how many years have you been coding?</td>\n    </tr>\n    <tr>\n      <th>WorkWeekHrs</th>\n      <td>On average, how many hours per week do you work?</td>\n    </tr>\n    <tr>\n      <th>WorkRemote</th>\n      <td>How often do you work remotely?</td>\n    </tr>\n    <tr>\n      <th>WorkPlan</th>\n      <td>How structured or planned is your work?</td>\n    </tr>\n    <tr>\n      <th>WorkLoc</th>\n      <td>Where would you prefer to work?</td>\n    </tr>\n    <tr>\n      <th>WorkChallenge</th>\n      <td>Of these options, what are your greatest challenges to productivity as a developer? Select up to 3:</td>\n    </tr>\n    <tr>\n      <th>WelcomeChange</th>\n      <td>Compared to last year, how welcome do you feel on Stack Overflow?</td>\n    </tr>\n    <tr>\n      <th>WebFrameWorkedWith</th>\n      <td>Which of the following web frameworks have you done extensive development work in over the past year, and which do you want to work in over the next year? (If you both worked with the framework and want to continue to do so, please check both boxes in that row.)</td>\n    </tr>\n    <tr>\n      <th>WebFrameDesireNextYear</th>\n      <td>Which of the following web frameworks have you done extensive development work in over the past year, and which do you want to work in over the next year? (If you both worked with the framework and want to continue to do so, please check both boxes in that row.)</td>\n    </tr>\n    <tr>\n      <th>UnitTests</th>\n      <td>Does your company regularly employ unit tests in the development of their products?</td>\n    </tr>\n    <tr>\n      <th>UndergradMajor</th>\n      <td>What was your main or most important field of study?</td>\n    </tr>\n    <tr>\n      <th>Trans</th>\n      <td>Do you identify as transgender?</td>\n    </tr>\n    <tr>\n      <th>SurveyLength</th>\n      <td>How do you feel about the length of the survey this year?</td>\n    </tr>\n    <tr>\n      <th>SurveyEase</th>\n      <td>How easy or difficult was this survey to complete?</td>\n    </tr>\n    <tr>\n      <th>Student</th>\n      <td>Are you currently enrolled in a formal, degree-granting college or university program?</td>\n    </tr>\n    <tr>\n      <th>SocialMedia</th>\n      <td>What social media site do you use the most?</td>\n    </tr>\n    <tr>\n      <th>Sexuality</th>\n      <td>Which of the following do you currently identify as? Please select all that apply. If you prefer not to answer, you may leave this question blank.</td>\n    </tr>\n    <tr>\n      <th>ScreenName</th>\n      <td>What do you call it?</td>\n    </tr>\n    <tr>\n      <th>SOVisitTo</th>\n      <td>I visit Stack Overflow to... (check all that apply)</td>\n    </tr>\n    <tr>\n      <th>SOVisitFreq</th>\n      <td>How frequently would you say you visit Stack Overflow?</td>\n    </tr>\n    <tr>\n      <th>SOVisit1st</th>\n      <td>To the best of your memory, when did you first visit Stack Overflow?</td>\n    </tr>\n    <tr>\n      <th>SOTimeSaved</th>\n      <td>Think back to the last time you solved a coding problem using Stack Overflow, as well as the last time you solved a problem using a different resource. Which was faster?</td>\n    </tr>\n    <tr>\n      <th>SOPartFreq</th>\n      <td>How frequently would you say you participate in Q&amp;A on Stack Overflow? By participate we mean ask, answer, vote for, or comment on questions.</td>\n    </tr>\n    <tr>\n      <th>SONewContent</th>\n      <td>Would you like to see any of the following on Stack Overflow? Check all that apply.</td>\n    </tr>\n    <tr>\n      <th>SOJobs</th>\n      <td>Have you ever used or visited Stack Overflow Jobs?</td>\n    </tr>\n    <tr>\n      <th>SOHowMuchTime</th>\n      <td>About how much time did you save? If you're not sure, please use your best estimate.</td>\n    </tr>\n    <tr>\n      <th>SOFindAnswer</th>\n      <td>On average, how many times a week do you find (and use) an answer on Stack Overflow?</td>\n    </tr>\n    <tr>\n      <th>SOComm</th>\n      <td>Do you consider yourself a member of the Stack Overflow community?</td>\n    </tr>\n    <tr>\n      <th>SOAccount</th>\n      <td>Do you have a Stack Overflow account?</td>\n    </tr>\n    <tr>\n      <th>ResumeUpdate</th>\n      <td>Think back to the last time you updated your resumé, CV, or an online profile on a job site. What is the PRIMARY reason that you did so?</td>\n    </tr>\n    <tr>\n      <th>Respondent</th>\n      <td>Randomized respondent ID number (not in order of survey response time)</td>\n    </tr>\n    <tr>\n      <th>PurchaseWhat</th>\n      <td>What level of influence do you, personally, have over new technology purchases at your organization?</td>\n    </tr>\n    <tr>\n      <th>PurchaseHow</th>\n      <td>How does your company make decisions about purchasing new technology (cloud, AI, IoT, databases)?</td>\n    </tr>\n    <tr>\n      <th>PlatformWorkedWith</th>\n      <td>Which of the following platforms have you done extensive development work for over the past year?   (If you both developed for the platform and want to continue to do so, please check both boxes in that row.)</td>\n    </tr>\n    <tr>\n      <th>PlatformDesireNextYear</th>\n      <td>Which of the following platforms have you done extensive development work for over the past year?   (If you both developed for the platform and want to continue to do so, please check both boxes in that row.)</td>\n    </tr>\n    <tr>\n      <th>OrgSize</th>\n      <td>Approximately how many people are employed by the company or organization you work for?</td>\n    </tr>\n    <tr>\n      <th>OpenSourcer</th>\n      <td>How often do you contribute to open source?</td>\n    </tr>\n    <tr>\n      <th>OpenSource</th>\n      <td>How do you feel about the quality of open source software (OSS)?</td>\n    </tr>\n    <tr>\n      <th>OpSys</th>\n      <td>What is the primary operating system in which you work?</td>\n    </tr>\n    <tr>\n      <th>OffOn</th>\n      <td>Have you tried turning it off and on again?</td>\n    </tr>\n    <tr>\n      <th>MiscTechWorkedWith</th>\n      <td>Which of the following other frameworks, libraries, and tools have you done extensive development work in over the past year, and which do you want to work in over the next year? (If you both worked with the technology and want to continue to do so, please check both boxes in that row.)</td>\n    </tr>\n    <tr>\n      <th>MiscTechDesireNextYear</th>\n      <td>Which of the following other frameworks, libraries, and tools have you done extensive development work in over the past year, and which do you want to work in over the next year? (If you both worked with the technology and want to continue to do so, please check both boxes in that row.)</td>\n    </tr>\n    <tr>\n      <th>MgrWant</th>\n      <td>Do you want to become a manager yourself in the future?</td>\n    </tr>\n    <tr>\n      <th>MgrMoney</th>\n      <td>Do you believe that you need to be a manager to make more money?</td>\n    </tr>\n    <tr>\n      <th>MgrIdiot</th>\n      <td>How confident are you that your manager knows what they’re doing?</td>\n    </tr>\n    <tr>\n      <th>MainBranch</th>\n      <td>Which of the following options best describes you today? Here, by \"developer\" we mean \"someone who writes code.\"</td>\n    </tr>\n    <tr>\n      <th>LastInt</th>\n      <td>In your most recent successful job interview (resulting in a job offer), you were asked to... (check all that apply)</td>\n    </tr>\n    <tr>\n      <th>LastHireDate</th>\n      <td>When was the last time that you took a job with a new employer?</td>\n    </tr>\n    <tr>\n      <th>LanguageWorkedWith</th>\n      <td>Which of the following programming, scripting, and markup languages have you done extensive development work in over the past year, and which do you want to work in over the next year?  (If you both worked with the language and want to continue to do so, please check both boxes in that row.)</td>\n    </tr>\n    <tr>\n      <th>LanguageDesireNextYear</th>\n      <td>Which of the following programming, scripting, and markup languages have you done extensive development work in over the past year, and which do you want to work in over the next year?  (If you both worked with the language and want to continue to do so, please check both boxes in that row.)</td>\n    </tr>\n    <tr>\n      <th>JobSeek</th>\n      <td>Which of the following best describes your current job-seeking status?</td>\n    </tr>\n    <tr>\n      <th>JobSat</th>\n      <td>How satisfied are you with your current job? (If you work multiple jobs, answer for the one you spend the most hours on.)</td>\n    </tr>\n    <tr>\n      <th>JobFactors</th>\n      <td>Imagine that you are deciding between two job offers with the same compensation, benefits, and location. Of the following factors, which 3 are MOST important to you?</td>\n    </tr>\n    <tr>\n      <th>ImpSyn</th>\n      <td>For the specific work you do, and the years of experience you have, how do you rate your own level of competence?</td>\n    </tr>\n    <tr>\n      <th>ITperson</th>\n      <td>Are you the \"IT support person\" for your family?</td>\n    </tr>\n    <tr>\n      <th>Hobbyist</th>\n      <td>Do you code as a hobby?</td>\n    </tr>\n    <tr>\n      <th>Gender</th>\n      <td>Which of the following do you currently identify as? Please select all that apply. If you prefer not to answer, you may leave this question blank.</td>\n    </tr>\n    <tr>\n      <th>FizzBuzz</th>\n      <td>Have you ever been asked to solve FizzBuzz in an interview?</td>\n    </tr>\n    <tr>\n      <th>Extraversion</th>\n      <td>Do you prefer online chat or IRL conversations?</td>\n    </tr>\n    <tr>\n      <th>Ethnicity</th>\n      <td>Which of the following do you identify as? Please check all that apply. If you prefer not to answer, you may leave this question blank.</td>\n    </tr>\n    <tr>\n      <th>EntTeams</th>\n      <td>Have you ever used Stack Overflow for Enterprise or Stack Overflow for Teams?</td>\n    </tr>\n    <tr>\n      <th>Employment</th>\n      <td>Which of the following best describes your current employment status?</td>\n    </tr>\n    <tr>\n      <th>EduOther</th>\n      <td>Which of the following types of non-degree education have you used or participated in? Please select all that apply.</td>\n    </tr>\n    <tr>\n      <th>EdLevel</th>\n      <td>Which of the following best describes the highest level of formal education that you’ve completed?</td>\n    </tr>\n    <tr>\n      <th>DevType</th>\n      <td>Which of the following describe you? Please select all that apply.</td>\n    </tr>\n    <tr>\n      <th>DevEnviron</th>\n      <td>Which development environment(s) do you use regularly?  Please check all that apply.</td>\n    </tr>\n    <tr>\n      <th>Dependents</th>\n      <td>Do you have any dependents (e.g., children, elders, or others) that you care for?</td>\n    </tr>\n    <tr>\n      <th>DatabaseWorkedWith</th>\n      <td>Which of the following database environments have you done extensive development work in over the past year, and which do you want to work in over the next year?   (If you both worked with the database and want to continue to do so, please check both boxes in that row.)</td>\n    </tr>\n    <tr>\n      <th>DatabaseDesireNextYear</th>\n      <td>Which of the following database environments have you done extensive development work in over the past year, and which do you want to work in over the next year?   (If you both worked with the database and want to continue to do so, please check both boxes in that row.)</td>\n    </tr>\n    <tr>\n      <th>CurrencySymbol</th>\n      <td>Which currency do you use day-to-day? If your answer is complicated, please pick the one you're most comfortable estimating in.</td>\n    </tr>\n    <tr>\n      <th>CurrencyDesc</th>\n      <td>Which currency do you use day-to-day? If your answer is complicated, please pick the one you're most comfortable estimating in.</td>\n    </tr>\n    <tr>\n      <th>Country</th>\n      <td>In which country do you currently reside?</td>\n    </tr>\n    <tr>\n      <th>ConvertedComp</th>\n      <td>Salary converted to annual USD salaries using the exchange rate on 2019-02-01, assuming 12 working months and 50 working weeks.</td>\n    </tr>\n    <tr>\n      <th>Containers</th>\n      <td>How do you use containers (Docker, Open Container Initiative (OCI), etc.)?</td>\n    </tr>\n    <tr>\n      <th>CompTotal</th>\n      <td>What is your current total compensation (salary, bonuses, and perks, before taxes and deductions), in `CurrencySymbol`? Please enter a whole number in the box below, without any punctuation. If you are paid hourly, please estimate an equivalent weekly, monthly, or yearly salary. If you prefer not to answer, please leave the box empty.</td>\n    </tr>\n    <tr>\n      <th>CompFreq</th>\n      <td>Is that compensation weekly, monthly, or yearly?</td>\n    </tr>\n    <tr>\n      <th>CodeRevHrs</th>\n      <td>On average, how many hours per week do you spend on code review?</td>\n    </tr>\n    <tr>\n      <th>CodeRev</th>\n      <td>Do you review code as part of your work?</td>\n    </tr>\n    <tr>\n      <th>CareerSat</th>\n      <td>Overall, how satisfied are you with your career thus far?</td>\n    </tr>\n    <tr>\n      <th>BlockchainOrg</th>\n      <td>How is your organization thinking about or implementing blockchain technology?</td>\n    </tr>\n    <tr>\n      <th>BlockchainIs</th>\n      <td>Blockchain / cryptocurrency technology is primarily:</td>\n    </tr>\n    <tr>\n      <th>BetterLife</th>\n      <td>Do you think people born today will have a better life than their parents?</td>\n    </tr>\n    <tr>\n      <th>Age1stCode</th>\n      <td>At what age did you write your first line of code or program? (E.g., webpage, Hello World, Scratch project)</td>\n    </tr>\n    <tr>\n      <th>Age</th>\n      <td>What is your age (in years)? If you prefer not to answer, you may leave this question blank.</td>\n    </tr>\n  </tbody>\n</table>\n</div>"
     },
     "metadata": {},
     "execution_count": 163
    }
   ],
   "source": [
    "schema_df.sort_index(ascending=False)"
   ]
  },
  {
   "cell_type": "code",
   "execution_count": 194,
   "metadata": {},
   "outputs": [
    {
     "output_type": "execute_result",
     "data": {
      "text/plain": [
       "Respondent\n",
       "1         True\n",
       "3        False\n",
       "4         True\n",
       "5         True\n",
       "6        False\n",
       "         ...  \n",
       "88182    False\n",
       "88212     True\n",
       "88282    False\n",
       "88377    False\n",
       "88863    False\n",
       "Name: LanguageWorkedWith, Length: 85173, dtype: bool"
      ]
     },
     "metadata": {},
     "execution_count": 194
    }
   ],
   "source": [
    "# df.columns  # LanguageWorkedWith\n",
    "\n",
    "# 🧠 na=False ️⭐\n",
    "\n",
    "filt = df['LanguageWorkedWith'].str.contains('Python', na=False)\n",
    "\n",
    "filt"
   ]
  },
  {
   "cell_type": "code",
   "execution_count": 201,
   "metadata": {},
   "outputs": [
    {
     "output_type": "execute_result",
     "data": {
      "text/plain": [
       "25%    31491.0000\n",
       "50%    64152.0000\n",
       "75%   110465.0000\n",
       "Name: Salary, dtype: float64"
      ]
     },
     "metadata": {},
     "execution_count": 201
    }
   ],
   "source": [
    "df[filt]['Salary'].describe()[4:-1]"
   ]
  },
  {
   "cell_type": "code",
   "execution_count": 200,
   "metadata": {},
   "outputs": [
    {
     "output_type": "execute_result",
     "data": {
      "text/plain": [
       "25%   25080.0000\n",
       "50%   54996.0000\n",
       "75%   96217.5000\n",
       "Name: Salary, dtype: float64"
      ]
     },
     "metadata": {},
     "execution_count": 200
    }
   ],
   "source": [
    "df[~filt]['Salary'].describe()[4:-1]"
   ]
  },
  {
   "cell_type": "code",
   "execution_count": 227,
   "metadata": {},
   "outputs": [
    {
     "output_type": "execute_result",
     "data": {
      "text/plain": [
       "   first     last                   email\n",
       "0  Corey  Schafer  CoreySchafer@gmail.com\n",
       "1   Jane      Doe     JaneDoe@hotmail.com\n",
       "2   John    Smith   JohnSmith@outlook.com"
      ],
      "text/html": "<div>\n<style scoped>\n    .dataframe tbody tr th:only-of-type {\n        vertical-align: middle;\n    }\n\n    .dataframe tbody tr th {\n        vertical-align: top;\n    }\n\n    .dataframe thead th {\n        text-align: right;\n    }\n</style>\n<table border=\"1\" class=\"dataframe\">\n  <thead>\n    <tr style=\"text-align: right;\">\n      <th></th>\n      <th>first</th>\n      <th>last</th>\n      <th>email</th>\n    </tr>\n  </thead>\n  <tbody>\n    <tr>\n      <th>0</th>\n      <td>Corey</td>\n      <td>Schafer</td>\n      <td>CoreySchafer@gmail.com</td>\n    </tr>\n    <tr>\n      <th>1</th>\n      <td>Jane</td>\n      <td>Doe</td>\n      <td>JaneDoe@hotmail.com</td>\n    </tr>\n    <tr>\n      <th>2</th>\n      <td>John</td>\n      <td>Smith</td>\n      <td>JohnSmith@outlook.com</td>\n    </tr>\n  </tbody>\n</table>\n</div>"
     },
     "metadata": {},
     "execution_count": 227
    }
   ],
   "source": [
    "pp_df"
   ]
  },
  {
   "cell_type": "code",
   "execution_count": 245,
   "metadata": {},
   "outputs": [],
   "source": [
    "pp_df.columns = [x.upper() for x in pp_df.columns]  # List Comprehension"
   ]
  },
  {
   "cell_type": "code",
   "execution_count": 247,
   "metadata": {},
   "outputs": [
    {
     "output_type": "execute_result",
     "data": {
      "text/plain": [
       "Index(['FIRST', 'LAST', 'EMAIL'], dtype='object')"
      ]
     },
     "metadata": {},
     "execution_count": 247
    }
   ],
   "source": [
    "pp_df.columns"
   ]
  },
  {
   "cell_type": "code",
   "execution_count": 248,
   "metadata": {},
   "outputs": [],
   "source": [
    "pp_df.columns = ['FIRST_NAME', 'LAST_NAME', 'EMAIL']"
   ]
  },
  {
   "cell_type": "code",
   "execution_count": 257,
   "metadata": {},
   "outputs": [
    {
     "output_type": "execute_result",
     "data": {
      "text/plain": [
       "Index(['FIRST NAME', 'LAST NAME', 'EMAIL'], dtype='object')"
      ]
     },
     "metadata": {},
     "execution_count": 257
    }
   ],
   "source": [
    "pp_df.columns.str.replace('_', ' ')"
   ]
  },
  {
   "cell_type": "code",
   "execution_count": 258,
   "metadata": {},
   "outputs": [
    {
     "output_type": "execute_result",
     "data": {
      "text/plain": [
       "  FIRST_NAME LAST_NAME                   EMAIL\n",
       "0      Corey   Schafer  CoreySchafer@gmail.com\n",
       "1       Jane       Doe     JaneDoe@hotmail.com\n",
       "2       John     Smith   JohnSmith@outlook.com"
      ],
      "text/html": "<div>\n<style scoped>\n    .dataframe tbody tr th:only-of-type {\n        vertical-align: middle;\n    }\n\n    .dataframe tbody tr th {\n        vertical-align: top;\n    }\n\n    .dataframe thead th {\n        text-align: right;\n    }\n</style>\n<table border=\"1\" class=\"dataframe\">\n  <thead>\n    <tr style=\"text-align: right;\">\n      <th></th>\n      <th>FIRST_NAME</th>\n      <th>LAST_NAME</th>\n      <th>EMAIL</th>\n    </tr>\n  </thead>\n  <tbody>\n    <tr>\n      <th>0</th>\n      <td>Corey</td>\n      <td>Schafer</td>\n      <td>CoreySchafer@gmail.com</td>\n    </tr>\n    <tr>\n      <th>1</th>\n      <td>Jane</td>\n      <td>Doe</td>\n      <td>JaneDoe@hotmail.com</td>\n    </tr>\n    <tr>\n      <th>2</th>\n      <td>John</td>\n      <td>Smith</td>\n      <td>JohnSmith@outlook.com</td>\n    </tr>\n  </tbody>\n</table>\n</div>"
     },
     "metadata": {},
     "execution_count": 258
    }
   ],
   "source": [
    "pp_df"
   ]
  },
  {
   "cell_type": "code",
   "execution_count": 263,
   "metadata": {},
   "outputs": [],
   "source": [
    "pp_df.columns = pp_df.columns.str.title()"
   ]
  },
  {
   "cell_type": "code",
   "execution_count": 268,
   "metadata": {},
   "outputs": [],
   "source": [
    "pp_df.rename(columns={'Email': 'Email_Address'}, inplace=True)"
   ]
  },
  {
   "cell_type": "code",
   "execution_count": 269,
   "metadata": {},
   "outputs": [
    {
     "output_type": "execute_result",
     "data": {
      "text/plain": [
       "  First_Legal_Name Last_Legal_Name           Email_Address\n",
       "0            Corey         Schafer  CoreySchafer@gmail.com\n",
       "1             Jane             Doe     JaneDoe@hotmail.com\n",
       "2             John           Smith   JohnSmith@outlook.com"
      ],
      "text/html": "<div>\n<style scoped>\n    .dataframe tbody tr th:only-of-type {\n        vertical-align: middle;\n    }\n\n    .dataframe tbody tr th {\n        vertical-align: top;\n    }\n\n    .dataframe thead th {\n        text-align: right;\n    }\n</style>\n<table border=\"1\" class=\"dataframe\">\n  <thead>\n    <tr style=\"text-align: right;\">\n      <th></th>\n      <th>First_Legal_Name</th>\n      <th>Last_Legal_Name</th>\n      <th>Email_Address</th>\n    </tr>\n  </thead>\n  <tbody>\n    <tr>\n      <th>0</th>\n      <td>Corey</td>\n      <td>Schafer</td>\n      <td>CoreySchafer@gmail.com</td>\n    </tr>\n    <tr>\n      <th>1</th>\n      <td>Jane</td>\n      <td>Doe</td>\n      <td>JaneDoe@hotmail.com</td>\n    </tr>\n    <tr>\n      <th>2</th>\n      <td>John</td>\n      <td>Smith</td>\n      <td>JohnSmith@outlook.com</td>\n    </tr>\n  </tbody>\n</table>\n</div>"
     },
     "metadata": {},
     "execution_count": 269
    }
   ],
   "source": [
    "pp_df.rename(columns={\n",
    "    'First_Name': 'First_Legal_Name',\n",
    "    'Last_Name': 'Last_Legal_Name'\n",
    "})"
   ]
  },
  {
   "cell_type": "code",
   "execution_count": 270,
   "metadata": {},
   "outputs": [
    {
     "output_type": "execute_result",
     "data": {
      "text/plain": [
       "  First_Name Last_Name           Email_Address\n",
       "0      Corey   Schafer  CoreySchafer@gmail.com\n",
       "1       Jane       Doe     JaneDoe@hotmail.com\n",
       "2       John     Smith   JohnSmith@outlook.com"
      ],
      "text/html": "<div>\n<style scoped>\n    .dataframe tbody tr th:only-of-type {\n        vertical-align: middle;\n    }\n\n    .dataframe tbody tr th {\n        vertical-align: top;\n    }\n\n    .dataframe thead th {\n        text-align: right;\n    }\n</style>\n<table border=\"1\" class=\"dataframe\">\n  <thead>\n    <tr style=\"text-align: right;\">\n      <th></th>\n      <th>First_Name</th>\n      <th>Last_Name</th>\n      <th>Email_Address</th>\n    </tr>\n  </thead>\n  <tbody>\n    <tr>\n      <th>0</th>\n      <td>Corey</td>\n      <td>Schafer</td>\n      <td>CoreySchafer@gmail.com</td>\n    </tr>\n    <tr>\n      <th>1</th>\n      <td>Jane</td>\n      <td>Doe</td>\n      <td>JaneDoe@hotmail.com</td>\n    </tr>\n    <tr>\n      <th>2</th>\n      <td>John</td>\n      <td>Smith</td>\n      <td>JohnSmith@outlook.com</td>\n    </tr>\n  </tbody>\n</table>\n</div>"
     },
     "metadata": {},
     "execution_count": 270
    }
   ],
   "source": [
    "pp_df"
   ]
  },
  {
   "cell_type": "code",
   "execution_count": 272,
   "metadata": {},
   "outputs": [],
   "source": [
    "# df.rename(columns={})\n",
    "# df.columns.str.replace()\n",
    "\n",
    "df = pp_df"
   ]
  },
  {
   "cell_type": "code",
   "execution_count": 282,
   "metadata": {},
   "outputs": [
    {
     "output_type": "execute_result",
     "data": {
      "text/plain": [
       "  First_Name Last_Name           Email_Address\n",
       "0      Corey   Schafer  CoreySchafer@gmail.com\n",
       "1       Jane       Doe     JaneDoe@hotmail.com\n",
       "2       John     Smith   JohnSmith@outlook.com"
      ],
      "text/html": "<div>\n<style scoped>\n    .dataframe tbody tr th:only-of-type {\n        vertical-align: middle;\n    }\n\n    .dataframe tbody tr th {\n        vertical-align: top;\n    }\n\n    .dataframe thead th {\n        text-align: right;\n    }\n</style>\n<table border=\"1\" class=\"dataframe\">\n  <thead>\n    <tr style=\"text-align: right;\">\n      <th></th>\n      <th>First_Name</th>\n      <th>Last_Name</th>\n      <th>Email_Address</th>\n    </tr>\n  </thead>\n  <tbody>\n    <tr>\n      <th>0</th>\n      <td>Corey</td>\n      <td>Schafer</td>\n      <td>CoreySchafer@gmail.com</td>\n    </tr>\n    <tr>\n      <th>1</th>\n      <td>Jane</td>\n      <td>Doe</td>\n      <td>JaneDoe@hotmail.com</td>\n    </tr>\n    <tr>\n      <th>2</th>\n      <td>John</td>\n      <td>Smith</td>\n      <td>JohnSmith@outlook.com</td>\n    </tr>\n  </tbody>\n</table>\n</div>"
     },
     "metadata": {},
     "execution_count": 282
    }
   ],
   "source": [
    "df.loc[:,:]"
   ]
  },
  {
   "cell_type": "code",
   "execution_count": 284,
   "metadata": {},
   "outputs": [
    {
     "output_type": "execute_result",
     "data": {
      "text/plain": [
       "First_Name                        John\n",
       "Last_Name                        Smith\n",
       "Email_Address    JohnSmith@outlook.com\n",
       "Name: 2, dtype: object"
      ]
     },
     "metadata": {},
     "execution_count": 284
    }
   ],
   "source": [
    "df.loc[2,:]"
   ]
  },
  {
   "cell_type": "code",
   "execution_count": 293,
   "metadata": {},
   "outputs": [],
   "source": [
    "# ✅ Append new row into existing dataframe ✅ 200\n",
    "# 'First_Name', 'Last_Name', 'Email_Address'\n",
    "# Congrats! You've probably mastered dict by now!\n",
    "\n",
    "df.loc[4] = {\n",
    "    'First_Name':'Joseph',\n",
    "    'Last_Name':'Yu',\n",
    "    'Email_Address':'josephyu@outlook.com'\n",
    "    }"
   ]
  },
  {
   "cell_type": "code",
   "execution_count": 297,
   "metadata": {},
   "outputs": [
    {
     "output_type": "execute_result",
     "data": {
      "text/plain": [
       "  First_Name Last_Name           Email_Address\n",
       "0      Corey   Schafer  CoreySchafer@gmail.com\n",
       "1       Jane       Doe     JaneDoe@hotmail.com\n",
       "2       John     Smith   JohnSmith@outlook.com\n",
       "3     Joseph        Yu    josephyu@outlook.com\n",
       "5     Joseph        Yu    josephyu@outlook.com\n",
       "4     Joseph        Yu    josephyu@outlook.com"
      ],
      "text/html": "<div>\n<style scoped>\n    .dataframe tbody tr th:only-of-type {\n        vertical-align: middle;\n    }\n\n    .dataframe tbody tr th {\n        vertical-align: top;\n    }\n\n    .dataframe thead th {\n        text-align: right;\n    }\n</style>\n<table border=\"1\" class=\"dataframe\">\n  <thead>\n    <tr style=\"text-align: right;\">\n      <th></th>\n      <th>First_Name</th>\n      <th>Last_Name</th>\n      <th>Email_Address</th>\n    </tr>\n  </thead>\n  <tbody>\n    <tr>\n      <th>0</th>\n      <td>Corey</td>\n      <td>Schafer</td>\n      <td>CoreySchafer@gmail.com</td>\n    </tr>\n    <tr>\n      <th>1</th>\n      <td>Jane</td>\n      <td>Doe</td>\n      <td>JaneDoe@hotmail.com</td>\n    </tr>\n    <tr>\n      <th>2</th>\n      <td>John</td>\n      <td>Smith</td>\n      <td>JohnSmith@outlook.com</td>\n    </tr>\n    <tr>\n      <th>3</th>\n      <td>Joseph</td>\n      <td>Yu</td>\n      <td>josephyu@outlook.com</td>\n    </tr>\n    <tr>\n      <th>5</th>\n      <td>Joseph</td>\n      <td>Yu</td>\n      <td>josephyu@outlook.com</td>\n    </tr>\n    <tr>\n      <th>4</th>\n      <td>Joseph</td>\n      <td>Yu</td>\n      <td>josephyu@outlook.com</td>\n    </tr>\n  </tbody>\n</table>\n</div>"
     },
     "metadata": {},
     "execution_count": 297
    }
   ],
   "source": [
    "df"
   ]
  },
  {
   "cell_type": "code",
   "execution_count": 298,
   "metadata": {},
   "outputs": [],
   "source": [
    "# ⭐️ Mass create new rows into existing colums 批量添加新行并入已有数据\n",
    "\n",
    "# df.loc[i] = {dict}\n",
    "\n",
    "for i in range(11, 21, 1):\n",
    "    df.loc[i] = {\n",
    "    'First_Name':'Joseph',\n",
    "    'Last_Name':'Yu',\n",
    "    'Email_Address':'josephyu@outlook.com'\n",
    "    }"
   ]
  },
  {
   "cell_type": "code",
   "execution_count": 301,
   "metadata": {},
   "outputs": [
    {
     "output_type": "execute_result",
     "data": {
      "text/plain": [
       "0     CoreySchafer@gmail.com\n",
       "1        JaneDoe@hotmail.com\n",
       "2        JohnSmith@gmail.com\n",
       "3         josephyu@gmail.com\n",
       "5         josephyu@gmail.com\n",
       "4         josephyu@gmail.com\n",
       "11        josephyu@gmail.com\n",
       "12        josephyu@gmail.com\n",
       "13        josephyu@gmail.com\n",
       "14        josephyu@gmail.com\n",
       "15        josephyu@gmail.com\n",
       "16        josephyu@gmail.com\n",
       "17        josephyu@gmail.com\n",
       "18        josephyu@gmail.com\n",
       "19        josephyu@gmail.com\n",
       "20        josephyu@gmail.com\n",
       "Name: Email_Address, dtype: object"
      ]
     },
     "metadata": {},
     "execution_count": 301
    }
   ],
   "source": [
    "df['Email_Address'].str.replace('outlook', 'gmail')"
   ]
  },
  {
   "cell_type": "code",
   "execution_count": 302,
   "metadata": {},
   "outputs": [
    {
     "output_type": "execute_result",
     "data": {
      "text/plain": [
       "   First_Name Last_Name           Email_Address\n",
       "0       Corey   Schafer  CoreySchafer@gmail.com\n",
       "1        Jane       Doe     JaneDoe@hotmail.com\n",
       "2        John     Smith   JohnSmith@outlook.com\n",
       "3      Joseph        Yu    josephyu@outlook.com\n",
       "5      Joseph        Yu    josephyu@outlook.com\n",
       "4      Joseph        Yu    josephyu@outlook.com\n",
       "11     Joseph        Yu    josephyu@outlook.com\n",
       "12     Joseph        Yu    josephyu@outlook.com\n",
       "13     Joseph        Yu    josephyu@outlook.com\n",
       "14     Joseph        Yu    josephyu@outlook.com\n",
       "15     Joseph        Yu    josephyu@outlook.com\n",
       "16     Joseph        Yu    josephyu@outlook.com\n",
       "17     Joseph        Yu    josephyu@outlook.com\n",
       "18     Joseph        Yu    josephyu@outlook.com\n",
       "19     Joseph        Yu    josephyu@outlook.com\n",
       "20     Joseph        Yu    josephyu@outlook.com"
      ],
      "text/html": "<div>\n<style scoped>\n    .dataframe tbody tr th:only-of-type {\n        vertical-align: middle;\n    }\n\n    .dataframe tbody tr th {\n        vertical-align: top;\n    }\n\n    .dataframe thead th {\n        text-align: right;\n    }\n</style>\n<table border=\"1\" class=\"dataframe\">\n  <thead>\n    <tr style=\"text-align: right;\">\n      <th></th>\n      <th>First_Name</th>\n      <th>Last_Name</th>\n      <th>Email_Address</th>\n    </tr>\n  </thead>\n  <tbody>\n    <tr>\n      <th>0</th>\n      <td>Corey</td>\n      <td>Schafer</td>\n      <td>CoreySchafer@gmail.com</td>\n    </tr>\n    <tr>\n      <th>1</th>\n      <td>Jane</td>\n      <td>Doe</td>\n      <td>JaneDoe@hotmail.com</td>\n    </tr>\n    <tr>\n      <th>2</th>\n      <td>John</td>\n      <td>Smith</td>\n      <td>JohnSmith@outlook.com</td>\n    </tr>\n    <tr>\n      <th>3</th>\n      <td>Joseph</td>\n      <td>Yu</td>\n      <td>josephyu@outlook.com</td>\n    </tr>\n    <tr>\n      <th>5</th>\n      <td>Joseph</td>\n      <td>Yu</td>\n      <td>josephyu@outlook.com</td>\n    </tr>\n    <tr>\n      <th>4</th>\n      <td>Joseph</td>\n      <td>Yu</td>\n      <td>josephyu@outlook.com</td>\n    </tr>\n    <tr>\n      <th>11</th>\n      <td>Joseph</td>\n      <td>Yu</td>\n      <td>josephyu@outlook.com</td>\n    </tr>\n    <tr>\n      <th>12</th>\n      <td>Joseph</td>\n      <td>Yu</td>\n      <td>josephyu@outlook.com</td>\n    </tr>\n    <tr>\n      <th>13</th>\n      <td>Joseph</td>\n      <td>Yu</td>\n      <td>josephyu@outlook.com</td>\n    </tr>\n    <tr>\n      <th>14</th>\n      <td>Joseph</td>\n      <td>Yu</td>\n      <td>josephyu@outlook.com</td>\n    </tr>\n    <tr>\n      <th>15</th>\n      <td>Joseph</td>\n      <td>Yu</td>\n      <td>josephyu@outlook.com</td>\n    </tr>\n    <tr>\n      <th>16</th>\n      <td>Joseph</td>\n      <td>Yu</td>\n      <td>josephyu@outlook.com</td>\n    </tr>\n    <tr>\n      <th>17</th>\n      <td>Joseph</td>\n      <td>Yu</td>\n      <td>josephyu@outlook.com</td>\n    </tr>\n    <tr>\n      <th>18</th>\n      <td>Joseph</td>\n      <td>Yu</td>\n      <td>josephyu@outlook.com</td>\n    </tr>\n    <tr>\n      <th>19</th>\n      <td>Joseph</td>\n      <td>Yu</td>\n      <td>josephyu@outlook.com</td>\n    </tr>\n    <tr>\n      <th>20</th>\n      <td>Joseph</td>\n      <td>Yu</td>\n      <td>josephyu@outlook.com</td>\n    </tr>\n  </tbody>\n</table>\n</div>"
     },
     "metadata": {},
     "execution_count": 302
    }
   ],
   "source": [
    "df"
   ]
  },
  {
   "cell_type": "code",
   "execution_count": 306,
   "metadata": {},
   "outputs": [],
   "source": [
    "# ✅ Similaraly, how do we add new Columns ✅ 200\n",
    "# Just by adding a new list! EASY mode\n",
    "\n",
    "df = df.loc[0:2]"
   ]
  },
  {
   "cell_type": "code",
   "execution_count": 307,
   "metadata": {},
   "outputs": [
    {
     "output_type": "execute_result",
     "data": {
      "text/plain": [
       "  First_Name Last_Name           Email_Address\n",
       "0      Corey   Schafer  CoreySchafer@gmail.com\n",
       "1       Jane       Doe     JaneDoe@hotmail.com\n",
       "2       John     Smith   JohnSmith@outlook.com"
      ],
      "text/html": "<div>\n<style scoped>\n    .dataframe tbody tr th:only-of-type {\n        vertical-align: middle;\n    }\n\n    .dataframe tbody tr th {\n        vertical-align: top;\n    }\n\n    .dataframe thead th {\n        text-align: right;\n    }\n</style>\n<table border=\"1\" class=\"dataframe\">\n  <thead>\n    <tr style=\"text-align: right;\">\n      <th></th>\n      <th>First_Name</th>\n      <th>Last_Name</th>\n      <th>Email_Address</th>\n    </tr>\n  </thead>\n  <tbody>\n    <tr>\n      <th>0</th>\n      <td>Corey</td>\n      <td>Schafer</td>\n      <td>CoreySchafer@gmail.com</td>\n    </tr>\n    <tr>\n      <th>1</th>\n      <td>Jane</td>\n      <td>Doe</td>\n      <td>JaneDoe@hotmail.com</td>\n    </tr>\n    <tr>\n      <th>2</th>\n      <td>John</td>\n      <td>Smith</td>\n      <td>JohnSmith@outlook.com</td>\n    </tr>\n  </tbody>\n</table>\n</div>"
     },
     "metadata": {},
     "execution_count": 307
    }
   ],
   "source": [
    "df"
   ]
  },
  {
   "cell_type": "code",
   "execution_count": 310,
   "metadata": {},
   "outputs": [],
   "source": [
    "df['Age'] = [21, 22, 23]"
   ]
  },
  {
   "cell_type": "code",
   "execution_count": 312,
   "metadata": {},
   "outputs": [
    {
     "output_type": "execute_result",
     "data": {
      "text/plain": [
       "  First_Name Last_Name           Email_Address  Age\n",
       "0      Corey   Schafer  CoreySchafer@gmail.com   21\n",
       "1       Jane       Doe     JaneDoe@hotmail.com   22\n",
       "2       John     Smith   JohnSmith@outlook.com   23"
      ],
      "text/html": "<div>\n<style scoped>\n    .dataframe tbody tr th:only-of-type {\n        vertical-align: middle;\n    }\n\n    .dataframe tbody tr th {\n        vertical-align: top;\n    }\n\n    .dataframe thead th {\n        text-align: right;\n    }\n</style>\n<table border=\"1\" class=\"dataframe\">\n  <thead>\n    <tr style=\"text-align: right;\">\n      <th></th>\n      <th>First_Name</th>\n      <th>Last_Name</th>\n      <th>Email_Address</th>\n      <th>Age</th>\n    </tr>\n  </thead>\n  <tbody>\n    <tr>\n      <th>0</th>\n      <td>Corey</td>\n      <td>Schafer</td>\n      <td>CoreySchafer@gmail.com</td>\n      <td>21</td>\n    </tr>\n    <tr>\n      <th>1</th>\n      <td>Jane</td>\n      <td>Doe</td>\n      <td>JaneDoe@hotmail.com</td>\n      <td>22</td>\n    </tr>\n    <tr>\n      <th>2</th>\n      <td>John</td>\n      <td>Smith</td>\n      <td>JohnSmith@outlook.com</td>\n      <td>23</td>\n    </tr>\n  </tbody>\n</table>\n</div>"
     },
     "metadata": {},
     "execution_count": 312
    }
   ],
   "source": [
    "df"
   ]
  },
  {
   "cell_type": "code",
   "execution_count": 314,
   "metadata": {},
   "outputs": [],
   "source": [
    "filt = (df['Email_Address'].str.contains('gmail')) | (df['First_Name'] == 'Jane')"
   ]
  },
  {
   "cell_type": "code",
   "execution_count": 315,
   "metadata": {},
   "outputs": [
    {
     "output_type": "execute_result",
     "data": {
      "text/plain": [
       "  First_Name Last_Name           Email_Address  Age\n",
       "0      Corey   Schafer  CoreySchafer@gmail.com   21\n",
       "1       Jane       Doe     JaneDoe@hotmail.com   22"
      ],
      "text/html": "<div>\n<style scoped>\n    .dataframe tbody tr th:only-of-type {\n        vertical-align: middle;\n    }\n\n    .dataframe tbody tr th {\n        vertical-align: top;\n    }\n\n    .dataframe thead th {\n        text-align: right;\n    }\n</style>\n<table border=\"1\" class=\"dataframe\">\n  <thead>\n    <tr style=\"text-align: right;\">\n      <th></th>\n      <th>First_Name</th>\n      <th>Last_Name</th>\n      <th>Email_Address</th>\n      <th>Age</th>\n    </tr>\n  </thead>\n  <tbody>\n    <tr>\n      <th>0</th>\n      <td>Corey</td>\n      <td>Schafer</td>\n      <td>CoreySchafer@gmail.com</td>\n      <td>21</td>\n    </tr>\n    <tr>\n      <th>1</th>\n      <td>Jane</td>\n      <td>Doe</td>\n      <td>JaneDoe@hotmail.com</td>\n      <td>22</td>\n    </tr>\n  </tbody>\n</table>\n</div>"
     },
     "metadata": {},
     "execution_count": 315
    }
   ],
   "source": [
    "df[filt]"
   ]
  },
  {
   "cell_type": "code",
   "execution_count": null,
   "metadata": {},
   "outputs": [],
   "source": []
  }
 ]
}
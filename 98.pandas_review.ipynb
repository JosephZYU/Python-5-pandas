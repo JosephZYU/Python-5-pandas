{
 "metadata": {
  "language_info": {
   "codemirror_mode": {
    "name": "ipython",
    "version": 3
   },
   "file_extension": ".py",
   "mimetype": "text/x-python",
   "name": "python",
   "nbconvert_exporter": "python",
   "pygments_lexer": "ipython3",
   "version": "3.9.0-final"
  },
  "orig_nbformat": 2,
  "kernelspec": {
   "name": "python3",
   "display_name": "Python 3",
   "language": "python"
  }
 },
 "nbformat": 4,
 "nbformat_minor": 2,
 "cells": [
  {
   "cell_type": "code",
   "execution_count": 81,
   "metadata": {},
   "outputs": [],
   "source": [
    "import pandas as pd\n",
    "import numpy as np\n",
    "\n",
    "people = {\n",
    "    \"first\":['Corey', 'Jane', 'John'],\n",
    "    \"last\":['Schafer', 'Doe', 'Smith'],\n",
    "    \"email\":['CoreySchafer@gmail.com','JaneDoe@hotmail.com','JohnSmith@outlook.com'],\n",
    "}\n",
    "\n",
    "\n",
    "pd.set_option('display.max_columns', 100)\n",
    "pd.set_option('display.max_rows', 100)\n",
    "pd.set_option('display.max_colwidth', None)  \n",
    "\n",
    "\n",
    "pd.set_option('display.float_format', lambda x: '%.4f' % x)\n",
    "\n",
    "\n",
    "survey_source = '/Users/josephyu/Documents/GitHub/data/survey_results_public.csv'\n",
    "schema_source = '/Users/josephyu/Documents/GitHub/data/survey_results_schema.csv'\n",
    "\n",
    "\n",
    "df = pd.read_csv(survey_source, index_col = 'Respondent')\n",
    "schema_df = pd.read_csv(schema_source, index_col = 'Column')\n",
    "pp_df = pd.DataFrame(people)\n",
    "\n",
    "# ['Hobbyist', 'OpenSourcer', 'Region'] -> PERFECT Data Quality by column"
   ]
  },
  {
   "cell_type": "code",
   "execution_count": 82,
   "metadata": {},
   "outputs": [],
   "source": [
    "df.columns = df.columns.str.strip()\n",
    "df.rename(columns={\"ConvertedComp\": \"Salary\", \"Country\": \"Region\"}, inplace=True)"
   ]
  },
  {
   "cell_type": "code",
   "execution_count": 83,
   "metadata": {},
   "outputs": [],
   "source": [
    "# participants exceeding \"Other Country (Not Listed Above)\" as cut-off for Latvia\n",
    "tgt_regions = df['Region'].value_counts(normalize=True)[:'Latvia'].index.tolist()"
   ]
  },
  {
   "cell_type": "code",
   "execution_count": 84,
   "metadata": {},
   "outputs": [],
   "source": [
    "filt = df['Region'].isin(tgt_regions)\n",
    "\n",
    "df = df[filt]"
   ]
  },
  {
   "cell_type": "code",
   "execution_count": 87,
   "metadata": {},
   "outputs": [],
   "source": [
    "region_dict= {\"United States\":\"US\", \"United Kingdom\":\"UK\", \"Germany\":\"DE\", \"France\":\"FR\", \"Canada\":\"CA\", \"China\":\"CN\", \"Taiwan\":\"TW\", \"Hong Kong (S.A.R.)\":\"HK\", \"India\":\"IN\", \"Japan\":\"JP\"}\n",
    "\n",
    "df['Region'].replace(region_dict, inplace=True)"
   ]
  },
  {
   "cell_type": "code",
   "execution_count": 100,
   "metadata": {},
   "outputs": [
    {
     "output_type": "execute_result",
     "data": {
      "text/plain": [
       "count     53965.0000\n",
       "mean     129979.1589\n",
       "std      287698.1569\n",
       "min           0.0000\n",
       "25%       27492.0000\n",
       "50%       58413.0000\n",
       "75%      101542.0000\n",
       "max     2000000.0000\n",
       "Name: Salary, dtype: float64"
      ]
     },
     "metadata": {},
     "execution_count": 100
    }
   ],
   "source": [
    "df['Salary'].describe()"
   ]
  },
  {
   "cell_type": "code",
   "execution_count": 112,
   "metadata": {},
   "outputs": [
    {
     "output_type": "execute_result",
     "data": {
      "text/plain": [
       "                 Regions  Pct_over_avg\n",
       "2                     US        0.5984\n",
       "16           Switzerland        0.4494\n",
       "32               Ireland        0.4052\n",
       "12                Israel        0.3696\n",
       "8              Australia        0.3392\n",
       "53                Norway        0.3134\n",
       "0                     UK        0.3009\n",
       "20               Denmark        0.2881\n",
       "6            New Zealand        0.2157\n",
       "4                     CA        0.2118\n",
       "58             Singapore        0.1795\n",
       "29           Netherlands        0.1694\n",
       "49                    HK        0.1667\n",
       "7                     DE        0.1466\n",
       "30                 Italy        0.1361\n",
       "23                 Spain        0.1344\n",
       "39                    JP        0.1308\n",
       "59               Belgium        0.1185\n",
       "37           South Korea        0.1143\n",
       "1               Thailand        0.1068\n",
       "34               Austria        0.1050\n",
       "28                    FR        0.1014\n",
       "50  United Arab Emirates        0.0909\n",
       "13          South Africa        0.0718\n",
       "26                Sweden        0.0673\n",
       "27                    CN        0.0607\n",
       "51              Portugal        0.0590\n",
       "44              Slovenia        0.0588\n",
       "62                    TW        0.0556\n",
       "41               Finland        0.0524\n",
       "38                Greece        0.0519\n",
       "5                     IN        0.0515\n",
       "36               Croatia        0.0476\n",
       "40               Romania        0.0434\n",
       "56                 Chile        0.0417\n",
       "48                Latvia        0.0408\n",
       "61              Slovakia        0.0400\n",
       "24                Serbia        0.0364\n",
       "17             Argentina        0.0357\n",
       "55                Mexico        0.0346\n",
       "10                Brazil        0.0336\n",
       "42              Bulgaria        0.0323\n",
       "11             Lithuania        0.0311\n",
       "25                Poland        0.0280\n",
       "54                 Egypt        0.0265\n",
       "19        Czech Republic        0.0248\n",
       "46               Belarus        0.0242\n",
       "57                 Nepal        0.0241\n",
       "14              Colombia        0.0238\n",
       "63             Indonesia        0.0236\n",
       "22            Bangladesh        0.0200\n",
       "31           Philippines        0.0197\n",
       "47               Hungary        0.0152\n",
       "52               Nigeria        0.0151\n",
       "21              Malaysia        0.0143\n",
       "35               Estonia        0.0142\n",
       "15                Turkey        0.0139\n",
       "9     Russian Federation        0.0127\n",
       "18             Sri Lanka        0.0121\n",
       "45                  Iran        0.0119\n",
       "43              Viet Nam        0.0115\n",
       "60                 Kenya        0.0100\n",
       "3                Ukraine        0.0092\n",
       "33              Pakistan        0.0024\n",
       "64               Morocco        0.0000"
      ],
      "text/html": "<div>\n<style scoped>\n    .dataframe tbody tr th:only-of-type {\n        vertical-align: middle;\n    }\n\n    .dataframe tbody tr th {\n        vertical-align: top;\n    }\n\n    .dataframe thead th {\n        text-align: right;\n    }\n</style>\n<table border=\"1\" class=\"dataframe\">\n  <thead>\n    <tr style=\"text-align: right;\">\n      <th></th>\n      <th>Regions</th>\n      <th>Pct_over_avg</th>\n    </tr>\n  </thead>\n  <tbody>\n    <tr>\n      <th>2</th>\n      <td>US</td>\n      <td>0.5984</td>\n    </tr>\n    <tr>\n      <th>16</th>\n      <td>Switzerland</td>\n      <td>0.4494</td>\n    </tr>\n    <tr>\n      <th>32</th>\n      <td>Ireland</td>\n      <td>0.4052</td>\n    </tr>\n    <tr>\n      <th>12</th>\n      <td>Israel</td>\n      <td>0.3696</td>\n    </tr>\n    <tr>\n      <th>8</th>\n      <td>Australia</td>\n      <td>0.3392</td>\n    </tr>\n    <tr>\n      <th>53</th>\n      <td>Norway</td>\n      <td>0.3134</td>\n    </tr>\n    <tr>\n      <th>0</th>\n      <td>UK</td>\n      <td>0.3009</td>\n    </tr>\n    <tr>\n      <th>20</th>\n      <td>Denmark</td>\n      <td>0.2881</td>\n    </tr>\n    <tr>\n      <th>6</th>\n      <td>New Zealand</td>\n      <td>0.2157</td>\n    </tr>\n    <tr>\n      <th>4</th>\n      <td>CA</td>\n      <td>0.2118</td>\n    </tr>\n    <tr>\n      <th>58</th>\n      <td>Singapore</td>\n      <td>0.1795</td>\n    </tr>\n    <tr>\n      <th>29</th>\n      <td>Netherlands</td>\n      <td>0.1694</td>\n    </tr>\n    <tr>\n      <th>49</th>\n      <td>HK</td>\n      <td>0.1667</td>\n    </tr>\n    <tr>\n      <th>7</th>\n      <td>DE</td>\n      <td>0.1466</td>\n    </tr>\n    <tr>\n      <th>30</th>\n      <td>Italy</td>\n      <td>0.1361</td>\n    </tr>\n    <tr>\n      <th>23</th>\n      <td>Spain</td>\n      <td>0.1344</td>\n    </tr>\n    <tr>\n      <th>39</th>\n      <td>JP</td>\n      <td>0.1308</td>\n    </tr>\n    <tr>\n      <th>59</th>\n      <td>Belgium</td>\n      <td>0.1185</td>\n    </tr>\n    <tr>\n      <th>37</th>\n      <td>South Korea</td>\n      <td>0.1143</td>\n    </tr>\n    <tr>\n      <th>1</th>\n      <td>Thailand</td>\n      <td>0.1068</td>\n    </tr>\n    <tr>\n      <th>34</th>\n      <td>Austria</td>\n      <td>0.1050</td>\n    </tr>\n    <tr>\n      <th>28</th>\n      <td>FR</td>\n      <td>0.1014</td>\n    </tr>\n    <tr>\n      <th>50</th>\n      <td>United Arab Emirates</td>\n      <td>0.0909</td>\n    </tr>\n    <tr>\n      <th>13</th>\n      <td>South Africa</td>\n      <td>0.0718</td>\n    </tr>\n    <tr>\n      <th>26</th>\n      <td>Sweden</td>\n      <td>0.0673</td>\n    </tr>\n    <tr>\n      <th>27</th>\n      <td>CN</td>\n      <td>0.0607</td>\n    </tr>\n    <tr>\n      <th>51</th>\n      <td>Portugal</td>\n      <td>0.0590</td>\n    </tr>\n    <tr>\n      <th>44</th>\n      <td>Slovenia</td>\n      <td>0.0588</td>\n    </tr>\n    <tr>\n      <th>62</th>\n      <td>TW</td>\n      <td>0.0556</td>\n    </tr>\n    <tr>\n      <th>41</th>\n      <td>Finland</td>\n      <td>0.0524</td>\n    </tr>\n    <tr>\n      <th>38</th>\n      <td>Greece</td>\n      <td>0.0519</td>\n    </tr>\n    <tr>\n      <th>5</th>\n      <td>IN</td>\n      <td>0.0515</td>\n    </tr>\n    <tr>\n      <th>36</th>\n      <td>Croatia</td>\n      <td>0.0476</td>\n    </tr>\n    <tr>\n      <th>40</th>\n      <td>Romania</td>\n      <td>0.0434</td>\n    </tr>\n    <tr>\n      <th>56</th>\n      <td>Chile</td>\n      <td>0.0417</td>\n    </tr>\n    <tr>\n      <th>48</th>\n      <td>Latvia</td>\n      <td>0.0408</td>\n    </tr>\n    <tr>\n      <th>61</th>\n      <td>Slovakia</td>\n      <td>0.0400</td>\n    </tr>\n    <tr>\n      <th>24</th>\n      <td>Serbia</td>\n      <td>0.0364</td>\n    </tr>\n    <tr>\n      <th>17</th>\n      <td>Argentina</td>\n      <td>0.0357</td>\n    </tr>\n    <tr>\n      <th>55</th>\n      <td>Mexico</td>\n      <td>0.0346</td>\n    </tr>\n    <tr>\n      <th>10</th>\n      <td>Brazil</td>\n      <td>0.0336</td>\n    </tr>\n    <tr>\n      <th>42</th>\n      <td>Bulgaria</td>\n      <td>0.0323</td>\n    </tr>\n    <tr>\n      <th>11</th>\n      <td>Lithuania</td>\n      <td>0.0311</td>\n    </tr>\n    <tr>\n      <th>25</th>\n      <td>Poland</td>\n      <td>0.0280</td>\n    </tr>\n    <tr>\n      <th>54</th>\n      <td>Egypt</td>\n      <td>0.0265</td>\n    </tr>\n    <tr>\n      <th>19</th>\n      <td>Czech Republic</td>\n      <td>0.0248</td>\n    </tr>\n    <tr>\n      <th>46</th>\n      <td>Belarus</td>\n      <td>0.0242</td>\n    </tr>\n    <tr>\n      <th>57</th>\n      <td>Nepal</td>\n      <td>0.0241</td>\n    </tr>\n    <tr>\n      <th>14</th>\n      <td>Colombia</td>\n      <td>0.0238</td>\n    </tr>\n    <tr>\n      <th>63</th>\n      <td>Indonesia</td>\n      <td>0.0236</td>\n    </tr>\n    <tr>\n      <th>22</th>\n      <td>Bangladesh</td>\n      <td>0.0200</td>\n    </tr>\n    <tr>\n      <th>31</th>\n      <td>Philippines</td>\n      <td>0.0197</td>\n    </tr>\n    <tr>\n      <th>47</th>\n      <td>Hungary</td>\n      <td>0.0152</td>\n    </tr>\n    <tr>\n      <th>52</th>\n      <td>Nigeria</td>\n      <td>0.0151</td>\n    </tr>\n    <tr>\n      <th>21</th>\n      <td>Malaysia</td>\n      <td>0.0143</td>\n    </tr>\n    <tr>\n      <th>35</th>\n      <td>Estonia</td>\n      <td>0.0142</td>\n    </tr>\n    <tr>\n      <th>15</th>\n      <td>Turkey</td>\n      <td>0.0139</td>\n    </tr>\n    <tr>\n      <th>9</th>\n      <td>Russian Federation</td>\n      <td>0.0127</td>\n    </tr>\n    <tr>\n      <th>18</th>\n      <td>Sri Lanka</td>\n      <td>0.0121</td>\n    </tr>\n    <tr>\n      <th>45</th>\n      <td>Iran</td>\n      <td>0.0119</td>\n    </tr>\n    <tr>\n      <th>43</th>\n      <td>Viet Nam</td>\n      <td>0.0115</td>\n    </tr>\n    <tr>\n      <th>60</th>\n      <td>Kenya</td>\n      <td>0.0100</td>\n    </tr>\n    <tr>\n      <th>3</th>\n      <td>Ukraine</td>\n      <td>0.0092</td>\n    </tr>\n    <tr>\n      <th>33</th>\n      <td>Pakistan</td>\n      <td>0.0024</td>\n    </tr>\n    <tr>\n      <th>64</th>\n      <td>Morocco</td>\n      <td>0.0000</td>\n    </tr>\n  </tbody>\n</table>\n</div>"
     },
     "metadata": {},
     "execution_count": 112
    }
   ],
   "source": [
    "li_reg = []\n",
    "li_pct = []\n",
    "\n",
    "for region in df['Region'].unique():\n",
    "    one_df = df[df['Region'] == region]\n",
    "    tbd = one_df['Salary']\n",
    "\n",
    "    li_reg.append(region)\n",
    "    li_pct.append(round(len(tbd[tbd.values >= 100_000]) / len(one_df['Salary'].dropna()), 4))\n",
    "\n",
    "pct_df = pd.DataFrame({\n",
    "    'Regions': li_reg,\n",
    "    'Pct_over_avg': li_pct\n",
    "})\n",
    "\n",
    "\n",
    "pct_df.sort_values(by='Pct_over_avg', ascending=False)"
   ]
  },
  {
   "cell_type": "code",
   "execution_count": 111,
   "metadata": {},
   "outputs": [
    {
     "output_type": "execute_result",
     "data": {
      "text/plain": [
       "                 Regions  Pct_over_avg\n",
       "2                     US        0.5984\n",
       "16           Switzerland        0.4494\n",
       "32               Ireland        0.4052\n",
       "12                Israel        0.3696\n",
       "8              Australia        0.3392\n",
       "53                Norway        0.3134\n",
       "0                     UK        0.3009\n",
       "20               Denmark        0.2881\n",
       "6            New Zealand        0.2157\n",
       "4                     CA        0.2118\n",
       "58             Singapore        0.1795\n",
       "29           Netherlands        0.1694\n",
       "49                    HK        0.1667\n",
       "7                     DE        0.1466\n",
       "30                 Italy        0.1361\n",
       "23                 Spain        0.1344\n",
       "39                    JP        0.1308\n",
       "59               Belgium        0.1185\n",
       "37           South Korea        0.1143\n",
       "1               Thailand        0.1068\n",
       "34               Austria        0.1050\n",
       "28                    FR        0.1014\n",
       "50  United Arab Emirates        0.0909\n",
       "13          South Africa        0.0718\n",
       "26                Sweden        0.0673\n",
       "27                    CN        0.0607\n",
       "51              Portugal        0.0590\n",
       "44              Slovenia        0.0588\n",
       "62                    TW        0.0556\n",
       "41               Finland        0.0524\n",
       "38                Greece        0.0519\n",
       "5                     IN        0.0515\n",
       "36               Croatia        0.0476\n",
       "40               Romania        0.0434\n",
       "56                 Chile        0.0417\n",
       "48                Latvia        0.0408\n",
       "61              Slovakia        0.0400\n",
       "24                Serbia        0.0364\n",
       "17             Argentina        0.0357\n",
       "55                Mexico        0.0346\n",
       "10                Brazil        0.0336\n",
       "42              Bulgaria        0.0323\n",
       "11             Lithuania        0.0311\n",
       "25                Poland        0.0280\n",
       "54                 Egypt        0.0265\n",
       "19        Czech Republic        0.0248\n",
       "46               Belarus        0.0242\n",
       "57                 Nepal        0.0241\n",
       "14              Colombia        0.0238\n",
       "63             Indonesia        0.0236\n",
       "22            Bangladesh        0.0200\n",
       "31           Philippines        0.0197\n",
       "47               Hungary        0.0152\n",
       "52               Nigeria        0.0151\n",
       "21              Malaysia        0.0143\n",
       "35               Estonia        0.0142\n",
       "15                Turkey        0.0139\n",
       "9     Russian Federation        0.0127\n",
       "18             Sri Lanka        0.0121\n",
       "45                  Iran        0.0119\n",
       "43              Viet Nam        0.0115\n",
       "60                 Kenya        0.0100\n",
       "3                Ukraine        0.0092\n",
       "33              Pakistan        0.0024\n",
       "64               Morocco        0.0000"
      ],
      "text/html": "<div>\n<style scoped>\n    .dataframe tbody tr th:only-of-type {\n        vertical-align: middle;\n    }\n\n    .dataframe tbody tr th {\n        vertical-align: top;\n    }\n\n    .dataframe thead th {\n        text-align: right;\n    }\n</style>\n<table border=\"1\" class=\"dataframe\">\n  <thead>\n    <tr style=\"text-align: right;\">\n      <th></th>\n      <th>Regions</th>\n      <th>Pct_over_avg</th>\n    </tr>\n  </thead>\n  <tbody>\n    <tr>\n      <th>2</th>\n      <td>US</td>\n      <td>0.5984</td>\n    </tr>\n    <tr>\n      <th>16</th>\n      <td>Switzerland</td>\n      <td>0.4494</td>\n    </tr>\n    <tr>\n      <th>32</th>\n      <td>Ireland</td>\n      <td>0.4052</td>\n    </tr>\n    <tr>\n      <th>12</th>\n      <td>Israel</td>\n      <td>0.3696</td>\n    </tr>\n    <tr>\n      <th>8</th>\n      <td>Australia</td>\n      <td>0.3392</td>\n    </tr>\n    <tr>\n      <th>53</th>\n      <td>Norway</td>\n      <td>0.3134</td>\n    </tr>\n    <tr>\n      <th>0</th>\n      <td>UK</td>\n      <td>0.3009</td>\n    </tr>\n    <tr>\n      <th>20</th>\n      <td>Denmark</td>\n      <td>0.2881</td>\n    </tr>\n    <tr>\n      <th>6</th>\n      <td>New Zealand</td>\n      <td>0.2157</td>\n    </tr>\n    <tr>\n      <th>4</th>\n      <td>CA</td>\n      <td>0.2118</td>\n    </tr>\n    <tr>\n      <th>58</th>\n      <td>Singapore</td>\n      <td>0.1795</td>\n    </tr>\n    <tr>\n      <th>29</th>\n      <td>Netherlands</td>\n      <td>0.1694</td>\n    </tr>\n    <tr>\n      <th>49</th>\n      <td>HK</td>\n      <td>0.1667</td>\n    </tr>\n    <tr>\n      <th>7</th>\n      <td>DE</td>\n      <td>0.1466</td>\n    </tr>\n    <tr>\n      <th>30</th>\n      <td>Italy</td>\n      <td>0.1361</td>\n    </tr>\n    <tr>\n      <th>23</th>\n      <td>Spain</td>\n      <td>0.1344</td>\n    </tr>\n    <tr>\n      <th>39</th>\n      <td>JP</td>\n      <td>0.1308</td>\n    </tr>\n    <tr>\n      <th>59</th>\n      <td>Belgium</td>\n      <td>0.1185</td>\n    </tr>\n    <tr>\n      <th>37</th>\n      <td>South Korea</td>\n      <td>0.1143</td>\n    </tr>\n    <tr>\n      <th>1</th>\n      <td>Thailand</td>\n      <td>0.1068</td>\n    </tr>\n    <tr>\n      <th>34</th>\n      <td>Austria</td>\n      <td>0.1050</td>\n    </tr>\n    <tr>\n      <th>28</th>\n      <td>FR</td>\n      <td>0.1014</td>\n    </tr>\n    <tr>\n      <th>50</th>\n      <td>United Arab Emirates</td>\n      <td>0.0909</td>\n    </tr>\n    <tr>\n      <th>13</th>\n      <td>South Africa</td>\n      <td>0.0718</td>\n    </tr>\n    <tr>\n      <th>26</th>\n      <td>Sweden</td>\n      <td>0.0673</td>\n    </tr>\n    <tr>\n      <th>27</th>\n      <td>CN</td>\n      <td>0.0607</td>\n    </tr>\n    <tr>\n      <th>51</th>\n      <td>Portugal</td>\n      <td>0.0590</td>\n    </tr>\n    <tr>\n      <th>44</th>\n      <td>Slovenia</td>\n      <td>0.0588</td>\n    </tr>\n    <tr>\n      <th>62</th>\n      <td>TW</td>\n      <td>0.0556</td>\n    </tr>\n    <tr>\n      <th>41</th>\n      <td>Finland</td>\n      <td>0.0524</td>\n    </tr>\n    <tr>\n      <th>38</th>\n      <td>Greece</td>\n      <td>0.0519</td>\n    </tr>\n    <tr>\n      <th>5</th>\n      <td>IN</td>\n      <td>0.0515</td>\n    </tr>\n    <tr>\n      <th>36</th>\n      <td>Croatia</td>\n      <td>0.0476</td>\n    </tr>\n    <tr>\n      <th>40</th>\n      <td>Romania</td>\n      <td>0.0434</td>\n    </tr>\n    <tr>\n      <th>56</th>\n      <td>Chile</td>\n      <td>0.0417</td>\n    </tr>\n    <tr>\n      <th>48</th>\n      <td>Latvia</td>\n      <td>0.0408</td>\n    </tr>\n    <tr>\n      <th>61</th>\n      <td>Slovakia</td>\n      <td>0.0400</td>\n    </tr>\n    <tr>\n      <th>24</th>\n      <td>Serbia</td>\n      <td>0.0364</td>\n    </tr>\n    <tr>\n      <th>17</th>\n      <td>Argentina</td>\n      <td>0.0357</td>\n    </tr>\n    <tr>\n      <th>55</th>\n      <td>Mexico</td>\n      <td>0.0346</td>\n    </tr>\n    <tr>\n      <th>10</th>\n      <td>Brazil</td>\n      <td>0.0336</td>\n    </tr>\n    <tr>\n      <th>42</th>\n      <td>Bulgaria</td>\n      <td>0.0323</td>\n    </tr>\n    <tr>\n      <th>11</th>\n      <td>Lithuania</td>\n      <td>0.0311</td>\n    </tr>\n    <tr>\n      <th>25</th>\n      <td>Poland</td>\n      <td>0.0280</td>\n    </tr>\n    <tr>\n      <th>54</th>\n      <td>Egypt</td>\n      <td>0.0265</td>\n    </tr>\n    <tr>\n      <th>19</th>\n      <td>Czech Republic</td>\n      <td>0.0248</td>\n    </tr>\n    <tr>\n      <th>46</th>\n      <td>Belarus</td>\n      <td>0.0242</td>\n    </tr>\n    <tr>\n      <th>57</th>\n      <td>Nepal</td>\n      <td>0.0241</td>\n    </tr>\n    <tr>\n      <th>14</th>\n      <td>Colombia</td>\n      <td>0.0238</td>\n    </tr>\n    <tr>\n      <th>63</th>\n      <td>Indonesia</td>\n      <td>0.0236</td>\n    </tr>\n    <tr>\n      <th>22</th>\n      <td>Bangladesh</td>\n      <td>0.0200</td>\n    </tr>\n    <tr>\n      <th>31</th>\n      <td>Philippines</td>\n      <td>0.0197</td>\n    </tr>\n    <tr>\n      <th>47</th>\n      <td>Hungary</td>\n      <td>0.0152</td>\n    </tr>\n    <tr>\n      <th>52</th>\n      <td>Nigeria</td>\n      <td>0.0151</td>\n    </tr>\n    <tr>\n      <th>21</th>\n      <td>Malaysia</td>\n      <td>0.0143</td>\n    </tr>\n    <tr>\n      <th>35</th>\n      <td>Estonia</td>\n      <td>0.0142</td>\n    </tr>\n    <tr>\n      <th>15</th>\n      <td>Turkey</td>\n      <td>0.0139</td>\n    </tr>\n    <tr>\n      <th>9</th>\n      <td>Russian Federation</td>\n      <td>0.0127</td>\n    </tr>\n    <tr>\n      <th>18</th>\n      <td>Sri Lanka</td>\n      <td>0.0121</td>\n    </tr>\n    <tr>\n      <th>45</th>\n      <td>Iran</td>\n      <td>0.0119</td>\n    </tr>\n    <tr>\n      <th>43</th>\n      <td>Viet Nam</td>\n      <td>0.0115</td>\n    </tr>\n    <tr>\n      <th>60</th>\n      <td>Kenya</td>\n      <td>0.0100</td>\n    </tr>\n    <tr>\n      <th>3</th>\n      <td>Ukraine</td>\n      <td>0.0092</td>\n    </tr>\n    <tr>\n      <th>33</th>\n      <td>Pakistan</td>\n      <td>0.0024</td>\n    </tr>\n    <tr>\n      <th>64</th>\n      <td>Morocco</td>\n      <td>0.0000</td>\n    </tr>\n  </tbody>\n</table>\n</div>"
     },
     "metadata": {},
     "execution_count": 111
    }
   ],
   "source": [
    "pct_df.sort_values(by='Pct_over_avg', ascending=False)"
   ]
  },
  {
   "cell_type": "code",
   "execution_count": null,
   "metadata": {},
   "outputs": [],
   "source": []
  }
 ]
}
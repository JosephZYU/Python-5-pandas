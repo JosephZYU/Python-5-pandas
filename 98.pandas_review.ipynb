{
 "metadata": {
  "language_info": {
   "codemirror_mode": {
    "name": "ipython",
    "version": 3
   },
   "file_extension": ".py",
   "mimetype": "text/x-python",
   "name": "python",
   "nbconvert_exporter": "python",
   "pygments_lexer": "ipython3",
   "version": "3.9.0-final"
  },
  "orig_nbformat": 2,
  "kernelspec": {
   "name": "python3",
   "display_name": "Python 3",
   "language": "python"
  }
 },
 "nbformat": 4,
 "nbformat_minor": 2,
 "cells": [
  {
   "cell_type": "code",
   "execution_count": 81,
   "metadata": {},
   "outputs": [],
   "source": [
    "import pandas as pd\n",
    "import numpy as np\n",
    "\n",
    "people = {\n",
    "    \"first\":['Corey', 'Jane', 'John'],\n",
    "    \"last\":['Schafer', 'Doe', 'Smith'],\n",
    "    \"email\":['CoreySchafer@gmail.com','JaneDoe@hotmail.com','JohnSmith@outlook.com'],\n",
    "}\n",
    "\n",
    "\n",
    "pd.set_option('display.max_columns', 100)\n",
    "pd.set_option('display.max_rows', 100)\n",
    "pd.set_option('display.max_colwidth', None)  \n",
    "\n",
    "\n",
    "pd.set_option('display.float_format', lambda x: '%.4f' % x)\n",
    "\n",
    "\n",
    "survey_source = '/Users/josephyu/Documents/GitHub/data/survey_results_public.csv'\n",
    "schema_source = '/Users/josephyu/Documents/GitHub/data/survey_results_schema.csv'\n",
    "\n",
    "\n",
    "df = pd.read_csv(survey_source, index_col = 'Respondent')\n",
    "schema_df = pd.read_csv(schema_source, index_col = 'Column')\n",
    "pp_df = pd.DataFrame(people)\n",
    "\n",
    "# ['Hobbyist', 'OpenSourcer', 'Region'] -> PERFECT Data Quality by column"
   ]
  },
  {
   "cell_type": "code",
   "execution_count": 82,
   "metadata": {},
   "outputs": [],
   "source": [
    "df.columns = df.columns.str.strip()\n",
    "df.rename(columns={\"ConvertedComp\": \"Salary\", \"Country\": \"Region\"}, inplace=True)"
   ]
  },
  {
   "cell_type": "code",
   "execution_count": 83,
   "metadata": {},
   "outputs": [],
   "source": [
    "# participants exceeding \"Other Country (Not Listed Above)\" as cut-off for Latvia\n",
    "tgt_regions = df['Region'].value_counts(normalize=True)[:'Latvia'].index.tolist()"
   ]
  },
  {
   "cell_type": "code",
   "execution_count": 84,
   "metadata": {},
   "outputs": [],
   "source": [
    "filt = df['Region'].isin(tgt_regions)\n",
    "\n",
    "df = df[filt]"
   ]
  },
  {
   "cell_type": "code",
   "execution_count": 87,
   "metadata": {},
   "outputs": [],
   "source": [
    "region_dict= {\"United States\":\"US\", \"United Kingdom\":\"UK\", \"Germany\":\"DE\", \"France\":\"FR\", \"Canada\":\"CA\", \"China\":\"CN\", \"Taiwan\":\"TW\", \"Hong Kong (S.A.R.)\":\"HK\", \"India\":\"IN\", \"Japan\":\"JP\"}\n",
    "\n",
    "df['Region'].replace(region_dict, inplace=True)"
   ]
  },
  {
   "cell_type": "code",
   "execution_count": 88,
   "metadata": {},
   "outputs": [
    {
     "output_type": "execute_result",
     "data": {
      "text/plain": [
       "US                      20949\n",
       "IN                       9061\n",
       "DE                       5866\n",
       "UK                       5737\n",
       "CA                       3395\n",
       "FR                       2391\n",
       "Brazil                   1948\n",
       "Poland                   1922\n",
       "Australia                1903\n",
       "Netherlands              1852\n",
       "Russian Federation       1694\n",
       "Spain                    1604\n",
       "Italy                    1576\n",
       "Sweden                   1274\n",
       "Switzerland               978\n",
       "Israel                    952\n",
       "Turkey                    949\n",
       "Pakistan                  923\n",
       "Ukraine                   868\n",
       "Austria                   839\n",
       "Czech Republic            764\n",
       "Romania                   760\n",
       "Iran                      738\n",
       "Belgium                   727\n",
       "CN                        664\n",
       "Bulgaria                  659\n",
       "Mexico                    642\n",
       "South Africa              627\n",
       "Denmark                   617\n",
       "Bangladesh                605\n",
       "Norway                    574\n",
       "Greece                    556\n",
       "Argentina                 553\n",
       "Finland                   546\n",
       "Portugal                  525\n",
       "New Zealand               524\n",
       "Nigeria                   522\n",
       "Hungary                   513\n",
       "Indonesia                 507\n",
       "Ireland                   501\n",
       "Serbia                    402\n",
       "JP                        391\n",
       "Philippines               381\n",
       "Sri Lanka                 372\n",
       "Egypt                     323\n",
       "Colombia                  313\n",
       "Singapore                 303\n",
       "Malaysia                  299\n",
       "Slovenia                  298\n",
       "Slovakia                  260\n",
       "Croatia                   260\n",
       "Kenya                     249\n",
       "Lithuania                 248\n",
       "Nepal                     237\n",
       "Viet Nam                  231\n",
       "Thailand                  214\n",
       "Chile                     206\n",
       "Belarus                   202\n",
       "Estonia                   195\n",
       "HK                        188\n",
       "TW                        187\n",
       "South Korea               160\n",
       "United Arab Emirates      158\n",
       "Morocco                   155\n",
       "Latvia                    136\n",
       "Name: Region, dtype: int64"
      ]
     },
     "metadata": {},
     "execution_count": 88
    }
   ],
   "source": []
  },
  {
   "cell_type": "code",
   "execution_count": null,
   "metadata": {},
   "outputs": [],
   "source": []
  }
 ]
}
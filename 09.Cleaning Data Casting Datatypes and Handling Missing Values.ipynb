{
 "metadata": {
  "language_info": {
   "codemirror_mode": {
    "name": "ipython",
    "version": 3
   },
   "file_extension": ".py",
   "mimetype": "text/x-python",
   "name": "python",
   "nbconvert_exporter": "python",
   "pygments_lexer": "ipython3",
   "version": "3.9.0-final"
  },
  "orig_nbformat": 2,
  "kernelspec": {
   "name": "python3",
   "display_name": "Python 3",
   "language": "python"
  }
 },
 "nbformat": 4,
 "nbformat_minor": 2,
 "cells": [
  {
   "cell_type": "code",
   "execution_count": 58,
   "metadata": {},
   "outputs": [],
   "source": [
    "import numpy as np\n",
    "import pandas as pd\n",
    "\n",
    "people = {\n",
    "    'first': ['Corey', 'Jane', 'John', 'Chris', np.nan, None, 'NA'], \n",
    "    'last': ['Schafer', 'Doe', 'Doe', 'Schafer', np.nan, np.nan, 'Missing'], \n",
    "    'email': ['CoreyMSchafer@gmail.com', 'JaneDoe@email.com', 'JohnDoe@email.com', None, np.nan, 'Anonymous@email.com', 'NA'],\n",
    "    'age': ['33', '55', '63', '36', None, None, 'Missing']\n",
    "}"
   ]
  },
  {
   "cell_type": "code",
   "execution_count": 59,
   "metadata": {},
   "outputs": [],
   "source": [
    "df = pd.DataFrame(people)\n",
    "\n",
    "df.columns = df.columns.str.title()"
   ]
  },
  {
   "cell_type": "code",
   "execution_count": 60,
   "metadata": {},
   "outputs": [],
   "source": [
    "df.replace('NA', np.nan, inplace=True)\n",
    "df.replace('Missing', np.nan, inplace=True)\n",
    "# df.replace(None, np.nan, inplace=True)"
   ]
  },
  {
   "cell_type": "code",
   "execution_count": 61,
   "metadata": {},
   "outputs": [
    {
     "output_type": "execute_result",
     "data": {
      "text/plain": [
       "   First     Last                    Email   Age\n",
       "0  Corey  Schafer  CoreyMSchafer@gmail.com    33\n",
       "1   Jane      Doe        JaneDoe@email.com    55\n",
       "2   John      Doe        JohnDoe@email.com    63\n",
       "3  Chris  Schafer                     None    36\n",
       "4    NaN      NaN                      NaN  None\n",
       "5   None      NaN      Anonymous@email.com  None\n",
       "6    NaN      NaN                      NaN   NaN"
      ],
      "text/html": "<div>\n<style scoped>\n    .dataframe tbody tr th:only-of-type {\n        vertical-align: middle;\n    }\n\n    .dataframe tbody tr th {\n        vertical-align: top;\n    }\n\n    .dataframe thead th {\n        text-align: right;\n    }\n</style>\n<table border=\"1\" class=\"dataframe\">\n  <thead>\n    <tr style=\"text-align: right;\">\n      <th></th>\n      <th>First</th>\n      <th>Last</th>\n      <th>Email</th>\n      <th>Age</th>\n    </tr>\n  </thead>\n  <tbody>\n    <tr>\n      <th>0</th>\n      <td>Corey</td>\n      <td>Schafer</td>\n      <td>CoreyMSchafer@gmail.com</td>\n      <td>33</td>\n    </tr>\n    <tr>\n      <th>1</th>\n      <td>Jane</td>\n      <td>Doe</td>\n      <td>JaneDoe@email.com</td>\n      <td>55</td>\n    </tr>\n    <tr>\n      <th>2</th>\n      <td>John</td>\n      <td>Doe</td>\n      <td>JohnDoe@email.com</td>\n      <td>63</td>\n    </tr>\n    <tr>\n      <th>3</th>\n      <td>Chris</td>\n      <td>Schafer</td>\n      <td>None</td>\n      <td>36</td>\n    </tr>\n    <tr>\n      <th>4</th>\n      <td>NaN</td>\n      <td>NaN</td>\n      <td>NaN</td>\n      <td>None</td>\n    </tr>\n    <tr>\n      <th>5</th>\n      <td>None</td>\n      <td>NaN</td>\n      <td>Anonymous@email.com</td>\n      <td>None</td>\n    </tr>\n    <tr>\n      <th>6</th>\n      <td>NaN</td>\n      <td>NaN</td>\n      <td>NaN</td>\n      <td>NaN</td>\n    </tr>\n  </tbody>\n</table>\n</div>"
     },
     "metadata": {},
     "execution_count": 61
    }
   ],
   "source": [
    "# 🎯 What's the difference between None vs. np.nan?\n",
    "# ✅ Are they both treated as isnull().mean() - YES. They are\n",
    "\n",
    "df"
   ]
  },
  {
   "cell_type": "code",
   "execution_count": 62,
   "metadata": {},
   "outputs": [
    {
     "output_type": "execute_result",
     "data": {
      "text/plain": [
       "First    42.8571\n",
       "Last     42.8571\n",
       "Email    42.8571\n",
       "Age      42.8571\n",
       "dtype: float64"
      ]
     },
     "metadata": {},
     "execution_count": 62
    }
   ],
   "source": [
    "# Count the percentage % of missing values -> isnull()\n",
    "# 🧠 df.isnull().mean()\n",
    "\n",
    "(df.isnull().mean() * 100).round(4)"
   ]
  },
  {
   "cell_type": "code",
   "execution_count": 63,
   "metadata": {},
   "outputs": [
    {
     "output_type": "execute_result",
     "data": {
      "text/plain": [
       "   First   Last  Email    Age\n",
       "0  False  False  False  False\n",
       "1  False  False  False  False\n",
       "2  False  False  False  False\n",
       "3  False  False   True  False\n",
       "4   True   True   True   True\n",
       "5   True   True  False   True\n",
       "6   True   True   True   True"
      ],
      "text/html": "<div>\n<style scoped>\n    .dataframe tbody tr th:only-of-type {\n        vertical-align: middle;\n    }\n\n    .dataframe tbody tr th {\n        vertical-align: top;\n    }\n\n    .dataframe thead th {\n        text-align: right;\n    }\n</style>\n<table border=\"1\" class=\"dataframe\">\n  <thead>\n    <tr style=\"text-align: right;\">\n      <th></th>\n      <th>First</th>\n      <th>Last</th>\n      <th>Email</th>\n      <th>Age</th>\n    </tr>\n  </thead>\n  <tbody>\n    <tr>\n      <th>0</th>\n      <td>False</td>\n      <td>False</td>\n      <td>False</td>\n      <td>False</td>\n    </tr>\n    <tr>\n      <th>1</th>\n      <td>False</td>\n      <td>False</td>\n      <td>False</td>\n      <td>False</td>\n    </tr>\n    <tr>\n      <th>2</th>\n      <td>False</td>\n      <td>False</td>\n      <td>False</td>\n      <td>False</td>\n    </tr>\n    <tr>\n      <th>3</th>\n      <td>False</td>\n      <td>False</td>\n      <td>True</td>\n      <td>False</td>\n    </tr>\n    <tr>\n      <th>4</th>\n      <td>True</td>\n      <td>True</td>\n      <td>True</td>\n      <td>True</td>\n    </tr>\n    <tr>\n      <th>5</th>\n      <td>True</td>\n      <td>True</td>\n      <td>False</td>\n      <td>True</td>\n    </tr>\n    <tr>\n      <th>6</th>\n      <td>True</td>\n      <td>True</td>\n      <td>True</td>\n      <td>True</td>\n    </tr>\n  </tbody>\n</table>\n</div>"
     },
     "metadata": {},
     "execution_count": 63
    }
   ],
   "source": [
    "# Check the entire data frame for na values\n",
    "# 🧠 df.isna()\n",
    "\n",
    "df.isna()"
   ]
  },
  {
   "cell_type": "code",
   "execution_count": 64,
   "metadata": {},
   "outputs": [
    {
     "output_type": "execute_result",
     "data": {
      "text/plain": [
       "   First     Last                    Email Age\n",
       "0  Corey  Schafer  CoreyMSchafer@gmail.com  33\n",
       "1   Jane      Doe        JaneDoe@email.com  55\n",
       "2   John      Doe        JohnDoe@email.com  63"
      ],
      "text/html": "<div>\n<style scoped>\n    .dataframe tbody tr th:only-of-type {\n        vertical-align: middle;\n    }\n\n    .dataframe tbody tr th {\n        vertical-align: top;\n    }\n\n    .dataframe thead th {\n        text-align: right;\n    }\n</style>\n<table border=\"1\" class=\"dataframe\">\n  <thead>\n    <tr style=\"text-align: right;\">\n      <th></th>\n      <th>First</th>\n      <th>Last</th>\n      <th>Email</th>\n      <th>Age</th>\n    </tr>\n  </thead>\n  <tbody>\n    <tr>\n      <th>0</th>\n      <td>Corey</td>\n      <td>Schafer</td>\n      <td>CoreyMSchafer@gmail.com</td>\n      <td>33</td>\n    </tr>\n    <tr>\n      <th>1</th>\n      <td>Jane</td>\n      <td>Doe</td>\n      <td>JaneDoe@email.com</td>\n      <td>55</td>\n    </tr>\n    <tr>\n      <th>2</th>\n      <td>John</td>\n      <td>Doe</td>\n      <td>JohnDoe@email.com</td>\n      <td>63</td>\n    </tr>\n  </tbody>\n</table>\n</div>"
     },
     "metadata": {},
     "execution_count": 64
    }
   ],
   "source": [
    "# 🧠 df.dropna()\n",
    "\n",
    "df.dropna(axis='index', how='any')"
   ]
  },
  {
   "cell_type": "code",
   "execution_count": 65,
   "metadata": {},
   "outputs": [
    {
     "output_type": "execute_result",
     "data": {
      "text/plain": [
       "           First           Last                    Email            Age\n",
       "0          Corey        Schafer  CoreyMSchafer@gmail.com             33\n",
       "1           Jane            Doe        JaneDoe@email.com             55\n",
       "2           John            Doe        JohnDoe@email.com             63\n",
       "3          Chris        Schafer            MISSING_Input             36\n",
       "4  MISSING_Input  MISSING_Input            MISSING_Input  MISSING_Input\n",
       "5  MISSING_Input  MISSING_Input      Anonymous@email.com  MISSING_Input\n",
       "6  MISSING_Input  MISSING_Input            MISSING_Input  MISSING_Input"
      ],
      "text/html": "<div>\n<style scoped>\n    .dataframe tbody tr th:only-of-type {\n        vertical-align: middle;\n    }\n\n    .dataframe tbody tr th {\n        vertical-align: top;\n    }\n\n    .dataframe thead th {\n        text-align: right;\n    }\n</style>\n<table border=\"1\" class=\"dataframe\">\n  <thead>\n    <tr style=\"text-align: right;\">\n      <th></th>\n      <th>First</th>\n      <th>Last</th>\n      <th>Email</th>\n      <th>Age</th>\n    </tr>\n  </thead>\n  <tbody>\n    <tr>\n      <th>0</th>\n      <td>Corey</td>\n      <td>Schafer</td>\n      <td>CoreyMSchafer@gmail.com</td>\n      <td>33</td>\n    </tr>\n    <tr>\n      <th>1</th>\n      <td>Jane</td>\n      <td>Doe</td>\n      <td>JaneDoe@email.com</td>\n      <td>55</td>\n    </tr>\n    <tr>\n      <th>2</th>\n      <td>John</td>\n      <td>Doe</td>\n      <td>JohnDoe@email.com</td>\n      <td>63</td>\n    </tr>\n    <tr>\n      <th>3</th>\n      <td>Chris</td>\n      <td>Schafer</td>\n      <td>MISSING_Input</td>\n      <td>36</td>\n    </tr>\n    <tr>\n      <th>4</th>\n      <td>MISSING_Input</td>\n      <td>MISSING_Input</td>\n      <td>MISSING_Input</td>\n      <td>MISSING_Input</td>\n    </tr>\n    <tr>\n      <th>5</th>\n      <td>MISSING_Input</td>\n      <td>MISSING_Input</td>\n      <td>Anonymous@email.com</td>\n      <td>MISSING_Input</td>\n    </tr>\n    <tr>\n      <th>6</th>\n      <td>MISSING_Input</td>\n      <td>MISSING_Input</td>\n      <td>MISSING_Input</td>\n      <td>MISSING_Input</td>\n    </tr>\n  </tbody>\n</table>\n</div>"
     },
     "metadata": {},
     "execution_count": 65
    }
   ],
   "source": [
    "# Mass fill missing data with string or integer ('MISSING', 0)\n",
    "# 🧠 df.fillna()\n",
    "\n",
    "df.fillna('MISSING_Input')"
   ]
  },
  {
   "cell_type": "code",
   "execution_count": 66,
   "metadata": {},
   "outputs": [
    {
     "output_type": "execute_result",
     "data": {
      "text/plain": [
       "Empty DataFrame\n",
       "Columns: []\n",
       "Index: [0, 1, 2, 3, 4, 5, 6]"
      ],
      "text/html": "<div>\n<style scoped>\n    .dataframe tbody tr th:only-of-type {\n        vertical-align: middle;\n    }\n\n    .dataframe tbody tr th {\n        vertical-align: top;\n    }\n\n    .dataframe thead th {\n        text-align: right;\n    }\n</style>\n<table border=\"1\" class=\"dataframe\">\n  <thead>\n    <tr style=\"text-align: right;\">\n      <th></th>\n    </tr>\n  </thead>\n  <tbody>\n    <tr>\n      <th>0</th>\n    </tr>\n    <tr>\n      <th>1</th>\n    </tr>\n    <tr>\n      <th>2</th>\n    </tr>\n    <tr>\n      <th>3</th>\n    </tr>\n    <tr>\n      <th>4</th>\n    </tr>\n    <tr>\n      <th>5</th>\n    </tr>\n    <tr>\n      <th>6</th>\n    </tr>\n  </tbody>\n</table>\n</div>"
     },
     "metadata": {},
     "execution_count": 66
    }
   ],
   "source": [
    "df.dropna(axis='columns', how='any')"
   ]
  },
  {
   "cell_type": "code",
   "execution_count": 67,
   "metadata": {},
   "outputs": [
    {
     "output_type": "execute_result",
     "data": {
      "text/plain": [
       "   First     Last                    Email   Age\n",
       "0  Corey  Schafer  CoreyMSchafer@gmail.com    33\n",
       "1   Jane      Doe        JaneDoe@email.com    55\n",
       "2   John      Doe        JohnDoe@email.com    63\n",
       "3  Chris  Schafer                     None    36\n",
       "5   None      NaN      Anonymous@email.com  None"
      ],
      "text/html": "<div>\n<style scoped>\n    .dataframe tbody tr th:only-of-type {\n        vertical-align: middle;\n    }\n\n    .dataframe tbody tr th {\n        vertical-align: top;\n    }\n\n    .dataframe thead th {\n        text-align: right;\n    }\n</style>\n<table border=\"1\" class=\"dataframe\">\n  <thead>\n    <tr style=\"text-align: right;\">\n      <th></th>\n      <th>First</th>\n      <th>Last</th>\n      <th>Email</th>\n      <th>Age</th>\n    </tr>\n  </thead>\n  <tbody>\n    <tr>\n      <th>0</th>\n      <td>Corey</td>\n      <td>Schafer</td>\n      <td>CoreyMSchafer@gmail.com</td>\n      <td>33</td>\n    </tr>\n    <tr>\n      <th>1</th>\n      <td>Jane</td>\n      <td>Doe</td>\n      <td>JaneDoe@email.com</td>\n      <td>55</td>\n    </tr>\n    <tr>\n      <th>2</th>\n      <td>John</td>\n      <td>Doe</td>\n      <td>JohnDoe@email.com</td>\n      <td>63</td>\n    </tr>\n    <tr>\n      <th>3</th>\n      <td>Chris</td>\n      <td>Schafer</td>\n      <td>None</td>\n      <td>36</td>\n    </tr>\n    <tr>\n      <th>5</th>\n      <td>None</td>\n      <td>NaN</td>\n      <td>Anonymous@email.com</td>\n      <td>None</td>\n    </tr>\n  </tbody>\n</table>\n</div>"
     },
     "metadata": {},
     "execution_count": 67
    }
   ],
   "source": [
    "df.dropna(axis='index', how='all')  # Drop row ONLY if the entire row is missing contents"
   ]
  },
  {
   "cell_type": "code",
   "execution_count": 68,
   "metadata": {},
   "outputs": [
    {
     "output_type": "execute_result",
     "data": {
      "text/plain": [
       "   First     Last                    Email   Age\n",
       "0  Corey  Schafer  CoreyMSchafer@gmail.com    33\n",
       "1   Jane      Doe        JaneDoe@email.com    55\n",
       "2   John      Doe        JohnDoe@email.com    63\n",
       "3  Chris  Schafer                     None    36\n",
       "4    NaN      NaN                      NaN  None\n",
       "5   None      NaN      Anonymous@email.com  None\n",
       "6    NaN      NaN                      NaN   NaN"
      ],
      "text/html": "<div>\n<style scoped>\n    .dataframe tbody tr th:only-of-type {\n        vertical-align: middle;\n    }\n\n    .dataframe tbody tr th {\n        vertical-align: top;\n    }\n\n    .dataframe thead th {\n        text-align: right;\n    }\n</style>\n<table border=\"1\" class=\"dataframe\">\n  <thead>\n    <tr style=\"text-align: right;\">\n      <th></th>\n      <th>First</th>\n      <th>Last</th>\n      <th>Email</th>\n      <th>Age</th>\n    </tr>\n  </thead>\n  <tbody>\n    <tr>\n      <th>0</th>\n      <td>Corey</td>\n      <td>Schafer</td>\n      <td>CoreyMSchafer@gmail.com</td>\n      <td>33</td>\n    </tr>\n    <tr>\n      <th>1</th>\n      <td>Jane</td>\n      <td>Doe</td>\n      <td>JaneDoe@email.com</td>\n      <td>55</td>\n    </tr>\n    <tr>\n      <th>2</th>\n      <td>John</td>\n      <td>Doe</td>\n      <td>JohnDoe@email.com</td>\n      <td>63</td>\n    </tr>\n    <tr>\n      <th>3</th>\n      <td>Chris</td>\n      <td>Schafer</td>\n      <td>None</td>\n      <td>36</td>\n    </tr>\n    <tr>\n      <th>4</th>\n      <td>NaN</td>\n      <td>NaN</td>\n      <td>NaN</td>\n      <td>None</td>\n    </tr>\n    <tr>\n      <th>5</th>\n      <td>None</td>\n      <td>NaN</td>\n      <td>Anonymous@email.com</td>\n      <td>None</td>\n    </tr>\n    <tr>\n      <th>6</th>\n      <td>NaN</td>\n      <td>NaN</td>\n      <td>NaN</td>\n      <td>NaN</td>\n    </tr>\n  </tbody>\n</table>\n</div>"
     },
     "metadata": {},
     "execution_count": 68
    }
   ],
   "source": [
    "df.dropna(axis='columns', how='all')"
   ]
  },
  {
   "cell_type": "code",
   "execution_count": 25,
   "metadata": {},
   "outputs": [
    {
     "output_type": "execute_result",
     "data": {
      "text/plain": [
       "First    28.5714\n",
       "Last     28.5714\n",
       "Email    28.5714\n",
       "Age      28.5714\n",
       "dtype: float64"
      ]
     },
     "metadata": {},
     "execution_count": 25
    }
   ],
   "source": []
  },
  {
   "cell_type": "code",
   "execution_count": 69,
   "metadata": {},
   "outputs": [
    {
     "output_type": "execute_result",
     "data": {
      "text/plain": [
       "   First     Last                    Email   Age\n",
       "0  Corey  Schafer  CoreyMSchafer@gmail.com    33\n",
       "1   Jane      Doe        JaneDoe@email.com    55\n",
       "2   John      Doe        JohnDoe@email.com    63\n",
       "5   None      NaN      Anonymous@email.com  None"
      ],
      "text/html": "<div>\n<style scoped>\n    .dataframe tbody tr th:only-of-type {\n        vertical-align: middle;\n    }\n\n    .dataframe tbody tr th {\n        vertical-align: top;\n    }\n\n    .dataframe thead th {\n        text-align: right;\n    }\n</style>\n<table border=\"1\" class=\"dataframe\">\n  <thead>\n    <tr style=\"text-align: right;\">\n      <th></th>\n      <th>First</th>\n      <th>Last</th>\n      <th>Email</th>\n      <th>Age</th>\n    </tr>\n  </thead>\n  <tbody>\n    <tr>\n      <th>0</th>\n      <td>Corey</td>\n      <td>Schafer</td>\n      <td>CoreyMSchafer@gmail.com</td>\n      <td>33</td>\n    </tr>\n    <tr>\n      <th>1</th>\n      <td>Jane</td>\n      <td>Doe</td>\n      <td>JaneDoe@email.com</td>\n      <td>55</td>\n    </tr>\n    <tr>\n      <th>2</th>\n      <td>John</td>\n      <td>Doe</td>\n      <td>JohnDoe@email.com</td>\n      <td>63</td>\n    </tr>\n    <tr>\n      <th>5</th>\n      <td>None</td>\n      <td>NaN</td>\n      <td>Anonymous@email.com</td>\n      <td>None</td>\n    </tr>\n  </tbody>\n</table>\n</div>"
     },
     "metadata": {},
     "execution_count": 69
    }
   ],
   "source": [
    "# Drop a specific column with condition\n",
    "df.dropna(axis='index', how='any', subset=['Email'])"
   ]
  },
  {
   "cell_type": "code",
   "execution_count": 72,
   "metadata": {},
   "outputs": [
    {
     "output_type": "execute_result",
     "data": {
      "text/plain": [
       "   First     Last                    Email   Age\n",
       "0  Corey  Schafer  CoreyMSchafer@gmail.com    33\n",
       "1   Jane      Doe        JaneDoe@email.com    55\n",
       "2   John      Doe        JohnDoe@email.com    63\n",
       "3  Chris  Schafer                     None    36\n",
       "5   None      NaN      Anonymous@email.com  None"
      ],
      "text/html": "<div>\n<style scoped>\n    .dataframe tbody tr th:only-of-type {\n        vertical-align: middle;\n    }\n\n    .dataframe tbody tr th {\n        vertical-align: top;\n    }\n\n    .dataframe thead th {\n        text-align: right;\n    }\n</style>\n<table border=\"1\" class=\"dataframe\">\n  <thead>\n    <tr style=\"text-align: right;\">\n      <th></th>\n      <th>First</th>\n      <th>Last</th>\n      <th>Email</th>\n      <th>Age</th>\n    </tr>\n  </thead>\n  <tbody>\n    <tr>\n      <th>0</th>\n      <td>Corey</td>\n      <td>Schafer</td>\n      <td>CoreyMSchafer@gmail.com</td>\n      <td>33</td>\n    </tr>\n    <tr>\n      <th>1</th>\n      <td>Jane</td>\n      <td>Doe</td>\n      <td>JaneDoe@email.com</td>\n      <td>55</td>\n    </tr>\n    <tr>\n      <th>2</th>\n      <td>John</td>\n      <td>Doe</td>\n      <td>JohnDoe@email.com</td>\n      <td>63</td>\n    </tr>\n    <tr>\n      <th>3</th>\n      <td>Chris</td>\n      <td>Schafer</td>\n      <td>None</td>\n      <td>36</td>\n    </tr>\n    <tr>\n      <th>5</th>\n      <td>None</td>\n      <td>NaN</td>\n      <td>Anonymous@email.com</td>\n      <td>None</td>\n    </tr>\n  </tbody>\n</table>\n</div>"
     },
     "metadata": {},
     "execution_count": 72
    }
   ],
   "source": [
    "df.dropna(axis='index', how='all', subset=['Email', 'Last'])  # .loc[6, 'Age']"
   ]
  },
  {
   "cell_type": "code",
   "execution_count": 74,
   "metadata": {},
   "outputs": [
    {
     "output_type": "execute_result",
     "data": {
      "text/plain": [
       "First    object\n",
       "Last     object\n",
       "Email    object\n",
       "Age      object\n",
       "dtype: object"
      ]
     },
     "metadata": {},
     "execution_count": 74
    }
   ],
   "source": [
    "# Convert data types \n",
    "# 1st check data type -> \n",
    "\n",
    "df.dtypes"
   ]
  },
  {
   "cell_type": "code",
   "execution_count": 80,
   "metadata": {},
   "outputs": [
    {
     "output_type": "execute_result",
     "data": {
      "text/plain": [
       "float"
      ]
     },
     "metadata": {},
     "execution_count": 80
    }
   ],
   "source": [
    "# 🧠 np.nan is a float\n",
    "\n",
    "type(np.nan)"
   ]
  },
  {
   "cell_type": "code",
   "execution_count": 81,
   "metadata": {},
   "outputs": [],
   "source": [
    "df['Age'] = df['Age'].astype(float)"
   ]
  },
  {
   "cell_type": "code",
   "execution_count": 82,
   "metadata": {},
   "outputs": [
    {
     "output_type": "execute_result",
     "data": {
      "text/plain": [
       "First     object\n",
       "Last      object\n",
       "Email     object\n",
       "Age      float64\n",
       "dtype: object"
      ]
     },
     "metadata": {},
     "execution_count": 82
    }
   ],
   "source": [
    "df.dtypes"
   ]
  },
  {
   "cell_type": "code",
   "execution_count": 108,
   "metadata": {},
   "outputs": [
    {
     "output_type": "execute_result",
     "data": {
      "text/plain": [
       "30.336698649160457"
      ]
     },
     "metadata": {},
     "execution_count": 108
    }
   ],
   "source": [
    "df['Age'].mean()"
   ]
  },
  {
   "cell_type": "code",
   "execution_count": 109,
   "metadata": {},
   "outputs": [],
   "source": [
    "pd.set_option('display.max_columns', 100)\n",
    "pd.set_option('display.max_rows', 100)\n",
    "\n",
    "survey_source = '/Users/josephyu/Documents/GitHub/data/survey_results_public.csv'\n",
    "schema_source = '/Users/josephyu/Documents/GitHub/data/survey_results_schema.csv'\n",
    "\n",
    "# Pass in NA values into a list\n",
    "na_values = ['NA', 'Missing']\n",
    "\n",
    "df = pd.read_csv(survey_source, na_values=na_values)  # index_col = 'Respondent'\n",
    "schema_df = pd.read_csv(schema_source, index_col = 'Column')"
   ]
  },
  {
   "cell_type": "code",
   "execution_count": 110,
   "metadata": {},
   "outputs": [
    {
     "output_type": "execute_result",
     "data": {
      "text/plain": [
       "BlockchainOrg             0.457995\n",
       "CodeRevHrs                0.439825\n",
       "ConvertedComp             0.371950\n",
       "CompTotal                 0.370577\n",
       "MiscTechWorkedWith        0.329613\n",
       "BlockchainIs              0.323099\n",
       "PurchaseHow               0.312489\n",
       "MgrMoney                  0.311938\n",
       "MgrIdiot                  0.311916\n",
       "MgrWant                   0.311094\n",
       "PurchaseWhat              0.302128\n",
       "UnitTests                 0.294938\n",
       "WebFrameDesireNextYear    0.291833\n",
       "CompFreq                  0.288188\n",
       "WorkWeekHrs               0.274293\n",
       "MiscTechDesireNextYear    0.274203\n",
       "WebFrameWorkedWith        0.268454\n",
       "LastInt                   0.244456\n",
       "WorkChallenge             0.233363\n",
       "SOHowMuchTime             0.230697\n",
       "WorkPlan                  0.224666\n",
       "DatabaseDesireNextYear    0.222045\n",
       "SONewContent              0.217398\n",
       "WorkLoc                   0.211829\n",
       "WorkRemote                0.209253\n",
       "CodeRev                   0.208060\n",
       "JobSat                    0.201332\n",
       "FizzBuzz                  0.197327\n",
       "CurrencySymbol            0.196787\n",
       "CurrencyDesc              0.196787\n",
       "ImpSyn                    0.192433\n",
       "OrgSize                   0.192298\n",
       "CareerSat                 0.180417\n",
       "YearsCodePro              0.163721\n",
       "SOPartFreq                0.159659\n",
       "UndergradMajor            0.149286\n",
       "DatabaseWorkedWith        0.144651\n",
       "Sexuality                 0.143289\n",
       "Ethnicity                 0.137428\n",
       "PlatformDesireNextYear    0.128709\n",
       "ResumeUpdate              0.123826\n",
       "Age                       0.108828\n",
       "JobFactors                0.107017\n",
       "LastHireDate              0.101583\n",
       "ScreenName                0.094473\n",
       "JobSeek                   0.093696\n",
       "PlatformWorkedWith        0.091907\n",
       "DevType                   0.084921\n",
       "Dependents                0.065524\n",
       "Trans                     0.059359\n",
       "SOVisit1st                0.056321\n",
       "LanguageDesireNextYear    0.053947\n",
       "EduOther                  0.052012\n",
       "SocialMedia               0.050021\n",
       "Containers                0.039569\n",
       "Gender                    0.039119\n",
       "WelcomeChange             0.034067\n",
       "BetterLife                0.029409\n",
       "SOTimeSaved               0.028566\n",
       "EdLevel                   0.028048\n",
       "OffOn                     0.024977\n",
       "OpenSource                0.022963\n",
       "SurveyLength              0.021365\n",
       "Student                   0.021028\n",
       "SurveyEase                0.020274\n",
       "ITperson                  0.019599\n",
       "Employment                0.019149\n",
       "Extraversion              0.017754\n",
       "DevEnviron                0.017619\n",
       "LanguageWorkedWith        0.014783\n",
       "Age1stCode                0.014052\n",
       "SOFindAnswer              0.012005\n",
       "SOAccount                 0.011870\n",
       "EntTeams                  0.011723\n",
       "OpSys                     0.011611\n",
       "YearsCode                 0.010632\n",
       "SOJobs                    0.009192\n",
       "SOVisitTo                 0.008967\n",
       "SOComm                    0.008461\n",
       "SOVisitFreq               0.006975\n",
       "MainBranch                0.006210\n",
       "Country                   0.001485\n",
       "OpenSourcer               0.000000\n",
       "Hobbyist                  0.000000\n",
       "Respondent                0.000000\n",
       "dtype: float64"
      ]
     },
     "metadata": {},
     "execution_count": 110
    }
   ],
   "source": [
    "# 🎯 isna vs. isnull what's the difference?\n",
    "\n",
    "df.isna().mean().sort_values(ascending=False)"
   ]
  },
  {
   "cell_type": "code",
   "execution_count": 111,
   "metadata": {},
   "outputs": [],
   "source": [
    "# YearsCode, YearsCodePro -> object to float/int\n",
    "# Less than 1 year, More than 50 years\n",
    "# df['YearsCodePro'].value_counts()\n",
    "\n",
    "df['YearsCode'].replace({'Less than 1 year':'0', 'More than 50 years':'51'}, inplace=True)\n",
    "df['YearsCodePro'].replace({'Less than 1 year':'0', 'More than 50 years':'51'}, inplace=True)"
   ]
  },
  {
   "cell_type": "code",
   "execution_count": 114,
   "metadata": {},
   "outputs": [
    {
     "output_type": "execute_result",
     "data": {
      "text/plain": [
       "array(['4', nan, '3', '16', '13', '6', '8', '12', '2', '5', '17', '10',\n",
       "       '14', '35', '7', '0', '30', '9', '26', '40', '19', '15', '20',\n",
       "       '28', '25', '1', '22', '11', '33', '50', '41', '18', '34', '24',\n",
       "       '23', '42', '27', '21', '36', '32', '39', '38', '31', '37', '51',\n",
       "       '29', '44', '45', '48', '46', '43', '47', '49'], dtype=object)"
      ]
     },
     "metadata": {},
     "execution_count": 114
    }
   ],
   "source": [
    "df['YearsCode'].unique()\n",
    "df['YearsCodePro'].unique()"
   ]
  },
  {
   "cell_type": "code",
   "execution_count": 115,
   "metadata": {},
   "outputs": [
    {
     "output_type": "execute_result",
     "data": {
      "text/plain": [
       "array([nan, '1', '0', '9', '3', '4', '10', '8', '2', '13', '18', '5',\n",
       "       '14', '22', '23', '19', '35', '20', '25', '7', '15', '27', '6',\n",
       "       '48', '12', '31', '11', '17', '16', '21', '29', '30', '26', '33',\n",
       "       '28', '37', '40', '34', '24', '39', '38', '36', '32', '41', '45',\n",
       "       '43', '51', '44', '42', '46', '49', '50', '47'], dtype=object)"
      ]
     },
     "metadata": {},
     "execution_count": 115
    }
   ],
   "source": [
    "df['YearsCodePro'].unique()"
   ]
  },
  {
   "cell_type": "code",
   "execution_count": 121,
   "metadata": {},
   "outputs": [],
   "source": [
    "# Manually reset data type from string into float\n",
    "\n",
    "df['YearsCode'] = df['YearsCode'].astype(float)\n",
    "df['YearsCodePro'] = df['YearsCodePro'].astype(float)"
   ]
  },
  {
   "cell_type": "code",
   "execution_count": 122,
   "metadata": {},
   "outputs": [
    {
     "output_type": "execute_result",
     "data": {
      "text/plain": [
       "11.662114216834588"
      ]
     },
     "metadata": {},
     "execution_count": 122
    }
   ],
   "source": [
    "df['YearsCode'].mean()"
   ]
  },
  {
   "cell_type": "code",
   "execution_count": 123,
   "metadata": {},
   "outputs": [
    {
     "output_type": "execute_result",
     "data": {
      "text/plain": [
       "8.15634123044221"
      ]
     },
     "metadata": {},
     "execution_count": 123
    }
   ],
   "source": [
    "df['YearsCodePro'].mean()\n"
   ]
  },
  {
   "cell_type": "code",
   "execution_count": null,
   "metadata": {},
   "outputs": [],
   "source": []
  }
 ]
}
{
 "metadata": {
  "language_info": {
   "codemirror_mode": {
    "name": "ipython",
    "version": 3
   },
   "file_extension": ".py",
   "mimetype": "text/x-python",
   "name": "python",
   "nbconvert_exporter": "python",
   "pygments_lexer": "ipython3",
   "version": "3.9.0-final"
  },
  "orig_nbformat": 2,
  "kernelspec": {
   "name": "python3",
   "display_name": "Python 3",
   "language": "python"
  }
 },
 "nbformat": 4,
 "nbformat_minor": 2,
 "cells": [
  {
   "cell_type": "code",
   "execution_count": 2,
   "metadata": {},
   "outputs": [],
   "source": [
    "import pandas as pd\n",
    "\n",
    "pd.set_option('display.max_columns', 100)\n",
    "pd.set_option('display.max_rows', 100)\n",
    "\n",
    "survey_source = '/Users/josephyu/Documents/GitHub/data/survey_results_public.csv'\n",
    "schema_source = '/Users/josephyu/Documents/GitHub/data/survey_results_schema.csv'\n",
    "\n",
    "df = pd.read_csv(survey_source)  # index_col = 'Respondent'\n",
    "schema_df = pd.read_csv(schema_source, index_col = 'Column')"
   ]
  },
  {
   "cell_type": "code",
   "execution_count": 9,
   "metadata": {},
   "outputs": [
    {
     "output_type": "execute_result",
     "data": {
      "text/plain": [
       "57287.0"
      ]
     },
     "metadata": {},
     "execution_count": 9
    }
   ],
   "source": [
    "df['ConvertedComp'].median()"
   ]
  },
  {
   "cell_type": "code",
   "execution_count": 10,
   "metadata": {},
   "outputs": [
    {
     "output_type": "execute_result",
     "data": {
      "text/plain": [
       "Respondent       44442.0\n",
       "CompTotal        62000.0\n",
       "ConvertedComp    57287.0\n",
       "WorkWeekHrs         40.0\n",
       "CodeRevHrs           4.0\n",
       "Age                 29.0\n",
       "dtype: float64"
      ]
     },
     "metadata": {},
     "execution_count": 10
    }
   ],
   "source": [
    "df.median()"
   ]
  },
  {
   "cell_type": "code",
   "execution_count": 25,
   "metadata": {},
   "outputs": [
    {
     "output_type": "execute_result",
     "data": {
      "text/plain": [
       "Respondent       44538.0\n",
       "CompTotal        62000.0\n",
       "ConvertedComp    57287.0\n",
       "WorkWeekHrs         40.0\n",
       "CodeRevHrs           4.0\n",
       "Age                 30.0\n",
       "dtype: float64"
      ]
     },
     "metadata": {},
     "execution_count": 25
    }
   ],
   "source": [
    "row_filter = (df['Age'] > 4) & (df['ConvertedComp'] > 1_000)\n",
    "\n",
    "df[row_filter].median()"
   ]
  },
  {
   "cell_type": "code",
   "execution_count": 31,
   "metadata": {},
   "outputs": [
    {
     "output_type": "execute_result",
     "data": {
      "text/plain": [
       "         Respondent     CompTotal  ConvertedComp   WorkWeekHrs    CodeRevHrs  \\\n",
       "count  52973.000000  5.297300e+04   5.297300e+04  52562.000000  39251.000000   \n",
       "mean   44478.377947  5.663280e+11   1.278899e+05     41.885957      4.805498   \n",
       "std    25678.008251  7.525323e+13   2.842436e+05     28.951745      4.758644   \n",
       "min        3.000000  2.000000e+01   1.005000e+03      1.000000      0.000000   \n",
       "25%    22161.000000  2.000000e+04   2.686800e+04     40.000000      2.000000   \n",
       "50%    44538.000000  6.200000e+04   5.728700e+04     40.000000      4.000000   \n",
       "75%    66726.000000  1.200000e+05   1.000000e+05     43.000000      5.000000   \n",
       "max    88883.000000  1.000000e+16   2.000000e+06   3875.000000     99.000000   \n",
       "\n",
       "                Age  \n",
       "count  52973.000000  \n",
       "mean      31.448024  \n",
       "std        8.085765  \n",
       "min       13.000000  \n",
       "25%       26.000000  \n",
       "50%       30.000000  \n",
       "75%       35.000000  \n",
       "max       99.000000  "
      ],
      "text/html": "<div>\n<style scoped>\n    .dataframe tbody tr th:only-of-type {\n        vertical-align: middle;\n    }\n\n    .dataframe tbody tr th {\n        vertical-align: top;\n    }\n\n    .dataframe thead th {\n        text-align: right;\n    }\n</style>\n<table border=\"1\" class=\"dataframe\">\n  <thead>\n    <tr style=\"text-align: right;\">\n      <th></th>\n      <th>Respondent</th>\n      <th>CompTotal</th>\n      <th>ConvertedComp</th>\n      <th>WorkWeekHrs</th>\n      <th>CodeRevHrs</th>\n      <th>Age</th>\n    </tr>\n  </thead>\n  <tbody>\n    <tr>\n      <th>count</th>\n      <td>52973.000000</td>\n      <td>5.297300e+04</td>\n      <td>5.297300e+04</td>\n      <td>52562.000000</td>\n      <td>39251.000000</td>\n      <td>52973.000000</td>\n    </tr>\n    <tr>\n      <th>mean</th>\n      <td>44478.377947</td>\n      <td>5.663280e+11</td>\n      <td>1.278899e+05</td>\n      <td>41.885957</td>\n      <td>4.805498</td>\n      <td>31.448024</td>\n    </tr>\n    <tr>\n      <th>std</th>\n      <td>25678.008251</td>\n      <td>7.525323e+13</td>\n      <td>2.842436e+05</td>\n      <td>28.951745</td>\n      <td>4.758644</td>\n      <td>8.085765</td>\n    </tr>\n    <tr>\n      <th>min</th>\n      <td>3.000000</td>\n      <td>2.000000e+01</td>\n      <td>1.005000e+03</td>\n      <td>1.000000</td>\n      <td>0.000000</td>\n      <td>13.000000</td>\n    </tr>\n    <tr>\n      <th>25%</th>\n      <td>22161.000000</td>\n      <td>2.000000e+04</td>\n      <td>2.686800e+04</td>\n      <td>40.000000</td>\n      <td>2.000000</td>\n      <td>26.000000</td>\n    </tr>\n    <tr>\n      <th>50%</th>\n      <td>44538.000000</td>\n      <td>6.200000e+04</td>\n      <td>5.728700e+04</td>\n      <td>40.000000</td>\n      <td>4.000000</td>\n      <td>30.000000</td>\n    </tr>\n    <tr>\n      <th>75%</th>\n      <td>66726.000000</td>\n      <td>1.200000e+05</td>\n      <td>1.000000e+05</td>\n      <td>43.000000</td>\n      <td>5.000000</td>\n      <td>35.000000</td>\n    </tr>\n    <tr>\n      <th>max</th>\n      <td>88883.000000</td>\n      <td>1.000000e+16</td>\n      <td>2.000000e+06</td>\n      <td>3875.000000</td>\n      <td>99.000000</td>\n      <td>99.000000</td>\n    </tr>\n  </tbody>\n</table>\n</div>"
     },
     "metadata": {},
     "execution_count": 31
    }
   ],
   "source": [
    "# Use describe() to get the overall picture on ALL numberica columns\n",
    "# 🧠 df.describe()\n",
    "\n",
    "df[row_filter].describe()"
   ]
  },
  {
   "cell_type": "code",
   "execution_count": 34,
   "metadata": {},
   "outputs": [
    {
     "output_type": "execute_result",
     "data": {
      "text/plain": [
       "        Respondent     CompTotal  ConvertedComp  WorkWeekHrs  CodeRevHrs  \\\n",
       "mean  44478.377947  5.663280e+11   1.278899e+05    41.885957    4.805498   \n",
       "min       3.000000  2.000000e+01   1.005000e+03     1.000000    0.000000   \n",
       "50%   44538.000000  6.200000e+04   5.728700e+04    40.000000    4.000000   \n",
       "max   88883.000000  1.000000e+16   2.000000e+06  3875.000000   99.000000   \n",
       "\n",
       "            Age  \n",
       "mean  31.448024  \n",
       "min   13.000000  \n",
       "50%   30.000000  \n",
       "max   99.000000  "
      ],
      "text/html": "<div>\n<style scoped>\n    .dataframe tbody tr th:only-of-type {\n        vertical-align: middle;\n    }\n\n    .dataframe tbody tr th {\n        vertical-align: top;\n    }\n\n    .dataframe thead th {\n        text-align: right;\n    }\n</style>\n<table border=\"1\" class=\"dataframe\">\n  <thead>\n    <tr style=\"text-align: right;\">\n      <th></th>\n      <th>Respondent</th>\n      <th>CompTotal</th>\n      <th>ConvertedComp</th>\n      <th>WorkWeekHrs</th>\n      <th>CodeRevHrs</th>\n      <th>Age</th>\n    </tr>\n  </thead>\n  <tbody>\n    <tr>\n      <th>mean</th>\n      <td>44478.377947</td>\n      <td>5.663280e+11</td>\n      <td>1.278899e+05</td>\n      <td>41.885957</td>\n      <td>4.805498</td>\n      <td>31.448024</td>\n    </tr>\n    <tr>\n      <th>min</th>\n      <td>3.000000</td>\n      <td>2.000000e+01</td>\n      <td>1.005000e+03</td>\n      <td>1.000000</td>\n      <td>0.000000</td>\n      <td>13.000000</td>\n    </tr>\n    <tr>\n      <th>50%</th>\n      <td>44538.000000</td>\n      <td>6.200000e+04</td>\n      <td>5.728700e+04</td>\n      <td>40.000000</td>\n      <td>4.000000</td>\n      <td>30.000000</td>\n    </tr>\n    <tr>\n      <th>max</th>\n      <td>88883.000000</td>\n      <td>1.000000e+16</td>\n      <td>2.000000e+06</td>\n      <td>3875.000000</td>\n      <td>99.000000</td>\n      <td>99.000000</td>\n    </tr>\n  </tbody>\n</table>\n</div>"
     },
     "metadata": {},
     "execution_count": 34
    }
   ],
   "source": [
    "# Filter with .iloc -> meaningful reference \n",
    "\n",
    "df[row_filter].describe().iloc[[1, 3, 5, 7], :]"
   ]
  },
  {
   "cell_type": "code",
   "execution_count": 35,
   "metadata": {},
   "outputs": [
    {
     "output_type": "execute_result",
     "data": {
      "text/plain": [
       "        Respondent     CompTotal  ConvertedComp  WorkWeekHrs  CodeRevHrs  \\\n",
       "mean  44478.377947  5.663280e+11  127889.919015    41.885957    4.805498   \n",
       "50%   44538.000000  6.200000e+04   57287.000000    40.000000    4.000000   \n",
       "\n",
       "            Age  \n",
       "mean  31.448024  \n",
       "50%   30.000000  "
      ],
      "text/html": "<div>\n<style scoped>\n    .dataframe tbody tr th:only-of-type {\n        vertical-align: middle;\n    }\n\n    .dataframe tbody tr th {\n        vertical-align: top;\n    }\n\n    .dataframe thead th {\n        text-align: right;\n    }\n</style>\n<table border=\"1\" class=\"dataframe\">\n  <thead>\n    <tr style=\"text-align: right;\">\n      <th></th>\n      <th>Respondent</th>\n      <th>CompTotal</th>\n      <th>ConvertedComp</th>\n      <th>WorkWeekHrs</th>\n      <th>CodeRevHrs</th>\n      <th>Age</th>\n    </tr>\n  </thead>\n  <tbody>\n    <tr>\n      <th>mean</th>\n      <td>44478.377947</td>\n      <td>5.663280e+11</td>\n      <td>127889.919015</td>\n      <td>41.885957</td>\n      <td>4.805498</td>\n      <td>31.448024</td>\n    </tr>\n    <tr>\n      <th>50%</th>\n      <td>44538.000000</td>\n      <td>6.200000e+04</td>\n      <td>57287.000000</td>\n      <td>40.000000</td>\n      <td>4.000000</td>\n      <td>30.000000</td>\n    </tr>\n  </tbody>\n</table>\n</div>"
     },
     "metadata": {},
     "execution_count": 35
    }
   ],
   "source": [
    "df[row_filter].describe().iloc[[1, 5], :]"
   ]
  },
  {
   "cell_type": "code",
   "execution_count": 37,
   "metadata": {},
   "outputs": [
    {
     "output_type": "execute_result",
     "data": {
      "text/plain": [
       "52973"
      ]
     },
     "metadata": {},
     "execution_count": 37
    }
   ],
   "source": [
    "df[row_filter]['ConvertedComp'].count()"
   ]
  },
  {
   "cell_type": "code",
   "execution_count": 39,
   "metadata": {},
   "outputs": [
    {
     "output_type": "execute_result",
     "data": {
      "text/plain": [
       "Yes    71257\n",
       "No     17626\n",
       "Name: Hobbyist, dtype: int64"
      ]
     },
     "metadata": {},
     "execution_count": 39
    }
   ],
   "source": [
    "df['Hobbyist'].value_counts()"
   ]
  },
  {
   "cell_type": "code",
   "execution_count": 53,
   "metadata": {},
   "outputs": [
    {
     "output_type": "execute_result",
     "data": {
      "text/plain": [
       "Reddit                      14374\n",
       "YouTube                     13830\n",
       "WhatsApp                    13347\n",
       "Facebook                    13178\n",
       "Twitter                     11398\n",
       "Instagram                    6261\n",
       "I don't use social media     5554\n",
       "LinkedIn                     4501\n",
       "WeChat 微信                     667\n",
       "Snapchat                      628\n",
       "VK ВКонта́кте                 603\n",
       "Weibo 新浪微博                     56\n",
       "Youku Tudou 优酷                 21\n",
       "Hello                          19\n",
       "Name: SocialMedia, dtype: int64"
      ]
     },
     "metadata": {},
     "execution_count": 53
    }
   ],
   "source": [
    "df['SocialMedia'].value_counts()"
   ]
  },
  {
   "cell_type": "code",
   "execution_count": 52,
   "metadata": {},
   "outputs": [
    {
     "output_type": "execute_result",
     "data": {
      "text/plain": [
       "QuestionText    What social media site do you use the most?\n",
       "Name: SocialMedia, dtype: object"
      ]
     },
     "metadata": {},
     "execution_count": 52
    }
   ],
   "source": [
    "schema_df.loc['SocialMedia']"
   ]
  },
  {
   "cell_type": "code",
   "execution_count": 58,
   "metadata": {},
   "outputs": [
    {
     "output_type": "execute_result",
     "data": {
      "text/plain": [
       "Reddit                      0.170233\n",
       "YouTube                     0.163791\n",
       "WhatsApp                    0.158071\n",
       "Facebook                    0.156069\n",
       "Twitter                     0.134988\n",
       "Instagram                   0.074150\n",
       "I don't use social media    0.065777\n",
       "LinkedIn                    0.053306\n",
       "WeChat 微信                   0.007899\n",
       "Snapchat                    0.007437\n",
       "VK ВКонта́кте               0.007141\n",
       "Weibo 新浪微博                  0.000663\n",
       "Youku Tudou 优酷              0.000249\n",
       "Hello                       0.000225\n",
       "Name: SocialMedia, dtype: float64"
      ]
     },
     "metadata": {},
     "execution_count": 58
    }
   ],
   "source": [
    "df['SocialMedia'].value_counts(normalize=True)"
   ]
  },
  {
   "cell_type": "code",
   "execution_count": null,
   "metadata": {},
   "outputs": [],
   "source": [
    "# What's the most popular social media site for each country?\n",
    "\n"
   ]
  }
 ]
}